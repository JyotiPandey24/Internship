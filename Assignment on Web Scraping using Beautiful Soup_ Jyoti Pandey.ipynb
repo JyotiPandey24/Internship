{
 "cells": [
  {
   "cell_type": "markdown",
   "id": "467f5e48",
   "metadata": {},
   "source": [
    "# 1. Python program to display IMDB’s Top rated 100 Indian movies’ data"
   ]
  },
  {
   "cell_type": "code",
   "execution_count": 1,
   "id": "69452337",
   "metadata": {},
   "outputs": [
    {
     "name": "stdout",
     "output_type": "stream",
     "text": [
      "Requirement already satisfied: bs4 in ./opt/anaconda3/lib/python3.9/site-packages (0.0.2)\n",
      "Requirement already satisfied: beautifulsoup4 in ./opt/anaconda3/lib/python3.9/site-packages (from bs4) (4.11.1)\n",
      "Requirement already satisfied: soupsieve>1.2 in ./opt/anaconda3/lib/python3.9/site-packages (from beautifulsoup4->bs4) (2.3.1)\n",
      "Requirement already satisfied: requests in ./opt/anaconda3/lib/python3.9/site-packages (2.28.1)\n",
      "Requirement already satisfied: urllib3<1.27,>=1.21.1 in ./opt/anaconda3/lib/python3.9/site-packages (from requests) (1.26.11)\n",
      "Requirement already satisfied: charset-normalizer<3,>=2 in ./opt/anaconda3/lib/python3.9/site-packages (from requests) (2.0.4)\n",
      "Requirement already satisfied: idna<4,>=2.5 in ./opt/anaconda3/lib/python3.9/site-packages (from requests) (3.3)\n",
      "Requirement already satisfied: certifi>=2017.4.17 in ./opt/anaconda3/lib/python3.9/site-packages (from requests) (2022.9.24)\n"
     ]
    }
   ],
   "source": [
    "!pip install bs4\n",
    "!pip install requests\n",
    "from bs4 import BeautifulSoup\n",
    "import requests\n",
    "import pandas as pd"
   ]
  },
  {
   "cell_type": "code",
   "execution_count": 7,
   "id": "7131fb6e",
   "metadata": {},
   "outputs": [
    {
     "data": {
      "text/plain": [
       "<Response [200]>"
      ]
     },
     "execution_count": 7,
     "metadata": {},
     "output_type": "execute_result"
    }
   ],
   "source": [
    "# Sending the request for the page URL \n",
    "\n",
    "page = requests.get(\"https://www.imdb.com/list/ls056092300/\")\n",
    "page"
   ]
  },
  {
   "cell_type": "code",
   "execution_count": 86,
   "id": "576198f6",
   "metadata": {},
   "outputs": [],
   "source": [
    "# Fetching the Source code of the website\n",
    "\n",
    "\n",
    "url = \"https://www.imdb.com/list/ls056092300/\"\n",
    "r = requests.get(url)\n",
    "soup = BeautifulSoup(r.text,\"lxml\")\n",
    "soup"
   ]
  },
  {
   "cell_type": "code",
   "execution_count": 87,
   "id": "ecec4134",
   "metadata": {},
   "outputs": [],
   "source": [
    "#Extraction of movie name available on the website\n",
    "\n",
    "\n",
    "movie_name=[]\n",
    "names=soup.find_all('h3',class_='lister-item-header')\n",
    "names"
   ]
  },
  {
   "cell_type": "code",
   "execution_count": 17,
   "id": "c240365e",
   "metadata": {},
   "outputs": [
    {
     "name": "stdout",
     "output_type": "stream",
     "text": [
      "['Ship of Theseus', 'Iruvar', 'Kaagaz Ke Phool', 'Lagaan: Once Upon a Time in India', 'Pather Panchali', 'Charulata', 'Rang De Basanti', 'Dev.D', '3 Idiots', 'Awaara', 'Nayakan', 'Aparajito', 'Pushpaka Vimana', 'Pyaasa', 'Ghatashraddha', 'Sholay', 'Aradhana', 'Do Ankhen Barah Haath', 'Bombay', 'Neecha Nagar', 'Do Bigha Zamin', 'Garm Hava', 'Piravi', 'Mughal-E-Azam', 'Amma Ariyan', 'Madhumati', 'Goopy Gyne Bagha Byne', 'Gangs of Wasseypur', 'Guide', 'Satya', 'Roja', 'Mr. India', 'The Cloud-Capped Star', 'Harishchandrachi Factory', 'Masoom', 'Agneepath', 'Tabarana Kathe', 'Zakhm', 'Dil Chahta Hai', 'Bhaag Milkha Bhaag', 'Chupke Chupke', 'Dilwale Dulhania Le Jayenge', 'Taare Zameen Par', 'Ardh Satya', 'Bhumika', 'Enthiran', 'Sadma', 'Shwaas', 'Lamhe', 'Haqeeqat', 'Shree 420', 'Kannathil Muthamittal', 'Hum Aapke Hain Koun..!', 'Ustad Hotel', 'Bandit Queen', 'Lakshya', 'Black Friday', 'Manthan', 'Apoorva Raagangal', 'English Vinglish', 'Jewel Thief', 'Pakeezah', 'Maqbool', 'Jis Desh Men Ganga Behti Hai', 'Sahib Bibi Aur Ghulam', 'Shatranj Ke Khilari', 'Narthanasala', 'Chandni Bar', 'Vaaranam Aayiram', 'Mr. and Mrs. Iyer', 'Chandni', 'English, August', 'Celluloid', 'Sagara Sangamam', 'Munna Bhai M.B.B.S.', 'Saaransh', 'Guddi', 'Vanaja', 'Vazhakku Enn 18/9', 'Gangaajal', 'Angoor', 'Guru', 'Andaz Apna Apna', 'Sangam', 'Oka Oori Katha', 'Bhuvan Shome', 'Border', 'Parineeta', 'Devdas', 'Abohomaan', 'Kuch Kuch Hota Hai', 'Pithamagan', 'Veyyil', 'Chemmeen', 'Jaane Bhi Do Yaaro', 'Apur Sansar', 'Kanchivaram', 'Monsoon Wedding', 'Black', 'Deewaar']\n"
     ]
    },
    {
     "data": {
      "text/plain": [
       "100"
      ]
     },
     "execution_count": 17,
     "metadata": {},
     "output_type": "execute_result"
    }
   ],
   "source": [
    "for i in names:\n",
    "    name=i.a.text\n",
    "    movie_name.append(name)\n",
    "    \n",
    "print(movie_name)\n",
    "len(movie_name)"
   ]
  },
  {
   "cell_type": "code",
   "execution_count": 19,
   "id": "a80c7e69",
   "metadata": {},
   "outputs": [
    {
     "name": "stdout",
     "output_type": "stream",
     "text": [
      "['8', '8.4', '7.8', '8.1', '8.2', '8.1', '8.1', '7.9', '8.4', '7.8', '8.6', '8.2', '8.6', '8.3', '7.6', '8.1', '7.6', '8.4', '8.1', '6.7', '8.3', '8.1', '7.8', '8.1', '7.4', '7.8', '8.7', '8.2', '8.3', '8.3', '8.1', '7.7', '7.8', '8.4', '8.4', '7.6', '8.1', '7.9', '8.1', '8.2', '8.3', '8', '8.3', '8.1', '7.4', '7.1', '8.3', '8.2', '7.2', '7.8', '7.9', '8.4', '7.5', '8.2', '7.5', '7.8', '8.4', '7.6', '7.6', '7.8', '7.9', '7.2', '8', '7.1', '8.1', '7.5', '8.1', '7.6', '8.2', '7.9', '6.7', '7.6', '7.7', '8.8', '8.1', '8.1', '7.2', '7.2', '8.3', '7.8', '8.3', '7.7', '8', '7.3', '7.8', '7.2', '7.9', '7.2', '7.7', '7.5', '7.5', '8.3', '7.9', '7.8', '8.3', '8.4', '8.2', '7.3', '8.1', '8']\n"
     ]
    },
    {
     "data": {
      "text/plain": [
       "100"
      ]
     },
     "execution_count": 19,
     "metadata": {},
     "output_type": "execute_result"
    }
   ],
   "source": [
    "# Extraction of IMBD rating of all the movies mentioned above\n",
    "\n",
    "\n",
    "rating=[]\n",
    "names=soup.find_all('div',class_='ipl-rating-star small')\n",
    "for i in names:\n",
    "    names=i.text.replace('\\n','')\n",
    "    rating.append(names)\n",
    "print(rating)\n",
    "len(rating)"
   ]
  },
  {
   "cell_type": "code",
   "execution_count": 20,
   "id": "c9808859",
   "metadata": {},
   "outputs": [
    {
     "name": "stdout",
     "output_type": "stream",
     "text": [
      "['2012', '1997', '1959', '2001', '1955', '1964', '2006', '2009', '2009', '1951', '1987', '1956', '1987', '1957', '1977', '1975', '1969', '1957', '1995', '1946', '1953', '1974', '1989', '1960', '1986', '1958', '1969', '2012', '1965', '1998', '1992', '1987', '1960', '2009', '1983', '1990', '1986', '1998', '2001', '2013', '1975', '1995', '2007', '1983', '1977', '2010', '1983', '2004', '1991', '1964', '1955', '2002', '1994', '2012', '1994', '2004', '2004', '1976', '1975', '2012', '1967', '1972', '2003', '1960', '1962', '1977', '1963', '2001', '2008', '2002', '1989', '1994', '2013', '1983', '2003', '1984', '1971', '2006', '2012', '2003', '1982', '2007', '1994', 'I 1964', '1978', '1969', 'I 1997', '2005', '1955', '2009', '1998', '2003', '2006', '1965', '1983', '1959', '2008', '2001', '2005', '1975']\n"
     ]
    },
    {
     "data": {
      "text/plain": [
       "100"
      ]
     },
     "execution_count": 20,
     "metadata": {},
     "output_type": "execute_result"
    }
   ],
   "source": [
    "# Fetching the year of release of each movie\n",
    "\n",
    "\n",
    "year_release=[]\n",
    "names=soup.find_all('span',class_='lister-item-year text-muted unbold')\n",
    "for i in names:\n",
    "    name=i.text.replace('(',\"\").replace(')','')\n",
    "    year_release.append(name)\n",
    "print(year_release)\n",
    "len(year_release)"
   ]
  },
  {
   "cell_type": "code",
   "execution_count": 26,
   "id": "662dd617",
   "metadata": {},
   "outputs": [
    {
     "data": {
      "text/html": [
       "<div>\n",
       "<style scoped>\n",
       "    .dataframe tbody tr th:only-of-type {\n",
       "        vertical-align: middle;\n",
       "    }\n",
       "\n",
       "    .dataframe tbody tr th {\n",
       "        vertical-align: top;\n",
       "    }\n",
       "\n",
       "    .dataframe thead th {\n",
       "        text-align: right;\n",
       "    }\n",
       "</style>\n",
       "<table border=\"1\" class=\"dataframe\">\n",
       "  <thead>\n",
       "    <tr style=\"text-align: right;\">\n",
       "      <th></th>\n",
       "      <th>Movies Name</th>\n",
       "      <th>Rating</th>\n",
       "      <th>Year of Release</th>\n",
       "    </tr>\n",
       "  </thead>\n",
       "  <tbody>\n",
       "    <tr>\n",
       "      <th>0</th>\n",
       "      <td>Ship of Theseus</td>\n",
       "      <td>8</td>\n",
       "      <td>2012</td>\n",
       "    </tr>\n",
       "    <tr>\n",
       "      <th>1</th>\n",
       "      <td>Iruvar</td>\n",
       "      <td>8.4</td>\n",
       "      <td>1997</td>\n",
       "    </tr>\n",
       "    <tr>\n",
       "      <th>2</th>\n",
       "      <td>Kaagaz Ke Phool</td>\n",
       "      <td>7.8</td>\n",
       "      <td>1959</td>\n",
       "    </tr>\n",
       "    <tr>\n",
       "      <th>3</th>\n",
       "      <td>Lagaan: Once Upon a Time in India</td>\n",
       "      <td>8.1</td>\n",
       "      <td>2001</td>\n",
       "    </tr>\n",
       "    <tr>\n",
       "      <th>4</th>\n",
       "      <td>Pather Panchali</td>\n",
       "      <td>8.2</td>\n",
       "      <td>1955</td>\n",
       "    </tr>\n",
       "    <tr>\n",
       "      <th>...</th>\n",
       "      <td>...</td>\n",
       "      <td>...</td>\n",
       "      <td>...</td>\n",
       "    </tr>\n",
       "    <tr>\n",
       "      <th>95</th>\n",
       "      <td>Apur Sansar</td>\n",
       "      <td>8.4</td>\n",
       "      <td>1959</td>\n",
       "    </tr>\n",
       "    <tr>\n",
       "      <th>96</th>\n",
       "      <td>Kanchivaram</td>\n",
       "      <td>8.2</td>\n",
       "      <td>2008</td>\n",
       "    </tr>\n",
       "    <tr>\n",
       "      <th>97</th>\n",
       "      <td>Monsoon Wedding</td>\n",
       "      <td>7.3</td>\n",
       "      <td>2001</td>\n",
       "    </tr>\n",
       "    <tr>\n",
       "      <th>98</th>\n",
       "      <td>Black</td>\n",
       "      <td>8.1</td>\n",
       "      <td>2005</td>\n",
       "    </tr>\n",
       "    <tr>\n",
       "      <th>99</th>\n",
       "      <td>Deewaar</td>\n",
       "      <td>8</td>\n",
       "      <td>1975</td>\n",
       "    </tr>\n",
       "  </tbody>\n",
       "</table>\n",
       "<p>100 rows × 3 columns</p>\n",
       "</div>"
      ],
      "text/plain": [
       "                          Movies Name Rating Year of Release\n",
       "0                     Ship of Theseus      8            2012\n",
       "1                              Iruvar    8.4            1997\n",
       "2                     Kaagaz Ke Phool    7.8            1959\n",
       "3   Lagaan: Once Upon a Time in India    8.1            2001\n",
       "4                     Pather Panchali    8.2            1955\n",
       "..                                ...    ...             ...\n",
       "95                        Apur Sansar    8.4            1959\n",
       "96                        Kanchivaram    8.2            2008\n",
       "97                    Monsoon Wedding    7.3            2001\n",
       "98                              Black    8.1            2005\n",
       "99                            Deewaar      8            1975\n",
       "\n",
       "[100 rows x 3 columns]"
      ]
     },
     "execution_count": 26,
     "metadata": {},
     "output_type": "execute_result"
    }
   ],
   "source": [
    "# Creating Data Frame for each attributes\n",
    "\n",
    "\n",
    "df=pd.DataFrame({'Movies Name':movie_name,'Rating':rating,'Year of Release':year_release})\n",
    "df"
   ]
  },
  {
   "cell_type": "markdown",
   "id": "c6b062bc",
   "metadata": {},
   "source": [
    "# 2. Python program to scrape product name, price and discounts from flipkart website"
   ]
  },
  {
   "cell_type": "code",
   "execution_count": 27,
   "id": "11249301",
   "metadata": {},
   "outputs": [
    {
     "data": {
      "text/plain": [
       "<Response [200]>"
      ]
     },
     "execution_count": 27,
     "metadata": {},
     "output_type": "execute_result"
    }
   ],
   "source": [
    "url = \"https://www.flipkart.com/search?q=ladies+bag&otracker=search&otracker1=search&marketplace=FLIPKART&as-show=on&as=off&as-pos=1&as-type=HISTORY\"\n",
    "page=requests.get(url)\n",
    "page"
   ]
  },
  {
   "cell_type": "code",
   "execution_count": 88,
   "id": "5a900d3f",
   "metadata": {},
   "outputs": [],
   "source": [
    "sp=BeautifulSoup(page.content)\n",
    "soup=sp.find('div',class_='_1YokD2 _3Mn1Gg')\n",
    "soup"
   ]
  },
  {
   "cell_type": "code",
   "execution_count": 29,
   "id": "060b7347",
   "metadata": {},
   "outputs": [
    {
     "name": "stdout",
     "output_type": "stream",
     "text": [
      "['Small 8 L Backpack Exclusive Fancy Trendy Ladies', 'Women Black Tote', 'Women Multicolor Shoulder Bag - Extra Spacious', 'Women Pink Hand-held Bag', 'Women Grey Satchel - Mini', 'Women Black Shoulder Bag - Extra Spacious', 'Women Multicolor Shoulder Bag', 'Brown Women Sling Bag', 'Women Maroon Messenger Bag - Extra Spacious', 'Women Maroon Shoulder Bag', 'Women Blue Handbag', 'Women Maroon Handbag', 'Women Black Messenger Bag - Extra Spacious', 'Women Multicolor Shoulder Bag', 'Women Blue Shoulder Bag', 'Women Black Shoulder Bag', 'Casual, Party, Formal Maroon  Clutch  - Regular Size', 'Women Multicolor Shoulder Bag', 'Women Blue Hand-held Bag', 'Women Brown Satchel', 'Women Grey Handbag - Extra Spacious', 'Women Green Shoulder Bag - Mini', 'Women Pink Shoulder Bag - Mini', 'Women Blue Satchel - Regular Size', 'Women Blue Sling Bag - Extra Spacious', 'Women Pink Messenger Bag - Extra Spacious', 'Casual, Party, Formal Blue  Clutch  - Regular Size', 'Casual Black  Clutch', 'Women Blue Hand-held Bag', 'Women Black Satchel - Regular Size', 'Casual, Formal, Party, Sports Multicolor  Clutch', 'Women Black Shoulder Bag - Regular Size', 'Women Green Satchel - Mini', 'Women Blue Hand-held Bag', 'Women Pink Satchel', 'Women Blue Messenger Bag - Extra Spacious', 'Women Grey Shoulder Bag', 'Women Beige Tote - Extra Spacious', 'Women White Shoulder Bag - Mini', 'Women Black Handbag - Regular Size']\n"
     ]
    },
    {
     "data": {
      "text/plain": [
       "40"
      ]
     },
     "execution_count": 29,
     "metadata": {},
     "output_type": "execute_result"
    }
   ],
   "source": [
    "# Fetching the names of the products\n",
    "\n",
    "p_name=[]\n",
    "names=soup.find_all('a',class_='IRpwTa')\n",
    "for i in names:\n",
    "    names=i.text\n",
    "    p_name.append(names)\n",
    "print(p_name)\n",
    "len(p_name)\n"
   ]
  },
  {
   "cell_type": "code",
   "execution_count": 34,
   "id": "ace62886",
   "metadata": {},
   "outputs": [
    {
     "name": "stdout",
     "output_type": "stream",
     "text": [
      "['₹269', '₹359', '₹319', '₹198', '₹1,069', '₹225', '₹369', '₹711', '₹384', '₹197', '₹492', '₹489', '₹384', '₹369', '₹271', '₹199', '₹279', '₹1,599', '₹299', '₹1,029', '₹499', '₹1,729', '₹1,179', '₹299', '₹849', '₹384', '₹339', '₹449', '₹299', '₹1,349', '₹359', '₹1,359', '₹1,249', '₹299', '₹949', '₹384', '₹271', '₹939', '₹559', '₹384']\n"
     ]
    },
    {
     "data": {
      "text/plain": [
       "40"
      ]
     },
     "execution_count": 34,
     "metadata": {},
     "output_type": "execute_result"
    }
   ],
   "source": [
    "# Fetching the price of each product\n",
    "\n",
    "\n",
    "price=[]\n",
    "name=soup.find_all('div',class_='_30jeq3')\n",
    "for i in name:\n",
    "    names=i.text\n",
    "    price.append(names)\n",
    "print(price)\n",
    "len(price)\n"
   ]
  },
  {
   "cell_type": "code",
   "execution_count": 35,
   "id": "e6f15881",
   "metadata": {},
   "outputs": [
    {
     "name": "stdout",
     "output_type": "stream",
     "text": [
      "['86% off', '76% off', '87% off', '80% off', '77% off', '85% off', '50% off', '71% off', '87% off', '86% off', '72% off', '72% off', '87% off', '50% off', '45% off', '90% off', '83% off', '67% off', '62% off', '79% off', '72% off', '79% off', '73% off', '70% off', '71% off', '87% off', '66% off', '75% off', '62% off', '70% off', '86% off', '72% off', '73% off', '62% off', '81% off', '87% off', '45% off', '71% off', '71% off', '82% off']\n"
     ]
    },
    {
     "data": {
      "text/plain": [
       "40"
      ]
     },
     "execution_count": 35,
     "metadata": {},
     "output_type": "execute_result"
    }
   ],
   "source": [
    "# Fetching the discounted price of each product\n",
    "\n",
    "\n",
    "discount=[]\n",
    "name=soup.find_all('div',class_='_3Ay6Sb')\n",
    "for i in name:\n",
    "    names=i.text\n",
    "    discount.append(names)\n",
    "print(discount)\n",
    "len(discount)"
   ]
  },
  {
   "cell_type": "code",
   "execution_count": 37,
   "id": "e318e953",
   "metadata": {},
   "outputs": [
    {
     "data": {
      "text/html": [
       "<div>\n",
       "<style scoped>\n",
       "    .dataframe tbody tr th:only-of-type {\n",
       "        vertical-align: middle;\n",
       "    }\n",
       "\n",
       "    .dataframe tbody tr th {\n",
       "        vertical-align: top;\n",
       "    }\n",
       "\n",
       "    .dataframe thead th {\n",
       "        text-align: right;\n",
       "    }\n",
       "</style>\n",
       "<table border=\"1\" class=\"dataframe\">\n",
       "  <thead>\n",
       "    <tr style=\"text-align: right;\">\n",
       "      <th></th>\n",
       "      <th>Product Name</th>\n",
       "      <th>Price</th>\n",
       "      <th>Discount</th>\n",
       "    </tr>\n",
       "  </thead>\n",
       "  <tbody>\n",
       "    <tr>\n",
       "      <th>0</th>\n",
       "      <td>Small 8 L Backpack Exclusive Fancy Trendy Ladies</td>\n",
       "      <td>₹269</td>\n",
       "      <td>86% off</td>\n",
       "    </tr>\n",
       "    <tr>\n",
       "      <th>1</th>\n",
       "      <td>Women Black Tote</td>\n",
       "      <td>₹359</td>\n",
       "      <td>76% off</td>\n",
       "    </tr>\n",
       "    <tr>\n",
       "      <th>2</th>\n",
       "      <td>Women Multicolor Shoulder Bag - Extra Spacious</td>\n",
       "      <td>₹319</td>\n",
       "      <td>87% off</td>\n",
       "    </tr>\n",
       "    <tr>\n",
       "      <th>3</th>\n",
       "      <td>Women Pink Hand-held Bag</td>\n",
       "      <td>₹198</td>\n",
       "      <td>80% off</td>\n",
       "    </tr>\n",
       "    <tr>\n",
       "      <th>4</th>\n",
       "      <td>Women Grey Satchel - Mini</td>\n",
       "      <td>₹1,069</td>\n",
       "      <td>77% off</td>\n",
       "    </tr>\n",
       "    <tr>\n",
       "      <th>5</th>\n",
       "      <td>Women Black Shoulder Bag - Extra Spacious</td>\n",
       "      <td>₹225</td>\n",
       "      <td>85% off</td>\n",
       "    </tr>\n",
       "    <tr>\n",
       "      <th>6</th>\n",
       "      <td>Women Multicolor Shoulder Bag</td>\n",
       "      <td>₹369</td>\n",
       "      <td>50% off</td>\n",
       "    </tr>\n",
       "    <tr>\n",
       "      <th>7</th>\n",
       "      <td>Brown Women Sling Bag</td>\n",
       "      <td>₹711</td>\n",
       "      <td>71% off</td>\n",
       "    </tr>\n",
       "    <tr>\n",
       "      <th>8</th>\n",
       "      <td>Women Maroon Messenger Bag - Extra Spacious</td>\n",
       "      <td>₹384</td>\n",
       "      <td>87% off</td>\n",
       "    </tr>\n",
       "    <tr>\n",
       "      <th>9</th>\n",
       "      <td>Women Maroon Shoulder Bag</td>\n",
       "      <td>₹197</td>\n",
       "      <td>86% off</td>\n",
       "    </tr>\n",
       "    <tr>\n",
       "      <th>10</th>\n",
       "      <td>Women Blue Handbag</td>\n",
       "      <td>₹492</td>\n",
       "      <td>72% off</td>\n",
       "    </tr>\n",
       "    <tr>\n",
       "      <th>11</th>\n",
       "      <td>Women Maroon Handbag</td>\n",
       "      <td>₹489</td>\n",
       "      <td>72% off</td>\n",
       "    </tr>\n",
       "    <tr>\n",
       "      <th>12</th>\n",
       "      <td>Women Black Messenger Bag - Extra Spacious</td>\n",
       "      <td>₹384</td>\n",
       "      <td>87% off</td>\n",
       "    </tr>\n",
       "    <tr>\n",
       "      <th>13</th>\n",
       "      <td>Women Multicolor Shoulder Bag</td>\n",
       "      <td>₹369</td>\n",
       "      <td>50% off</td>\n",
       "    </tr>\n",
       "    <tr>\n",
       "      <th>14</th>\n",
       "      <td>Women Blue Shoulder Bag</td>\n",
       "      <td>₹271</td>\n",
       "      <td>45% off</td>\n",
       "    </tr>\n",
       "    <tr>\n",
       "      <th>15</th>\n",
       "      <td>Women Black Shoulder Bag</td>\n",
       "      <td>₹199</td>\n",
       "      <td>90% off</td>\n",
       "    </tr>\n",
       "    <tr>\n",
       "      <th>16</th>\n",
       "      <td>Casual, Party, Formal Maroon  Clutch  - Regula...</td>\n",
       "      <td>₹279</td>\n",
       "      <td>83% off</td>\n",
       "    </tr>\n",
       "    <tr>\n",
       "      <th>17</th>\n",
       "      <td>Women Multicolor Shoulder Bag</td>\n",
       "      <td>₹1,599</td>\n",
       "      <td>67% off</td>\n",
       "    </tr>\n",
       "    <tr>\n",
       "      <th>18</th>\n",
       "      <td>Women Blue Hand-held Bag</td>\n",
       "      <td>₹299</td>\n",
       "      <td>62% off</td>\n",
       "    </tr>\n",
       "    <tr>\n",
       "      <th>19</th>\n",
       "      <td>Women Brown Satchel</td>\n",
       "      <td>₹1,029</td>\n",
       "      <td>79% off</td>\n",
       "    </tr>\n",
       "    <tr>\n",
       "      <th>20</th>\n",
       "      <td>Women Grey Handbag - Extra Spacious</td>\n",
       "      <td>₹499</td>\n",
       "      <td>72% off</td>\n",
       "    </tr>\n",
       "    <tr>\n",
       "      <th>21</th>\n",
       "      <td>Women Green Shoulder Bag - Mini</td>\n",
       "      <td>₹1,729</td>\n",
       "      <td>79% off</td>\n",
       "    </tr>\n",
       "    <tr>\n",
       "      <th>22</th>\n",
       "      <td>Women Pink Shoulder Bag - Mini</td>\n",
       "      <td>₹1,179</td>\n",
       "      <td>73% off</td>\n",
       "    </tr>\n",
       "    <tr>\n",
       "      <th>23</th>\n",
       "      <td>Women Blue Satchel - Regular Size</td>\n",
       "      <td>₹299</td>\n",
       "      <td>70% off</td>\n",
       "    </tr>\n",
       "    <tr>\n",
       "      <th>24</th>\n",
       "      <td>Women Blue Sling Bag - Extra Spacious</td>\n",
       "      <td>₹849</td>\n",
       "      <td>71% off</td>\n",
       "    </tr>\n",
       "    <tr>\n",
       "      <th>25</th>\n",
       "      <td>Women Pink Messenger Bag - Extra Spacious</td>\n",
       "      <td>₹384</td>\n",
       "      <td>87% off</td>\n",
       "    </tr>\n",
       "    <tr>\n",
       "      <th>26</th>\n",
       "      <td>Casual, Party, Formal Blue  Clutch  - Regular ...</td>\n",
       "      <td>₹339</td>\n",
       "      <td>66% off</td>\n",
       "    </tr>\n",
       "    <tr>\n",
       "      <th>27</th>\n",
       "      <td>Casual Black  Clutch</td>\n",
       "      <td>₹449</td>\n",
       "      <td>75% off</td>\n",
       "    </tr>\n",
       "    <tr>\n",
       "      <th>28</th>\n",
       "      <td>Women Blue Hand-held Bag</td>\n",
       "      <td>₹299</td>\n",
       "      <td>62% off</td>\n",
       "    </tr>\n",
       "    <tr>\n",
       "      <th>29</th>\n",
       "      <td>Women Black Satchel - Regular Size</td>\n",
       "      <td>₹1,349</td>\n",
       "      <td>70% off</td>\n",
       "    </tr>\n",
       "    <tr>\n",
       "      <th>30</th>\n",
       "      <td>Casual, Formal, Party, Sports Multicolor  Clutch</td>\n",
       "      <td>₹359</td>\n",
       "      <td>86% off</td>\n",
       "    </tr>\n",
       "    <tr>\n",
       "      <th>31</th>\n",
       "      <td>Women Black Shoulder Bag - Regular Size</td>\n",
       "      <td>₹1,359</td>\n",
       "      <td>72% off</td>\n",
       "    </tr>\n",
       "    <tr>\n",
       "      <th>32</th>\n",
       "      <td>Women Green Satchel - Mini</td>\n",
       "      <td>₹1,249</td>\n",
       "      <td>73% off</td>\n",
       "    </tr>\n",
       "    <tr>\n",
       "      <th>33</th>\n",
       "      <td>Women Blue Hand-held Bag</td>\n",
       "      <td>₹299</td>\n",
       "      <td>62% off</td>\n",
       "    </tr>\n",
       "    <tr>\n",
       "      <th>34</th>\n",
       "      <td>Women Pink Satchel</td>\n",
       "      <td>₹949</td>\n",
       "      <td>81% off</td>\n",
       "    </tr>\n",
       "    <tr>\n",
       "      <th>35</th>\n",
       "      <td>Women Blue Messenger Bag - Extra Spacious</td>\n",
       "      <td>₹384</td>\n",
       "      <td>87% off</td>\n",
       "    </tr>\n",
       "    <tr>\n",
       "      <th>36</th>\n",
       "      <td>Women Grey Shoulder Bag</td>\n",
       "      <td>₹271</td>\n",
       "      <td>45% off</td>\n",
       "    </tr>\n",
       "    <tr>\n",
       "      <th>37</th>\n",
       "      <td>Women Beige Tote - Extra Spacious</td>\n",
       "      <td>₹939</td>\n",
       "      <td>71% off</td>\n",
       "    </tr>\n",
       "    <tr>\n",
       "      <th>38</th>\n",
       "      <td>Women White Shoulder Bag - Mini</td>\n",
       "      <td>₹559</td>\n",
       "      <td>71% off</td>\n",
       "    </tr>\n",
       "    <tr>\n",
       "      <th>39</th>\n",
       "      <td>Women Black Handbag - Regular Size</td>\n",
       "      <td>₹384</td>\n",
       "      <td>82% off</td>\n",
       "    </tr>\n",
       "  </tbody>\n",
       "</table>\n",
       "</div>"
      ],
      "text/plain": [
       "                                         Product Name   Price Discount\n",
       "0    Small 8 L Backpack Exclusive Fancy Trendy Ladies    ₹269  86% off\n",
       "1                                    Women Black Tote    ₹359  76% off\n",
       "2      Women Multicolor Shoulder Bag - Extra Spacious    ₹319  87% off\n",
       "3                            Women Pink Hand-held Bag    ₹198  80% off\n",
       "4                           Women Grey Satchel - Mini  ₹1,069  77% off\n",
       "5           Women Black Shoulder Bag - Extra Spacious    ₹225  85% off\n",
       "6                       Women Multicolor Shoulder Bag    ₹369  50% off\n",
       "7                               Brown Women Sling Bag    ₹711  71% off\n",
       "8         Women Maroon Messenger Bag - Extra Spacious    ₹384  87% off\n",
       "9                           Women Maroon Shoulder Bag    ₹197  86% off\n",
       "10                                 Women Blue Handbag    ₹492  72% off\n",
       "11                               Women Maroon Handbag    ₹489  72% off\n",
       "12         Women Black Messenger Bag - Extra Spacious    ₹384  87% off\n",
       "13                      Women Multicolor Shoulder Bag    ₹369  50% off\n",
       "14                            Women Blue Shoulder Bag    ₹271  45% off\n",
       "15                           Women Black Shoulder Bag    ₹199  90% off\n",
       "16  Casual, Party, Formal Maroon  Clutch  - Regula...    ₹279  83% off\n",
       "17                      Women Multicolor Shoulder Bag  ₹1,599  67% off\n",
       "18                           Women Blue Hand-held Bag    ₹299  62% off\n",
       "19                                Women Brown Satchel  ₹1,029  79% off\n",
       "20                Women Grey Handbag - Extra Spacious    ₹499  72% off\n",
       "21                    Women Green Shoulder Bag - Mini  ₹1,729  79% off\n",
       "22                     Women Pink Shoulder Bag - Mini  ₹1,179  73% off\n",
       "23                  Women Blue Satchel - Regular Size    ₹299  70% off\n",
       "24              Women Blue Sling Bag - Extra Spacious    ₹849  71% off\n",
       "25          Women Pink Messenger Bag - Extra Spacious    ₹384  87% off\n",
       "26  Casual, Party, Formal Blue  Clutch  - Regular ...    ₹339  66% off\n",
       "27                               Casual Black  Clutch    ₹449  75% off\n",
       "28                           Women Blue Hand-held Bag    ₹299  62% off\n",
       "29                 Women Black Satchel - Regular Size  ₹1,349  70% off\n",
       "30   Casual, Formal, Party, Sports Multicolor  Clutch    ₹359  86% off\n",
       "31            Women Black Shoulder Bag - Regular Size  ₹1,359  72% off\n",
       "32                         Women Green Satchel - Mini  ₹1,249  73% off\n",
       "33                           Women Blue Hand-held Bag    ₹299  62% off\n",
       "34                                 Women Pink Satchel    ₹949  81% off\n",
       "35          Women Blue Messenger Bag - Extra Spacious    ₹384  87% off\n",
       "36                            Women Grey Shoulder Bag    ₹271  45% off\n",
       "37                  Women Beige Tote - Extra Spacious    ₹939  71% off\n",
       "38                    Women White Shoulder Bag - Mini    ₹559  71% off\n",
       "39                 Women Black Handbag - Regular Size    ₹384  82% off"
      ]
     },
     "execution_count": 37,
     "metadata": {},
     "output_type": "execute_result"
    }
   ],
   "source": [
    "#List the result\n",
    "\n",
    "\n",
    "df=pd.DataFrame({'Product Name':p_name,'Price':price,'Discount':discount})\n",
    "df"
   ]
  },
  {
   "cell_type": "markdown",
   "id": "8150f72d",
   "metadata": {},
   "source": [
    "# 3. Python program to scrape cricket rankings from icc-cricket.com. You have to scrape:\n",
    "    a) Top 10 ODI teams in men’s cricket along with the records for matches, points and rating.\n",
    "    b) Top 10 ODI Batsmen along with the records of their team and rating.\n",
    "    c) Top 10 ODI bowlers along with the records of their team and rating."
   ]
  },
  {
   "cell_type": "code",
   "execution_count": null,
   "id": "531baf8b",
   "metadata": {},
   "outputs": [],
   "source": [
    "# a)Top 10 ODI Batsmen in Men's Cricket along with the recordsfor matches, points and rating"
   ]
  },
  {
   "cell_type": "code",
   "execution_count": 105,
   "id": "d5a53ee8",
   "metadata": {},
   "outputs": [
    {
     "data": {
      "text/plain": [
       "<Response [200]>"
      ]
     },
     "execution_count": 105,
     "metadata": {},
     "output_type": "execute_result"
    }
   ],
   "source": [
    "url = \"https://sports.ndtv.com/cricket/icc-rankings/odi-batting\"\n",
    "page=requests.get(url)\n",
    "page"
   ]
  },
  {
   "cell_type": "code",
   "execution_count": 131,
   "id": "61c2d35a",
   "metadata": {},
   "outputs": [],
   "source": [
    "soup=BeautifulSoup(page.content)\n",
    "soup"
   ]
  },
  {
   "cell_type": "code",
   "execution_count": 132,
   "id": "c80b4688",
   "metadata": {},
   "outputs": [],
   "source": [
    "p_name=[]\n",
    "name=soup.find_all('span',class_='rnk_tbl-nm')\n",
    "name"
   ]
  },
  {
   "cell_type": "code",
   "execution_count": 108,
   "id": "8d63eccf",
   "metadata": {},
   "outputs": [
    {
     "data": {
      "text/plain": [
       "['Babar Azam',\n",
       " 'Shubman Gill',\n",
       " 'Virat Kohli',\n",
       " 'Rohit Sharma',\n",
       " 'Daryl Mitchell',\n",
       " 'David Warner',\n",
       " 'Harry Tector',\n",
       " 'Dawid Malan',\n",
       " 'Rassie van der Dussen',\n",
       " 'Heinrich Klaasen']"
      ]
     },
     "execution_count": 108,
     "metadata": {},
     "output_type": "execute_result"
    }
   ],
   "source": [
    "for i in name:\n",
    "    name=i.a.text.replace('\\n',\"\")\n",
    "    p_name.append(name)\n",
    "    p_name=p_name[0:10]\n",
    "p_name"
   ]
  },
  {
   "cell_type": "code",
   "execution_count": 109,
   "id": "6a00aa7e",
   "metadata": {},
   "outputs": [
    {
     "data": {
      "text/plain": [
       "['Pakistan',\n",
       " 'India',\n",
       " 'India',\n",
       " 'India',\n",
       " 'New Zealand',\n",
       " 'Australia',\n",
       " 'Ireland',\n",
       " 'England',\n",
       " 'South Africa',\n",
       " 'South Africa']"
      ]
     },
     "execution_count": 109,
     "metadata": {},
     "output_type": "execute_result"
    }
   ],
   "source": [
    "country=[]\n",
    "name=soup.find_all('span',class_='rnk_tbl-tm')\n",
    "for i in name:\n",
    "    name=i.text.replace('\\n',\"\")\n",
    "    country.append(name)\n",
    "country=country[0:10]\n",
    "country"
   ]
  },
  {
   "cell_type": "code",
   "execution_count": 110,
   "id": "5bc78695",
   "metadata": {},
   "outputs": [
    {
     "data": {
      "text/plain": [
       "['824', '801', '768', '746', '728', '723', '723', '707', '701', '697']"
      ]
     },
     "execution_count": 110,
     "metadata": {},
     "output_type": "execute_result"
    }
   ],
   "source": [
    "rating=[]\n",
    "name=soup.find_all('td',class_='rnk_tbl-td rnk_tx-rt')\n",
    "for i in name:\n",
    "    name=i.text.replace('\\n',\"\")\n",
    "    rating.append(name)\n",
    "rating=rating[0:20:2]\n",
    "rating"
   ]
  },
  {
   "cell_type": "code",
   "execution_count": 111,
   "id": "2891015e",
   "metadata": {},
   "outputs": [
    {
     "data": {
      "text/html": [
       "<div>\n",
       "<style scoped>\n",
       "    .dataframe tbody tr th:only-of-type {\n",
       "        vertical-align: middle;\n",
       "    }\n",
       "\n",
       "    .dataframe tbody tr th {\n",
       "        vertical-align: top;\n",
       "    }\n",
       "\n",
       "    .dataframe thead th {\n",
       "        text-align: right;\n",
       "    }\n",
       "</style>\n",
       "<table border=\"1\" class=\"dataframe\">\n",
       "  <thead>\n",
       "    <tr style=\"text-align: right;\">\n",
       "      <th></th>\n",
       "      <th>Player Name</th>\n",
       "      <th>Country</th>\n",
       "      <th>Rating</th>\n",
       "    </tr>\n",
       "  </thead>\n",
       "  <tbody>\n",
       "    <tr>\n",
       "      <th>0</th>\n",
       "      <td>Babar Azam</td>\n",
       "      <td>Pakistan</td>\n",
       "      <td>824</td>\n",
       "    </tr>\n",
       "    <tr>\n",
       "      <th>1</th>\n",
       "      <td>Shubman Gill</td>\n",
       "      <td>India</td>\n",
       "      <td>801</td>\n",
       "    </tr>\n",
       "    <tr>\n",
       "      <th>2</th>\n",
       "      <td>Virat Kohli</td>\n",
       "      <td>India</td>\n",
       "      <td>768</td>\n",
       "    </tr>\n",
       "    <tr>\n",
       "      <th>3</th>\n",
       "      <td>Rohit Sharma</td>\n",
       "      <td>India</td>\n",
       "      <td>746</td>\n",
       "    </tr>\n",
       "    <tr>\n",
       "      <th>4</th>\n",
       "      <td>Daryl Mitchell</td>\n",
       "      <td>New Zealand</td>\n",
       "      <td>728</td>\n",
       "    </tr>\n",
       "    <tr>\n",
       "      <th>5</th>\n",
       "      <td>David Warner</td>\n",
       "      <td>Australia</td>\n",
       "      <td>723</td>\n",
       "    </tr>\n",
       "    <tr>\n",
       "      <th>6</th>\n",
       "      <td>Harry Tector</td>\n",
       "      <td>Ireland</td>\n",
       "      <td>723</td>\n",
       "    </tr>\n",
       "    <tr>\n",
       "      <th>7</th>\n",
       "      <td>Dawid Malan</td>\n",
       "      <td>England</td>\n",
       "      <td>707</td>\n",
       "    </tr>\n",
       "    <tr>\n",
       "      <th>8</th>\n",
       "      <td>Rassie van der Dussen</td>\n",
       "      <td>South Africa</td>\n",
       "      <td>701</td>\n",
       "    </tr>\n",
       "    <tr>\n",
       "      <th>9</th>\n",
       "      <td>Heinrich Klaasen</td>\n",
       "      <td>South Africa</td>\n",
       "      <td>697</td>\n",
       "    </tr>\n",
       "  </tbody>\n",
       "</table>\n",
       "</div>"
      ],
      "text/plain": [
       "             Player Name       Country Rating\n",
       "0             Babar Azam      Pakistan    824\n",
       "1           Shubman Gill         India    801\n",
       "2            Virat Kohli         India    768\n",
       "3           Rohit Sharma         India    746\n",
       "4         Daryl Mitchell   New Zealand    728\n",
       "5           David Warner     Australia    723\n",
       "6           Harry Tector       Ireland    723\n",
       "7            Dawid Malan       England    707\n",
       "8  Rassie van der Dussen  South Africa    701\n",
       "9       Heinrich Klaasen  South Africa    697"
      ]
     },
     "execution_count": 111,
     "metadata": {},
     "output_type": "execute_result"
    }
   ],
   "source": [
    "df=pd.DataFrame({'Player Name':p_name,'Country':country,'Rating':rating})\n",
    "df"
   ]
  },
  {
   "cell_type": "code",
   "execution_count": 112,
   "id": "33e274da",
   "metadata": {},
   "outputs": [
    {
     "data": {
      "text/plain": [
       "<Response [200]>"
      ]
     },
     "execution_count": 112,
     "metadata": {},
     "output_type": "execute_result"
    }
   ],
   "source": [
    "# b) Top 10 ODI Batsmen along with the records of their team and rating.\n",
    "\n",
    "\n",
    "\n",
    "url=\"https://sports.ndtv.com/cricket/icc-rankings\"\n",
    "page=requests.get(url)\n",
    "page"
   ]
  },
  {
   "cell_type": "code",
   "execution_count": 133,
   "id": "086d49b1",
   "metadata": {},
   "outputs": [],
   "source": [
    "soup=BeautifulSoup(page.content)\n",
    "soup"
   ]
  },
  {
   "cell_type": "code",
   "execution_count": 114,
   "id": "b439aa47",
   "metadata": {},
   "outputs": [
    {
     "data": {
      "text/plain": [
       "['Australia',\n",
       " 'India',\n",
       " 'England',\n",
       " 'New Zealand',\n",
       " 'South Africa',\n",
       " 'Pakistan',\n",
       " 'West Indies',\n",
       " 'Sri Lanka',\n",
       " 'Bangladesh',\n",
       " 'Zimbabwe']"
      ]
     },
     "execution_count": 114,
     "metadata": {},
     "output_type": "execute_result"
    }
   ],
   "source": [
    "team=[]\n",
    "name=soup.find_all('span',class_='rnk_tbl-nm')\n",
    "for i in name:\n",
    "    name=i.a.text.replace('\\n',\"\")\n",
    "    team.append(name)\n",
    "team=team[0:10]\n",
    "team"
   ]
  },
  {
   "cell_type": "code",
   "execution_count": 115,
   "id": "9e6e4a60",
   "metadata": {},
   "outputs": [
    {
     "data": {
      "text/plain": [
       "['37', '32', '43', '29', '27', '29', '31', '28', '22', '7']"
      ]
     },
     "execution_count": 115,
     "metadata": {},
     "output_type": "execute_result"
    }
   ],
   "source": [
    "match=[]\n",
    "name=soup.find_all('td',class_='rnk_tbl-td rnk_tx-rt')\n",
    "for i in name:\n",
    "    name=i.text.replace('\\n',\"\")\n",
    "    match.append(name)\n",
    "match=match[0:30:3]\n",
    "match"
   ]
  },
  {
   "cell_type": "code",
   "execution_count": 116,
   "id": "5b1a550d",
   "metadata": {},
   "outputs": [
    {
     "data": {
      "text/plain": [
       "['4345', '3746', '4941', '2939', '2671', '2576', '2505', '2212', '1131', '223']"
      ]
     },
     "execution_count": 116,
     "metadata": {},
     "output_type": "execute_result"
    }
   ],
   "source": [
    "points=[]\n",
    "name=soup.find_all('td',class_='rnk_tbl-td rnk_tx-rt')\n",
    "for i in name:\n",
    "    name=i.text.replace('\\n',\"\")\n",
    "    points.append(name)\n",
    "points=points[1:30:3]\n",
    "points"
   ]
  },
  {
   "cell_type": "code",
   "execution_count": 117,
   "id": "647dd608",
   "metadata": {},
   "outputs": [
    {
     "data": {
      "text/plain": [
       "['117', '117', '115', '101', '99', '89', '81', '79', '51', '32']"
      ]
     },
     "execution_count": 117,
     "metadata": {},
     "output_type": "execute_result"
    }
   ],
   "source": [
    "rating=[]\n",
    "name=soup.find_all('td',class_='rnk_tbl-td rnk_tx-rt')\n",
    "for i in name:\n",
    "    name=i.text.replace('\\n',\"\")\n",
    "    rating.append(name)\n",
    "rating=rating[2:30:3]\n",
    "rating"
   ]
  },
  {
   "cell_type": "code",
   "execution_count": 118,
   "id": "1aec457b",
   "metadata": {},
   "outputs": [
    {
     "data": {
      "text/html": [
       "<div>\n",
       "<style scoped>\n",
       "    .dataframe tbody tr th:only-of-type {\n",
       "        vertical-align: middle;\n",
       "    }\n",
       "\n",
       "    .dataframe tbody tr th {\n",
       "        vertical-align: top;\n",
       "    }\n",
       "\n",
       "    .dataframe thead th {\n",
       "        text-align: right;\n",
       "    }\n",
       "</style>\n",
       "<table border=\"1\" class=\"dataframe\">\n",
       "  <thead>\n",
       "    <tr style=\"text-align: right;\">\n",
       "      <th></th>\n",
       "      <th>Team</th>\n",
       "      <th>Matches</th>\n",
       "      <th>Points</th>\n",
       "      <th>Rating</th>\n",
       "    </tr>\n",
       "  </thead>\n",
       "  <tbody>\n",
       "    <tr>\n",
       "      <th>0</th>\n",
       "      <td>Australia</td>\n",
       "      <td>37</td>\n",
       "      <td>4345</td>\n",
       "      <td>117</td>\n",
       "    </tr>\n",
       "    <tr>\n",
       "      <th>1</th>\n",
       "      <td>India</td>\n",
       "      <td>32</td>\n",
       "      <td>3746</td>\n",
       "      <td>117</td>\n",
       "    </tr>\n",
       "    <tr>\n",
       "      <th>2</th>\n",
       "      <td>England</td>\n",
       "      <td>43</td>\n",
       "      <td>4941</td>\n",
       "      <td>115</td>\n",
       "    </tr>\n",
       "    <tr>\n",
       "      <th>3</th>\n",
       "      <td>New Zealand</td>\n",
       "      <td>29</td>\n",
       "      <td>2939</td>\n",
       "      <td>101</td>\n",
       "    </tr>\n",
       "    <tr>\n",
       "      <th>4</th>\n",
       "      <td>South Africa</td>\n",
       "      <td>27</td>\n",
       "      <td>2671</td>\n",
       "      <td>99</td>\n",
       "    </tr>\n",
       "    <tr>\n",
       "      <th>5</th>\n",
       "      <td>Pakistan</td>\n",
       "      <td>29</td>\n",
       "      <td>2576</td>\n",
       "      <td>89</td>\n",
       "    </tr>\n",
       "    <tr>\n",
       "      <th>6</th>\n",
       "      <td>West Indies</td>\n",
       "      <td>31</td>\n",
       "      <td>2505</td>\n",
       "      <td>81</td>\n",
       "    </tr>\n",
       "    <tr>\n",
       "      <th>7</th>\n",
       "      <td>Sri Lanka</td>\n",
       "      <td>28</td>\n",
       "      <td>2212</td>\n",
       "      <td>79</td>\n",
       "    </tr>\n",
       "    <tr>\n",
       "      <th>8</th>\n",
       "      <td>Bangladesh</td>\n",
       "      <td>22</td>\n",
       "      <td>1131</td>\n",
       "      <td>51</td>\n",
       "    </tr>\n",
       "    <tr>\n",
       "      <th>9</th>\n",
       "      <td>Zimbabwe</td>\n",
       "      <td>7</td>\n",
       "      <td>223</td>\n",
       "      <td>32</td>\n",
       "    </tr>\n",
       "  </tbody>\n",
       "</table>\n",
       "</div>"
      ],
      "text/plain": [
       "           Team Matches Points Rating\n",
       "0     Australia      37   4345    117\n",
       "1         India      32   3746    117\n",
       "2       England      43   4941    115\n",
       "3   New Zealand      29   2939    101\n",
       "4  South Africa      27   2671     99\n",
       "5      Pakistan      29   2576     89\n",
       "6   West Indies      31   2505     81\n",
       "7     Sri Lanka      28   2212     79\n",
       "8    Bangladesh      22   1131     51\n",
       "9      Zimbabwe       7    223     32"
      ]
     },
     "execution_count": 118,
     "metadata": {},
     "output_type": "execute_result"
    }
   ],
   "source": [
    "df=pd.DataFrame({'Team':team,'Matches':match,'Points':points,'Rating':rating})\n",
    "df"
   ]
  },
  {
   "cell_type": "code",
   "execution_count": 119,
   "id": "1b2b3827",
   "metadata": {},
   "outputs": [
    {
     "data": {
      "text/plain": [
       "<Response [200]>"
      ]
     },
     "execution_count": 119,
     "metadata": {},
     "output_type": "execute_result"
    }
   ],
   "source": [
    "# c) Top 10 ODI bowlers along with the records of their team and rating.\n",
    "\n",
    "\n",
    "\n",
    "\n",
    "url = \"https://sports.ndtv.com/cricket/icc-rankings/odi-bowling\"\n",
    "page=requests.get(url)\n",
    "page"
   ]
  },
  {
   "cell_type": "code",
   "execution_count": 134,
   "id": "2d3cf37e",
   "metadata": {},
   "outputs": [],
   "source": [
    "soup=BeautifulSoup(page.content)\n",
    "soup"
   ]
  },
  {
   "cell_type": "code",
   "execution_count": 122,
   "id": "89123ebe",
   "metadata": {},
   "outputs": [
    {
     "name": "stdout",
     "output_type": "stream",
     "text": [
      "['Keshav Maharaj', 'Josh Hazlewood', 'Adam Zampa', 'Mohammed Siraj', 'Jasprit Bumrah', 'Mohammad Nabi', 'Shaheen Afridi', 'Rashid Khan', 'Kuldeep Yadav', 'Trent Boult']\n"
     ]
    }
   ],
   "source": [
    "p_name=[]\n",
    "name=soup.find_all('span',class_='rnk_tbl-nm')\n",
    "for i in name:\n",
    "    name=i.a.text.replace('\\n',\"\")\n",
    "    p_name.append(name)\n",
    "    p_name=p_name[0:10]\n",
    "print(p_name)"
   ]
  },
  {
   "cell_type": "code",
   "execution_count": 123,
   "id": "1dba4c00",
   "metadata": {},
   "outputs": [
    {
     "data": {
      "text/plain": [
       "['South Africa',\n",
       " 'Australia',\n",
       " 'Australia',\n",
       " 'India',\n",
       " 'India',\n",
       " 'Afghanistan',\n",
       " 'Pakistan',\n",
       " 'Afghanistan',\n",
       " 'India',\n",
       " 'New Zealand']"
      ]
     },
     "execution_count": 123,
     "metadata": {},
     "output_type": "execute_result"
    }
   ],
   "source": [
    "country=[]\n",
    "name=soup.find_all('span',class_='rnk_tbl-tm')\n",
    "for i in name:\n",
    "    name=i.text.replace('\\n',\"\")\n",
    "    country.append(name)\n",
    "country=country[0:10]\n",
    "country"
   ]
  },
  {
   "cell_type": "code",
   "execution_count": 124,
   "id": "195e7860",
   "metadata": {},
   "outputs": [
    {
     "name": "stdout",
     "output_type": "stream",
     "text": [
      "['716', '688', '686', '678', '665', '653', '650', '647', '645', '643']\n"
     ]
    }
   ],
   "source": [
    "rating=[]\n",
    "name=soup.find_all('td',class_='rnk_tbl-td rnk_tx-rt')\n",
    "for i in name:\n",
    "    name=i.text.replace('\\n',\"\")\n",
    "    rating.append(name)\n",
    "rating=rating[0:20:2]\n",
    "print(rating)"
   ]
  },
  {
   "cell_type": "code",
   "execution_count": 125,
   "id": "4f420fdd",
   "metadata": {},
   "outputs": [
    {
     "data": {
      "text/html": [
       "<div>\n",
       "<style scoped>\n",
       "    .dataframe tbody tr th:only-of-type {\n",
       "        vertical-align: middle;\n",
       "    }\n",
       "\n",
       "    .dataframe tbody tr th {\n",
       "        vertical-align: top;\n",
       "    }\n",
       "\n",
       "    .dataframe thead th {\n",
       "        text-align: right;\n",
       "    }\n",
       "</style>\n",
       "<table border=\"1\" class=\"dataframe\">\n",
       "  <thead>\n",
       "    <tr style=\"text-align: right;\">\n",
       "      <th></th>\n",
       "      <th>Player Name</th>\n",
       "      <th>country</th>\n",
       "      <th>Rating</th>\n",
       "    </tr>\n",
       "  </thead>\n",
       "  <tbody>\n",
       "    <tr>\n",
       "      <th>0</th>\n",
       "      <td>Keshav Maharaj</td>\n",
       "      <td>South Africa</td>\n",
       "      <td>716</td>\n",
       "    </tr>\n",
       "    <tr>\n",
       "      <th>1</th>\n",
       "      <td>Josh Hazlewood</td>\n",
       "      <td>Australia</td>\n",
       "      <td>688</td>\n",
       "    </tr>\n",
       "    <tr>\n",
       "      <th>2</th>\n",
       "      <td>Adam Zampa</td>\n",
       "      <td>Australia</td>\n",
       "      <td>686</td>\n",
       "    </tr>\n",
       "    <tr>\n",
       "      <th>3</th>\n",
       "      <td>Mohammed Siraj</td>\n",
       "      <td>India</td>\n",
       "      <td>678</td>\n",
       "    </tr>\n",
       "    <tr>\n",
       "      <th>4</th>\n",
       "      <td>Jasprit Bumrah</td>\n",
       "      <td>India</td>\n",
       "      <td>665</td>\n",
       "    </tr>\n",
       "    <tr>\n",
       "      <th>5</th>\n",
       "      <td>Mohammad Nabi</td>\n",
       "      <td>Afghanistan</td>\n",
       "      <td>653</td>\n",
       "    </tr>\n",
       "    <tr>\n",
       "      <th>6</th>\n",
       "      <td>Shaheen Afridi</td>\n",
       "      <td>Pakistan</td>\n",
       "      <td>650</td>\n",
       "    </tr>\n",
       "    <tr>\n",
       "      <th>7</th>\n",
       "      <td>Rashid Khan</td>\n",
       "      <td>Afghanistan</td>\n",
       "      <td>647</td>\n",
       "    </tr>\n",
       "    <tr>\n",
       "      <th>8</th>\n",
       "      <td>Kuldeep Yadav</td>\n",
       "      <td>India</td>\n",
       "      <td>645</td>\n",
       "    </tr>\n",
       "    <tr>\n",
       "      <th>9</th>\n",
       "      <td>Trent Boult</td>\n",
       "      <td>New Zealand</td>\n",
       "      <td>643</td>\n",
       "    </tr>\n",
       "  </tbody>\n",
       "</table>\n",
       "</div>"
      ],
      "text/plain": [
       "      Player Name       country Rating\n",
       "0  Keshav Maharaj  South Africa    716\n",
       "1  Josh Hazlewood     Australia    688\n",
       "2      Adam Zampa     Australia    686\n",
       "3  Mohammed Siraj         India    678\n",
       "4  Jasprit Bumrah         India    665\n",
       "5   Mohammad Nabi   Afghanistan    653\n",
       "6  Shaheen Afridi      Pakistan    650\n",
       "7     Rashid Khan   Afghanistan    647\n",
       "8   Kuldeep Yadav         India    645\n",
       "9     Trent Boult   New Zealand    643"
      ]
     },
     "execution_count": 125,
     "metadata": {},
     "output_type": "execute_result"
    }
   ],
   "source": [
    "df=pd.DataFrame({'Player Name': p_name,'country':country,'Rating':rating})\n",
    "df"
   ]
  },
  {
   "cell_type": "code",
   "execution_count": null,
   "id": "e1c26ccc",
   "metadata": {},
   "outputs": [],
   "source": []
  },
  {
   "cell_type": "code",
   "execution_count": null,
   "id": "16ee6e5d",
   "metadata": {},
   "outputs": [],
   "source": []
  },
  {
   "cell_type": "code",
   "execution_count": null,
   "id": "6f35ba35",
   "metadata": {},
   "outputs": [],
   "source": []
  },
  {
   "cell_type": "code",
   "execution_count": null,
   "id": "83cbf071",
   "metadata": {},
   "outputs": [],
   "source": []
  },
  {
   "cell_type": "markdown",
   "id": "8adb7ec0",
   "metadata": {},
   "source": [
    "# 4. Python program to scrape house details from mentioned URL. It should include house title, location, area, EMI and price from https://www.nobroker.in/ .Enter three localities which are Indira Nagar, Jayanagar, Rajaji Nagar."
   ]
  },
  {
   "cell_type": "code",
   "execution_count": 135,
   "id": "07a607df",
   "metadata": {},
   "outputs": [
    {
     "data": {
      "text/plain": [
       "<Response [200]>"
      ]
     },
     "execution_count": 135,
     "metadata": {},
     "output_type": "execute_result"
    }
   ],
   "source": [
    "url=\"https://www.nobroker.in/property/rent/bangalore/multiple?searchParam=W3sibGF0IjoxMi45NzgzNjkyLCJsb24iOjc3LjY0MDgzNTYsInBsYWNlSWQiOiJDaElKa1FOM0dLUVdyanNSTmhCUUpyaEdEN1UiLCJwbGFjZU5hbWUiOiJJbmRpcmFuYWdhciJ9LHsibGF0IjoxMi45MzA3NzM1LCJsb24iOjc3LjU4MzgzMDIsInBsYWNlSWQiOiJDaElKMmRkbFo1Z1ZyanNSaDFCT0FhZi1vcnMiLCJwbGFjZU5hbWUiOiJKYXlhbmFnYXIifSx7ImxhdCI6MTIuOTk4MTczMiwibG9uIjo3Ny41NTMwNDQ1OTk5OTk5OSwicGxhY2VJZCI6IkNoSUp4Zlc0RFBNOXJqc1JLc05URy01cF9RUSIsInBsYWNlTmFtZSI6IlJhamFqaW5hZ2FyIn1d&radius=2.0&sharedAccomodation=0&city=bangalore&locality=Indiranagar,Jayanagar,Rajajinagar\"\n",
    "page=requests.get(url)\n",
    "page"
   ]
  },
  {
   "cell_type": "code",
   "execution_count": 144,
   "id": "a1bb1014",
   "metadata": {},
   "outputs": [],
   "source": [
    "soup=BeautifulSoup(page.content)\n",
    "soup"
   ]
  },
  {
   "cell_type": "code",
   "execution_count": 145,
   "id": "a9907073",
   "metadata": {},
   "outputs": [],
   "source": [
    "title=[]\n",
    "name=soup.find_all('h2',class_='heading-6 flex items-center font-semi-bold m-0')\n",
    "name"
   ]
  },
  {
   "cell_type": "code",
   "execution_count": 138,
   "id": "26cab273",
   "metadata": {},
   "outputs": [
    {
     "name": "stdout",
     "output_type": "stream",
     "text": [
      "['3 BHK Flat In Vijaya Murli Nilayam for Rent  In Indiranagar', '1 BHK House for Rent  In Indira Nagar', '2 BHK House for Rent  In Rajaji Nagar', '2 BHK House for Rent  In Indira Nagar Ii Stage, Hoysala Nagar, Indiranagar', '3 BHK Flat In Anand Comforts for Rent  In Tata Silk Farm', '3 BHK Flat In Sreesha Building  for Rent  In  Rajajinagar ', '2 BHK House for Rent  In Jayanagar', '2 BHK House for Rent  In Jayanagar', '2 BHK Flat In Jains Prakruti for Rent  In Jayanagar', '3 BHK House for Rent  In Jayanagar 7th Block', '2 BHK House for Rent  In Bashyam Circle', '2 BHK House for Rent  In Jayanagar 9th Block', '1 BHK Flat In Choudeshwari Prasanna for Rent  In Rajaji Nagar', '1 BHK House for Rent  In Jayanagar', '2 BHK Flat In Shiva Krupa for Rent  In Jayanagar', '3 BHK House for Rent  In Jayanagar', '2 BHK House for Rent  In 46th A Cross Road', '1 RK House for Rent  In Indiranagar', '2 BHK House for Rent  In Jayanagar', '2 BHK House for Rent  In Rajaji Nagar', '2 BHK Flat In Apartment for Rent  In Rajajinagar', '2 BHK Flat In Madhu Nivas, Jayanagar for Rent  In Sahisaving, C416, D Block, Gm E-city Town, Nr, Neotown Rd, Electronics City Phase 1, Electronic City, Bengaluru, Karnataka 560100, India', '3 BHK Flat In Marvel Apartment for Rent  In Rajajinagar Metro Station', '1 RK Flat In Sb for Rent  In Jayanagar', '3 BHK House for Rent  In Rajaji Nagar', '3 BHK Flat In Vijaya Murli Nilayam for Rent  In Indiranagar']\n"
     ]
    }
   ],
   "source": [
    "# Fetching the listed products name\n",
    "\n",
    "\n",
    "\n",
    "for i in name:\n",
    "    name=i.text\n",
    "    title.append(name)\n",
    "print(title)"
   ]
  },
  {
   "cell_type": "code",
   "execution_count": 146,
   "id": "81701651",
   "metadata": {},
   "outputs": [],
   "source": [
    "price=[]\n",
    "name=soup.find_all('div',class_='font-semi-bold heading-6')\n",
    "name"
   ]
  },
  {
   "cell_type": "code",
   "execution_count": 140,
   "id": "fbcfd217",
   "metadata": {},
   "outputs": [
    {
     "data": {
      "text/plain": [
       "['₹ 69,000 +₹ 5,000Maintenance',\n",
       " '₹ 14,000No Extra Maintenance',\n",
       " '₹ 24,000No Extra Maintenance',\n",
       " '₹ 36,000No Extra Maintenance',\n",
       " '₹ 42,000No Extra Maintenance',\n",
       " '₹ 25,000No Extra Maintenance',\n",
       " '₹ 25,000No Extra Maintenance',\n",
       " '₹ 18,000No Extra Maintenance',\n",
       " '₹ 42,000 +₹ 4,000Maintenance',\n",
       " '₹ 70,000 +₹ 5,000Maintenance',\n",
       " '₹ 16,000No Extra Maintenance',\n",
       " '₹ 32,000No Extra Maintenance',\n",
       " '₹ 11,500No Extra Maintenance',\n",
       " '₹ 15,000No Extra Maintenance',\n",
       " '₹ 36,000No Extra Maintenance',\n",
       " '₹ 27,000No Extra Maintenance',\n",
       " '₹ 25,000 +₹ 2,000Maintenance',\n",
       " '₹ 15,000 +₹ 500Maintenance',\n",
       " '₹ 19,500No Extra Maintenance',\n",
       " '₹ 20,000No Extra Maintenance',\n",
       " '₹ 12,000 +₹ 400Maintenance',\n",
       " '₹ 16,000No Extra Maintenance',\n",
       " '₹ 45,000No Extra Maintenance',\n",
       " '₹ 6,000No Extra Maintenance',\n",
       " '₹ 27,000 +₹ 1,000Maintenance',\n",
       " '₹ 69,000 +₹ 5,000Maintenance']"
      ]
     },
     "execution_count": 140,
     "metadata": {},
     "output_type": "execute_result"
    }
   ],
   "source": [
    "# Fetching the rent\n",
    "\n",
    "\n",
    "for i in name:\n",
    "    name=i.text\n",
    "    price.append(name)\n",
    "price=price[0:100:3]\n",
    "price"
   ]
  },
  {
   "cell_type": "code",
   "execution_count": 141,
   "id": "731b9047",
   "metadata": {},
   "outputs": [
    {
     "name": "stdout",
     "output_type": "stream",
     "text": [
      "['₹3,00,000', '₹75,000', '₹2,45,000', '₹2,00,000', '₹2,50,000', '₹2,50,000', '₹1,50,000', '₹2,00,000', '₹4,00,000', '₹7,00,000', '₹1,60,000', '₹2,10,000', '₹80,000', '₹75,000', '₹2,50,000', '₹2,50,000', '₹2,00,000', '₹50,000', '₹1,95,000', '₹2,00,000', '₹1,20,000', '₹1,20,000', '₹4,30,000', '₹30,000', '₹2,00,000', '₹3,00,000']\n"
     ]
    },
    {
     "data": {
      "text/plain": [
       "26"
      ]
     },
     "execution_count": 141,
     "metadata": {},
     "output_type": "execute_result"
    }
   ],
   "source": [
    "# Fetching the deposit of each item\n",
    "\n",
    "\n",
    "\n",
    "Deposit=[]\n",
    "name=soup.find_all('div',class_='font-semi-bold heading-6')\n",
    "for i in name:\n",
    "    name=i.text\n",
    "    Deposit.append(name)\n",
    "Deposit=Deposit[1:100:3]\n",
    "print(Deposit)\n",
    "len(Deposit)"
   ]
  },
  {
   "cell_type": "code",
   "execution_count": 142,
   "id": "2d703d17",
   "metadata": {},
   "outputs": [
    {
     "name": "stdout",
     "output_type": "stream",
     "text": [
      "['2,000 sqft', '600 sqft', '1,100 sqft', '1,350 sqft', '1,600 sqft', '1,200 sqft', '700 sqft', '600 sqft', '1,298 sqft', '2,000 sqft', '1,000 sqft', '1,000 sqft', '500 sqft', '650 sqft', '1,100 sqft', '1,050 sqft', '850 sqft', '350 sqft', '650 sqft', '1,300 sqft', '750 sqft', '1,000 sqft', '1,600 sqft', '140 sqft', '1,500 sqft', '2,000 sqft']\n"
     ]
    },
    {
     "data": {
      "text/plain": [
       "26"
      ]
     },
     "execution_count": 142,
     "metadata": {},
     "output_type": "execute_result"
    }
   ],
   "source": [
    "# Fetching the area of the house\n",
    "\n",
    "\n",
    "area_in_sqft=[]\n",
    "name=soup.find_all('div',class_='font-semi-bold heading-6')\n",
    "for i in name:\n",
    "    name=i.text\n",
    "    area_in_sqft.append(name)\n",
    "area_in_sqft=area_in_sqft[2:100:3]\n",
    "print(area_in_sqft)\n",
    "len(area_in_sqft)"
   ]
  },
  {
   "cell_type": "code",
   "execution_count": 143,
   "id": "57797da0",
   "metadata": {
    "scrolled": true
   },
   "outputs": [
    {
     "data": {
      "text/html": [
       "<div>\n",
       "<style scoped>\n",
       "    .dataframe tbody tr th:only-of-type {\n",
       "        vertical-align: middle;\n",
       "    }\n",
       "\n",
       "    .dataframe tbody tr th {\n",
       "        vertical-align: top;\n",
       "    }\n",
       "\n",
       "    .dataframe thead th {\n",
       "        text-align: right;\n",
       "    }\n",
       "</style>\n",
       "<table border=\"1\" class=\"dataframe\">\n",
       "  <thead>\n",
       "    <tr style=\"text-align: right;\">\n",
       "      <th></th>\n",
       "      <th>Location</th>\n",
       "      <th>Rent</th>\n",
       "      <th>Deposit</th>\n",
       "      <th>Area in Sqft</th>\n",
       "    </tr>\n",
       "  </thead>\n",
       "  <tbody>\n",
       "    <tr>\n",
       "      <th>0</th>\n",
       "      <td>3 BHK Flat In Vijaya Murli Nilayam for Rent  I...</td>\n",
       "      <td>₹ 69,000 +₹ 5,000Maintenance</td>\n",
       "      <td>₹3,00,000</td>\n",
       "      <td>2,000 sqft</td>\n",
       "    </tr>\n",
       "    <tr>\n",
       "      <th>1</th>\n",
       "      <td>1 BHK House for Rent  In Indira Nagar</td>\n",
       "      <td>₹ 14,000No Extra Maintenance</td>\n",
       "      <td>₹75,000</td>\n",
       "      <td>600 sqft</td>\n",
       "    </tr>\n",
       "    <tr>\n",
       "      <th>2</th>\n",
       "      <td>2 BHK House for Rent  In Rajaji Nagar</td>\n",
       "      <td>₹ 24,000No Extra Maintenance</td>\n",
       "      <td>₹2,45,000</td>\n",
       "      <td>1,100 sqft</td>\n",
       "    </tr>\n",
       "    <tr>\n",
       "      <th>3</th>\n",
       "      <td>2 BHK House for Rent  In Indira Nagar Ii Stage...</td>\n",
       "      <td>₹ 36,000No Extra Maintenance</td>\n",
       "      <td>₹2,00,000</td>\n",
       "      <td>1,350 sqft</td>\n",
       "    </tr>\n",
       "    <tr>\n",
       "      <th>4</th>\n",
       "      <td>3 BHK Flat In Anand Comforts for Rent  In Tata...</td>\n",
       "      <td>₹ 42,000No Extra Maintenance</td>\n",
       "      <td>₹2,50,000</td>\n",
       "      <td>1,600 sqft</td>\n",
       "    </tr>\n",
       "    <tr>\n",
       "      <th>5</th>\n",
       "      <td>3 BHK Flat In Sreesha Building  for Rent  In  ...</td>\n",
       "      <td>₹ 25,000No Extra Maintenance</td>\n",
       "      <td>₹2,50,000</td>\n",
       "      <td>1,200 sqft</td>\n",
       "    </tr>\n",
       "    <tr>\n",
       "      <th>6</th>\n",
       "      <td>2 BHK House for Rent  In Jayanagar</td>\n",
       "      <td>₹ 25,000No Extra Maintenance</td>\n",
       "      <td>₹1,50,000</td>\n",
       "      <td>700 sqft</td>\n",
       "    </tr>\n",
       "    <tr>\n",
       "      <th>7</th>\n",
       "      <td>2 BHK House for Rent  In Jayanagar</td>\n",
       "      <td>₹ 18,000No Extra Maintenance</td>\n",
       "      <td>₹2,00,000</td>\n",
       "      <td>600 sqft</td>\n",
       "    </tr>\n",
       "    <tr>\n",
       "      <th>8</th>\n",
       "      <td>2 BHK Flat In Jains Prakruti for Rent  In Jaya...</td>\n",
       "      <td>₹ 42,000 +₹ 4,000Maintenance</td>\n",
       "      <td>₹4,00,000</td>\n",
       "      <td>1,298 sqft</td>\n",
       "    </tr>\n",
       "    <tr>\n",
       "      <th>9</th>\n",
       "      <td>3 BHK House for Rent  In Jayanagar 7th Block</td>\n",
       "      <td>₹ 70,000 +₹ 5,000Maintenance</td>\n",
       "      <td>₹7,00,000</td>\n",
       "      <td>2,000 sqft</td>\n",
       "    </tr>\n",
       "    <tr>\n",
       "      <th>10</th>\n",
       "      <td>2 BHK House for Rent  In Bashyam Circle</td>\n",
       "      <td>₹ 16,000No Extra Maintenance</td>\n",
       "      <td>₹1,60,000</td>\n",
       "      <td>1,000 sqft</td>\n",
       "    </tr>\n",
       "    <tr>\n",
       "      <th>11</th>\n",
       "      <td>2 BHK House for Rent  In Jayanagar 9th Block</td>\n",
       "      <td>₹ 32,000No Extra Maintenance</td>\n",
       "      <td>₹2,10,000</td>\n",
       "      <td>1,000 sqft</td>\n",
       "    </tr>\n",
       "    <tr>\n",
       "      <th>12</th>\n",
       "      <td>1 BHK Flat In Choudeshwari Prasanna for Rent  ...</td>\n",
       "      <td>₹ 11,500No Extra Maintenance</td>\n",
       "      <td>₹80,000</td>\n",
       "      <td>500 sqft</td>\n",
       "    </tr>\n",
       "    <tr>\n",
       "      <th>13</th>\n",
       "      <td>1 BHK House for Rent  In Jayanagar</td>\n",
       "      <td>₹ 15,000No Extra Maintenance</td>\n",
       "      <td>₹75,000</td>\n",
       "      <td>650 sqft</td>\n",
       "    </tr>\n",
       "    <tr>\n",
       "      <th>14</th>\n",
       "      <td>2 BHK Flat In Shiva Krupa for Rent  In Jayanagar</td>\n",
       "      <td>₹ 36,000No Extra Maintenance</td>\n",
       "      <td>₹2,50,000</td>\n",
       "      <td>1,100 sqft</td>\n",
       "    </tr>\n",
       "    <tr>\n",
       "      <th>15</th>\n",
       "      <td>3 BHK House for Rent  In Jayanagar</td>\n",
       "      <td>₹ 27,000No Extra Maintenance</td>\n",
       "      <td>₹2,50,000</td>\n",
       "      <td>1,050 sqft</td>\n",
       "    </tr>\n",
       "    <tr>\n",
       "      <th>16</th>\n",
       "      <td>2 BHK House for Rent  In 46th A Cross Road</td>\n",
       "      <td>₹ 25,000 +₹ 2,000Maintenance</td>\n",
       "      <td>₹2,00,000</td>\n",
       "      <td>850 sqft</td>\n",
       "    </tr>\n",
       "    <tr>\n",
       "      <th>17</th>\n",
       "      <td>1 RK House for Rent  In Indiranagar</td>\n",
       "      <td>₹ 15,000 +₹ 500Maintenance</td>\n",
       "      <td>₹50,000</td>\n",
       "      <td>350 sqft</td>\n",
       "    </tr>\n",
       "    <tr>\n",
       "      <th>18</th>\n",
       "      <td>2 BHK House for Rent  In Jayanagar</td>\n",
       "      <td>₹ 19,500No Extra Maintenance</td>\n",
       "      <td>₹1,95,000</td>\n",
       "      <td>650 sqft</td>\n",
       "    </tr>\n",
       "    <tr>\n",
       "      <th>19</th>\n",
       "      <td>2 BHK House for Rent  In Rajaji Nagar</td>\n",
       "      <td>₹ 20,000No Extra Maintenance</td>\n",
       "      <td>₹2,00,000</td>\n",
       "      <td>1,300 sqft</td>\n",
       "    </tr>\n",
       "    <tr>\n",
       "      <th>20</th>\n",
       "      <td>2 BHK Flat In Apartment for Rent  In Rajajinagar</td>\n",
       "      <td>₹ 12,000 +₹ 400Maintenance</td>\n",
       "      <td>₹1,20,000</td>\n",
       "      <td>750 sqft</td>\n",
       "    </tr>\n",
       "    <tr>\n",
       "      <th>21</th>\n",
       "      <td>2 BHK Flat In Madhu Nivas, Jayanagar for Rent ...</td>\n",
       "      <td>₹ 16,000No Extra Maintenance</td>\n",
       "      <td>₹1,20,000</td>\n",
       "      <td>1,000 sqft</td>\n",
       "    </tr>\n",
       "    <tr>\n",
       "      <th>22</th>\n",
       "      <td>3 BHK Flat In Marvel Apartment for Rent  In Ra...</td>\n",
       "      <td>₹ 45,000No Extra Maintenance</td>\n",
       "      <td>₹4,30,000</td>\n",
       "      <td>1,600 sqft</td>\n",
       "    </tr>\n",
       "    <tr>\n",
       "      <th>23</th>\n",
       "      <td>1 RK Flat In Sb for Rent  In Jayanagar</td>\n",
       "      <td>₹ 6,000No Extra Maintenance</td>\n",
       "      <td>₹30,000</td>\n",
       "      <td>140 sqft</td>\n",
       "    </tr>\n",
       "    <tr>\n",
       "      <th>24</th>\n",
       "      <td>3 BHK House for Rent  In Rajaji Nagar</td>\n",
       "      <td>₹ 27,000 +₹ 1,000Maintenance</td>\n",
       "      <td>₹2,00,000</td>\n",
       "      <td>1,500 sqft</td>\n",
       "    </tr>\n",
       "    <tr>\n",
       "      <th>25</th>\n",
       "      <td>3 BHK Flat In Vijaya Murli Nilayam for Rent  I...</td>\n",
       "      <td>₹ 69,000 +₹ 5,000Maintenance</td>\n",
       "      <td>₹3,00,000</td>\n",
       "      <td>2,000 sqft</td>\n",
       "    </tr>\n",
       "  </tbody>\n",
       "</table>\n",
       "</div>"
      ],
      "text/plain": [
       "                                             Location  \\\n",
       "0   3 BHK Flat In Vijaya Murli Nilayam for Rent  I...   \n",
       "1               1 BHK House for Rent  In Indira Nagar   \n",
       "2               2 BHK House for Rent  In Rajaji Nagar   \n",
       "3   2 BHK House for Rent  In Indira Nagar Ii Stage...   \n",
       "4   3 BHK Flat In Anand Comforts for Rent  In Tata...   \n",
       "5   3 BHK Flat In Sreesha Building  for Rent  In  ...   \n",
       "6                  2 BHK House for Rent  In Jayanagar   \n",
       "7                  2 BHK House for Rent  In Jayanagar   \n",
       "8   2 BHK Flat In Jains Prakruti for Rent  In Jaya...   \n",
       "9        3 BHK House for Rent  In Jayanagar 7th Block   \n",
       "10            2 BHK House for Rent  In Bashyam Circle   \n",
       "11       2 BHK House for Rent  In Jayanagar 9th Block   \n",
       "12  1 BHK Flat In Choudeshwari Prasanna for Rent  ...   \n",
       "13                 1 BHK House for Rent  In Jayanagar   \n",
       "14   2 BHK Flat In Shiva Krupa for Rent  In Jayanagar   \n",
       "15                 3 BHK House for Rent  In Jayanagar   \n",
       "16         2 BHK House for Rent  In 46th A Cross Road   \n",
       "17                1 RK House for Rent  In Indiranagar   \n",
       "18                 2 BHK House for Rent  In Jayanagar   \n",
       "19              2 BHK House for Rent  In Rajaji Nagar   \n",
       "20   2 BHK Flat In Apartment for Rent  In Rajajinagar   \n",
       "21  2 BHK Flat In Madhu Nivas, Jayanagar for Rent ...   \n",
       "22  3 BHK Flat In Marvel Apartment for Rent  In Ra...   \n",
       "23             1 RK Flat In Sb for Rent  In Jayanagar   \n",
       "24              3 BHK House for Rent  In Rajaji Nagar   \n",
       "25  3 BHK Flat In Vijaya Murli Nilayam for Rent  I...   \n",
       "\n",
       "                            Rent    Deposit Area in Sqft  \n",
       "0   ₹ 69,000 +₹ 5,000Maintenance  ₹3,00,000   2,000 sqft  \n",
       "1   ₹ 14,000No Extra Maintenance    ₹75,000     600 sqft  \n",
       "2   ₹ 24,000No Extra Maintenance  ₹2,45,000   1,100 sqft  \n",
       "3   ₹ 36,000No Extra Maintenance  ₹2,00,000   1,350 sqft  \n",
       "4   ₹ 42,000No Extra Maintenance  ₹2,50,000   1,600 sqft  \n",
       "5   ₹ 25,000No Extra Maintenance  ₹2,50,000   1,200 sqft  \n",
       "6   ₹ 25,000No Extra Maintenance  ₹1,50,000     700 sqft  \n",
       "7   ₹ 18,000No Extra Maintenance  ₹2,00,000     600 sqft  \n",
       "8   ₹ 42,000 +₹ 4,000Maintenance  ₹4,00,000   1,298 sqft  \n",
       "9   ₹ 70,000 +₹ 5,000Maintenance  ₹7,00,000   2,000 sqft  \n",
       "10  ₹ 16,000No Extra Maintenance  ₹1,60,000   1,000 sqft  \n",
       "11  ₹ 32,000No Extra Maintenance  ₹2,10,000   1,000 sqft  \n",
       "12  ₹ 11,500No Extra Maintenance    ₹80,000     500 sqft  \n",
       "13  ₹ 15,000No Extra Maintenance    ₹75,000     650 sqft  \n",
       "14  ₹ 36,000No Extra Maintenance  ₹2,50,000   1,100 sqft  \n",
       "15  ₹ 27,000No Extra Maintenance  ₹2,50,000   1,050 sqft  \n",
       "16  ₹ 25,000 +₹ 2,000Maintenance  ₹2,00,000     850 sqft  \n",
       "17    ₹ 15,000 +₹ 500Maintenance    ₹50,000     350 sqft  \n",
       "18  ₹ 19,500No Extra Maintenance  ₹1,95,000     650 sqft  \n",
       "19  ₹ 20,000No Extra Maintenance  ₹2,00,000   1,300 sqft  \n",
       "20    ₹ 12,000 +₹ 400Maintenance  ₹1,20,000     750 sqft  \n",
       "21  ₹ 16,000No Extra Maintenance  ₹1,20,000   1,000 sqft  \n",
       "22  ₹ 45,000No Extra Maintenance  ₹4,30,000   1,600 sqft  \n",
       "23   ₹ 6,000No Extra Maintenance    ₹30,000     140 sqft  \n",
       "24  ₹ 27,000 +₹ 1,000Maintenance  ₹2,00,000   1,500 sqft  \n",
       "25  ₹ 69,000 +₹ 5,000Maintenance  ₹3,00,000   2,000 sqft  "
      ]
     },
     "execution_count": 143,
     "metadata": {},
     "output_type": "execute_result"
    }
   ],
   "source": [
    "# Listing the product details\n",
    "\n",
    "\n",
    "df=pd.DataFrame({\"Location\":title,\"Rent\":price, \"Deposit\":Deposit,\"Area in Sqft\":area_in_sqft})\n",
    "df"
   ]
  },
  {
   "cell_type": "markdown",
   "id": "99270c69",
   "metadata": {},
   "source": [
    "# 5. Python program to scrape first 10 product details which include product name , price , Image URL from https://www.bewakoof.com/bestseller?sort=popular ."
   ]
  },
  {
   "cell_type": "code",
   "execution_count": 89,
   "id": "20997632",
   "metadata": {},
   "outputs": [
    {
     "data": {
      "text/plain": [
       "<Response [200]>"
      ]
     },
     "execution_count": 89,
     "metadata": {},
     "output_type": "execute_result"
    }
   ],
   "source": [
    "url='https://www.bewakoof.com/bestseller?sort=popular'\n",
    "page=requests.get(url)\n",
    "page"
   ]
  },
  {
   "cell_type": "code",
   "execution_count": 104,
   "id": "ce09624c",
   "metadata": {},
   "outputs": [],
   "source": [
    "soup=BeautifulSoup(page.content)\n",
    "soup"
   ]
  },
  {
   "cell_type": "code",
   "execution_count": 91,
   "id": "73888c84",
   "metadata": {},
   "outputs": [
    {
     "name": "stdout",
     "output_type": "stream",
     "text": [
      "[\"Men's Black Batman Outline Logo T-shirt\", \"Men's Blue Rider Vroom Panda Graphic Printed T-shirt\", \"Men's Black T-shirt\", \"Women's Black Boyfriend T-shirt\", \"Men's White T-shirt\", \"Men's White T-shirt\", \"Men's Black Iron Man of War Graphic Printed Vest\", \"Women's Red Boyfriend T-shirt\", \"Men's White Marvel Printed T-shirt\", \"Men's Black Martin Garrix Colorful Graphic Printed T-shirt\"]\n"
     ]
    },
    {
     "data": {
      "text/plain": [
       "10"
      ]
     },
     "execution_count": 91,
     "metadata": {},
     "output_type": "execute_result"
    }
   ],
   "source": [
    "p_name=[]\n",
    "names=soup.find_all('div',class_='productNaming bkf-ellipsis')\n",
    "for i in names:\n",
    "    names=i.h2.text\n",
    "    p_name.append(names)\n",
    "print(p_name)\n",
    "len(p_name)"
   ]
  },
  {
   "cell_type": "code",
   "execution_count": 92,
   "id": "e0d14bad",
   "metadata": {},
   "outputs": [
    {
     "data": {
      "text/plain": [
       "['https://images.bewakoof.com/t640/men-s-black-batman-outline-logo-t-shirt-283889-1701423873-1.jpg',\n",
       " 'https://images.bewakoof.com/t640/men-s-blue-rider-vroom-panda-graphic-printed-t-shirt-387282-1705996206-1.jpg',\n",
       " 'https://images.bewakoof.com/t640/men-s-black-t-shirt-106-1701423878-1.jpg',\n",
       " 'https://images.bewakoof.com/t640/women-s-black-boyfriend-t-shirt-103943-1655747735-1.jpg',\n",
       " 'https://images.bewakoof.com/t640/men-s-white-t-shirt-1093-1708356232-1.jpg',\n",
       " 'https://images.bewakoof.com/t640/men-s-white-t-shirt-105-1702967985-1.jpg',\n",
       " 'https://images.bewakoof.com/t640/iron-man-of-war-vest-avl-220651-1655748304-1.jpg',\n",
       " 'https://images.bewakoof.com/t640/women-s-red-boyfriend-t-shirt-170465-1658918677-1.jpg',\n",
       " 'https://images.bewakoof.com/t640/men-s-white-marvel-printed-t-shirt-390747-1705996158-1.jpg',\n",
       " 'https://images.bewakoof.com/t640/men-s-black-martin-garrix-colorful-graphic-printed-t-shirt-203045-1709214893-1.jpg']"
      ]
     },
     "execution_count": 92,
     "metadata": {},
     "output_type": "execute_result"
    }
   ],
   "source": [
    "image_url=[]\n",
    "names=soup.find_all('img',class_='productImgTag')\n",
    "for i in names:\n",
    "    image_url.append(i['src'])\n",
    "image_url"
   ]
  },
  {
   "cell_type": "code",
   "execution_count": 93,
   "id": "b8686b2f",
   "metadata": {},
   "outputs": [
    {
     "data": {
      "text/plain": [
       "10"
      ]
     },
     "execution_count": 93,
     "metadata": {},
     "output_type": "execute_result"
    }
   ],
   "source": [
    "len(image_url)"
   ]
  },
  {
   "cell_type": "code",
   "execution_count": 98,
   "id": "48afbde7",
   "metadata": {},
   "outputs": [
    {
     "name": "stdout",
     "output_type": "stream",
     "text": [
      "['₹399', '₹444', '₹499', '₹399', '₹499', '₹449', '₹354', '₹349', '₹399', '₹699']\n"
     ]
    }
   ],
   "source": [
    "price=[]\n",
    "name=soup.find_all('div',class_='discountedPriceText clr-p-black false')\n",
    "for i in name:\n",
    "    names=i.text\n",
    "    price.append(names)\n",
    "price=price[0:24]\n",
    "print(price)\n",
    "\n"
   ]
  },
  {
   "cell_type": "code",
   "execution_count": 100,
   "id": "650bf0c4",
   "metadata": {},
   "outputs": [
    {
     "data": {
      "text/plain": [
       "10"
      ]
     },
     "execution_count": 100,
     "metadata": {},
     "output_type": "execute_result"
    }
   ],
   "source": [
    "len(price)"
   ]
  },
  {
   "cell_type": "code",
   "execution_count": 101,
   "id": "185979c2",
   "metadata": {},
   "outputs": [
    {
     "name": "stdout",
     "output_type": "stream",
     "text": [
      "                                        Product Name  \\\n",
      "0            Men's Black Batman Outline Logo T-shirt   \n",
      "1  Men's Blue Rider Vroom Panda Graphic Printed T...   \n",
      "2                                Men's Black T-shirt   \n",
      "3                    Women's Black Boyfriend T-shirt   \n",
      "4                                Men's White T-shirt   \n",
      "5                                Men's White T-shirt   \n",
      "6   Men's Black Iron Man of War Graphic Printed Vest   \n",
      "7                      Women's Red Boyfriend T-shirt   \n",
      "8                 Men's White Marvel Printed T-shirt   \n",
      "9  Men's Black Martin Garrix Colorful Graphic Pri...   \n",
      "\n",
      "                                           Image Url Price  \n",
      "0  https://images.bewakoof.com/t640/men-s-black-b...  ₹399  \n",
      "1  https://images.bewakoof.com/t640/men-s-blue-ri...  ₹444  \n",
      "2  https://images.bewakoof.com/t640/men-s-black-t...  ₹499  \n",
      "3  https://images.bewakoof.com/t640/women-s-black...  ₹399  \n",
      "4  https://images.bewakoof.com/t640/men-s-white-t...  ₹499  \n",
      "5  https://images.bewakoof.com/t640/men-s-white-t...  ₹449  \n",
      "6  https://images.bewakoof.com/t640/iron-man-of-w...  ₹354  \n",
      "7  https://images.bewakoof.com/t640/women-s-red-b...  ₹349  \n",
      "8  https://images.bewakoof.com/t640/men-s-white-m...  ₹399  \n",
      "9  https://images.bewakoof.com/t640/men-s-black-m...  ₹699  \n"
     ]
    }
   ],
   "source": [
    "df=pd.DataFrame({'Product Name':p_name,'Image Url':image_url,'Price':price})\n",
    "print(df)"
   ]
  },
  {
   "cell_type": "markdown",
   "id": "175d393c",
   "metadata": {},
   "source": [
    "# 6. Python Program to scrap Title, Author, date from the below mentioned website"
   ]
  },
  {
   "cell_type": "code",
   "execution_count": 147,
   "id": "32b2ea8a",
   "metadata": {},
   "outputs": [
    {
     "data": {
      "text/plain": [
       "<Response [200]>"
      ]
     },
     "execution_count": 147,
     "metadata": {},
     "output_type": "execute_result"
    }
   ],
   "source": [
    "url=\"https://www.keaipublishing.com/en/journals/artificial-intelligence-in-agriculture/most-downloaded-articles/\"\n",
    "page=requests.get(url)\n",
    "page"
   ]
  },
  {
   "cell_type": "code",
   "execution_count": 153,
   "id": "b9e3daeb",
   "metadata": {},
   "outputs": [],
   "source": [
    "soup=BeautifulSoup(page.content)\n",
    "soup"
   ]
  },
  {
   "cell_type": "code",
   "execution_count": 149,
   "id": "7f919aa0",
   "metadata": {},
   "outputs": [
    {
     "name": "stdout",
     "output_type": "stream",
     "text": [
      "['\\n\\r\\n                    Implementation of artificial intelligence in agriculture for optimisation of irrigation and application of pesticides and herbicides\\r\\n                \\n', '\\n\\r\\n                    Review of agricultural IoT technology\\r\\n                \\n', '\\n\\r\\n                    A comprehensive review on automation in agriculture using artificial intelligence\\r\\n                \\n', '\\n\\r\\n                    Automation and digitization of agriculture using artificial intelligence and internet of things\\r\\n                \\n', '\\n\\r\\n                    Applications of electronic nose (e-nose) and electronic tongue (e-tongue) in food quality-related properties determination: A review\\r\\n                \\n', '\\n\\r\\n                    Fruit ripeness classification: A survey\\r\\n                \\n', '\\n\\r\\n                    A review of imaging techniques for plant disease detection\\r\\n                \\n', '\\n\\r\\n                    Deep learning based computer vision approaches for smart agricultural applications\\r\\n                \\n', '\\n\\r\\n                    Comparison of CNN-based deep learning architectures for rice diseases classification\\r\\n                \\n', '\\n\\r\\n                    Transfer Learning for Multi-Crop Leaf Disease Image Classification using Convolutional Neural Network VGG\\r\\n                \\n', '\\n\\r\\n                    Plant disease detection using hybrid model based on convolutional autoencoder and convolutional neural network\\r\\n                \\n', '\\n\\r\\n                    Machine learning in nutrient management: A review\\r\\n                \\n', '\\n\\r\\n                    DeepRice: A deep learning and deep feature based classification of Rice leaf disease subtypes\\r\\n                \\n', '\\n\\r\\n                    How artificial intelligence uses to achieve the agriculture sustainability: Systematic review\\r\\n                \\n', '\\n\\r\\n                    Machine learning for weed–plant discrimination in agriculture 5.0: An in-depth review\\r\\n                \\n', '\\n\\r\\n                    Examining the interplay between artificial intelligence and the agri-food industry\\r\\n                \\n', '\\n\\r\\n                    Deep convolutional neural network models for weed detection in polyhouse grown bell peppers\\r\\n                \\n', '\\n\\r\\n                    A systematic review of machine learning techniques for cattle identification: Datasets, methods and future directions\\r\\n                \\n', '\\n\\r\\n                    A review on computer vision systems in monitoring of poultry: A welfare perspective\\r\\n                \\n', '\\n\\r\\n                    Crop diagnostic system: A robust disease detection and management system for leafy green crops grown in an aquaponics facility\\r\\n                \\n', '\\n\\r\\n                    Artificial cognition for applications in smart agriculture: A comprehensive review\\r\\n                \\n', '\\n\\r\\n                    Explainable artificial intelligence and interpretable machine learning for agricultural data analysis\\r\\n                \\n', '\\n\\r\\n                    Blockchain: A new safeguard for agri-foods\\r\\n                \\n', '\\n\\r\\n                    Study on body temperature detection of pig based on infrared technology: A review\\r\\n                \\n', '\\n\\r\\n                    Vision Intelligence for Smart Sheep Farming: Applying Ensemble Learning to Detect Sheep Breeds\\r\\n                \\n']\n"
     ]
    },
    {
     "data": {
      "text/plain": [
       "25"
      ]
     },
     "execution_count": 149,
     "metadata": {},
     "output_type": "execute_result"
    }
   ],
   "source": [
    "p_name=[]\n",
    "names=soup.find_all('h2',class_='h5 article-title')\n",
    "for i in names:\n",
    "    names=i.text\n",
    "    p_name.append(names)\n",
    "print(p_name)\n",
    "len(p_name)"
   ]
  },
  {
   "cell_type": "code",
   "execution_count": 150,
   "id": "446c736f",
   "metadata": {},
   "outputs": [
    {
     "name": "stdout",
     "output_type": "stream",
     "text": [
      "[' Tanha Talaviya |  Dhara Shah |  Nivedita Patel |  Hiteshri Yagnik |  Manan Shah', ' Jinyuan Xu |  Baoxing Gu |  Guangzhao Tian', ' Kirtan Jha |  Aalap Doshi |  Poojan Patel |  Manan Shah', ' A. Subeesh |  C.R. Mehta', ' Juzhong Tan |  Jie Xu', ' Matteo Rizzo |  Matteo Marcuzzo |  Alessandro Zangari |  Andrea Gasparetto |  Andrea Albarelli', ' Vijai Singh |  Namita Sharma |  Shikha Singh', ' V.G. Dhanya |  A. Subeesh |  N.L. Kushwaha |  Dinesh Kumar Vishwakarma |  T. Nagesh Kumar |  G. Ritika |  A.N. Singh', ' Md Taimur Ahad |  Yan Li |  Bo Song |  Touhid Bhuiyan', ' Ananda S. Paymode |  Vandana B. Malode', ' Punam Bedi |  Pushkar Gole', ' Oumnia Ennaji |  Leonardus Vergütz |  Achraf El Allali', ' P. Isaac Ritharson |  Kumudha Raimond |  X. Anitha Mary |  Jennifer Eunice Robert |  Andrew J', ' Vilani Sachithra |  L.D.C.S. Subhashini', ' Filbert H. Juwono |  W.K. Wong |  Seema Verma |  Neha Shekhawat |  Basil Andy Lease |  Catur Apriono', ' Abderahman Rejeb |  Karim Rejeb |  Suhaiza Zailani |  John G. Keogh |  Andrea Appolloni', ' A. Subeesh |  S. Bhole |  K. Singh |  N.S. Chandel |  Y.A. Rajwade |  K.V.R. Rao |  S.P. Kumar |  D. Jat', ' Md Ekramul Hossain |  Muhammad Ashad Kabir |  Lihong Zheng |  Dave L. Swain |  Shawn McGrath |  Jonathan Medway', ' Cedric Okinda |  Innocent Nyalala |  Tchalla Korohou |  Celestine Okinda |  Jintao Wang |  Tracy Achieng |  Patrick Wamalwa |  Tai Mang |  Mingxia Shen', ' R. Abbasi |  P. Martinez |  R. Ahmad', ' Misbah Pathan |  Nivedita Patel |  Hiteshri Yagnik |  Manan Shah', ' Masahiro Ryo', ' Jie Xu |  Shuang Guo |  David Xie |  Yaxuan Yan', ' Zaiqin Zhang |  Hang Zhang |  Tonghai Liu', ' Galib Muhammad Shahriar Himel |  Md. Masudul Islam |  Mijanur Rahaman']\n"
     ]
    }
   ],
   "source": [
    "author=[]\n",
    "name=soup.find_all('p',class_='article-authors')\n",
    "for i in name:\n",
    "    names=i.text\n",
    "    author.append(names)\n",
    "author=author[0:50]\n",
    "print(author)"
   ]
  },
  {
   "cell_type": "code",
   "execution_count": 151,
   "id": "aa74e745",
   "metadata": {},
   "outputs": [
    {
     "name": "stdout",
     "output_type": "stream",
     "text": [
      "['2020', '2022', 'June 2019', '2021', '2020', 'March 2023', '2020', '2022', 'September 2023', '2022', '2021', 'September 2023', 'March 2024', 'June 2023', 'December 2023', '2022', '2022', '2022', '2020', 'December 2023', '2020', '2022', '2020', 'March 2019', 'March 2024']\n"
     ]
    }
   ],
   "source": [
    "date=[]\n",
    "name=soup.find_all('p',class_='article-date')\n",
    "for i in name:\n",
    "    names=i.text\n",
    "    date.append(names)\n",
    "date=date[0:50]\n",
    "print(date)"
   ]
  },
  {
   "cell_type": "code",
   "execution_count": 152,
   "id": "701054c9",
   "metadata": {},
   "outputs": [
    {
     "name": "stdout",
     "output_type": "stream",
     "text": [
      "                                                Title  \\\n",
      "0   \\n\\r\\n                    Implementation of ar...   \n",
      "1   \\n\\r\\n                    Review of agricultur...   \n",
      "2   \\n\\r\\n                    A comprehensive revi...   \n",
      "3   \\n\\r\\n                    Automation and digit...   \n",
      "4   \\n\\r\\n                    Applications of elec...   \n",
      "5   \\n\\r\\n                    Fruit ripeness class...   \n",
      "6   \\n\\r\\n                    A review of imaging ...   \n",
      "7   \\n\\r\\n                    Deep learning based ...   \n",
      "8   \\n\\r\\n                    Comparison of CNN-ba...   \n",
      "9   \\n\\r\\n                    Transfer Learning fo...   \n",
      "10  \\n\\r\\n                    Plant disease detect...   \n",
      "11  \\n\\r\\n                    Machine learning in ...   \n",
      "12  \\n\\r\\n                    DeepRice: A deep lea...   \n",
      "13  \\n\\r\\n                    How artificial intel...   \n",
      "14  \\n\\r\\n                    Machine learning for...   \n",
      "15  \\n\\r\\n                    Examining the interp...   \n",
      "16  \\n\\r\\n                    Deep convolutional n...   \n",
      "17  \\n\\r\\n                    A systematic review ...   \n",
      "18  \\n\\r\\n                    A review on computer...   \n",
      "19  \\n\\r\\n                    Crop diagnostic syst...   \n",
      "20  \\n\\r\\n                    Artificial cognition...   \n",
      "21  \\n\\r\\n                    Explainable artifici...   \n",
      "22  \\n\\r\\n                    Blockchain: A new sa...   \n",
      "23  \\n\\r\\n                    Study on body temper...   \n",
      "24  \\n\\r\\n                    Vision Intelligence ...   \n",
      "\n",
      "                                               Author            Date  \n",
      "0    Tanha Talaviya |  Dhara Shah |  Nivedita Pate...            2020  \n",
      "1          Jinyuan Xu |  Baoxing Gu |  Guangzhao Tian            2022  \n",
      "2    Kirtan Jha |  Aalap Doshi |  Poojan Patel |  ...       June 2019  \n",
      "3                            A. Subeesh |  C.R. Mehta            2021  \n",
      "4                               Juzhong Tan |  Jie Xu            2020  \n",
      "5    Matteo Rizzo |  Matteo Marcuzzo |  Alessandro...      March 2023  \n",
      "6        Vijai Singh |  Namita Sharma |  Shikha Singh            2020  \n",
      "7    V.G. Dhanya |  A. Subeesh |  N.L. Kushwaha | ...            2022  \n",
      "8    Md Taimur Ahad |  Yan Li |  Bo Song |  Touhid...  September 2023  \n",
      "9              Ananda S. Paymode |  Vandana B. Malode            2022  \n",
      "10                         Punam Bedi |  Pushkar Gole            2021  \n",
      "11   Oumnia Ennaji |  Leonardus Vergütz |  Achraf ...  September 2023  \n",
      "12   P. Isaac Ritharson |  Kumudha Raimond |  X. A...      March 2024  \n",
      "13            Vilani Sachithra |  L.D.C.S. Subhashini       June 2023  \n",
      "14   Filbert H. Juwono |  W.K. Wong |  Seema Verma...   December 2023  \n",
      "15   Abderahman Rejeb |  Karim Rejeb |  Suhaiza Za...            2022  \n",
      "16   A. Subeesh |  S. Bhole |  K. Singh |  N.S. Ch...            2022  \n",
      "17   Md Ekramul Hossain |  Muhammad Ashad Kabir | ...            2022  \n",
      "18   Cedric Okinda |  Innocent Nyalala |  Tchalla ...            2020  \n",
      "19               R. Abbasi |  P. Martinez |  R. Ahmad   December 2023  \n",
      "20   Misbah Pathan |  Nivedita Patel |  Hiteshri Y...            2020  \n",
      "21                                       Masahiro Ryo            2022  \n",
      "22    Jie Xu |  Shuang Guo |  David Xie |  Yaxuan Yan            2020  \n",
      "23          Zaiqin Zhang |  Hang Zhang |  Tonghai Liu      March 2019  \n",
      "24   Galib Muhammad Shahriar Himel |  Md. Masudul ...      March 2024  \n"
     ]
    }
   ],
   "source": [
    "df=pd.DataFrame({'Title':p_name,'Author':author,'Date':date})\n",
    "print(df)"
   ]
  }
 ],
 "metadata": {
  "kernelspec": {
   "display_name": "Python 3 (ipykernel)",
   "language": "python",
   "name": "python3"
  },
  "language_info": {
   "codemirror_mode": {
    "name": "ipython",
    "version": 3
   },
   "file_extension": ".py",
   "mimetype": "text/x-python",
   "name": "python",
   "nbconvert_exporter": "python",
   "pygments_lexer": "ipython3",
   "version": "3.9.13"
  }
 },
 "nbformat": 4,
 "nbformat_minor": 5
}
