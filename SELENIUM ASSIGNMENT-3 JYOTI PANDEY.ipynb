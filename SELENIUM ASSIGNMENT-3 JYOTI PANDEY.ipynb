{
 "cells": [
  {
   "cell_type": "markdown",
   "id": "55376452",
   "metadata": {},
   "source": [
    "# QUESTION 1"
   ]
  },
  {
   "cell_type": "code",
   "execution_count": 1,
   "id": "f3d0189b",
   "metadata": {},
   "outputs": [
    {
     "name": "stdout",
     "output_type": "stream",
     "text": [
      "Requirement already satisfied: selenium in ./opt/anaconda3/lib/python3.9/site-packages (4.18.1)\n",
      "Requirement already satisfied: typing_extensions>=4.9.0 in ./opt/anaconda3/lib/python3.9/site-packages (from selenium) (4.10.0)\n",
      "Requirement already satisfied: trio-websocket~=0.9 in ./opt/anaconda3/lib/python3.9/site-packages (from selenium) (0.11.1)\n",
      "Requirement already satisfied: certifi>=2021.10.8 in ./opt/anaconda3/lib/python3.9/site-packages (from selenium) (2022.9.24)\n",
      "Requirement already satisfied: trio~=0.17 in ./opt/anaconda3/lib/python3.9/site-packages (from selenium) (0.24.0)\n",
      "Requirement already satisfied: urllib3[socks]<3,>=1.26 in ./opt/anaconda3/lib/python3.9/site-packages (from selenium) (1.26.11)\n",
      "Requirement already satisfied: exceptiongroup in ./opt/anaconda3/lib/python3.9/site-packages (from trio~=0.17->selenium) (1.2.0)\n",
      "Requirement already satisfied: outcome in ./opt/anaconda3/lib/python3.9/site-packages (from trio~=0.17->selenium) (1.3.0.post0)\n",
      "Requirement already satisfied: sortedcontainers in ./opt/anaconda3/lib/python3.9/site-packages (from trio~=0.17->selenium) (2.4.0)\n",
      "Requirement already satisfied: sniffio>=1.3.0 in ./opt/anaconda3/lib/python3.9/site-packages (from trio~=0.17->selenium) (1.3.1)\n",
      "Requirement already satisfied: idna in ./opt/anaconda3/lib/python3.9/site-packages (from trio~=0.17->selenium) (3.3)\n",
      "Requirement already satisfied: attrs>=20.1.0 in ./opt/anaconda3/lib/python3.9/site-packages (from trio~=0.17->selenium) (21.4.0)\n",
      "Requirement already satisfied: wsproto>=0.14 in ./opt/anaconda3/lib/python3.9/site-packages (from trio-websocket~=0.9->selenium) (1.2.0)\n",
      "Requirement already satisfied: PySocks!=1.5.7,<2.0,>=1.5.6 in ./opt/anaconda3/lib/python3.9/site-packages (from urllib3[socks]<3,>=1.26->selenium) (1.7.1)\n",
      "Requirement already satisfied: h11<1,>=0.9.0 in ./opt/anaconda3/lib/python3.9/site-packages (from wsproto>=0.14->trio-websocket~=0.9->selenium) (0.14.0)\n"
     ]
    }
   ],
   "source": [
    "!pip install selenium"
   ]
  },
  {
   "cell_type": "code",
   "execution_count": 3,
   "id": "a03f2074",
   "metadata": {},
   "outputs": [],
   "source": [
    "import selenium\n",
    "import pandas as pd\n",
    "from selenium import webdriver\n",
    "import warnings\n",
    "warnings.filterwarnings('ignore')\n",
    "from selenium.webdriver.common.by import By\n",
    "import time"
   ]
  },
  {
   "cell_type": "code",
   "execution_count": 389,
   "id": "bcebe94a",
   "metadata": {},
   "outputs": [],
   "source": [
    "driver=webdriver.Chrome()"
   ]
  },
  {
   "cell_type": "code",
   "execution_count": 390,
   "id": "cb441506",
   "metadata": {},
   "outputs": [],
   "source": [
    "driver.get('https://www.amazon.in/')"
   ]
  },
  {
   "cell_type": "code",
   "execution_count": 7,
   "id": "63f92985",
   "metadata": {},
   "outputs": [
    {
     "name": "stdout",
     "output_type": "stream",
     "text": [
      "enter your item: Guitar\n"
     ]
    }
   ],
   "source": [
    "value=input(\"enter your item: \" )"
   ]
  },
  {
   "cell_type": "code",
   "execution_count": 391,
   "id": "c4cc7dc2",
   "metadata": {},
   "outputs": [],
   "source": [
    "designation=driver.find_element(By.XPATH,'/html/body/div[1]/header/div/div[1]/div[2]/div/form/div[2]/div[1]/input')\n",
    "designation.send_keys('Guitar')"
   ]
  },
  {
   "cell_type": "code",
   "execution_count": 392,
   "id": "35d70b02",
   "metadata": {},
   "outputs": [],
   "source": [
    "search=driver.find_element(By.XPATH,'/html/body/div[1]/header/div/div[1]/div[2]/div/form/div[3]/div/span/input')\n",
    "search.click()"
   ]
  },
  {
   "cell_type": "markdown",
   "id": "df4cb0de",
   "metadata": {},
   "source": [
    "# QUESTION 2"
   ]
  },
  {
   "cell_type": "code",
   "execution_count": 393,
   "id": "29f89d03",
   "metadata": {},
   "outputs": [],
   "source": [
    "brand=[]\n",
    "product_name=[]\n",
    "price=[]\n",
    "expected_delivery=[]\n",
    "availability=[]\n",
    "product_url=[]\n"
   ]
  },
  {
   "cell_type": "code",
   "execution_count": 613,
   "id": "d8c60f80",
   "metadata": {},
   "outputs": [],
   "source": [
    "for page in range(0,3):\n",
    "    titles=driver.find_elements(By.XPATH,'//a[@class=\"a-link-normal s-underline-text s-underline-link-text s-link-style a-text-normal\"]')\n",
    "    for i in titles:\n",
    "        product_url.append(i.get_attribute('href'))\n",
    "        \n",
    "    nxt_button=driver.find_element(By.XPATH,'//a[@class=\"s-pagination-item s-pagination-next s-pagination-button s-pagination-button-accessibility s-pagination-separator\"]')\n",
    "    nxt_button.click()\n",
    "    time.sleep(3)"
   ]
  },
  {
   "cell_type": "code",
   "execution_count": 398,
   "id": "028539f8",
   "metadata": {},
   "outputs": [
    {
     "name": "stdout",
     "output_type": "stream",
     "text": [
      "['https://www.amazon.in/sspa/click?ie=UTF8&spc=MTo3MDYzMzAzNzg4OTAyMDk2OjE3MTI0MDkzNTI6c3BfYXRmOjMwMDAxNTUwODk1NDEzMjo6MDo6&url=%2FKadence-Frontier-Acoustic-Guitar-Strings%2Fdp%2FB01GDZ46AA%2Fref%3Dsr_1_1_sspa%3Fcrid%3D3FLLWWQW5WSSH%26dib%3DeyJ2IjoiMSJ9.fvoRQDrf80B7uH41cX9h5GT9r8u6HvzcsReakfyj5-UNNP8qoOEj9o6il1vcUgshMAxJZS3trpI4DqdiVwzaXUAyESzqQSLfocfVIndpA_Am1wY9dp5ZWBDe7mHhsDugJ9kVautLdRV8Gq-TcGzMRym6fJN0m0PHltxTr2WluntooMMiHqCyKpK1Jnnt-hWbC3kLYZ5ENIih6ls9rIJC813Mq4IJNYY5Ep5bMH-pCXKXe9F4lAC8SMVxB_fszc2oboHPtJlCYtkFVGiX-Z-fflOkPvSPvxZuPmUfliKDLpg.uePZBa-Pio6fp3d9IJDdtRW0WmCbj_zkcSaQnERaR5A%26dib_tag%3Dse%26keywords%3DGuitar%26qid%3D1712409352%26sprefix%3Dguitar%252Caps%252C462%26sr%3D8-1-spons%26sp_csd%3Dd2lkZ2V0TmFtZT1zcF9hdGY%26psc%3D1', 'https://www.amazon.in/sspa/click?ie=UTF8&spc=MTo3MDYzMzAzNzg4OTAyMDk2OjE3MTI0MDkzNTI6c3BfYXRmOjMwMDAxNTUzNzk3OTIzMjo6MDo6&url=%2FKadence-Frontier-Acoustic-Guitar-Strings%2Fdp%2FB078GTJP5Y%2Fref%3Dsr_1_2_sspa%3Fcrid%3D3FLLWWQW5WSSH%26dib%3DeyJ2IjoiMSJ9.fvoRQDrf80B7uH41cX9h5GT9r8u6HvzcsReakfyj5-UNNP8qoOEj9o6il1vcUgshMAxJZS3trpI4DqdiVwzaXUAyESzqQSLfocfVIndpA_Am1wY9dp5ZWBDe7mHhsDugJ9kVautLdRV8Gq-TcGzMRym6fJN0m0PHltxTr2WluntooMMiHqCyKpK1Jnnt-hWbC3kLYZ5ENIih6ls9rIJC813Mq4IJNYY5Ep5bMH-pCXKXe9F4lAC8SMVxB_fszc2oboHPtJlCYtkFVGiX-Z-fflOkPvSPvxZuPmUfliKDLpg.uePZBa-Pio6fp3d9IJDdtRW0WmCbj_zkcSaQnERaR5A%26dib_tag%3Dse%26keywords%3DGuitar%26qid%3D1712409352%26sprefix%3Dguitar%252Caps%252C462%26sr%3D8-2-spons%26sp_csd%3Dd2lkZ2V0TmFtZT1zcF9hdGY%26psc%3D1', 'https://www.amazon.in/sspa/click?ie=UTF8&spc=MTo3MDYzMzAzNzg4OTAyMDk2OjE3MTI0MDkzNTI6c3BfYXRmOjIwMDU3MTkzMDU2MjA0OjowOjo&url=%2FKadence-Slowhand-Premium-Acoustic-Instrument%2Fdp%2FB077SZ667X%2Fref%3Dsr_1_3_sspa%3Fcrid%3D3FLLWWQW5WSSH%26dib%3DeyJ2IjoiMSJ9.fvoRQDrf80B7uH41cX9h5GT9r8u6HvzcsReakfyj5-UNNP8qoOEj9o6il1vcUgshMAxJZS3trpI4DqdiVwzaXUAyESzqQSLfocfVIndpA_Am1wY9dp5ZWBDe7mHhsDugJ9kVautLdRV8Gq-TcGzMRym6fJN0m0PHltxTr2WluntooMMiHqCyKpK1Jnnt-hWbC3kLYZ5ENIih6ls9rIJC813Mq4IJNYY5Ep5bMH-pCXKXe9F4lAC8SMVxB_fszc2oboHPtJlCYtkFVGiX-Z-fflOkPvSPvxZuPmUfliKDLpg.uePZBa-Pio6fp3d9IJDdtRW0WmCbj_zkcSaQnERaR5A%26dib_tag%3Dse%26keywords%3DGuitar%26qid%3D1712409352%26sprefix%3Dguitar%252Caps%252C462%26sr%3D8-3-spons%26sp_csd%3Dd2lkZ2V0TmFtZT1zcF9hdGY%26psc%3D1', 'https://www.amazon.in/sspa/click?ie=UTF8&spc=MTo3MDYzMzAzNzg4OTAyMDk2OjE3MTI0MDkzNTI6c3BfYXRmOjIwMDU2MTMzMTk0Nzk4OjowOjo&url=%2FHenrix-40-Inch-Cutaway-Acoustic-Guitar%2Fdp%2FB0B46MGFXH%2Fref%3Dsr_1_4_sspa%3Fcrid%3D3FLLWWQW5WSSH%26dib%3DeyJ2IjoiMSJ9.fvoRQDrf80B7uH41cX9h5GT9r8u6HvzcsReakfyj5-UNNP8qoOEj9o6il1vcUgshMAxJZS3trpI4DqdiVwzaXUAyESzqQSLfocfVIndpA_Am1wY9dp5ZWBDe7mHhsDugJ9kVautLdRV8Gq-TcGzMRym6fJN0m0PHltxTr2WluntooMMiHqCyKpK1Jnnt-hWbC3kLYZ5ENIih6ls9rIJC813Mq4IJNYY5Ep5bMH-pCXKXe9F4lAC8SMVxB_fszc2oboHPtJlCYtkFVGiX-Z-fflOkPvSPvxZuPmUfliKDLpg.uePZBa-Pio6fp3d9IJDdtRW0WmCbj_zkcSaQnERaR5A%26dib_tag%3Dse%26keywords%3DGuitar%26qid%3D1712409352%26sprefix%3Dguitar%252Caps%252C462%26sr%3D8-4-spons%26sp_csd%3Dd2lkZ2V0TmFtZT1zcF9hdGY%26psc%3D1', 'https://www.amazon.in/Acoustic-Cutaway-RDS-Strings-Sunburst/dp/B076QGY91P/ref=sr_1_5?crid=3FLLWWQW5WSSH&dib=eyJ2IjoiMSJ9.fvoRQDrf80B7uH41cX9h5GT9r8u6HvzcsReakfyj5-UNNP8qoOEj9o6il1vcUgshMAxJZS3trpI4DqdiVwzaXUAyESzqQSLfocfVIndpA_Am1wY9dp5ZWBDe7mHhsDugJ9kVautLdRV8Gq-TcGzMRym6fJN0m0PHltxTr2WluntooMMiHqCyKpK1Jnnt-hWbC3kLYZ5ENIih6ls9rIJC813Mq4IJNYY5Ep5bMH-pCXKXe9F4lAC8SMVxB_fszc2oboHPtJlCYtkFVGiX-Z-fflOkPvSPvxZuPmUfliKDLpg.uePZBa-Pio6fp3d9IJDdtRW0WmCbj_zkcSaQnERaR5A&dib_tag=se&keywords=Guitar&qid=1712409352&sprefix=guitar%2Caps%2C462&sr=8-5', 'https://www.amazon.in/Yamaha-F280-Acoustic-Guitar-Natural/dp/B08317Y4VP/ref=sr_1_6?crid=3FLLWWQW5WSSH&dib=eyJ2IjoiMSJ9.fvoRQDrf80B7uH41cX9h5GT9r8u6HvzcsReakfyj5-UNNP8qoOEj9o6il1vcUgshMAxJZS3trpI4DqdiVwzaXUAyESzqQSLfocfVIndpA_Am1wY9dp5ZWBDe7mHhsDugJ9kVautLdRV8Gq-TcGzMRym6fJN0m0PHltxTr2WluntooMMiHqCyKpK1Jnnt-hWbC3kLYZ5ENIih6ls9rIJC813Mq4IJNYY5Ep5bMH-pCXKXe9F4lAC8SMVxB_fszc2oboHPtJlCYtkFVGiX-Z-fflOkPvSPvxZuPmUfliKDLpg.uePZBa-Pio6fp3d9IJDdtRW0WmCbj_zkcSaQnERaR5A&dib_tag=se&keywords=Guitar&qid=1712409352&sprefix=guitar%2Caps%2C462&sr=8-6', 'https://www.amazon.in/Juarez-Acoustic-Cutaway-038C-Strings/dp/B017NPCSLI/ref=sr_1_7?crid=3FLLWWQW5WSSH&dib=eyJ2IjoiMSJ9.fvoRQDrf80B7uH41cX9h5GT9r8u6HvzcsReakfyj5-UNNP8qoOEj9o6il1vcUgshMAxJZS3trpI4DqdiVwzaXUAyESzqQSLfocfVIndpA_Am1wY9dp5ZWBDe7mHhsDugJ9kVautLdRV8Gq-TcGzMRym6fJN0m0PHltxTr2WluntooMMiHqCyKpK1Jnnt-hWbC3kLYZ5ENIih6ls9rIJC813Mq4IJNYY5Ep5bMH-pCXKXe9F4lAC8SMVxB_fszc2oboHPtJlCYtkFVGiX-Z-fflOkPvSPvxZuPmUfliKDLpg.uePZBa-Pio6fp3d9IJDdtRW0WmCbj_zkcSaQnERaR5A&dib_tag=se&keywords=Guitar&qid=1712409352&sprefix=guitar%2Caps%2C462&sr=8-7', 'https://aax-eu.amazon.in/x/c/RGfl5dPEJ726y9n2BLTgxgsAAAGOs40YywMAAAH2AQBvbm9fdHhuX2JpZDIgICBvbm9fdHhuX2ltcDEgICAZh1Qs/https://www.amazon.in/Radhe-Flutes-Natural-Bansuri-Middle/dp/B07T35ZBHB/ref=sxin_15_sbv_search_btf?content-id=amzn1.sym.e6c39f44-ac79-4da2-8eb5-110abccd93e3%3Aamzn1.sym.e6c39f44-ac79-4da2-8eb5-110abccd93e3&crid=3FLLWWQW5WSSH&cv_ct_cx=Guitar&dib=eyJ2IjoiMSJ9.RkxRkdLFro_AAXvr06nUqw.aJd9548IaYPnTCV6wKqcHwZWmhf9oHgTkTZNGwRxG0Q&dib_tag=se&keywords=Guitar&pd_rd_i=B07T35ZBHB&pd_rd_r=31c0a690-e2b9-47b9-a572-a210dced8ccb&pd_rd_w=YXFVs&pd_rd_wg=LSPwB&pf_rd_p=e6c39f44-ac79-4da2-8eb5-110abccd93e3&pf_rd_r=RR3KKDPKWK43N17WPZY6&qid=1712409352&sbo=RZvfv%2F%2FHxDF%2BO5021pAnSA%3D%3D&sprefix=guitar%2Caps%2C462&sr=1-1-b614a050-8d70-4320-9c19-cc457ab2a351', 'https://www.amazon.in/Yamaha-Classical-Guitar-C40-02/dp/B003UGCUFE/ref=sr_1_8?crid=3FLLWWQW5WSSH&dib=eyJ2IjoiMSJ9.fvoRQDrf80B7uH41cX9h5GT9r8u6HvzcsReakfyj5-UNNP8qoOEj9o6il1vcUgshMAxJZS3trpI4DqdiVwzaXUAyESzqQSLfocfVIndpA_Am1wY9dp5ZWBDe7mHhsDugJ9kVautLdRV8Gq-TcGzMRym6fJN0m0PHltxTr2WluntooMMiHqCyKpK1Jnnt-hWbC3kLYZ5ENIih6ls9rIJC813Mq4IJNYY5Ep5bMH-pCXKXe9F4lAC8SMVxB_fszc2oboHPtJlCYtkFVGiX-Z-fflOkPvSPvxZuPmUfliKDLpg.uePZBa-Pio6fp3d9IJDdtRW0WmCbj_zkcSaQnERaR5A&dib_tag=se&keywords=Guitar&qid=1712409352&sprefix=guitar%2Caps%2C462&sr=8-8', 'https://www.amazon.in/JUAREZ-JRZ38C-Handed-Acoustic-Strings/dp/B01FYYTDX6/ref=sr_1_9?crid=3FLLWWQW5WSSH&dib=eyJ2IjoiMSJ9.fvoRQDrf80B7uH41cX9h5GT9r8u6HvzcsReakfyj5-UNNP8qoOEj9o6il1vcUgshMAxJZS3trpI4DqdiVwzaXUAyESzqQSLfocfVIndpA_Am1wY9dp5ZWBDe7mHhsDugJ9kVautLdRV8Gq-TcGzMRym6fJN0m0PHltxTr2WluntooMMiHqCyKpK1Jnnt-hWbC3kLYZ5ENIih6ls9rIJC813Mq4IJNYY5Ep5bMH-pCXKXe9F4lAC8SMVxB_fszc2oboHPtJlCYtkFVGiX-Z-fflOkPvSPvxZuPmUfliKDLpg.uePZBa-Pio6fp3d9IJDdtRW0WmCbj_zkcSaQnERaR5A&dib_tag=se&keywords=Guitar&qid=1712409352&sprefix=guitar%2Caps%2C462&sr=8-9', 'https://www.amazon.in/Yamaha-Acoustic-Guitar-Tobacco-Sunburst/dp/B08VXR74Q2/ref=sr_1_10?crid=3FLLWWQW5WSSH&dib=eyJ2IjoiMSJ9.fvoRQDrf80B7uH41cX9h5GT9r8u6HvzcsReakfyj5-UNNP8qoOEj9o6il1vcUgshMAxJZS3trpI4DqdiVwzaXUAyESzqQSLfocfVIndpA_Am1wY9dp5ZWBDe7mHhsDugJ9kVautLdRV8Gq-TcGzMRym6fJN0m0PHltxTr2WluntooMMiHqCyKpK1Jnnt-hWbC3kLYZ5ENIih6ls9rIJC813Mq4IJNYY5Ep5bMH-pCXKXe9F4lAC8SMVxB_fszc2oboHPtJlCYtkFVGiX-Z-fflOkPvSPvxZuPmUfliKDLpg.uePZBa-Pio6fp3d9IJDdtRW0WmCbj_zkcSaQnERaR5A&dib_tag=se&keywords=Guitar&qid=1712409352&sprefix=guitar%2Caps%2C462&sr=8-10', 'https://www.amazon.in/Ju%C3%A2rez-Acoustic-Guitar-Cutaway-Strings/dp/B0BCQNLXVM/ref=sr_1_11?crid=3FLLWWQW5WSSH&dib=eyJ2IjoiMSJ9.fvoRQDrf80B7uH41cX9h5GT9r8u6HvzcsReakfyj5-UNNP8qoOEj9o6il1vcUgshMAxJZS3trpI4DqdiVwzaXUAyESzqQSLfocfVIndpA_Am1wY9dp5ZWBDe7mHhsDugJ9kVautLdRV8Gq-TcGzMRym6fJN0m0PHltxTr2WluntooMMiHqCyKpK1Jnnt-hWbC3kLYZ5ENIih6ls9rIJC813Mq4IJNYY5Ep5bMH-pCXKXe9F4lAC8SMVxB_fszc2oboHPtJlCYtkFVGiX-Z-fflOkPvSPvxZuPmUfliKDLpg.uePZBa-Pio6fp3d9IJDdtRW0WmCbj_zkcSaQnERaR5A&dib_tag=se&keywords=Guitar&qid=1712409352&sprefix=guitar%2Caps%2C462&sr=8-11', 'https://www.amazon.in/Intern-INT-38C-Acoustic-Guitar-Black/dp/B073B6TQQY/ref=sr_1_12?crid=3FLLWWQW5WSSH&dib=eyJ2IjoiMSJ9.fvoRQDrf80B7uH41cX9h5GT9r8u6HvzcsReakfyj5-UNNP8qoOEj9o6il1vcUgshMAxJZS3trpI4DqdiVwzaXUAyESzqQSLfocfVIndpA_Am1wY9dp5ZWBDe7mHhsDugJ9kVautLdRV8Gq-TcGzMRym6fJN0m0PHltxTr2WluntooMMiHqCyKpK1Jnnt-hWbC3kLYZ5ENIih6ls9rIJC813Mq4IJNYY5Ep5bMH-pCXKXe9F4lAC8SMVxB_fszc2oboHPtJlCYtkFVGiX-Z-fflOkPvSPvxZuPmUfliKDLpg.uePZBa-Pio6fp3d9IJDdtRW0WmCbj_zkcSaQnERaR5A&dib_tag=se&keywords=Guitar&qid=1712409352&sprefix=guitar%2Caps%2C462&sr=8-12', 'https://www.amazon.in/Yamaha-F310-6-Strings-Acoustic-Natural/dp/B000RVYW7E/ref=sr_1_13?crid=3FLLWWQW5WSSH&dib=eyJ2IjoiMSJ9.fvoRQDrf80B7uH41cX9h5GT9r8u6HvzcsReakfyj5-UNNP8qoOEj9o6il1vcUgshMAxJZS3trpI4DqdiVwzaXUAyESzqQSLfocfVIndpA_Am1wY9dp5ZWBDe7mHhsDugJ9kVautLdRV8Gq-TcGzMRym6fJN0m0PHltxTr2WluntooMMiHqCyKpK1Jnnt-hWbC3kLYZ5ENIih6ls9rIJC813Mq4IJNYY5Ep5bMH-pCXKXe9F4lAC8SMVxB_fszc2oboHPtJlCYtkFVGiX-Z-fflOkPvSPvxZuPmUfliKDLpg.uePZBa-Pio6fp3d9IJDdtRW0WmCbj_zkcSaQnERaR5A&dib_tag=se&keywords=Guitar&qid=1712409352&sprefix=guitar%2Caps%2C462&sr=8-13', 'https://www.amazon.in/Henrix-Acoustic-Guitar-Die-cast-Dual-action/dp/B07VNDW6QF/ref=sr_1_14?crid=3FLLWWQW5WSSH&dib=eyJ2IjoiMSJ9.fvoRQDrf80B7uH41cX9h5GT9r8u6HvzcsReakfyj5-UNNP8qoOEj9o6il1vcUgshMAxJZS3trpI4DqdiVwzaXUAyESzqQSLfocfVIndpA_Am1wY9dp5ZWBDe7mHhsDugJ9kVautLdRV8Gq-TcGzMRym6fJN0m0PHltxTr2WluntooMMiHqCyKpK1Jnnt-hWbC3kLYZ5ENIih6ls9rIJC813Mq4IJNYY5Ep5bMH-pCXKXe9F4lAC8SMVxB_fszc2oboHPtJlCYtkFVGiX-Z-fflOkPvSPvxZuPmUfliKDLpg.uePZBa-Pio6fp3d9IJDdtRW0WmCbj_zkcSaQnERaR5A&dib_tag=se&keywords=Guitar&qid=1712409352&sprefix=guitar%2Caps%2C462&sr=8-14', 'https://www.amazon.in/JUAREZ-JRZ38C-Acoustic-Sunburst-Strings/dp/B01FYYTDS6/ref=sr_1_15?crid=3FLLWWQW5WSSH&dib=eyJ2IjoiMSJ9.fvoRQDrf80B7uH41cX9h5GT9r8u6HvzcsReakfyj5-UNNP8qoOEj9o6il1vcUgshMAxJZS3trpI4DqdiVwzaXUAyESzqQSLfocfVIndpA_Am1wY9dp5ZWBDe7mHhsDugJ9kVautLdRV8Gq-TcGzMRym6fJN0m0PHltxTr2WluntooMMiHqCyKpK1Jnnt-hWbC3kLYZ5ENIih6ls9rIJC813Mq4IJNYY5Ep5bMH-pCXKXe9F4lAC8SMVxB_fszc2oboHPtJlCYtkFVGiX-Z-fflOkPvSPvxZuPmUfliKDLpg.uePZBa-Pio6fp3d9IJDdtRW0WmCbj_zkcSaQnERaR5A&dib_tag=se&keywords=Guitar&qid=1712409352&sprefix=guitar%2Caps%2C462&sr=8-15', 'https://www.amazon.in/Kadence-Frontier-Acoustic-Wihtout-strings/dp/B08PKJGRJB/ref=sr_1_16?crid=3FLLWWQW5WSSH&dib=eyJ2IjoiMSJ9.fvoRQDrf80B7uH41cX9h5GT9r8u6HvzcsReakfyj5-UNNP8qoOEj9o6il1vcUgshMAxJZS3trpI4DqdiVwzaXUAyESzqQSLfocfVIndpA_Am1wY9dp5ZWBDe7mHhsDugJ9kVautLdRV8Gq-TcGzMRym6fJN0m0PHltxTr2WluntooMMiHqCyKpK1Jnnt-hWbC3kLYZ5ENIih6ls9rIJC813Mq4IJNYY5Ep5bMH-pCXKXe9F4lAC8SMVxB_fszc2oboHPtJlCYtkFVGiX-Z-fflOkPvSPvxZuPmUfliKDLpg.uePZBa-Pio6fp3d9IJDdtRW0WmCbj_zkcSaQnERaR5A&dib_tag=se&keywords=Guitar&qid=1712409352&sprefix=guitar%2Caps%2C462&sr=8-16', 'https://www.amazon.in/JUAREZ-JRZ38C-Acoustic-Sunburst-Strings/dp/B01FYYTDTU/ref=sr_1_17?crid=3FLLWWQW5WSSH&dib=eyJ2IjoiMSJ9.fvoRQDrf80B7uH41cX9h5GT9r8u6HvzcsReakfyj5-UNNP8qoOEj9o6il1vcUgshMAxJZS3trpI4DqdiVwzaXUAyESzqQSLfocfVIndpA_Am1wY9dp5ZWBDe7mHhsDugJ9kVautLdRV8Gq-TcGzMRym6fJN0m0PHltxTr2WluntooMMiHqCyKpK1Jnnt-hWbC3kLYZ5ENIih6ls9rIJC813Mq4IJNYY5Ep5bMH-pCXKXe9F4lAC8SMVxB_fszc2oboHPtJlCYtkFVGiX-Z-fflOkPvSPvxZuPmUfliKDLpg.uePZBa-Pio6fp3d9IJDdtRW0WmCbj_zkcSaQnERaR5A&dib_tag=se&keywords=Guitar&qid=1712409352&sprefix=guitar%2Caps%2C462&sr=8-17', 'https://www.amazon.in/JRZ38C-VTS-Strings-Acoustic-Cutaway/dp/B072MFLQC9/ref=sr_1_18?crid=3FLLWWQW5WSSH&dib=eyJ2IjoiMSJ9.fvoRQDrf80B7uH41cX9h5GT9r8u6HvzcsReakfyj5-UNNP8qoOEj9o6il1vcUgshMAxJZS3trpI4DqdiVwzaXUAyESzqQSLfocfVIndpA_Am1wY9dp5ZWBDe7mHhsDugJ9kVautLdRV8Gq-TcGzMRym6fJN0m0PHltxTr2WluntooMMiHqCyKpK1Jnnt-hWbC3kLYZ5ENIih6ls9rIJC813Mq4IJNYY5Ep5bMH-pCXKXe9F4lAC8SMVxB_fszc2oboHPtJlCYtkFVGiX-Z-fflOkPvSPvxZuPmUfliKDLpg.uePZBa-Pio6fp3d9IJDdtRW0WmCbj_zkcSaQnERaR5A&dib_tag=se&keywords=Guitar&qid=1712409352&sprefix=guitar%2Caps%2C462&sr=8-18', 'https://www.amazon.in/Medellin-Acoustic-Guitar-learning-course/dp/B0CGRX6ZMF/ref=sr_1_19?crid=3FLLWWQW5WSSH&dib=eyJ2IjoiMSJ9.fvoRQDrf80B7uH41cX9h5GT9r8u6HvzcsReakfyj5-UNNP8qoOEj9o6il1vcUgshMAxJZS3trpI4DqdiVwzaXUAyESzqQSLfocfVIndpA_Am1wY9dp5ZWBDe7mHhsDugJ9kVautLdRV8Gq-TcGzMRym6fJN0m0PHltxTr2WluntooMMiHqCyKpK1Jnnt-hWbC3kLYZ5ENIih6ls9rIJC813Mq4IJNYY5Ep5bMH-pCXKXe9F4lAC8SMVxB_fszc2oboHPtJlCYtkFVGiX-Z-fflOkPvSPvxZuPmUfliKDLpg.uePZBa-Pio6fp3d9IJDdtRW0WmCbj_zkcSaQnERaR5A&dib_tag=se&keywords=Guitar&qid=1712409352&sprefix=guitar%2Caps%2C462&sr=8-19', 'https://www.amazon.in/Intern-Acoustic-Steel-string-plectrums-INT-38C-WH/dp/B09LR94Z2X/ref=sr_1_20?crid=3FLLWWQW5WSSH&dib=eyJ2IjoiMSJ9.fvoRQDrf80B7uH41cX9h5GT9r8u6HvzcsReakfyj5-UNNP8qoOEj9o6il1vcUgshMAxJZS3trpI4DqdiVwzaXUAyESzqQSLfocfVIndpA_Am1wY9dp5ZWBDe7mHhsDugJ9kVautLdRV8Gq-TcGzMRym6fJN0m0PHltxTr2WluntooMMiHqCyKpK1Jnnt-hWbC3kLYZ5ENIih6ls9rIJC813Mq4IJNYY5Ep5bMH-pCXKXe9F4lAC8SMVxB_fszc2oboHPtJlCYtkFVGiX-Z-fflOkPvSPvxZuPmUfliKDLpg.uePZBa-Pio6fp3d9IJDdtRW0WmCbj_zkcSaQnERaR5A&dib_tag=se&keywords=Guitar&qid=1712409352&sprefix=guitar%2Caps%2C462&sr=8-20', 'https://www.amazon.in/sspa/click?ie=UTF8&spc=MTo3MDYzMzAzNzg4OTAyMDk2OjE3MTI0MDkzNTI6c3BfbXRmOjMwMDExODE5OTcyMDAzMjo6MDo6&url=%2FMOCKING-BIRD-Beginners-Instruments-Accessories%2Fdp%2FB0CP24BLFD%2Fref%3Dsr_1_21_sspa%3Fcrid%3D3FLLWWQW5WSSH%26dib%3DeyJ2IjoiMSJ9.fvoRQDrf80B7uH41cX9h5GT9r8u6HvzcsReakfyj5-UNNP8qoOEj9o6il1vcUgshMAxJZS3trpI4DqdiVwzaXUAyESzqQSLfocfVIndpA_Am1wY9dp5ZWBDe7mHhsDugJ9kVautLdRV8Gq-TcGzMRym6fJN0m0PHltxTr2WluntooMMiHqCyKpK1Jnnt-hWbC3kLYZ5ENIih6ls9rIJC813Mq4IJNYY5Ep5bMH-pCXKXe9F4lAC8SMVxB_fszc2oboHPtJlCYtkFVGiX-Z-fflOkPvSPvxZuPmUfliKDLpg.uePZBa-Pio6fp3d9IJDdtRW0WmCbj_zkcSaQnERaR5A%26dib_tag%3Dse%26keywords%3DGuitar%26qid%3D1712409352%26sprefix%3Dguitar%252Caps%252C462%26sr%3D8-21-spons%26sp_csd%3Dd2lkZ2V0TmFtZT1zcF9tdGY%26psc%3D1%26smid%3DA3LV7VTSAWAMKT', 'https://www.amazon.in/sspa/click?ie=UTF8&spc=MTo3MDYzMzAzNzg4OTAyMDk2OjE3MTI0MDkzNTI6c3BfbXRmOjMwMDE0MTgxOTc5MjczMjo6MDo6&url=%2FRichtone-B239C-Natural-cutaway-Acoustic%2Fdp%2FB0CNW9RZ9D%2Fref%3Dsr_1_22_sspa%3Fcrid%3D3FLLWWQW5WSSH%26dib%3DeyJ2IjoiMSJ9.fvoRQDrf80B7uH41cX9h5GT9r8u6HvzcsReakfyj5-UNNP8qoOEj9o6il1vcUgshMAxJZS3trpI4DqdiVwzaXUAyESzqQSLfocfVIndpA_Am1wY9dp5ZWBDe7mHhsDugJ9kVautLdRV8Gq-TcGzMRym6fJN0m0PHltxTr2WluntooMMiHqCyKpK1Jnnt-hWbC3kLYZ5ENIih6ls9rIJC813Mq4IJNYY5Ep5bMH-pCXKXe9F4lAC8SMVxB_fszc2oboHPtJlCYtkFVGiX-Z-fflOkPvSPvxZuPmUfliKDLpg.uePZBa-Pio6fp3d9IJDdtRW0WmCbj_zkcSaQnERaR5A%26dib_tag%3Dse%26keywords%3DGuitar%26qid%3D1712409352%26sprefix%3Dguitar%252Caps%252C462%26sr%3D8-22-spons%26sp_csd%3Dd2lkZ2V0TmFtZT1zcF9tdGY%26psc%3D1', 'https://www.amazon.in/sspa/click?ie=UTF8&spc=MTo3MDYzMzAzNzg4OTAyMDk2OjE3MTI0MDkzNTI6c3BfbXRmOjMwMDEyMzgyODM4MDIzMjo6MDo6&url=%2FTraveller-Acoustic-Guitar-Strings-Polishing%2Fdp%2FB07RK9962M%2Fref%3Dsr_1_23_sspa%3Fcrid%3D3FLLWWQW5WSSH%26dib%3DeyJ2IjoiMSJ9.fvoRQDrf80B7uH41cX9h5GT9r8u6HvzcsReakfyj5-UNNP8qoOEj9o6il1vcUgshMAxJZS3trpI4DqdiVwzaXUAyESzqQSLfocfVIndpA_Am1wY9dp5ZWBDe7mHhsDugJ9kVautLdRV8Gq-TcGzMRym6fJN0m0PHltxTr2WluntooMMiHqCyKpK1Jnnt-hWbC3kLYZ5ENIih6ls9rIJC813Mq4IJNYY5Ep5bMH-pCXKXe9F4lAC8SMVxB_fszc2oboHPtJlCYtkFVGiX-Z-fflOkPvSPvxZuPmUfliKDLpg.uePZBa-Pio6fp3d9IJDdtRW0WmCbj_zkcSaQnERaR5A%26dib_tag%3Dse%26keywords%3DGuitar%26qid%3D1712409352%26sprefix%3Dguitar%252Caps%252C462%26sr%3D8-23-spons%26sp_csd%3Dd2lkZ2V0TmFtZT1zcF9tdGY%26psc%3D1', 'https://www.amazon.in/sspa/click?ie=UTF8&spc=MTo3MDYzMzAzNzg4OTAyMDk2OjE3MTI0MDkzNTI6c3BfbXRmOjIwMDkyNjI0MDIxNTk4OjowOjo&url=%2FDreadnought-Acoustic-Gig-Bag-Strings-Polishing%2Fdp%2FB0BJJRJVHY%2Fref%3Dsr_1_24_sspa%3Fcrid%3D3FLLWWQW5WSSH%26dib%3DeyJ2IjoiMSJ9.fvoRQDrf80B7uH41cX9h5GT9r8u6HvzcsReakfyj5-UNNP8qoOEj9o6il1vcUgshMAxJZS3trpI4DqdiVwzaXUAyESzqQSLfocfVIndpA_Am1wY9dp5ZWBDe7mHhsDugJ9kVautLdRV8Gq-TcGzMRym6fJN0m0PHltxTr2WluntooMMiHqCyKpK1Jnnt-hWbC3kLYZ5ENIih6ls9rIJC813Mq4IJNYY5Ep5bMH-pCXKXe9F4lAC8SMVxB_fszc2oboHPtJlCYtkFVGiX-Z-fflOkPvSPvxZuPmUfliKDLpg.uePZBa-Pio6fp3d9IJDdtRW0WmCbj_zkcSaQnERaR5A%26dib_tag%3Dse%26keywords%3DGuitar%26qid%3D1712409352%26sprefix%3Dguitar%252Caps%252C462%26sr%3D8-24-spons%26sp_csd%3Dd2lkZ2V0TmFtZT1zcF9tdGY%26psc%3D1', 'https://www.amazon.in/Juarez-JRZ-ST01-6-String-Electric-Without/dp/B01FYZSOGM/ref=sr_1_25?crid=3FLLWWQW5WSSH&dib=eyJ2IjoiMSJ9.fvoRQDrf80B7uH41cX9h5GT9r8u6HvzcsReakfyj5-UNNP8qoOEj9o6il1vcUgshMAxJZS3trpI4DqdiVwzaXUAyESzqQSLfocfVIndpA_Am1wY9dp5ZWBDe7mHhsDugJ9kVautLdRV8Gq-TcGzMRym6fJN0m0PHltxTr2WluntooMMiHqCyKpK1Jnnt-hWbC3kLYZ5ENIih6ls9rIJC813Mq4IJNYY5Ep5bMH-pCXKXe9F4lAC8SMVxB_fszc2oboHPtJlCYtkFVGiX-Z-fflOkPvSPvxZuPmUfliKDLpg.uePZBa-Pio6fp3d9IJDdtRW0WmCbj_zkcSaQnERaR5A&dib_tag=se&keywords=Guitar&qid=1712409352&sprefix=guitar%2Caps%2C462&sr=8-25', 'https://www.amazon.in/Yamaha-FS-100C-6-String-Acoustic-without/dp/B00PAS9CK6/ref=sr_1_26?crid=3FLLWWQW5WSSH&dib=eyJ2IjoiMSJ9.fvoRQDrf80B7uH41cX9h5GT9r8u6HvzcsReakfyj5-UNNP8qoOEj9o6il1vcUgshMAxJZS3trpI4DqdiVwzaXUAyESzqQSLfocfVIndpA_Am1wY9dp5ZWBDe7mHhsDugJ9kVautLdRV8Gq-TcGzMRym6fJN0m0PHltxTr2WluntooMMiHqCyKpK1Jnnt-hWbC3kLYZ5ENIih6ls9rIJC813Mq4IJNYY5Ep5bMH-pCXKXe9F4lAC8SMVxB_fszc2oboHPtJlCYtkFVGiX-Z-fflOkPvSPvxZuPmUfliKDLpg.uePZBa-Pio6fp3d9IJDdtRW0WmCbj_zkcSaQnERaR5A&dib_tag=se&keywords=Guitar&qid=1712409352&sprefix=guitar%2Caps%2C462&sr=8-26', 'https://www.amazon.in/YAMAHA-FS80C-CONCERT-CUTAWAY-GUITAR/dp/B08WBBVMVJ/ref=sr_1_27?crid=3FLLWWQW5WSSH&dib=eyJ2IjoiMSJ9.fvoRQDrf80B7uH41cX9h5GT9r8u6HvzcsReakfyj5-UNNP8qoOEj9o6il1vcUgshMAxJZS3trpI4DqdiVwzaXUAyESzqQSLfocfVIndpA_Am1wY9dp5ZWBDe7mHhsDugJ9kVautLdRV8Gq-TcGzMRym6fJN0m0PHltxTr2WluntooMMiHqCyKpK1Jnnt-hWbC3kLYZ5ENIih6ls9rIJC813Mq4IJNYY5Ep5bMH-pCXKXe9F4lAC8SMVxB_fszc2oboHPtJlCYtkFVGiX-Z-fflOkPvSPvxZuPmUfliKDLpg.uePZBa-Pio6fp3d9IJDdtRW0WmCbj_zkcSaQnERaR5A&dib_tag=se&keywords=Guitar&qid=1712409352&sprefix=guitar%2Caps%2C462&sr=8-27', 'https://www.amazon.in/Acoustic-Plectrums-Beginner-Learners-configuration/dp/B0B4SSB8BJ/ref=sr_1_28?crid=3FLLWWQW5WSSH&dib=eyJ2IjoiMSJ9.fvoRQDrf80B7uH41cX9h5GT9r8u6HvzcsReakfyj5-UNNP8qoOEj9o6il1vcUgshMAxJZS3trpI4DqdiVwzaXUAyESzqQSLfocfVIndpA_Am1wY9dp5ZWBDe7mHhsDugJ9kVautLdRV8Gq-TcGzMRym6fJN0m0PHltxTr2WluntooMMiHqCyKpK1Jnnt-hWbC3kLYZ5ENIih6ls9rIJC813Mq4IJNYY5Ep5bMH-pCXKXe9F4lAC8SMVxB_fszc2oboHPtJlCYtkFVGiX-Z-fflOkPvSPvxZuPmUfliKDLpg.uePZBa-Pio6fp3d9IJDdtRW0WmCbj_zkcSaQnERaR5A&dib_tag=se&keywords=Guitar&qid=1712409352&sprefix=guitar%2Caps%2C462&sr=8-28', 'https://www.amazon.in/Kadence-Frontier-Acoustic-Guitar-Strings/dp/B078GTJP5Y/ref=sr_1_29?crid=3FLLWWQW5WSSH&dib=eyJ2IjoiMSJ9.fvoRQDrf80B7uH41cX9h5GT9r8u6HvzcsReakfyj5-UNNP8qoOEj9o6il1vcUgshMAxJZS3trpI4DqdiVwzaXUAyESzqQSLfocfVIndpA_Am1wY9dp5ZWBDe7mHhsDugJ9kVautLdRV8Gq-TcGzMRym6fJN0m0PHltxTr2WluntooMMiHqCyKpK1Jnnt-hWbC3kLYZ5ENIih6ls9rIJC813Mq4IJNYY5Ep5bMH-pCXKXe9F4lAC8SMVxB_fszc2oboHPtJlCYtkFVGiX-Z-fflOkPvSPvxZuPmUfliKDLpg.uePZBa-Pio6fp3d9IJDdtRW0WmCbj_zkcSaQnERaR5A&dib_tag=se&keywords=Guitar&qid=1712409352&sprefix=guitar%2Caps%2C462&sr=8-29', 'https://www.amazon.in/Intern-INT-38C-Acoustic-Guitar-Sunburst/dp/B073B5MJRM/ref=sr_1_30?crid=3FLLWWQW5WSSH&dib=eyJ2IjoiMSJ9.fvoRQDrf80B7uH41cX9h5GT9r8u6HvzcsReakfyj5-UNNP8qoOEj9o6il1vcUgshMAxJZS3trpI4DqdiVwzaXUAyESzqQSLfocfVIndpA_Am1wY9dp5ZWBDe7mHhsDugJ9kVautLdRV8Gq-TcGzMRym6fJN0m0PHltxTr2WluntooMMiHqCyKpK1Jnnt-hWbC3kLYZ5ENIih6ls9rIJC813Mq4IJNYY5Ep5bMH-pCXKXe9F4lAC8SMVxB_fszc2oboHPtJlCYtkFVGiX-Z-fflOkPvSPvxZuPmUfliKDLpg.uePZBa-Pio6fp3d9IJDdtRW0WmCbj_zkcSaQnERaR5A&dib_tag=se&keywords=Guitar&qid=1712409352&sprefix=guitar%2Caps%2C462&sr=8-30', 'https://www.amazon.in/JUAREZ-JRZ38C-TBLSNA/dp/B0BCQKQ6CS/ref=sr_1_31?crid=3FLLWWQW5WSSH&dib=eyJ2IjoiMSJ9.fvoRQDrf80B7uH41cX9h5GT9r8u6HvzcsReakfyj5-UNNP8qoOEj9o6il1vcUgshMAxJZS3trpI4DqdiVwzaXUAyESzqQSLfocfVIndpA_Am1wY9dp5ZWBDe7mHhsDugJ9kVautLdRV8Gq-TcGzMRym6fJN0m0PHltxTr2WluntooMMiHqCyKpK1Jnnt-hWbC3kLYZ5ENIih6ls9rIJC813Mq4IJNYY5Ep5bMH-pCXKXe9F4lAC8SMVxB_fszc2oboHPtJlCYtkFVGiX-Z-fflOkPvSPvxZuPmUfliKDLpg.uePZBa-Pio6fp3d9IJDdtRW0WmCbj_zkcSaQnERaR5A&dib_tag=se&keywords=Guitar&qid=1712409352&sprefix=guitar%2Caps%2C462&sr=8-31', 'https://www.amazon.in/Kadence-Professional-Acoustic-Rosewood-Natural/dp/B0CC927DLN/ref=sr_1_32?crid=3FLLWWQW5WSSH&dib=eyJ2IjoiMSJ9.fvoRQDrf80B7uH41cX9h5GT9r8u6HvzcsReakfyj5-UNNP8qoOEj9o6il1vcUgshMAxJZS3trpI4DqdiVwzaXUAyESzqQSLfocfVIndpA_Am1wY9dp5ZWBDe7mHhsDugJ9kVautLdRV8Gq-TcGzMRym6fJN0m0PHltxTr2WluntooMMiHqCyKpK1Jnnt-hWbC3kLYZ5ENIih6ls9rIJC813Mq4IJNYY5Ep5bMH-pCXKXe9F4lAC8SMVxB_fszc2oboHPtJlCYtkFVGiX-Z-fflOkPvSPvxZuPmUfliKDLpg.uePZBa-Pio6fp3d9IJDdtRW0WmCbj_zkcSaQnERaR5A&dib_tag=se&keywords=Guitar&qid=1712409352&sprefix=guitar%2Caps%2C462&sr=8-32', 'https://www.amazon.in/Intern-INT-38C-Brown-Acoustic-Guitar/dp/B07X2HV158/ref=sr_1_33?crid=3FLLWWQW5WSSH&dib=eyJ2IjoiMSJ9.fvoRQDrf80B7uH41cX9h5GT9r8u6HvzcsReakfyj5-UNNP8qoOEj9o6il1vcUgshMAxJZS3trpI4DqdiVwzaXUAyESzqQSLfocfVIndpA_Am1wY9dp5ZWBDe7mHhsDugJ9kVautLdRV8Gq-TcGzMRym6fJN0m0PHltxTr2WluntooMMiHqCyKpK1Jnnt-hWbC3kLYZ5ENIih6ls9rIJC813Mq4IJNYY5Ep5bMH-pCXKXe9F4lAC8SMVxB_fszc2oboHPtJlCYtkFVGiX-Z-fflOkPvSPvxZuPmUfliKDLpg.uePZBa-Pio6fp3d9IJDdtRW0WmCbj_zkcSaQnERaR5A&dib_tag=se&keywords=Guitar&qid=1712409352&sprefix=guitar%2Caps%2C462&sr=8-33', 'https://www.amazon.in/Kadence-Slowhand-Premium-Acoustic-Instrument/dp/B077SZ667X/ref=sr_1_34?crid=3FLLWWQW5WSSH&dib=eyJ2IjoiMSJ9.fvoRQDrf80B7uH41cX9h5GT9r8u6HvzcsReakfyj5-UNNP8qoOEj9o6il1vcUgshMAxJZS3trpI4DqdiVwzaXUAyESzqQSLfocfVIndpA_Am1wY9dp5ZWBDe7mHhsDugJ9kVautLdRV8Gq-TcGzMRym6fJN0m0PHltxTr2WluntooMMiHqCyKpK1Jnnt-hWbC3kLYZ5ENIih6ls9rIJC813Mq4IJNYY5Ep5bMH-pCXKXe9F4lAC8SMVxB_fszc2oboHPtJlCYtkFVGiX-Z-fflOkPvSPvxZuPmUfliKDLpg.uePZBa-Pio6fp3d9IJDdtRW0WmCbj_zkcSaQnERaR5A&dib_tag=se&keywords=Guitar&qid=1712409352&sprefix=guitar%2Caps%2C462&sr=8-34', 'https://www.amazon.in/YAMAHA-NATURAL-CONCERT-CUTAWAY-GUITAR/dp/B08KW4DRKL/ref=sr_1_35?crid=3FLLWWQW5WSSH&dib=eyJ2IjoiMSJ9.fvoRQDrf80B7uH41cX9h5GT9r8u6HvzcsReakfyj5-UNNP8qoOEj9o6il1vcUgshMAxJZS3trpI4DqdiVwzaXUAyESzqQSLfocfVIndpA_Am1wY9dp5ZWBDe7mHhsDugJ9kVautLdRV8Gq-TcGzMRym6fJN0m0PHltxTr2WluntooMMiHqCyKpK1Jnnt-hWbC3kLYZ5ENIih6ls9rIJC813Mq4IJNYY5Ep5bMH-pCXKXe9F4lAC8SMVxB_fszc2oboHPtJlCYtkFVGiX-Z-fflOkPvSPvxZuPmUfliKDLpg.uePZBa-Pio6fp3d9IJDdtRW0WmCbj_zkcSaQnERaR5A&dib_tag=se&keywords=Guitar&qid=1712409352&sprefix=guitar%2Caps%2C462&sr=8-35', 'https://www.amazon.in/PS-Signature-41inch-Acoustic-Strings/dp/B0CGXL3VKG/ref=sr_1_36?crid=3FLLWWQW5WSSH&dib=eyJ2IjoiMSJ9.fvoRQDrf80B7uH41cX9h5GT9r8u6HvzcsReakfyj5-UNNP8qoOEj9o6il1vcUgshMAxJZS3trpI4DqdiVwzaXUAyESzqQSLfocfVIndpA_Am1wY9dp5ZWBDe7mHhsDugJ9kVautLdRV8Gq-TcGzMRym6fJN0m0PHltxTr2WluntooMMiHqCyKpK1Jnnt-hWbC3kLYZ5ENIih6ls9rIJC813Mq4IJNYY5Ep5bMH-pCXKXe9F4lAC8SMVxB_fszc2oboHPtJlCYtkFVGiX-Z-fflOkPvSPvxZuPmUfliKDLpg.uePZBa-Pio6fp3d9IJDdtRW0WmCbj_zkcSaQnERaR5A&dib_tag=se&keywords=Guitar&qid=1712409352&sprefix=guitar%2Caps%2C462&sr=8-36', 'https://www.amazon.in/Medellin-Acoustic-Guitar-learning-Strings/dp/B0CCNSN9BV/ref=sr_1_37?crid=3FLLWWQW5WSSH&dib=eyJ2IjoiMSJ9.fvoRQDrf80B7uH41cX9h5GT9r8u6HvzcsReakfyj5-UNNP8qoOEj9o6il1vcUgshMAxJZS3trpI4DqdiVwzaXUAyESzqQSLfocfVIndpA_Am1wY9dp5ZWBDe7mHhsDugJ9kVautLdRV8Gq-TcGzMRym6fJN0m0PHltxTr2WluntooMMiHqCyKpK1Jnnt-hWbC3kLYZ5ENIih6ls9rIJC813Mq4IJNYY5Ep5bMH-pCXKXe9F4lAC8SMVxB_fszc2oboHPtJlCYtkFVGiX-Z-fflOkPvSPvxZuPmUfliKDLpg.uePZBa-Pio6fp3d9IJDdtRW0WmCbj_zkcSaQnERaR5A&dib_tag=se&keywords=Guitar&qid=1712409352&sprefix=guitar%2Caps%2C462&sr=8-37', 'https://www.amazon.in/Yamaha-FX280-acoustic-Dreadnought-Natural/dp/B09HR6BNFQ/ref=sr_1_38?crid=3FLLWWQW5WSSH&dib=eyJ2IjoiMSJ9.fvoRQDrf80B7uH41cX9h5GT9r8u6HvzcsReakfyj5-UNNP8qoOEj9o6il1vcUgshMAxJZS3trpI4DqdiVwzaXUAyESzqQSLfocfVIndpA_Am1wY9dp5ZWBDe7mHhsDugJ9kVautLdRV8Gq-TcGzMRym6fJN0m0PHltxTr2WluntooMMiHqCyKpK1Jnnt-hWbC3kLYZ5ENIih6ls9rIJC813Mq4IJNYY5Ep5bMH-pCXKXe9F4lAC8SMVxB_fszc2oboHPtJlCYtkFVGiX-Z-fflOkPvSPvxZuPmUfliKDLpg.uePZBa-Pio6fp3d9IJDdtRW0WmCbj_zkcSaQnERaR5A&dib_tag=se&keywords=Guitar&qid=1712409352&sprefix=guitar%2Caps%2C462&sr=8-38', 'https://www.amazon.in/Yamaha-FSX80C-Acoustic-Cutaway-Natural/dp/B09HL3GFZF/ref=sr_1_39?crid=3FLLWWQW5WSSH&dib=eyJ2IjoiMSJ9.fvoRQDrf80B7uH41cX9h5GT9r8u6HvzcsReakfyj5-UNNP8qoOEj9o6il1vcUgshMAxJZS3trpI4DqdiVwzaXUAyESzqQSLfocfVIndpA_Am1wY9dp5ZWBDe7mHhsDugJ9kVautLdRV8Gq-TcGzMRym6fJN0m0PHltxTr2WluntooMMiHqCyKpK1Jnnt-hWbC3kLYZ5ENIih6ls9rIJC813Mq4IJNYY5Ep5bMH-pCXKXe9F4lAC8SMVxB_fszc2oboHPtJlCYtkFVGiX-Z-fflOkPvSPvxZuPmUfliKDLpg.uePZBa-Pio6fp3d9IJDdtRW0WmCbj_zkcSaQnERaR5A&dib_tag=se&keywords=Guitar&qid=1712409352&sprefix=guitar%2Caps%2C462&sr=8-39', 'https://www.amazon.in/Kadence-Slowhand-Mahogany-Acoustic-KSH03-12EQ/dp/B0CGDDPVKK/ref=sr_1_40?crid=3FLLWWQW5WSSH&dib=eyJ2IjoiMSJ9.fvoRQDrf80B7uH41cX9h5GT9r8u6HvzcsReakfyj5-UNNP8qoOEj9o6il1vcUgshMAxJZS3trpI4DqdiVwzaXUAyESzqQSLfocfVIndpA_Am1wY9dp5ZWBDe7mHhsDugJ9kVautLdRV8Gq-TcGzMRym6fJN0m0PHltxTr2WluntooMMiHqCyKpK1Jnnt-hWbC3kLYZ5ENIih6ls9rIJC813Mq4IJNYY5Ep5bMH-pCXKXe9F4lAC8SMVxB_fszc2oboHPtJlCYtkFVGiX-Z-fflOkPvSPvxZuPmUfliKDLpg.uePZBa-Pio6fp3d9IJDdtRW0WmCbj_zkcSaQnERaR5A&dib_tag=se&keywords=Guitar&qid=1712409352&sprefix=guitar%2Caps%2C462&sr=8-40', 'https://www.amazon.in/Kadence-Acoustica-Acoustic-Guitar-Zebra/dp/B07KXNKLJ2/ref=sr_1_41?crid=3FLLWWQW5WSSH&dib=eyJ2IjoiMSJ9.fvoRQDrf80B7uH41cX9h5GT9r8u6HvzcsReakfyj5-UNNP8qoOEj9o6il1vcUgshMAxJZS3trpI4DqdiVwzaXUAyESzqQSLfocfVIndpA_Am1wY9dp5ZWBDe7mHhsDugJ9kVautLdRV8Gq-TcGzMRym6fJN0m0PHltxTr2WluntooMMiHqCyKpK1Jnnt-hWbC3kLYZ5ENIih6ls9rIJC813Mq4IJNYY5Ep5bMH-pCXKXe9F4lAC8SMVxB_fszc2oboHPtJlCYtkFVGiX-Z-fflOkPvSPvxZuPmUfliKDLpg.uePZBa-Pio6fp3d9IJDdtRW0WmCbj_zkcSaQnERaR5A&dib_tag=se&keywords=Guitar&qid=1712409352&sprefix=guitar%2Caps%2C462&sr=8-41', 'https://www.amazon.in/JUAREZ-JRZ38C-Acoustic-Natural-Strings/dp/B01FYYTDWC/ref=sr_1_42?crid=3FLLWWQW5WSSH&dib=eyJ2IjoiMSJ9.fvoRQDrf80B7uH41cX9h5GT9r8u6HvzcsReakfyj5-UNNP8qoOEj9o6il1vcUgshMAxJZS3trpI4DqdiVwzaXUAyESzqQSLfocfVIndpA_Am1wY9dp5ZWBDe7mHhsDugJ9kVautLdRV8Gq-TcGzMRym6fJN0m0PHltxTr2WluntooMMiHqCyKpK1Jnnt-hWbC3kLYZ5ENIih6ls9rIJC813Mq4IJNYY5Ep5bMH-pCXKXe9F4lAC8SMVxB_fszc2oboHPtJlCYtkFVGiX-Z-fflOkPvSPvxZuPmUfliKDLpg.uePZBa-Pio6fp3d9IJDdtRW0WmCbj_zkcSaQnERaR5A&dib_tag=se&keywords=Guitar&qid=1712409352&sprefix=guitar%2Caps%2C462&sr=8-42', 'https://www.amazon.in/Juarez-Acoustic-Guitar-Cutaway-JRZ38CT/dp/B01N3TTYJQ/ref=sr_1_43?crid=3FLLWWQW5WSSH&dib=eyJ2IjoiMSJ9.fvoRQDrf80B7uH41cX9h5GT9r8u6HvzcsReakfyj5-UNNP8qoOEj9o6il1vcUgshMAxJZS3trpI4DqdiVwzaXUAyESzqQSLfocfVIndpA_Am1wY9dp5ZWBDe7mHhsDugJ9kVautLdRV8Gq-TcGzMRym6fJN0m0PHltxTr2WluntooMMiHqCyKpK1Jnnt-hWbC3kLYZ5ENIih6ls9rIJC813Mq4IJNYY5Ep5bMH-pCXKXe9F4lAC8SMVxB_fszc2oboHPtJlCYtkFVGiX-Z-fflOkPvSPvxZuPmUfliKDLpg.uePZBa-Pio6fp3d9IJDdtRW0WmCbj_zkcSaQnERaR5A&dib_tag=se&keywords=Guitar&qid=1712409352&sprefix=guitar%2Caps%2C462&sr=8-43', 'https://www.amazon.in/FX280-acoustic-Dreadnought-Tobacco-Sunburst/dp/B09HR7BXGW/ref=sr_1_44?crid=3FLLWWQW5WSSH&dib=eyJ2IjoiMSJ9.fvoRQDrf80B7uH41cX9h5GT9r8u6HvzcsReakfyj5-UNNP8qoOEj9o6il1vcUgshMAxJZS3trpI4DqdiVwzaXUAyESzqQSLfocfVIndpA_Am1wY9dp5ZWBDe7mHhsDugJ9kVautLdRV8Gq-TcGzMRym6fJN0m0PHltxTr2WluntooMMiHqCyKpK1Jnnt-hWbC3kLYZ5ENIih6ls9rIJC813Mq4IJNYY5Ep5bMH-pCXKXe9F4lAC8SMVxB_fszc2oboHPtJlCYtkFVGiX-Z-fflOkPvSPvxZuPmUfliKDLpg.uePZBa-Pio6fp3d9IJDdtRW0WmCbj_zkcSaQnERaR5A&dib_tag=se&keywords=Guitar&qid=1712409352&sprefix=guitar%2Caps%2C462&sr=8-44', 'https://www.amazon.in/JUAREZ-Acoustic-Guitar-String-JRGSE32/dp/B08MW1WPW5/ref=sr_1_45?crid=3FLLWWQW5WSSH&dib=eyJ2IjoiMSJ9.fvoRQDrf80B7uH41cX9h5GT9r8u6HvzcsReakfyj5-UNNP8qoOEj9o6il1vcUgshMAxJZS3trpI4DqdiVwzaXUAyESzqQSLfocfVIndpA_Am1wY9dp5ZWBDe7mHhsDugJ9kVautLdRV8Gq-TcGzMRym6fJN0m0PHltxTr2WluntooMMiHqCyKpK1Jnnt-hWbC3kLYZ5ENIih6ls9rIJC813Mq4IJNYY5Ep5bMH-pCXKXe9F4lAC8SMVxB_fszc2oboHPtJlCYtkFVGiX-Z-fflOkPvSPvxZuPmUfliKDLpg.uePZBa-Pio6fp3d9IJDdtRW0WmCbj_zkcSaQnERaR5A&dib_tag=se&keywords=Guitar&qid=1712409352&sprefix=guitar%2Caps%2C462&sr=8-45', 'https://www.amazon.in/Kadence-Acoustica-Ash-Wood-Equlizer/dp/B0757H5P13/ref=sr_1_46?crid=3FLLWWQW5WSSH&dib=eyJ2IjoiMSJ9.fvoRQDrf80B7uH41cX9h5GT9r8u6HvzcsReakfyj5-UNNP8qoOEj9o6il1vcUgshMAxJZS3trpI4DqdiVwzaXUAyESzqQSLfocfVIndpA_Am1wY9dp5ZWBDe7mHhsDugJ9kVautLdRV8Gq-TcGzMRym6fJN0m0PHltxTr2WluntooMMiHqCyKpK1Jnnt-hWbC3kLYZ5ENIih6ls9rIJC813Mq4IJNYY5Ep5bMH-pCXKXe9F4lAC8SMVxB_fszc2oboHPtJlCYtkFVGiX-Z-fflOkPvSPvxZuPmUfliKDLpg.uePZBa-Pio6fp3d9IJDdtRW0WmCbj_zkcSaQnERaR5A&dib_tag=se&keywords=Guitar&qid=1712409352&sprefix=guitar%2Caps%2C462&sr=8-46', 'https://www.amazon.in/Kadence-Acoustica-Acoustic-Guitar-A03/dp/B08WCTFVT9/ref=sr_1_47?crid=3FLLWWQW5WSSH&dib=eyJ2IjoiMSJ9.fvoRQDrf80B7uH41cX9h5GT9r8u6HvzcsReakfyj5-UNNP8qoOEj9o6il1vcUgshMAxJZS3trpI4DqdiVwzaXUAyESzqQSLfocfVIndpA_Am1wY9dp5ZWBDe7mHhsDugJ9kVautLdRV8Gq-TcGzMRym6fJN0m0PHltxTr2WluntooMMiHqCyKpK1Jnnt-hWbC3kLYZ5ENIih6ls9rIJC813Mq4IJNYY5Ep5bMH-pCXKXe9F4lAC8SMVxB_fszc2oboHPtJlCYtkFVGiX-Z-fflOkPvSPvxZuPmUfliKDLpg.uePZBa-Pio6fp3d9IJDdtRW0WmCbj_zkcSaQnERaR5A&dib_tag=se&keywords=Guitar&qid=1712409352&sprefix=guitar%2Caps%2C462&sr=8-47', 'https://www.amazon.in/FS80C-Acoustic-Cutaway-Concert-Plectrums/dp/B08XVV1WH7/ref=sr_1_48?crid=3FLLWWQW5WSSH&dib=eyJ2IjoiMSJ9.fvoRQDrf80B7uH41cX9h5GT9r8u6HvzcsReakfyj5-UNNP8qoOEj9o6il1vcUgshMAxJZS3trpI4DqdiVwzaXUAyESzqQSLfocfVIndpA_Am1wY9dp5ZWBDe7mHhsDugJ9kVautLdRV8Gq-TcGzMRym6fJN0m0PHltxTr2WluntooMMiHqCyKpK1Jnnt-hWbC3kLYZ5ENIih6ls9rIJC813Mq4IJNYY5Ep5bMH-pCXKXe9F4lAC8SMVxB_fszc2oboHPtJlCYtkFVGiX-Z-fflOkPvSPvxZuPmUfliKDLpg.uePZBa-Pio6fp3d9IJDdtRW0WmCbj_zkcSaQnERaR5A&dib_tag=se&keywords=Guitar&qid=1712409352&sprefix=guitar%2Caps%2C462&sr=8-48', 'https://www.amazon.in/Strings-Straps-String-winder-Polishing/dp/B07RV9FJ2Z/ref=sr_1_49?crid=3FLLWWQW5WSSH&dib=eyJ2IjoiMSJ9.fvoRQDrf80B7uH41cX9h5GT9r8u6HvzcsReakfyj5-UNNP8qoOEj9o6il1vcUgshMAxJZS3trpI4DqdiVwzaXUAyESzqQSLfocfVIndpA_Am1wY9dp5ZWBDe7mHhsDugJ9kVautLdRV8Gq-TcGzMRym6fJN0m0PHltxTr2WluntooMMiHqCyKpK1Jnnt-hWbC3kLYZ5ENIih6ls9rIJC813Mq4IJNYY5Ep5bMH-pCXKXe9F4lAC8SMVxB_fszc2oboHPtJlCYtkFVGiX-Z-fflOkPvSPvxZuPmUfliKDLpg.uePZBa-Pio6fp3d9IJDdtRW0WmCbj_zkcSaQnERaR5A&dib_tag=se&keywords=Guitar&qid=1712409352&sprefix=guitar%2Caps%2C462&sr=8-49', 'https://www.amazon.in/Alice-A206-Phosphor-Bronze-Strings/dp/B00QAFCNK4/ref=sr_1_50?crid=3FLLWWQW5WSSH&dib=eyJ2IjoiMSJ9.fvoRQDrf80B7uH41cX9h5GT9r8u6HvzcsReakfyj5-UNNP8qoOEj9o6il1vcUgshMAxJZS3trpI4DqdiVwzaXUAyESzqQSLfocfVIndpA_Am1wY9dp5ZWBDe7mHhsDugJ9kVautLdRV8Gq-TcGzMRym6fJN0m0PHltxTr2WluntooMMiHqCyKpK1Jnnt-hWbC3kLYZ5ENIih6ls9rIJC813Mq4IJNYY5Ep5bMH-pCXKXe9F4lAC8SMVxB_fszc2oboHPtJlCYtkFVGiX-Z-fflOkPvSPvxZuPmUfliKDLpg.uePZBa-Pio6fp3d9IJDdtRW0WmCbj_zkcSaQnERaR5A&dib_tag=se&keywords=Guitar&qid=1712409352&sprefix=guitar%2Caps%2C462&sr=8-50', 'https://www.amazon.in/Juarez-Strings-Acoustic-Cutaway-Zebrawood/dp/B072Q9L8DG/ref=sr_1_51?crid=3FLLWWQW5WSSH&dib=eyJ2IjoiMSJ9.fvoRQDrf80B7uH41cX9h5GT9r8u6HvzcsReakfyj5-UNNP8qoOEj9o6il1vcUgshMAxJZS3trpI4DqdiVwzaXUAyESzqQSLfocfVIndpA_Am1wY9dp5ZWBDe7mHhsDugJ9kVautLdRV8Gq-TcGzMRym6fJN0m0PHltxTr2WluntooMMiHqCyKpK1Jnnt-hWbC3kLYZ5ENIih6ls9rIJC813Mq4IJNYY5Ep5bMH-pCXKXe9F4lAC8SMVxB_fszc2oboHPtJlCYtkFVGiX-Z-fflOkPvSPvxZuPmUfliKDLpg.uePZBa-Pio6fp3d9IJDdtRW0WmCbj_zkcSaQnERaR5A&dib_tag=se&keywords=Guitar&qid=1712409352&sprefix=guitar%2Caps%2C462&sr=8-51', 'https://www.amazon.in/Ultimate-Concert-Cutaway-Acoustic-Bajaao/dp/B08WHWKKV5/ref=sr_1_52?crid=3FLLWWQW5WSSH&dib=eyJ2IjoiMSJ9.fvoRQDrf80B7uH41cX9h5GT9r8u6HvzcsReakfyj5-UNNP8qoOEj9o6il1vcUgshMAxJZS3trpI4DqdiVwzaXUAyESzqQSLfocfVIndpA_Am1wY9dp5ZWBDe7mHhsDugJ9kVautLdRV8Gq-TcGzMRym6fJN0m0PHltxTr2WluntooMMiHqCyKpK1Jnnt-hWbC3kLYZ5ENIih6ls9rIJC813Mq4IJNYY5Ep5bMH-pCXKXe9F4lAC8SMVxB_fszc2oboHPtJlCYtkFVGiX-Z-fflOkPvSPvxZuPmUfliKDLpg.uePZBa-Pio6fp3d9IJDdtRW0WmCbj_zkcSaQnERaR5A&dib_tag=se&keywords=Guitar&qid=1712409352&sprefix=guitar%2Caps%2C462&sr=8-52', 'https://www.amazon.in/Blueberry-38C-Acoustic-Guitar-Strings/dp/B08KLMV4XX/ref=sr_1_53?crid=3FLLWWQW5WSSH&dib=eyJ2IjoiMSJ9.fvoRQDrf80B7uH41cX9h5GT9r8u6HvzcsReakfyj5-UNNP8qoOEj9o6il1vcUgshMAxJZS3trpI4DqdiVwzaXUAyESzqQSLfocfVIndpA_Am1wY9dp5ZWBDe7mHhsDugJ9kVautLdRV8Gq-TcGzMRym6fJN0m0PHltxTr2WluntooMMiHqCyKpK1Jnnt-hWbC3kLYZ5ENIih6ls9rIJC813Mq4IJNYY5Ep5bMH-pCXKXe9F4lAC8SMVxB_fszc2oboHPtJlCYtkFVGiX-Z-fflOkPvSPvxZuPmUfliKDLpg.uePZBa-Pio6fp3d9IJDdtRW0WmCbj_zkcSaQnERaR5A&dib_tag=se&keywords=Guitar&qid=1712409352&sprefix=guitar%2Caps%2C462&sr=8-53', 'https://www.amazon.in/Cort-SFX-MEM-Electro-Acoustic-Guitar/dp/B0915ZCZWK/ref=sr_1_54?crid=3FLLWWQW5WSSH&dib=eyJ2IjoiMSJ9.fvoRQDrf80B7uH41cX9h5GT9r8u6HvzcsReakfyj5-UNNP8qoOEj9o6il1vcUgshMAxJZS3trpI4DqdiVwzaXUAyESzqQSLfocfVIndpA_Am1wY9dp5ZWBDe7mHhsDugJ9kVautLdRV8Gq-TcGzMRym6fJN0m0PHltxTr2WluntooMMiHqCyKpK1Jnnt-hWbC3kLYZ5ENIih6ls9rIJC813Mq4IJNYY5Ep5bMH-pCXKXe9F4lAC8SMVxB_fszc2oboHPtJlCYtkFVGiX-Z-fflOkPvSPvxZuPmUfliKDLpg.uePZBa-Pio6fp3d9IJDdtRW0WmCbj_zkcSaQnERaR5A&dib_tag=se&keywords=Guitar&qid=1712409352&sprefix=guitar%2Caps%2C462&sr=8-54', 'https://www.amazon.in/Acoustic-Strings-Rosette-Rosewood-Fretboard/dp/B09FPQX7RN/ref=sr_1_55?crid=3FLLWWQW5WSSH&dib=eyJ2IjoiMSJ9.fvoRQDrf80B7uH41cX9h5GT9r8u6HvzcsReakfyj5-UNNP8qoOEj9o6il1vcUgshMAxJZS3trpI4DqdiVwzaXUAyESzqQSLfocfVIndpA_Am1wY9dp5ZWBDe7mHhsDugJ9kVautLdRV8Gq-TcGzMRym6fJN0m0PHltxTr2WluntooMMiHqCyKpK1Jnnt-hWbC3kLYZ5ENIih6ls9rIJC813Mq4IJNYY5Ep5bMH-pCXKXe9F4lAC8SMVxB_fszc2oboHPtJlCYtkFVGiX-Z-fflOkPvSPvxZuPmUfliKDLpg.uePZBa-Pio6fp3d9IJDdtRW0WmCbj_zkcSaQnERaR5A&dib_tag=se&keywords=Guitar&qid=1712409352&sprefix=guitar%2Caps%2C462&sr=8-55', 'https://www.amazon.in/Yamaha-FS100C-Acoustic-Guitars-Natural/dp/B00QKD79QE/ref=sr_1_56?crid=3FLLWWQW5WSSH&dib=eyJ2IjoiMSJ9.fvoRQDrf80B7uH41cX9h5GT9r8u6HvzcsReakfyj5-UNNP8qoOEj9o6il1vcUgshMAxJZS3trpI4DqdiVwzaXUAyESzqQSLfocfVIndpA_Am1wY9dp5ZWBDe7mHhsDugJ9kVautLdRV8Gq-TcGzMRym6fJN0m0PHltxTr2WluntooMMiHqCyKpK1Jnnt-hWbC3kLYZ5ENIih6ls9rIJC813Mq4IJNYY5Ep5bMH-pCXKXe9F4lAC8SMVxB_fszc2oboHPtJlCYtkFVGiX-Z-fflOkPvSPvxZuPmUfliKDLpg.uePZBa-Pio6fp3d9IJDdtRW0WmCbj_zkcSaQnERaR5A&dib_tag=se&keywords=Guitar&qid=1712409352&sprefix=guitar%2Caps%2C462&sr=8-56', 'https://www.amazon.in/sspa/click?ie=UTF8&spc=MTo3MDYzMzAzNzg4OTAyMDk2OjE3MTI0MDkzNTI6c3BfYnRmOjMwMDE0MTc5MzY3NTMzMjo6MDo6&url=%2FGuitar-Tailpiece-Guitars-Bridge-Replacement%2Fdp%2FB0BWYSZW1Y%2Fref%3Dsr_1_57_sspa%3Fcrid%3D3FLLWWQW5WSSH%26dib%3DeyJ2IjoiMSJ9.fvoRQDrf80B7uH41cX9h5GT9r8u6HvzcsReakfyj5-UNNP8qoOEj9o6il1vcUgshMAxJZS3trpI4DqdiVwzaXUAyESzqQSLfocfVIndpA_Am1wY9dp5ZWBDe7mHhsDugJ9kVautLdRV8Gq-TcGzMRym6fJN0m0PHltxTr2WluntooMMiHqCyKpK1Jnnt-hWbC3kLYZ5ENIih6ls9rIJC813Mq4IJNYY5Ep5bMH-pCXKXe9F4lAC8SMVxB_fszc2oboHPtJlCYtkFVGiX-Z-fflOkPvSPvxZuPmUfliKDLpg.uePZBa-Pio6fp3d9IJDdtRW0WmCbj_zkcSaQnERaR5A%26dib_tag%3Dse%26keywords%3DGuitar%26qid%3D1712409352%26sprefix%3Dguitar%252Caps%252C462%26sr%3D8-57-spons%26sp_csd%3Dd2lkZ2V0TmFtZT1zcF9idGY%26psc%3D1', 'https://www.amazon.in/sspa/click?ie=UTF8&spc=MTo3MDYzMzAzNzg4OTAyMDk2OjE3MTI0MDkzNTI6c3BfYnRmOjMwMDA1MTQxODc2ODkzMjo6MDo6&url=%2FAmericanElm-Wooden-Guitar-Crafts-Decoration%2Fdp%2FB09BR659CK%2Fref%3Dsr_1_58_sspa%3Fcrid%3D3FLLWWQW5WSSH%26dib%3DeyJ2IjoiMSJ9.fvoRQDrf80B7uH41cX9h5GT9r8u6HvzcsReakfyj5-UNNP8qoOEj9o6il1vcUgshMAxJZS3trpI4DqdiVwzaXUAyESzqQSLfocfVIndpA_Am1wY9dp5ZWBDe7mHhsDugJ9kVautLdRV8Gq-TcGzMRym6fJN0m0PHltxTr2WluntooMMiHqCyKpK1Jnnt-hWbC3kLYZ5ENIih6ls9rIJC813Mq4IJNYY5Ep5bMH-pCXKXe9F4lAC8SMVxB_fszc2oboHPtJlCYtkFVGiX-Z-fflOkPvSPvxZuPmUfliKDLpg.uePZBa-Pio6fp3d9IJDdtRW0WmCbj_zkcSaQnERaR5A%26dib_tag%3Dse%26keywords%3DGuitar%26qid%3D1712409352%26sprefix%3Dguitar%252Caps%252C462%26sr%3D8-58-spons%26sp_csd%3Dd2lkZ2V0TmFtZT1zcF9idGY%26psc%3D1', 'https://www.amazon.in/sspa/click?ie=UTF8&spc=MTo3MDYzMzAzNzg4OTAyMDk2OjE3MTI0MDkzNTI6c3BfYnRmOjMwMDEzMjUxNDYxODEzMjo6MDo6&url=%2FKetsicart-Purfling-Celluloid-Material-Accessories%2Fdp%2FB0CDS9V4WJ%2Fref%3Dsr_1_59_sspa%3Fcrid%3D3FLLWWQW5WSSH%26dib%3DeyJ2IjoiMSJ9.fvoRQDrf80B7uH41cX9h5GT9r8u6HvzcsReakfyj5-UNNP8qoOEj9o6il1vcUgshMAxJZS3trpI4DqdiVwzaXUAyESzqQSLfocfVIndpA_Am1wY9dp5ZWBDe7mHhsDugJ9kVautLdRV8Gq-TcGzMRym6fJN0m0PHltxTr2WluntooMMiHqCyKpK1Jnnt-hWbC3kLYZ5ENIih6ls9rIJC813Mq4IJNYY5Ep5bMH-pCXKXe9F4lAC8SMVxB_fszc2oboHPtJlCYtkFVGiX-Z-fflOkPvSPvxZuPmUfliKDLpg.uePZBa-Pio6fp3d9IJDdtRW0WmCbj_zkcSaQnERaR5A%26dib_tag%3Dse%26keywords%3DGuitar%26qid%3D1712409352%26sprefix%3Dguitar%252Caps%252C462%26sr%3D8-59-spons%26sp_csd%3Dd2lkZ2V0TmFtZT1zcF9idGY%26psc%3D1', 'https://www.amazon.in/sspa/click?ie=UTF8&spc=MTo3MDYzMzAzNzg4OTAyMDk2OjE3MTI0MDkzNTI6c3BfYnRmOjMwMDE0NTY4MTU4MTYzMjo6MDo6&url=%2FSG-Musical-Guitar-Strap-Button%2Fdp%2FB0B9WXN1NG%2Fref%3Dsr_1_60_sspa%3Fcrid%3D3FLLWWQW5WSSH%26dib%3DeyJ2IjoiMSJ9.fvoRQDrf80B7uH41cX9h5GT9r8u6HvzcsReakfyj5-UNNP8qoOEj9o6il1vcUgshMAxJZS3trpI4DqdiVwzaXUAyESzqQSLfocfVIndpA_Am1wY9dp5ZWBDe7mHhsDugJ9kVautLdRV8Gq-TcGzMRym6fJN0m0PHltxTr2WluntooMMiHqCyKpK1Jnnt-hWbC3kLYZ5ENIih6ls9rIJC813Mq4IJNYY5Ep5bMH-pCXKXe9F4lAC8SMVxB_fszc2oboHPtJlCYtkFVGiX-Z-fflOkPvSPvxZuPmUfliKDLpg.uePZBa-Pio6fp3d9IJDdtRW0WmCbj_zkcSaQnERaR5A%26dib_tag%3Dse%26keywords%3DGuitar%26qid%3D1712409352%26sprefix%3Dguitar%252Caps%252C462%26sr%3D8-60-spons%26sp_csd%3Dd2lkZ2V0TmFtZT1zcF9idGY%26psc%3D1', 'https://www.amazon.in/sspa/click?ie=UTF8&spc=MTozMjA0NTg4NjU4Nzg5MDk2OjE3MTI0MDkzNTI6c3Bfc2VhcmNoX3RoZW1hdGljOjMwMDAxNTUwODk1NDEzMjo6MDo6&url=%2FKadence-Frontier-Acoustic-Guitar-Strings%2Fdp%2FB01GDZ46AA%2Fref%3Dsxbs_pa_sp_search_thematic_sspa%3Fcontent-id%3Damzn1.sym.a83da621-77e7-4296-a3f4-89ab1b9d499e%253Aamzn1.sym.a83da621-77e7-4296-a3f4-89ab1b9d499e%26crid%3D3FLLWWQW5WSSH%26cv_ct_cx%3DGuitar%26dib%3DeyJ2IjoiMSJ9.dxxUgg0YV5PJjnSYXA_vEJS_utv3FeAcxhlu5vF-gTeSxNlXooSpPOobuZBgpWJw.EJN1EBQtaMiUB3bvKjdSCHQK5jPfKaEMd1l-mhAbOYg%26dib_tag%3Dse%26keywords%3DGuitar%26pd_rd_i%3DB01GDZ46AA%26pd_rd_r%3D765f6f4e-f27b-46b0-8f54-cef8da946c7b%26pd_rd_w%3Dar73X%26pd_rd_wg%3DMmqIh%26pf_rd_p%3Da83da621-77e7-4296-a3f4-89ab1b9d499e%26pf_rd_r%3DRR3KKDPKWK43N17WPZY6%26qid%3D1712409352%26sbo%3DRZvfv%252F%252FHxDF%252BO5021pAnSA%253D%253D%26sprefix%3Dguitar%252Caps%252C462%26sr%3D1-1-2907eac4-8056-42c7-8014-fdf7bd4c5395-spons%26sp_csd%3Dd2lkZ2V0TmFtZT1zcF9zZWFyY2hfdGhlbWF0aWM%26psc%3D1', 'https://www.amazon.in/sspa/click?ie=UTF8&spc=MTozMjA0NTg4NjU4Nzg5MDk2OjE3MTI0MDkzNTI6c3Bfc2VhcmNoX3RoZW1hdGljOjMwMDAxNTUzNzk3OTIzMjo6MTo6&url=%2FKadence-Frontier-Acoustic-Guitar-Strings%2Fdp%2FB078GTJP5Y%2Fref%3Dsxbs_pa_sp_search_thematic_sspa%3Fcontent-id%3Damzn1.sym.a83da621-77e7-4296-a3f4-89ab1b9d499e%253Aamzn1.sym.a83da621-77e7-4296-a3f4-89ab1b9d499e%26crid%3D3FLLWWQW5WSSH%26cv_ct_cx%3DGuitar%26dib%3DeyJ2IjoiMSJ9.dxxUgg0YV5PJjnSYXA_vEJS_utv3FeAcxhlu5vF-gTeSxNlXooSpPOobuZBgpWJw.EJN1EBQtaMiUB3bvKjdSCHQK5jPfKaEMd1l-mhAbOYg%26dib_tag%3Dse%26keywords%3DGuitar%26pd_rd_i%3DB078GTJP5Y%26pd_rd_r%3D765f6f4e-f27b-46b0-8f54-cef8da946c7b%26pd_rd_w%3Dar73X%26pd_rd_wg%3DMmqIh%26pf_rd_p%3Da83da621-77e7-4296-a3f4-89ab1b9d499e%26pf_rd_r%3DRR3KKDPKWK43N17WPZY6%26qid%3D1712409352%26sbo%3DRZvfv%252F%252FHxDF%252BO5021pAnSA%253D%253D%26sprefix%3Dguitar%252Caps%252C462%26sr%3D1-2-2907eac4-8056-42c7-8014-fdf7bd4c5395-spons%26sp_csd%3Dd2lkZ2V0TmFtZT1zcF9zZWFyY2hfdGhlbWF0aWM%26psc%3D1', 'https://www.amazon.in/sspa/click?ie=UTF8&spc=MTozMjA0NTg4NjU4Nzg5MDk2OjE3MTI0MDkzNTI6c3Bfc2VhcmNoX3RoZW1hdGljOjIwMDU3MTkzMDU2MjA0OjoyOjo&url=%2FKadence-Slowhand-Premium-Acoustic-Instrument%2Fdp%2FB077SZ667X%2Fref%3Dsxbs_pa_sp_search_thematic_sspa%3Fcontent-id%3Damzn1.sym.a83da621-77e7-4296-a3f4-89ab1b9d499e%253Aamzn1.sym.a83da621-77e7-4296-a3f4-89ab1b9d499e%26crid%3D3FLLWWQW5WSSH%26cv_ct_cx%3DGuitar%26dib%3DeyJ2IjoiMSJ9.dxxUgg0YV5PJjnSYXA_vEJS_utv3FeAcxhlu5vF-gTeSxNlXooSpPOobuZBgpWJw.EJN1EBQtaMiUB3bvKjdSCHQK5jPfKaEMd1l-mhAbOYg%26dib_tag%3Dse%26keywords%3DGuitar%26pd_rd_i%3DB077SZ667X%26pd_rd_r%3D765f6f4e-f27b-46b0-8f54-cef8da946c7b%26pd_rd_w%3Dar73X%26pd_rd_wg%3DMmqIh%26pf_rd_p%3Da83da621-77e7-4296-a3f4-89ab1b9d499e%26pf_rd_r%3DRR3KKDPKWK43N17WPZY6%26qid%3D1712409352%26sbo%3DRZvfv%252F%252FHxDF%252BO5021pAnSA%253D%253D%26sprefix%3Dguitar%252Caps%252C462%26sr%3D1-3-2907eac4-8056-42c7-8014-fdf7bd4c5395-spons%26sp_csd%3Dd2lkZ2V0TmFtZT1zcF9zZWFyY2hfdGhlbWF0aWM%26psc%3D1', 'https://www.amazon.in/sspa/click?ie=UTF8&spc=MTozMjA0NTg4NjU4Nzg5MDk2OjE3MTI0MDkzNTI6c3Bfc2VhcmNoX3RoZW1hdGljOjMwMDExODE5OTcxOTkzMjo6Mzo6&url=%2FMOCKING-BIRD-Beginners-instrument-Accessories%2Fdp%2FB0CP24N4HR%2Fref%3Dsxbs_pa_sp_search_thematic_sspa%3Fcontent-id%3Damzn1.sym.a83da621-77e7-4296-a3f4-89ab1b9d499e%253Aamzn1.sym.a83da621-77e7-4296-a3f4-89ab1b9d499e%26crid%3D3FLLWWQW5WSSH%26cv_ct_cx%3DGuitar%26dib%3DeyJ2IjoiMSJ9.dxxUgg0YV5PJjnSYXA_vEJS_utv3FeAcxhlu5vF-gTeSxNlXooSpPOobuZBgpWJw.EJN1EBQtaMiUB3bvKjdSCHQK5jPfKaEMd1l-mhAbOYg%26dib_tag%3Dse%26keywords%3DGuitar%26pd_rd_i%3DB0CP24N4HR%26pd_rd_r%3D765f6f4e-f27b-46b0-8f54-cef8da946c7b%26pd_rd_w%3Dar73X%26pd_rd_wg%3DMmqIh%26pf_rd_p%3Da83da621-77e7-4296-a3f4-89ab1b9d499e%26pf_rd_r%3DRR3KKDPKWK43N17WPZY6%26qid%3D1712409352%26sbo%3DRZvfv%252F%252FHxDF%252BO5021pAnSA%253D%253D%26sprefix%3Dguitar%252Caps%252C462%26sr%3D1-4-2907eac4-8056-42c7-8014-fdf7bd4c5395-spons%26sp_csd%3Dd2lkZ2V0TmFtZT1zcF9zZWFyY2hfdGhlbWF0aWM%26psc%3D1']\n"
     ]
    }
   ],
   "source": [
    "print(product_url)"
   ]
  },
  {
   "cell_type": "code",
   "execution_count": 402,
   "id": "73d46dcc",
   "metadata": {},
   "outputs": [
    {
     "data": {
      "text/plain": [
       "65"
      ]
     },
     "execution_count": 402,
     "metadata": {},
     "output_type": "execute_result"
    }
   ],
   "source": [
    "len(product_url)"
   ]
  },
  {
   "cell_type": "code",
   "execution_count": 403,
   "id": "dbef22c7",
   "metadata": {},
   "outputs": [
    {
     "data": {
      "text/plain": [
       "['https://www.amazon.in/sspa/click?ie=UTF8&spc=MTo3MDYzMzAzNzg4OTAyMDk2OjE3MTI0MDkzNTI6c3BfYXRmOjMwMDAxNTUwODk1NDEzMjo6MDo6&url=%2FKadence-Frontier-Acoustic-Guitar-Strings%2Fdp%2FB01GDZ46AA%2Fref%3Dsr_1_1_sspa%3Fcrid%3D3FLLWWQW5WSSH%26dib%3DeyJ2IjoiMSJ9.fvoRQDrf80B7uH41cX9h5GT9r8u6HvzcsReakfyj5-UNNP8qoOEj9o6il1vcUgshMAxJZS3trpI4DqdiVwzaXUAyESzqQSLfocfVIndpA_Am1wY9dp5ZWBDe7mHhsDugJ9kVautLdRV8Gq-TcGzMRym6fJN0m0PHltxTr2WluntooMMiHqCyKpK1Jnnt-hWbC3kLYZ5ENIih6ls9rIJC813Mq4IJNYY5Ep5bMH-pCXKXe9F4lAC8SMVxB_fszc2oboHPtJlCYtkFVGiX-Z-fflOkPvSPvxZuPmUfliKDLpg.uePZBa-Pio6fp3d9IJDdtRW0WmCbj_zkcSaQnERaR5A%26dib_tag%3Dse%26keywords%3DGuitar%26qid%3D1712409352%26sprefix%3Dguitar%252Caps%252C462%26sr%3D8-1-spons%26sp_csd%3Dd2lkZ2V0TmFtZT1zcF9hdGY%26psc%3D1',\n",
       " 'https://www.amazon.in/sspa/click?ie=UTF8&spc=MTo3MDYzMzAzNzg4OTAyMDk2OjE3MTI0MDkzNTI6c3BfYXRmOjMwMDAxNTUzNzk3OTIzMjo6MDo6&url=%2FKadence-Frontier-Acoustic-Guitar-Strings%2Fdp%2FB078GTJP5Y%2Fref%3Dsr_1_2_sspa%3Fcrid%3D3FLLWWQW5WSSH%26dib%3DeyJ2IjoiMSJ9.fvoRQDrf80B7uH41cX9h5GT9r8u6HvzcsReakfyj5-UNNP8qoOEj9o6il1vcUgshMAxJZS3trpI4DqdiVwzaXUAyESzqQSLfocfVIndpA_Am1wY9dp5ZWBDe7mHhsDugJ9kVautLdRV8Gq-TcGzMRym6fJN0m0PHltxTr2WluntooMMiHqCyKpK1Jnnt-hWbC3kLYZ5ENIih6ls9rIJC813Mq4IJNYY5Ep5bMH-pCXKXe9F4lAC8SMVxB_fszc2oboHPtJlCYtkFVGiX-Z-fflOkPvSPvxZuPmUfliKDLpg.uePZBa-Pio6fp3d9IJDdtRW0WmCbj_zkcSaQnERaR5A%26dib_tag%3Dse%26keywords%3DGuitar%26qid%3D1712409352%26sprefix%3Dguitar%252Caps%252C462%26sr%3D8-2-spons%26sp_csd%3Dd2lkZ2V0TmFtZT1zcF9hdGY%26psc%3D1',\n",
       " 'https://www.amazon.in/sspa/click?ie=UTF8&spc=MTo3MDYzMzAzNzg4OTAyMDk2OjE3MTI0MDkzNTI6c3BfYXRmOjIwMDU3MTkzMDU2MjA0OjowOjo&url=%2FKadence-Slowhand-Premium-Acoustic-Instrument%2Fdp%2FB077SZ667X%2Fref%3Dsr_1_3_sspa%3Fcrid%3D3FLLWWQW5WSSH%26dib%3DeyJ2IjoiMSJ9.fvoRQDrf80B7uH41cX9h5GT9r8u6HvzcsReakfyj5-UNNP8qoOEj9o6il1vcUgshMAxJZS3trpI4DqdiVwzaXUAyESzqQSLfocfVIndpA_Am1wY9dp5ZWBDe7mHhsDugJ9kVautLdRV8Gq-TcGzMRym6fJN0m0PHltxTr2WluntooMMiHqCyKpK1Jnnt-hWbC3kLYZ5ENIih6ls9rIJC813Mq4IJNYY5Ep5bMH-pCXKXe9F4lAC8SMVxB_fszc2oboHPtJlCYtkFVGiX-Z-fflOkPvSPvxZuPmUfliKDLpg.uePZBa-Pio6fp3d9IJDdtRW0WmCbj_zkcSaQnERaR5A%26dib_tag%3Dse%26keywords%3DGuitar%26qid%3D1712409352%26sprefix%3Dguitar%252Caps%252C462%26sr%3D8-3-spons%26sp_csd%3Dd2lkZ2V0TmFtZT1zcF9hdGY%26psc%3D1',\n",
       " 'https://www.amazon.in/sspa/click?ie=UTF8&spc=MTo3MDYzMzAzNzg4OTAyMDk2OjE3MTI0MDkzNTI6c3BfYXRmOjIwMDU2MTMzMTk0Nzk4OjowOjo&url=%2FHenrix-40-Inch-Cutaway-Acoustic-Guitar%2Fdp%2FB0B46MGFXH%2Fref%3Dsr_1_4_sspa%3Fcrid%3D3FLLWWQW5WSSH%26dib%3DeyJ2IjoiMSJ9.fvoRQDrf80B7uH41cX9h5GT9r8u6HvzcsReakfyj5-UNNP8qoOEj9o6il1vcUgshMAxJZS3trpI4DqdiVwzaXUAyESzqQSLfocfVIndpA_Am1wY9dp5ZWBDe7mHhsDugJ9kVautLdRV8Gq-TcGzMRym6fJN0m0PHltxTr2WluntooMMiHqCyKpK1Jnnt-hWbC3kLYZ5ENIih6ls9rIJC813Mq4IJNYY5Ep5bMH-pCXKXe9F4lAC8SMVxB_fszc2oboHPtJlCYtkFVGiX-Z-fflOkPvSPvxZuPmUfliKDLpg.uePZBa-Pio6fp3d9IJDdtRW0WmCbj_zkcSaQnERaR5A%26dib_tag%3Dse%26keywords%3DGuitar%26qid%3D1712409352%26sprefix%3Dguitar%252Caps%252C462%26sr%3D8-4-spons%26sp_csd%3Dd2lkZ2V0TmFtZT1zcF9hdGY%26psc%3D1',\n",
       " 'https://www.amazon.in/Acoustic-Cutaway-RDS-Strings-Sunburst/dp/B076QGY91P/ref=sr_1_5?crid=3FLLWWQW5WSSH&dib=eyJ2IjoiMSJ9.fvoRQDrf80B7uH41cX9h5GT9r8u6HvzcsReakfyj5-UNNP8qoOEj9o6il1vcUgshMAxJZS3trpI4DqdiVwzaXUAyESzqQSLfocfVIndpA_Am1wY9dp5ZWBDe7mHhsDugJ9kVautLdRV8Gq-TcGzMRym6fJN0m0PHltxTr2WluntooMMiHqCyKpK1Jnnt-hWbC3kLYZ5ENIih6ls9rIJC813Mq4IJNYY5Ep5bMH-pCXKXe9F4lAC8SMVxB_fszc2oboHPtJlCYtkFVGiX-Z-fflOkPvSPvxZuPmUfliKDLpg.uePZBa-Pio6fp3d9IJDdtRW0WmCbj_zkcSaQnERaR5A&dib_tag=se&keywords=Guitar&qid=1712409352&sprefix=guitar%2Caps%2C462&sr=8-5',\n",
       " 'https://www.amazon.in/Yamaha-F280-Acoustic-Guitar-Natural/dp/B08317Y4VP/ref=sr_1_6?crid=3FLLWWQW5WSSH&dib=eyJ2IjoiMSJ9.fvoRQDrf80B7uH41cX9h5GT9r8u6HvzcsReakfyj5-UNNP8qoOEj9o6il1vcUgshMAxJZS3trpI4DqdiVwzaXUAyESzqQSLfocfVIndpA_Am1wY9dp5ZWBDe7mHhsDugJ9kVautLdRV8Gq-TcGzMRym6fJN0m0PHltxTr2WluntooMMiHqCyKpK1Jnnt-hWbC3kLYZ5ENIih6ls9rIJC813Mq4IJNYY5Ep5bMH-pCXKXe9F4lAC8SMVxB_fszc2oboHPtJlCYtkFVGiX-Z-fflOkPvSPvxZuPmUfliKDLpg.uePZBa-Pio6fp3d9IJDdtRW0WmCbj_zkcSaQnERaR5A&dib_tag=se&keywords=Guitar&qid=1712409352&sprefix=guitar%2Caps%2C462&sr=8-6',\n",
       " 'https://www.amazon.in/Juarez-Acoustic-Cutaway-038C-Strings/dp/B017NPCSLI/ref=sr_1_7?crid=3FLLWWQW5WSSH&dib=eyJ2IjoiMSJ9.fvoRQDrf80B7uH41cX9h5GT9r8u6HvzcsReakfyj5-UNNP8qoOEj9o6il1vcUgshMAxJZS3trpI4DqdiVwzaXUAyESzqQSLfocfVIndpA_Am1wY9dp5ZWBDe7mHhsDugJ9kVautLdRV8Gq-TcGzMRym6fJN0m0PHltxTr2WluntooMMiHqCyKpK1Jnnt-hWbC3kLYZ5ENIih6ls9rIJC813Mq4IJNYY5Ep5bMH-pCXKXe9F4lAC8SMVxB_fszc2oboHPtJlCYtkFVGiX-Z-fflOkPvSPvxZuPmUfliKDLpg.uePZBa-Pio6fp3d9IJDdtRW0WmCbj_zkcSaQnERaR5A&dib_tag=se&keywords=Guitar&qid=1712409352&sprefix=guitar%2Caps%2C462&sr=8-7',\n",
       " 'https://aax-eu.amazon.in/x/c/RGfl5dPEJ726y9n2BLTgxgsAAAGOs40YywMAAAH2AQBvbm9fdHhuX2JpZDIgICBvbm9fdHhuX2ltcDEgICAZh1Qs/https://www.amazon.in/Radhe-Flutes-Natural-Bansuri-Middle/dp/B07T35ZBHB/ref=sxin_15_sbv_search_btf?content-id=amzn1.sym.e6c39f44-ac79-4da2-8eb5-110abccd93e3%3Aamzn1.sym.e6c39f44-ac79-4da2-8eb5-110abccd93e3&crid=3FLLWWQW5WSSH&cv_ct_cx=Guitar&dib=eyJ2IjoiMSJ9.RkxRkdLFro_AAXvr06nUqw.aJd9548IaYPnTCV6wKqcHwZWmhf9oHgTkTZNGwRxG0Q&dib_tag=se&keywords=Guitar&pd_rd_i=B07T35ZBHB&pd_rd_r=31c0a690-e2b9-47b9-a572-a210dced8ccb&pd_rd_w=YXFVs&pd_rd_wg=LSPwB&pf_rd_p=e6c39f44-ac79-4da2-8eb5-110abccd93e3&pf_rd_r=RR3KKDPKWK43N17WPZY6&qid=1712409352&sbo=RZvfv%2F%2FHxDF%2BO5021pAnSA%3D%3D&sprefix=guitar%2Caps%2C462&sr=1-1-b614a050-8d70-4320-9c19-cc457ab2a351',\n",
       " 'https://www.amazon.in/Yamaha-Classical-Guitar-C40-02/dp/B003UGCUFE/ref=sr_1_8?crid=3FLLWWQW5WSSH&dib=eyJ2IjoiMSJ9.fvoRQDrf80B7uH41cX9h5GT9r8u6HvzcsReakfyj5-UNNP8qoOEj9o6il1vcUgshMAxJZS3trpI4DqdiVwzaXUAyESzqQSLfocfVIndpA_Am1wY9dp5ZWBDe7mHhsDugJ9kVautLdRV8Gq-TcGzMRym6fJN0m0PHltxTr2WluntooMMiHqCyKpK1Jnnt-hWbC3kLYZ5ENIih6ls9rIJC813Mq4IJNYY5Ep5bMH-pCXKXe9F4lAC8SMVxB_fszc2oboHPtJlCYtkFVGiX-Z-fflOkPvSPvxZuPmUfliKDLpg.uePZBa-Pio6fp3d9IJDdtRW0WmCbj_zkcSaQnERaR5A&dib_tag=se&keywords=Guitar&qid=1712409352&sprefix=guitar%2Caps%2C462&sr=8-8',\n",
       " 'https://www.amazon.in/JUAREZ-JRZ38C-Handed-Acoustic-Strings/dp/B01FYYTDX6/ref=sr_1_9?crid=3FLLWWQW5WSSH&dib=eyJ2IjoiMSJ9.fvoRQDrf80B7uH41cX9h5GT9r8u6HvzcsReakfyj5-UNNP8qoOEj9o6il1vcUgshMAxJZS3trpI4DqdiVwzaXUAyESzqQSLfocfVIndpA_Am1wY9dp5ZWBDe7mHhsDugJ9kVautLdRV8Gq-TcGzMRym6fJN0m0PHltxTr2WluntooMMiHqCyKpK1Jnnt-hWbC3kLYZ5ENIih6ls9rIJC813Mq4IJNYY5Ep5bMH-pCXKXe9F4lAC8SMVxB_fszc2oboHPtJlCYtkFVGiX-Z-fflOkPvSPvxZuPmUfliKDLpg.uePZBa-Pio6fp3d9IJDdtRW0WmCbj_zkcSaQnERaR5A&dib_tag=se&keywords=Guitar&qid=1712409352&sprefix=guitar%2Caps%2C462&sr=8-9',\n",
       " 'https://www.amazon.in/Yamaha-Acoustic-Guitar-Tobacco-Sunburst/dp/B08VXR74Q2/ref=sr_1_10?crid=3FLLWWQW5WSSH&dib=eyJ2IjoiMSJ9.fvoRQDrf80B7uH41cX9h5GT9r8u6HvzcsReakfyj5-UNNP8qoOEj9o6il1vcUgshMAxJZS3trpI4DqdiVwzaXUAyESzqQSLfocfVIndpA_Am1wY9dp5ZWBDe7mHhsDugJ9kVautLdRV8Gq-TcGzMRym6fJN0m0PHltxTr2WluntooMMiHqCyKpK1Jnnt-hWbC3kLYZ5ENIih6ls9rIJC813Mq4IJNYY5Ep5bMH-pCXKXe9F4lAC8SMVxB_fszc2oboHPtJlCYtkFVGiX-Z-fflOkPvSPvxZuPmUfliKDLpg.uePZBa-Pio6fp3d9IJDdtRW0WmCbj_zkcSaQnERaR5A&dib_tag=se&keywords=Guitar&qid=1712409352&sprefix=guitar%2Caps%2C462&sr=8-10',\n",
       " 'https://www.amazon.in/Ju%C3%A2rez-Acoustic-Guitar-Cutaway-Strings/dp/B0BCQNLXVM/ref=sr_1_11?crid=3FLLWWQW5WSSH&dib=eyJ2IjoiMSJ9.fvoRQDrf80B7uH41cX9h5GT9r8u6HvzcsReakfyj5-UNNP8qoOEj9o6il1vcUgshMAxJZS3trpI4DqdiVwzaXUAyESzqQSLfocfVIndpA_Am1wY9dp5ZWBDe7mHhsDugJ9kVautLdRV8Gq-TcGzMRym6fJN0m0PHltxTr2WluntooMMiHqCyKpK1Jnnt-hWbC3kLYZ5ENIih6ls9rIJC813Mq4IJNYY5Ep5bMH-pCXKXe9F4lAC8SMVxB_fszc2oboHPtJlCYtkFVGiX-Z-fflOkPvSPvxZuPmUfliKDLpg.uePZBa-Pio6fp3d9IJDdtRW0WmCbj_zkcSaQnERaR5A&dib_tag=se&keywords=Guitar&qid=1712409352&sprefix=guitar%2Caps%2C462&sr=8-11',\n",
       " 'https://www.amazon.in/Intern-INT-38C-Acoustic-Guitar-Black/dp/B073B6TQQY/ref=sr_1_12?crid=3FLLWWQW5WSSH&dib=eyJ2IjoiMSJ9.fvoRQDrf80B7uH41cX9h5GT9r8u6HvzcsReakfyj5-UNNP8qoOEj9o6il1vcUgshMAxJZS3trpI4DqdiVwzaXUAyESzqQSLfocfVIndpA_Am1wY9dp5ZWBDe7mHhsDugJ9kVautLdRV8Gq-TcGzMRym6fJN0m0PHltxTr2WluntooMMiHqCyKpK1Jnnt-hWbC3kLYZ5ENIih6ls9rIJC813Mq4IJNYY5Ep5bMH-pCXKXe9F4lAC8SMVxB_fszc2oboHPtJlCYtkFVGiX-Z-fflOkPvSPvxZuPmUfliKDLpg.uePZBa-Pio6fp3d9IJDdtRW0WmCbj_zkcSaQnERaR5A&dib_tag=se&keywords=Guitar&qid=1712409352&sprefix=guitar%2Caps%2C462&sr=8-12',\n",
       " 'https://www.amazon.in/Yamaha-F310-6-Strings-Acoustic-Natural/dp/B000RVYW7E/ref=sr_1_13?crid=3FLLWWQW5WSSH&dib=eyJ2IjoiMSJ9.fvoRQDrf80B7uH41cX9h5GT9r8u6HvzcsReakfyj5-UNNP8qoOEj9o6il1vcUgshMAxJZS3trpI4DqdiVwzaXUAyESzqQSLfocfVIndpA_Am1wY9dp5ZWBDe7mHhsDugJ9kVautLdRV8Gq-TcGzMRym6fJN0m0PHltxTr2WluntooMMiHqCyKpK1Jnnt-hWbC3kLYZ5ENIih6ls9rIJC813Mq4IJNYY5Ep5bMH-pCXKXe9F4lAC8SMVxB_fszc2oboHPtJlCYtkFVGiX-Z-fflOkPvSPvxZuPmUfliKDLpg.uePZBa-Pio6fp3d9IJDdtRW0WmCbj_zkcSaQnERaR5A&dib_tag=se&keywords=Guitar&qid=1712409352&sprefix=guitar%2Caps%2C462&sr=8-13',\n",
       " 'https://www.amazon.in/Henrix-Acoustic-Guitar-Die-cast-Dual-action/dp/B07VNDW6QF/ref=sr_1_14?crid=3FLLWWQW5WSSH&dib=eyJ2IjoiMSJ9.fvoRQDrf80B7uH41cX9h5GT9r8u6HvzcsReakfyj5-UNNP8qoOEj9o6il1vcUgshMAxJZS3trpI4DqdiVwzaXUAyESzqQSLfocfVIndpA_Am1wY9dp5ZWBDe7mHhsDugJ9kVautLdRV8Gq-TcGzMRym6fJN0m0PHltxTr2WluntooMMiHqCyKpK1Jnnt-hWbC3kLYZ5ENIih6ls9rIJC813Mq4IJNYY5Ep5bMH-pCXKXe9F4lAC8SMVxB_fszc2oboHPtJlCYtkFVGiX-Z-fflOkPvSPvxZuPmUfliKDLpg.uePZBa-Pio6fp3d9IJDdtRW0WmCbj_zkcSaQnERaR5A&dib_tag=se&keywords=Guitar&qid=1712409352&sprefix=guitar%2Caps%2C462&sr=8-14',\n",
       " 'https://www.amazon.in/JUAREZ-JRZ38C-Acoustic-Sunburst-Strings/dp/B01FYYTDS6/ref=sr_1_15?crid=3FLLWWQW5WSSH&dib=eyJ2IjoiMSJ9.fvoRQDrf80B7uH41cX9h5GT9r8u6HvzcsReakfyj5-UNNP8qoOEj9o6il1vcUgshMAxJZS3trpI4DqdiVwzaXUAyESzqQSLfocfVIndpA_Am1wY9dp5ZWBDe7mHhsDugJ9kVautLdRV8Gq-TcGzMRym6fJN0m0PHltxTr2WluntooMMiHqCyKpK1Jnnt-hWbC3kLYZ5ENIih6ls9rIJC813Mq4IJNYY5Ep5bMH-pCXKXe9F4lAC8SMVxB_fszc2oboHPtJlCYtkFVGiX-Z-fflOkPvSPvxZuPmUfliKDLpg.uePZBa-Pio6fp3d9IJDdtRW0WmCbj_zkcSaQnERaR5A&dib_tag=se&keywords=Guitar&qid=1712409352&sprefix=guitar%2Caps%2C462&sr=8-15',\n",
       " 'https://www.amazon.in/Kadence-Frontier-Acoustic-Wihtout-strings/dp/B08PKJGRJB/ref=sr_1_16?crid=3FLLWWQW5WSSH&dib=eyJ2IjoiMSJ9.fvoRQDrf80B7uH41cX9h5GT9r8u6HvzcsReakfyj5-UNNP8qoOEj9o6il1vcUgshMAxJZS3trpI4DqdiVwzaXUAyESzqQSLfocfVIndpA_Am1wY9dp5ZWBDe7mHhsDugJ9kVautLdRV8Gq-TcGzMRym6fJN0m0PHltxTr2WluntooMMiHqCyKpK1Jnnt-hWbC3kLYZ5ENIih6ls9rIJC813Mq4IJNYY5Ep5bMH-pCXKXe9F4lAC8SMVxB_fszc2oboHPtJlCYtkFVGiX-Z-fflOkPvSPvxZuPmUfliKDLpg.uePZBa-Pio6fp3d9IJDdtRW0WmCbj_zkcSaQnERaR5A&dib_tag=se&keywords=Guitar&qid=1712409352&sprefix=guitar%2Caps%2C462&sr=8-16',\n",
       " 'https://www.amazon.in/JUAREZ-JRZ38C-Acoustic-Sunburst-Strings/dp/B01FYYTDTU/ref=sr_1_17?crid=3FLLWWQW5WSSH&dib=eyJ2IjoiMSJ9.fvoRQDrf80B7uH41cX9h5GT9r8u6HvzcsReakfyj5-UNNP8qoOEj9o6il1vcUgshMAxJZS3trpI4DqdiVwzaXUAyESzqQSLfocfVIndpA_Am1wY9dp5ZWBDe7mHhsDugJ9kVautLdRV8Gq-TcGzMRym6fJN0m0PHltxTr2WluntooMMiHqCyKpK1Jnnt-hWbC3kLYZ5ENIih6ls9rIJC813Mq4IJNYY5Ep5bMH-pCXKXe9F4lAC8SMVxB_fszc2oboHPtJlCYtkFVGiX-Z-fflOkPvSPvxZuPmUfliKDLpg.uePZBa-Pio6fp3d9IJDdtRW0WmCbj_zkcSaQnERaR5A&dib_tag=se&keywords=Guitar&qid=1712409352&sprefix=guitar%2Caps%2C462&sr=8-17',\n",
       " 'https://www.amazon.in/JRZ38C-VTS-Strings-Acoustic-Cutaway/dp/B072MFLQC9/ref=sr_1_18?crid=3FLLWWQW5WSSH&dib=eyJ2IjoiMSJ9.fvoRQDrf80B7uH41cX9h5GT9r8u6HvzcsReakfyj5-UNNP8qoOEj9o6il1vcUgshMAxJZS3trpI4DqdiVwzaXUAyESzqQSLfocfVIndpA_Am1wY9dp5ZWBDe7mHhsDugJ9kVautLdRV8Gq-TcGzMRym6fJN0m0PHltxTr2WluntooMMiHqCyKpK1Jnnt-hWbC3kLYZ5ENIih6ls9rIJC813Mq4IJNYY5Ep5bMH-pCXKXe9F4lAC8SMVxB_fszc2oboHPtJlCYtkFVGiX-Z-fflOkPvSPvxZuPmUfliKDLpg.uePZBa-Pio6fp3d9IJDdtRW0WmCbj_zkcSaQnERaR5A&dib_tag=se&keywords=Guitar&qid=1712409352&sprefix=guitar%2Caps%2C462&sr=8-18',\n",
       " 'https://www.amazon.in/Medellin-Acoustic-Guitar-learning-course/dp/B0CGRX6ZMF/ref=sr_1_19?crid=3FLLWWQW5WSSH&dib=eyJ2IjoiMSJ9.fvoRQDrf80B7uH41cX9h5GT9r8u6HvzcsReakfyj5-UNNP8qoOEj9o6il1vcUgshMAxJZS3trpI4DqdiVwzaXUAyESzqQSLfocfVIndpA_Am1wY9dp5ZWBDe7mHhsDugJ9kVautLdRV8Gq-TcGzMRym6fJN0m0PHltxTr2WluntooMMiHqCyKpK1Jnnt-hWbC3kLYZ5ENIih6ls9rIJC813Mq4IJNYY5Ep5bMH-pCXKXe9F4lAC8SMVxB_fszc2oboHPtJlCYtkFVGiX-Z-fflOkPvSPvxZuPmUfliKDLpg.uePZBa-Pio6fp3d9IJDdtRW0WmCbj_zkcSaQnERaR5A&dib_tag=se&keywords=Guitar&qid=1712409352&sprefix=guitar%2Caps%2C462&sr=8-19',\n",
       " 'https://www.amazon.in/Intern-Acoustic-Steel-string-plectrums-INT-38C-WH/dp/B09LR94Z2X/ref=sr_1_20?crid=3FLLWWQW5WSSH&dib=eyJ2IjoiMSJ9.fvoRQDrf80B7uH41cX9h5GT9r8u6HvzcsReakfyj5-UNNP8qoOEj9o6il1vcUgshMAxJZS3trpI4DqdiVwzaXUAyESzqQSLfocfVIndpA_Am1wY9dp5ZWBDe7mHhsDugJ9kVautLdRV8Gq-TcGzMRym6fJN0m0PHltxTr2WluntooMMiHqCyKpK1Jnnt-hWbC3kLYZ5ENIih6ls9rIJC813Mq4IJNYY5Ep5bMH-pCXKXe9F4lAC8SMVxB_fszc2oboHPtJlCYtkFVGiX-Z-fflOkPvSPvxZuPmUfliKDLpg.uePZBa-Pio6fp3d9IJDdtRW0WmCbj_zkcSaQnERaR5A&dib_tag=se&keywords=Guitar&qid=1712409352&sprefix=guitar%2Caps%2C462&sr=8-20',\n",
       " 'https://www.amazon.in/sspa/click?ie=UTF8&spc=MTo3MDYzMzAzNzg4OTAyMDk2OjE3MTI0MDkzNTI6c3BfbXRmOjMwMDExODE5OTcyMDAzMjo6MDo6&url=%2FMOCKING-BIRD-Beginners-Instruments-Accessories%2Fdp%2FB0CP24BLFD%2Fref%3Dsr_1_21_sspa%3Fcrid%3D3FLLWWQW5WSSH%26dib%3DeyJ2IjoiMSJ9.fvoRQDrf80B7uH41cX9h5GT9r8u6HvzcsReakfyj5-UNNP8qoOEj9o6il1vcUgshMAxJZS3trpI4DqdiVwzaXUAyESzqQSLfocfVIndpA_Am1wY9dp5ZWBDe7mHhsDugJ9kVautLdRV8Gq-TcGzMRym6fJN0m0PHltxTr2WluntooMMiHqCyKpK1Jnnt-hWbC3kLYZ5ENIih6ls9rIJC813Mq4IJNYY5Ep5bMH-pCXKXe9F4lAC8SMVxB_fszc2oboHPtJlCYtkFVGiX-Z-fflOkPvSPvxZuPmUfliKDLpg.uePZBa-Pio6fp3d9IJDdtRW0WmCbj_zkcSaQnERaR5A%26dib_tag%3Dse%26keywords%3DGuitar%26qid%3D1712409352%26sprefix%3Dguitar%252Caps%252C462%26sr%3D8-21-spons%26sp_csd%3Dd2lkZ2V0TmFtZT1zcF9tdGY%26psc%3D1%26smid%3DA3LV7VTSAWAMKT',\n",
       " 'https://www.amazon.in/sspa/click?ie=UTF8&spc=MTo3MDYzMzAzNzg4OTAyMDk2OjE3MTI0MDkzNTI6c3BfbXRmOjMwMDE0MTgxOTc5MjczMjo6MDo6&url=%2FRichtone-B239C-Natural-cutaway-Acoustic%2Fdp%2FB0CNW9RZ9D%2Fref%3Dsr_1_22_sspa%3Fcrid%3D3FLLWWQW5WSSH%26dib%3DeyJ2IjoiMSJ9.fvoRQDrf80B7uH41cX9h5GT9r8u6HvzcsReakfyj5-UNNP8qoOEj9o6il1vcUgshMAxJZS3trpI4DqdiVwzaXUAyESzqQSLfocfVIndpA_Am1wY9dp5ZWBDe7mHhsDugJ9kVautLdRV8Gq-TcGzMRym6fJN0m0PHltxTr2WluntooMMiHqCyKpK1Jnnt-hWbC3kLYZ5ENIih6ls9rIJC813Mq4IJNYY5Ep5bMH-pCXKXe9F4lAC8SMVxB_fszc2oboHPtJlCYtkFVGiX-Z-fflOkPvSPvxZuPmUfliKDLpg.uePZBa-Pio6fp3d9IJDdtRW0WmCbj_zkcSaQnERaR5A%26dib_tag%3Dse%26keywords%3DGuitar%26qid%3D1712409352%26sprefix%3Dguitar%252Caps%252C462%26sr%3D8-22-spons%26sp_csd%3Dd2lkZ2V0TmFtZT1zcF9tdGY%26psc%3D1',\n",
       " 'https://www.amazon.in/sspa/click?ie=UTF8&spc=MTo3MDYzMzAzNzg4OTAyMDk2OjE3MTI0MDkzNTI6c3BfbXRmOjMwMDEyMzgyODM4MDIzMjo6MDo6&url=%2FTraveller-Acoustic-Guitar-Strings-Polishing%2Fdp%2FB07RK9962M%2Fref%3Dsr_1_23_sspa%3Fcrid%3D3FLLWWQW5WSSH%26dib%3DeyJ2IjoiMSJ9.fvoRQDrf80B7uH41cX9h5GT9r8u6HvzcsReakfyj5-UNNP8qoOEj9o6il1vcUgshMAxJZS3trpI4DqdiVwzaXUAyESzqQSLfocfVIndpA_Am1wY9dp5ZWBDe7mHhsDugJ9kVautLdRV8Gq-TcGzMRym6fJN0m0PHltxTr2WluntooMMiHqCyKpK1Jnnt-hWbC3kLYZ5ENIih6ls9rIJC813Mq4IJNYY5Ep5bMH-pCXKXe9F4lAC8SMVxB_fszc2oboHPtJlCYtkFVGiX-Z-fflOkPvSPvxZuPmUfliKDLpg.uePZBa-Pio6fp3d9IJDdtRW0WmCbj_zkcSaQnERaR5A%26dib_tag%3Dse%26keywords%3DGuitar%26qid%3D1712409352%26sprefix%3Dguitar%252Caps%252C462%26sr%3D8-23-spons%26sp_csd%3Dd2lkZ2V0TmFtZT1zcF9tdGY%26psc%3D1',\n",
       " 'https://www.amazon.in/sspa/click?ie=UTF8&spc=MTo3MDYzMzAzNzg4OTAyMDk2OjE3MTI0MDkzNTI6c3BfbXRmOjIwMDkyNjI0MDIxNTk4OjowOjo&url=%2FDreadnought-Acoustic-Gig-Bag-Strings-Polishing%2Fdp%2FB0BJJRJVHY%2Fref%3Dsr_1_24_sspa%3Fcrid%3D3FLLWWQW5WSSH%26dib%3DeyJ2IjoiMSJ9.fvoRQDrf80B7uH41cX9h5GT9r8u6HvzcsReakfyj5-UNNP8qoOEj9o6il1vcUgshMAxJZS3trpI4DqdiVwzaXUAyESzqQSLfocfVIndpA_Am1wY9dp5ZWBDe7mHhsDugJ9kVautLdRV8Gq-TcGzMRym6fJN0m0PHltxTr2WluntooMMiHqCyKpK1Jnnt-hWbC3kLYZ5ENIih6ls9rIJC813Mq4IJNYY5Ep5bMH-pCXKXe9F4lAC8SMVxB_fszc2oboHPtJlCYtkFVGiX-Z-fflOkPvSPvxZuPmUfliKDLpg.uePZBa-Pio6fp3d9IJDdtRW0WmCbj_zkcSaQnERaR5A%26dib_tag%3Dse%26keywords%3DGuitar%26qid%3D1712409352%26sprefix%3Dguitar%252Caps%252C462%26sr%3D8-24-spons%26sp_csd%3Dd2lkZ2V0TmFtZT1zcF9tdGY%26psc%3D1',\n",
       " 'https://www.amazon.in/Juarez-JRZ-ST01-6-String-Electric-Without/dp/B01FYZSOGM/ref=sr_1_25?crid=3FLLWWQW5WSSH&dib=eyJ2IjoiMSJ9.fvoRQDrf80B7uH41cX9h5GT9r8u6HvzcsReakfyj5-UNNP8qoOEj9o6il1vcUgshMAxJZS3trpI4DqdiVwzaXUAyESzqQSLfocfVIndpA_Am1wY9dp5ZWBDe7mHhsDugJ9kVautLdRV8Gq-TcGzMRym6fJN0m0PHltxTr2WluntooMMiHqCyKpK1Jnnt-hWbC3kLYZ5ENIih6ls9rIJC813Mq4IJNYY5Ep5bMH-pCXKXe9F4lAC8SMVxB_fszc2oboHPtJlCYtkFVGiX-Z-fflOkPvSPvxZuPmUfliKDLpg.uePZBa-Pio6fp3d9IJDdtRW0WmCbj_zkcSaQnERaR5A&dib_tag=se&keywords=Guitar&qid=1712409352&sprefix=guitar%2Caps%2C462&sr=8-25',\n",
       " 'https://www.amazon.in/Yamaha-FS-100C-6-String-Acoustic-without/dp/B00PAS9CK6/ref=sr_1_26?crid=3FLLWWQW5WSSH&dib=eyJ2IjoiMSJ9.fvoRQDrf80B7uH41cX9h5GT9r8u6HvzcsReakfyj5-UNNP8qoOEj9o6il1vcUgshMAxJZS3trpI4DqdiVwzaXUAyESzqQSLfocfVIndpA_Am1wY9dp5ZWBDe7mHhsDugJ9kVautLdRV8Gq-TcGzMRym6fJN0m0PHltxTr2WluntooMMiHqCyKpK1Jnnt-hWbC3kLYZ5ENIih6ls9rIJC813Mq4IJNYY5Ep5bMH-pCXKXe9F4lAC8SMVxB_fszc2oboHPtJlCYtkFVGiX-Z-fflOkPvSPvxZuPmUfliKDLpg.uePZBa-Pio6fp3d9IJDdtRW0WmCbj_zkcSaQnERaR5A&dib_tag=se&keywords=Guitar&qid=1712409352&sprefix=guitar%2Caps%2C462&sr=8-26',\n",
       " 'https://www.amazon.in/YAMAHA-FS80C-CONCERT-CUTAWAY-GUITAR/dp/B08WBBVMVJ/ref=sr_1_27?crid=3FLLWWQW5WSSH&dib=eyJ2IjoiMSJ9.fvoRQDrf80B7uH41cX9h5GT9r8u6HvzcsReakfyj5-UNNP8qoOEj9o6il1vcUgshMAxJZS3trpI4DqdiVwzaXUAyESzqQSLfocfVIndpA_Am1wY9dp5ZWBDe7mHhsDugJ9kVautLdRV8Gq-TcGzMRym6fJN0m0PHltxTr2WluntooMMiHqCyKpK1Jnnt-hWbC3kLYZ5ENIih6ls9rIJC813Mq4IJNYY5Ep5bMH-pCXKXe9F4lAC8SMVxB_fszc2oboHPtJlCYtkFVGiX-Z-fflOkPvSPvxZuPmUfliKDLpg.uePZBa-Pio6fp3d9IJDdtRW0WmCbj_zkcSaQnERaR5A&dib_tag=se&keywords=Guitar&qid=1712409352&sprefix=guitar%2Caps%2C462&sr=8-27',\n",
       " 'https://www.amazon.in/Acoustic-Plectrums-Beginner-Learners-configuration/dp/B0B4SSB8BJ/ref=sr_1_28?crid=3FLLWWQW5WSSH&dib=eyJ2IjoiMSJ9.fvoRQDrf80B7uH41cX9h5GT9r8u6HvzcsReakfyj5-UNNP8qoOEj9o6il1vcUgshMAxJZS3trpI4DqdiVwzaXUAyESzqQSLfocfVIndpA_Am1wY9dp5ZWBDe7mHhsDugJ9kVautLdRV8Gq-TcGzMRym6fJN0m0PHltxTr2WluntooMMiHqCyKpK1Jnnt-hWbC3kLYZ5ENIih6ls9rIJC813Mq4IJNYY5Ep5bMH-pCXKXe9F4lAC8SMVxB_fszc2oboHPtJlCYtkFVGiX-Z-fflOkPvSPvxZuPmUfliKDLpg.uePZBa-Pio6fp3d9IJDdtRW0WmCbj_zkcSaQnERaR5A&dib_tag=se&keywords=Guitar&qid=1712409352&sprefix=guitar%2Caps%2C462&sr=8-28',\n",
       " 'https://www.amazon.in/Kadence-Frontier-Acoustic-Guitar-Strings/dp/B078GTJP5Y/ref=sr_1_29?crid=3FLLWWQW5WSSH&dib=eyJ2IjoiMSJ9.fvoRQDrf80B7uH41cX9h5GT9r8u6HvzcsReakfyj5-UNNP8qoOEj9o6il1vcUgshMAxJZS3trpI4DqdiVwzaXUAyESzqQSLfocfVIndpA_Am1wY9dp5ZWBDe7mHhsDugJ9kVautLdRV8Gq-TcGzMRym6fJN0m0PHltxTr2WluntooMMiHqCyKpK1Jnnt-hWbC3kLYZ5ENIih6ls9rIJC813Mq4IJNYY5Ep5bMH-pCXKXe9F4lAC8SMVxB_fszc2oboHPtJlCYtkFVGiX-Z-fflOkPvSPvxZuPmUfliKDLpg.uePZBa-Pio6fp3d9IJDdtRW0WmCbj_zkcSaQnERaR5A&dib_tag=se&keywords=Guitar&qid=1712409352&sprefix=guitar%2Caps%2C462&sr=8-29',\n",
       " 'https://www.amazon.in/Intern-INT-38C-Acoustic-Guitar-Sunburst/dp/B073B5MJRM/ref=sr_1_30?crid=3FLLWWQW5WSSH&dib=eyJ2IjoiMSJ9.fvoRQDrf80B7uH41cX9h5GT9r8u6HvzcsReakfyj5-UNNP8qoOEj9o6il1vcUgshMAxJZS3trpI4DqdiVwzaXUAyESzqQSLfocfVIndpA_Am1wY9dp5ZWBDe7mHhsDugJ9kVautLdRV8Gq-TcGzMRym6fJN0m0PHltxTr2WluntooMMiHqCyKpK1Jnnt-hWbC3kLYZ5ENIih6ls9rIJC813Mq4IJNYY5Ep5bMH-pCXKXe9F4lAC8SMVxB_fszc2oboHPtJlCYtkFVGiX-Z-fflOkPvSPvxZuPmUfliKDLpg.uePZBa-Pio6fp3d9IJDdtRW0WmCbj_zkcSaQnERaR5A&dib_tag=se&keywords=Guitar&qid=1712409352&sprefix=guitar%2Caps%2C462&sr=8-30',\n",
       " 'https://www.amazon.in/JUAREZ-JRZ38C-TBLSNA/dp/B0BCQKQ6CS/ref=sr_1_31?crid=3FLLWWQW5WSSH&dib=eyJ2IjoiMSJ9.fvoRQDrf80B7uH41cX9h5GT9r8u6HvzcsReakfyj5-UNNP8qoOEj9o6il1vcUgshMAxJZS3trpI4DqdiVwzaXUAyESzqQSLfocfVIndpA_Am1wY9dp5ZWBDe7mHhsDugJ9kVautLdRV8Gq-TcGzMRym6fJN0m0PHltxTr2WluntooMMiHqCyKpK1Jnnt-hWbC3kLYZ5ENIih6ls9rIJC813Mq4IJNYY5Ep5bMH-pCXKXe9F4lAC8SMVxB_fszc2oboHPtJlCYtkFVGiX-Z-fflOkPvSPvxZuPmUfliKDLpg.uePZBa-Pio6fp3d9IJDdtRW0WmCbj_zkcSaQnERaR5A&dib_tag=se&keywords=Guitar&qid=1712409352&sprefix=guitar%2Caps%2C462&sr=8-31',\n",
       " 'https://www.amazon.in/Kadence-Professional-Acoustic-Rosewood-Natural/dp/B0CC927DLN/ref=sr_1_32?crid=3FLLWWQW5WSSH&dib=eyJ2IjoiMSJ9.fvoRQDrf80B7uH41cX9h5GT9r8u6HvzcsReakfyj5-UNNP8qoOEj9o6il1vcUgshMAxJZS3trpI4DqdiVwzaXUAyESzqQSLfocfVIndpA_Am1wY9dp5ZWBDe7mHhsDugJ9kVautLdRV8Gq-TcGzMRym6fJN0m0PHltxTr2WluntooMMiHqCyKpK1Jnnt-hWbC3kLYZ5ENIih6ls9rIJC813Mq4IJNYY5Ep5bMH-pCXKXe9F4lAC8SMVxB_fszc2oboHPtJlCYtkFVGiX-Z-fflOkPvSPvxZuPmUfliKDLpg.uePZBa-Pio6fp3d9IJDdtRW0WmCbj_zkcSaQnERaR5A&dib_tag=se&keywords=Guitar&qid=1712409352&sprefix=guitar%2Caps%2C462&sr=8-32',\n",
       " 'https://www.amazon.in/Intern-INT-38C-Brown-Acoustic-Guitar/dp/B07X2HV158/ref=sr_1_33?crid=3FLLWWQW5WSSH&dib=eyJ2IjoiMSJ9.fvoRQDrf80B7uH41cX9h5GT9r8u6HvzcsReakfyj5-UNNP8qoOEj9o6il1vcUgshMAxJZS3trpI4DqdiVwzaXUAyESzqQSLfocfVIndpA_Am1wY9dp5ZWBDe7mHhsDugJ9kVautLdRV8Gq-TcGzMRym6fJN0m0PHltxTr2WluntooMMiHqCyKpK1Jnnt-hWbC3kLYZ5ENIih6ls9rIJC813Mq4IJNYY5Ep5bMH-pCXKXe9F4lAC8SMVxB_fszc2oboHPtJlCYtkFVGiX-Z-fflOkPvSPvxZuPmUfliKDLpg.uePZBa-Pio6fp3d9IJDdtRW0WmCbj_zkcSaQnERaR5A&dib_tag=se&keywords=Guitar&qid=1712409352&sprefix=guitar%2Caps%2C462&sr=8-33',\n",
       " 'https://www.amazon.in/Kadence-Slowhand-Premium-Acoustic-Instrument/dp/B077SZ667X/ref=sr_1_34?crid=3FLLWWQW5WSSH&dib=eyJ2IjoiMSJ9.fvoRQDrf80B7uH41cX9h5GT9r8u6HvzcsReakfyj5-UNNP8qoOEj9o6il1vcUgshMAxJZS3trpI4DqdiVwzaXUAyESzqQSLfocfVIndpA_Am1wY9dp5ZWBDe7mHhsDugJ9kVautLdRV8Gq-TcGzMRym6fJN0m0PHltxTr2WluntooMMiHqCyKpK1Jnnt-hWbC3kLYZ5ENIih6ls9rIJC813Mq4IJNYY5Ep5bMH-pCXKXe9F4lAC8SMVxB_fszc2oboHPtJlCYtkFVGiX-Z-fflOkPvSPvxZuPmUfliKDLpg.uePZBa-Pio6fp3d9IJDdtRW0WmCbj_zkcSaQnERaR5A&dib_tag=se&keywords=Guitar&qid=1712409352&sprefix=guitar%2Caps%2C462&sr=8-34',\n",
       " 'https://www.amazon.in/YAMAHA-NATURAL-CONCERT-CUTAWAY-GUITAR/dp/B08KW4DRKL/ref=sr_1_35?crid=3FLLWWQW5WSSH&dib=eyJ2IjoiMSJ9.fvoRQDrf80B7uH41cX9h5GT9r8u6HvzcsReakfyj5-UNNP8qoOEj9o6il1vcUgshMAxJZS3trpI4DqdiVwzaXUAyESzqQSLfocfVIndpA_Am1wY9dp5ZWBDe7mHhsDugJ9kVautLdRV8Gq-TcGzMRym6fJN0m0PHltxTr2WluntooMMiHqCyKpK1Jnnt-hWbC3kLYZ5ENIih6ls9rIJC813Mq4IJNYY5Ep5bMH-pCXKXe9F4lAC8SMVxB_fszc2oboHPtJlCYtkFVGiX-Z-fflOkPvSPvxZuPmUfliKDLpg.uePZBa-Pio6fp3d9IJDdtRW0WmCbj_zkcSaQnERaR5A&dib_tag=se&keywords=Guitar&qid=1712409352&sprefix=guitar%2Caps%2C462&sr=8-35',\n",
       " 'https://www.amazon.in/PS-Signature-41inch-Acoustic-Strings/dp/B0CGXL3VKG/ref=sr_1_36?crid=3FLLWWQW5WSSH&dib=eyJ2IjoiMSJ9.fvoRQDrf80B7uH41cX9h5GT9r8u6HvzcsReakfyj5-UNNP8qoOEj9o6il1vcUgshMAxJZS3trpI4DqdiVwzaXUAyESzqQSLfocfVIndpA_Am1wY9dp5ZWBDe7mHhsDugJ9kVautLdRV8Gq-TcGzMRym6fJN0m0PHltxTr2WluntooMMiHqCyKpK1Jnnt-hWbC3kLYZ5ENIih6ls9rIJC813Mq4IJNYY5Ep5bMH-pCXKXe9F4lAC8SMVxB_fszc2oboHPtJlCYtkFVGiX-Z-fflOkPvSPvxZuPmUfliKDLpg.uePZBa-Pio6fp3d9IJDdtRW0WmCbj_zkcSaQnERaR5A&dib_tag=se&keywords=Guitar&qid=1712409352&sprefix=guitar%2Caps%2C462&sr=8-36',\n",
       " 'https://www.amazon.in/Medellin-Acoustic-Guitar-learning-Strings/dp/B0CCNSN9BV/ref=sr_1_37?crid=3FLLWWQW5WSSH&dib=eyJ2IjoiMSJ9.fvoRQDrf80B7uH41cX9h5GT9r8u6HvzcsReakfyj5-UNNP8qoOEj9o6il1vcUgshMAxJZS3trpI4DqdiVwzaXUAyESzqQSLfocfVIndpA_Am1wY9dp5ZWBDe7mHhsDugJ9kVautLdRV8Gq-TcGzMRym6fJN0m0PHltxTr2WluntooMMiHqCyKpK1Jnnt-hWbC3kLYZ5ENIih6ls9rIJC813Mq4IJNYY5Ep5bMH-pCXKXe9F4lAC8SMVxB_fszc2oboHPtJlCYtkFVGiX-Z-fflOkPvSPvxZuPmUfliKDLpg.uePZBa-Pio6fp3d9IJDdtRW0WmCbj_zkcSaQnERaR5A&dib_tag=se&keywords=Guitar&qid=1712409352&sprefix=guitar%2Caps%2C462&sr=8-37',\n",
       " 'https://www.amazon.in/Yamaha-FX280-acoustic-Dreadnought-Natural/dp/B09HR6BNFQ/ref=sr_1_38?crid=3FLLWWQW5WSSH&dib=eyJ2IjoiMSJ9.fvoRQDrf80B7uH41cX9h5GT9r8u6HvzcsReakfyj5-UNNP8qoOEj9o6il1vcUgshMAxJZS3trpI4DqdiVwzaXUAyESzqQSLfocfVIndpA_Am1wY9dp5ZWBDe7mHhsDugJ9kVautLdRV8Gq-TcGzMRym6fJN0m0PHltxTr2WluntooMMiHqCyKpK1Jnnt-hWbC3kLYZ5ENIih6ls9rIJC813Mq4IJNYY5Ep5bMH-pCXKXe9F4lAC8SMVxB_fszc2oboHPtJlCYtkFVGiX-Z-fflOkPvSPvxZuPmUfliKDLpg.uePZBa-Pio6fp3d9IJDdtRW0WmCbj_zkcSaQnERaR5A&dib_tag=se&keywords=Guitar&qid=1712409352&sprefix=guitar%2Caps%2C462&sr=8-38',\n",
       " 'https://www.amazon.in/Yamaha-FSX80C-Acoustic-Cutaway-Natural/dp/B09HL3GFZF/ref=sr_1_39?crid=3FLLWWQW5WSSH&dib=eyJ2IjoiMSJ9.fvoRQDrf80B7uH41cX9h5GT9r8u6HvzcsReakfyj5-UNNP8qoOEj9o6il1vcUgshMAxJZS3trpI4DqdiVwzaXUAyESzqQSLfocfVIndpA_Am1wY9dp5ZWBDe7mHhsDugJ9kVautLdRV8Gq-TcGzMRym6fJN0m0PHltxTr2WluntooMMiHqCyKpK1Jnnt-hWbC3kLYZ5ENIih6ls9rIJC813Mq4IJNYY5Ep5bMH-pCXKXe9F4lAC8SMVxB_fszc2oboHPtJlCYtkFVGiX-Z-fflOkPvSPvxZuPmUfliKDLpg.uePZBa-Pio6fp3d9IJDdtRW0WmCbj_zkcSaQnERaR5A&dib_tag=se&keywords=Guitar&qid=1712409352&sprefix=guitar%2Caps%2C462&sr=8-39',\n",
       " 'https://www.amazon.in/Kadence-Slowhand-Mahogany-Acoustic-KSH03-12EQ/dp/B0CGDDPVKK/ref=sr_1_40?crid=3FLLWWQW5WSSH&dib=eyJ2IjoiMSJ9.fvoRQDrf80B7uH41cX9h5GT9r8u6HvzcsReakfyj5-UNNP8qoOEj9o6il1vcUgshMAxJZS3trpI4DqdiVwzaXUAyESzqQSLfocfVIndpA_Am1wY9dp5ZWBDe7mHhsDugJ9kVautLdRV8Gq-TcGzMRym6fJN0m0PHltxTr2WluntooMMiHqCyKpK1Jnnt-hWbC3kLYZ5ENIih6ls9rIJC813Mq4IJNYY5Ep5bMH-pCXKXe9F4lAC8SMVxB_fszc2oboHPtJlCYtkFVGiX-Z-fflOkPvSPvxZuPmUfliKDLpg.uePZBa-Pio6fp3d9IJDdtRW0WmCbj_zkcSaQnERaR5A&dib_tag=se&keywords=Guitar&qid=1712409352&sprefix=guitar%2Caps%2C462&sr=8-40',\n",
       " 'https://www.amazon.in/Kadence-Acoustica-Acoustic-Guitar-Zebra/dp/B07KXNKLJ2/ref=sr_1_41?crid=3FLLWWQW5WSSH&dib=eyJ2IjoiMSJ9.fvoRQDrf80B7uH41cX9h5GT9r8u6HvzcsReakfyj5-UNNP8qoOEj9o6il1vcUgshMAxJZS3trpI4DqdiVwzaXUAyESzqQSLfocfVIndpA_Am1wY9dp5ZWBDe7mHhsDugJ9kVautLdRV8Gq-TcGzMRym6fJN0m0PHltxTr2WluntooMMiHqCyKpK1Jnnt-hWbC3kLYZ5ENIih6ls9rIJC813Mq4IJNYY5Ep5bMH-pCXKXe9F4lAC8SMVxB_fszc2oboHPtJlCYtkFVGiX-Z-fflOkPvSPvxZuPmUfliKDLpg.uePZBa-Pio6fp3d9IJDdtRW0WmCbj_zkcSaQnERaR5A&dib_tag=se&keywords=Guitar&qid=1712409352&sprefix=guitar%2Caps%2C462&sr=8-41',\n",
       " 'https://www.amazon.in/JUAREZ-JRZ38C-Acoustic-Natural-Strings/dp/B01FYYTDWC/ref=sr_1_42?crid=3FLLWWQW5WSSH&dib=eyJ2IjoiMSJ9.fvoRQDrf80B7uH41cX9h5GT9r8u6HvzcsReakfyj5-UNNP8qoOEj9o6il1vcUgshMAxJZS3trpI4DqdiVwzaXUAyESzqQSLfocfVIndpA_Am1wY9dp5ZWBDe7mHhsDugJ9kVautLdRV8Gq-TcGzMRym6fJN0m0PHltxTr2WluntooMMiHqCyKpK1Jnnt-hWbC3kLYZ5ENIih6ls9rIJC813Mq4IJNYY5Ep5bMH-pCXKXe9F4lAC8SMVxB_fszc2oboHPtJlCYtkFVGiX-Z-fflOkPvSPvxZuPmUfliKDLpg.uePZBa-Pio6fp3d9IJDdtRW0WmCbj_zkcSaQnERaR5A&dib_tag=se&keywords=Guitar&qid=1712409352&sprefix=guitar%2Caps%2C462&sr=8-42',\n",
       " 'https://www.amazon.in/Juarez-Acoustic-Guitar-Cutaway-JRZ38CT/dp/B01N3TTYJQ/ref=sr_1_43?crid=3FLLWWQW5WSSH&dib=eyJ2IjoiMSJ9.fvoRQDrf80B7uH41cX9h5GT9r8u6HvzcsReakfyj5-UNNP8qoOEj9o6il1vcUgshMAxJZS3trpI4DqdiVwzaXUAyESzqQSLfocfVIndpA_Am1wY9dp5ZWBDe7mHhsDugJ9kVautLdRV8Gq-TcGzMRym6fJN0m0PHltxTr2WluntooMMiHqCyKpK1Jnnt-hWbC3kLYZ5ENIih6ls9rIJC813Mq4IJNYY5Ep5bMH-pCXKXe9F4lAC8SMVxB_fszc2oboHPtJlCYtkFVGiX-Z-fflOkPvSPvxZuPmUfliKDLpg.uePZBa-Pio6fp3d9IJDdtRW0WmCbj_zkcSaQnERaR5A&dib_tag=se&keywords=Guitar&qid=1712409352&sprefix=guitar%2Caps%2C462&sr=8-43',\n",
       " 'https://www.amazon.in/FX280-acoustic-Dreadnought-Tobacco-Sunburst/dp/B09HR7BXGW/ref=sr_1_44?crid=3FLLWWQW5WSSH&dib=eyJ2IjoiMSJ9.fvoRQDrf80B7uH41cX9h5GT9r8u6HvzcsReakfyj5-UNNP8qoOEj9o6il1vcUgshMAxJZS3trpI4DqdiVwzaXUAyESzqQSLfocfVIndpA_Am1wY9dp5ZWBDe7mHhsDugJ9kVautLdRV8Gq-TcGzMRym6fJN0m0PHltxTr2WluntooMMiHqCyKpK1Jnnt-hWbC3kLYZ5ENIih6ls9rIJC813Mq4IJNYY5Ep5bMH-pCXKXe9F4lAC8SMVxB_fszc2oboHPtJlCYtkFVGiX-Z-fflOkPvSPvxZuPmUfliKDLpg.uePZBa-Pio6fp3d9IJDdtRW0WmCbj_zkcSaQnERaR5A&dib_tag=se&keywords=Guitar&qid=1712409352&sprefix=guitar%2Caps%2C462&sr=8-44',\n",
       " 'https://www.amazon.in/JUAREZ-Acoustic-Guitar-String-JRGSE32/dp/B08MW1WPW5/ref=sr_1_45?crid=3FLLWWQW5WSSH&dib=eyJ2IjoiMSJ9.fvoRQDrf80B7uH41cX9h5GT9r8u6HvzcsReakfyj5-UNNP8qoOEj9o6il1vcUgshMAxJZS3trpI4DqdiVwzaXUAyESzqQSLfocfVIndpA_Am1wY9dp5ZWBDe7mHhsDugJ9kVautLdRV8Gq-TcGzMRym6fJN0m0PHltxTr2WluntooMMiHqCyKpK1Jnnt-hWbC3kLYZ5ENIih6ls9rIJC813Mq4IJNYY5Ep5bMH-pCXKXe9F4lAC8SMVxB_fszc2oboHPtJlCYtkFVGiX-Z-fflOkPvSPvxZuPmUfliKDLpg.uePZBa-Pio6fp3d9IJDdtRW0WmCbj_zkcSaQnERaR5A&dib_tag=se&keywords=Guitar&qid=1712409352&sprefix=guitar%2Caps%2C462&sr=8-45',\n",
       " 'https://www.amazon.in/Kadence-Acoustica-Ash-Wood-Equlizer/dp/B0757H5P13/ref=sr_1_46?crid=3FLLWWQW5WSSH&dib=eyJ2IjoiMSJ9.fvoRQDrf80B7uH41cX9h5GT9r8u6HvzcsReakfyj5-UNNP8qoOEj9o6il1vcUgshMAxJZS3trpI4DqdiVwzaXUAyESzqQSLfocfVIndpA_Am1wY9dp5ZWBDe7mHhsDugJ9kVautLdRV8Gq-TcGzMRym6fJN0m0PHltxTr2WluntooMMiHqCyKpK1Jnnt-hWbC3kLYZ5ENIih6ls9rIJC813Mq4IJNYY5Ep5bMH-pCXKXe9F4lAC8SMVxB_fszc2oboHPtJlCYtkFVGiX-Z-fflOkPvSPvxZuPmUfliKDLpg.uePZBa-Pio6fp3d9IJDdtRW0WmCbj_zkcSaQnERaR5A&dib_tag=se&keywords=Guitar&qid=1712409352&sprefix=guitar%2Caps%2C462&sr=8-46',\n",
       " 'https://www.amazon.in/Kadence-Acoustica-Acoustic-Guitar-A03/dp/B08WCTFVT9/ref=sr_1_47?crid=3FLLWWQW5WSSH&dib=eyJ2IjoiMSJ9.fvoRQDrf80B7uH41cX9h5GT9r8u6HvzcsReakfyj5-UNNP8qoOEj9o6il1vcUgshMAxJZS3trpI4DqdiVwzaXUAyESzqQSLfocfVIndpA_Am1wY9dp5ZWBDe7mHhsDugJ9kVautLdRV8Gq-TcGzMRym6fJN0m0PHltxTr2WluntooMMiHqCyKpK1Jnnt-hWbC3kLYZ5ENIih6ls9rIJC813Mq4IJNYY5Ep5bMH-pCXKXe9F4lAC8SMVxB_fszc2oboHPtJlCYtkFVGiX-Z-fflOkPvSPvxZuPmUfliKDLpg.uePZBa-Pio6fp3d9IJDdtRW0WmCbj_zkcSaQnERaR5A&dib_tag=se&keywords=Guitar&qid=1712409352&sprefix=guitar%2Caps%2C462&sr=8-47',\n",
       " 'https://www.amazon.in/FS80C-Acoustic-Cutaway-Concert-Plectrums/dp/B08XVV1WH7/ref=sr_1_48?crid=3FLLWWQW5WSSH&dib=eyJ2IjoiMSJ9.fvoRQDrf80B7uH41cX9h5GT9r8u6HvzcsReakfyj5-UNNP8qoOEj9o6il1vcUgshMAxJZS3trpI4DqdiVwzaXUAyESzqQSLfocfVIndpA_Am1wY9dp5ZWBDe7mHhsDugJ9kVautLdRV8Gq-TcGzMRym6fJN0m0PHltxTr2WluntooMMiHqCyKpK1Jnnt-hWbC3kLYZ5ENIih6ls9rIJC813Mq4IJNYY5Ep5bMH-pCXKXe9F4lAC8SMVxB_fszc2oboHPtJlCYtkFVGiX-Z-fflOkPvSPvxZuPmUfliKDLpg.uePZBa-Pio6fp3d9IJDdtRW0WmCbj_zkcSaQnERaR5A&dib_tag=se&keywords=Guitar&qid=1712409352&sprefix=guitar%2Caps%2C462&sr=8-48',\n",
       " 'https://www.amazon.in/Strings-Straps-String-winder-Polishing/dp/B07RV9FJ2Z/ref=sr_1_49?crid=3FLLWWQW5WSSH&dib=eyJ2IjoiMSJ9.fvoRQDrf80B7uH41cX9h5GT9r8u6HvzcsReakfyj5-UNNP8qoOEj9o6il1vcUgshMAxJZS3trpI4DqdiVwzaXUAyESzqQSLfocfVIndpA_Am1wY9dp5ZWBDe7mHhsDugJ9kVautLdRV8Gq-TcGzMRym6fJN0m0PHltxTr2WluntooMMiHqCyKpK1Jnnt-hWbC3kLYZ5ENIih6ls9rIJC813Mq4IJNYY5Ep5bMH-pCXKXe9F4lAC8SMVxB_fszc2oboHPtJlCYtkFVGiX-Z-fflOkPvSPvxZuPmUfliKDLpg.uePZBa-Pio6fp3d9IJDdtRW0WmCbj_zkcSaQnERaR5A&dib_tag=se&keywords=Guitar&qid=1712409352&sprefix=guitar%2Caps%2C462&sr=8-49',\n",
       " 'https://www.amazon.in/Alice-A206-Phosphor-Bronze-Strings/dp/B00QAFCNK4/ref=sr_1_50?crid=3FLLWWQW5WSSH&dib=eyJ2IjoiMSJ9.fvoRQDrf80B7uH41cX9h5GT9r8u6HvzcsReakfyj5-UNNP8qoOEj9o6il1vcUgshMAxJZS3trpI4DqdiVwzaXUAyESzqQSLfocfVIndpA_Am1wY9dp5ZWBDe7mHhsDugJ9kVautLdRV8Gq-TcGzMRym6fJN0m0PHltxTr2WluntooMMiHqCyKpK1Jnnt-hWbC3kLYZ5ENIih6ls9rIJC813Mq4IJNYY5Ep5bMH-pCXKXe9F4lAC8SMVxB_fszc2oboHPtJlCYtkFVGiX-Z-fflOkPvSPvxZuPmUfliKDLpg.uePZBa-Pio6fp3d9IJDdtRW0WmCbj_zkcSaQnERaR5A&dib_tag=se&keywords=Guitar&qid=1712409352&sprefix=guitar%2Caps%2C462&sr=8-50',\n",
       " 'https://www.amazon.in/Juarez-Strings-Acoustic-Cutaway-Zebrawood/dp/B072Q9L8DG/ref=sr_1_51?crid=3FLLWWQW5WSSH&dib=eyJ2IjoiMSJ9.fvoRQDrf80B7uH41cX9h5GT9r8u6HvzcsReakfyj5-UNNP8qoOEj9o6il1vcUgshMAxJZS3trpI4DqdiVwzaXUAyESzqQSLfocfVIndpA_Am1wY9dp5ZWBDe7mHhsDugJ9kVautLdRV8Gq-TcGzMRym6fJN0m0PHltxTr2WluntooMMiHqCyKpK1Jnnt-hWbC3kLYZ5ENIih6ls9rIJC813Mq4IJNYY5Ep5bMH-pCXKXe9F4lAC8SMVxB_fszc2oboHPtJlCYtkFVGiX-Z-fflOkPvSPvxZuPmUfliKDLpg.uePZBa-Pio6fp3d9IJDdtRW0WmCbj_zkcSaQnERaR5A&dib_tag=se&keywords=Guitar&qid=1712409352&sprefix=guitar%2Caps%2C462&sr=8-51',\n",
       " 'https://www.amazon.in/Ultimate-Concert-Cutaway-Acoustic-Bajaao/dp/B08WHWKKV5/ref=sr_1_52?crid=3FLLWWQW5WSSH&dib=eyJ2IjoiMSJ9.fvoRQDrf80B7uH41cX9h5GT9r8u6HvzcsReakfyj5-UNNP8qoOEj9o6il1vcUgshMAxJZS3trpI4DqdiVwzaXUAyESzqQSLfocfVIndpA_Am1wY9dp5ZWBDe7mHhsDugJ9kVautLdRV8Gq-TcGzMRym6fJN0m0PHltxTr2WluntooMMiHqCyKpK1Jnnt-hWbC3kLYZ5ENIih6ls9rIJC813Mq4IJNYY5Ep5bMH-pCXKXe9F4lAC8SMVxB_fszc2oboHPtJlCYtkFVGiX-Z-fflOkPvSPvxZuPmUfliKDLpg.uePZBa-Pio6fp3d9IJDdtRW0WmCbj_zkcSaQnERaR5A&dib_tag=se&keywords=Guitar&qid=1712409352&sprefix=guitar%2Caps%2C462&sr=8-52',\n",
       " 'https://www.amazon.in/Blueberry-38C-Acoustic-Guitar-Strings/dp/B08KLMV4XX/ref=sr_1_53?crid=3FLLWWQW5WSSH&dib=eyJ2IjoiMSJ9.fvoRQDrf80B7uH41cX9h5GT9r8u6HvzcsReakfyj5-UNNP8qoOEj9o6il1vcUgshMAxJZS3trpI4DqdiVwzaXUAyESzqQSLfocfVIndpA_Am1wY9dp5ZWBDe7mHhsDugJ9kVautLdRV8Gq-TcGzMRym6fJN0m0PHltxTr2WluntooMMiHqCyKpK1Jnnt-hWbC3kLYZ5ENIih6ls9rIJC813Mq4IJNYY5Ep5bMH-pCXKXe9F4lAC8SMVxB_fszc2oboHPtJlCYtkFVGiX-Z-fflOkPvSPvxZuPmUfliKDLpg.uePZBa-Pio6fp3d9IJDdtRW0WmCbj_zkcSaQnERaR5A&dib_tag=se&keywords=Guitar&qid=1712409352&sprefix=guitar%2Caps%2C462&sr=8-53',\n",
       " 'https://www.amazon.in/Cort-SFX-MEM-Electro-Acoustic-Guitar/dp/B0915ZCZWK/ref=sr_1_54?crid=3FLLWWQW5WSSH&dib=eyJ2IjoiMSJ9.fvoRQDrf80B7uH41cX9h5GT9r8u6HvzcsReakfyj5-UNNP8qoOEj9o6il1vcUgshMAxJZS3trpI4DqdiVwzaXUAyESzqQSLfocfVIndpA_Am1wY9dp5ZWBDe7mHhsDugJ9kVautLdRV8Gq-TcGzMRym6fJN0m0PHltxTr2WluntooMMiHqCyKpK1Jnnt-hWbC3kLYZ5ENIih6ls9rIJC813Mq4IJNYY5Ep5bMH-pCXKXe9F4lAC8SMVxB_fszc2oboHPtJlCYtkFVGiX-Z-fflOkPvSPvxZuPmUfliKDLpg.uePZBa-Pio6fp3d9IJDdtRW0WmCbj_zkcSaQnERaR5A&dib_tag=se&keywords=Guitar&qid=1712409352&sprefix=guitar%2Caps%2C462&sr=8-54',\n",
       " 'https://www.amazon.in/Acoustic-Strings-Rosette-Rosewood-Fretboard/dp/B09FPQX7RN/ref=sr_1_55?crid=3FLLWWQW5WSSH&dib=eyJ2IjoiMSJ9.fvoRQDrf80B7uH41cX9h5GT9r8u6HvzcsReakfyj5-UNNP8qoOEj9o6il1vcUgshMAxJZS3trpI4DqdiVwzaXUAyESzqQSLfocfVIndpA_Am1wY9dp5ZWBDe7mHhsDugJ9kVautLdRV8Gq-TcGzMRym6fJN0m0PHltxTr2WluntooMMiHqCyKpK1Jnnt-hWbC3kLYZ5ENIih6ls9rIJC813Mq4IJNYY5Ep5bMH-pCXKXe9F4lAC8SMVxB_fszc2oboHPtJlCYtkFVGiX-Z-fflOkPvSPvxZuPmUfliKDLpg.uePZBa-Pio6fp3d9IJDdtRW0WmCbj_zkcSaQnERaR5A&dib_tag=se&keywords=Guitar&qid=1712409352&sprefix=guitar%2Caps%2C462&sr=8-55',\n",
       " 'https://www.amazon.in/Yamaha-FS100C-Acoustic-Guitars-Natural/dp/B00QKD79QE/ref=sr_1_56?crid=3FLLWWQW5WSSH&dib=eyJ2IjoiMSJ9.fvoRQDrf80B7uH41cX9h5GT9r8u6HvzcsReakfyj5-UNNP8qoOEj9o6il1vcUgshMAxJZS3trpI4DqdiVwzaXUAyESzqQSLfocfVIndpA_Am1wY9dp5ZWBDe7mHhsDugJ9kVautLdRV8Gq-TcGzMRym6fJN0m0PHltxTr2WluntooMMiHqCyKpK1Jnnt-hWbC3kLYZ5ENIih6ls9rIJC813Mq4IJNYY5Ep5bMH-pCXKXe9F4lAC8SMVxB_fszc2oboHPtJlCYtkFVGiX-Z-fflOkPvSPvxZuPmUfliKDLpg.uePZBa-Pio6fp3d9IJDdtRW0WmCbj_zkcSaQnERaR5A&dib_tag=se&keywords=Guitar&qid=1712409352&sprefix=guitar%2Caps%2C462&sr=8-56',\n",
       " 'https://www.amazon.in/sspa/click?ie=UTF8&spc=MTo3MDYzMzAzNzg4OTAyMDk2OjE3MTI0MDkzNTI6c3BfYnRmOjMwMDE0MTc5MzY3NTMzMjo6MDo6&url=%2FGuitar-Tailpiece-Guitars-Bridge-Replacement%2Fdp%2FB0BWYSZW1Y%2Fref%3Dsr_1_57_sspa%3Fcrid%3D3FLLWWQW5WSSH%26dib%3DeyJ2IjoiMSJ9.fvoRQDrf80B7uH41cX9h5GT9r8u6HvzcsReakfyj5-UNNP8qoOEj9o6il1vcUgshMAxJZS3trpI4DqdiVwzaXUAyESzqQSLfocfVIndpA_Am1wY9dp5ZWBDe7mHhsDugJ9kVautLdRV8Gq-TcGzMRym6fJN0m0PHltxTr2WluntooMMiHqCyKpK1Jnnt-hWbC3kLYZ5ENIih6ls9rIJC813Mq4IJNYY5Ep5bMH-pCXKXe9F4lAC8SMVxB_fszc2oboHPtJlCYtkFVGiX-Z-fflOkPvSPvxZuPmUfliKDLpg.uePZBa-Pio6fp3d9IJDdtRW0WmCbj_zkcSaQnERaR5A%26dib_tag%3Dse%26keywords%3DGuitar%26qid%3D1712409352%26sprefix%3Dguitar%252Caps%252C462%26sr%3D8-57-spons%26sp_csd%3Dd2lkZ2V0TmFtZT1zcF9idGY%26psc%3D1',\n",
       " 'https://www.amazon.in/sspa/click?ie=UTF8&spc=MTo3MDYzMzAzNzg4OTAyMDk2OjE3MTI0MDkzNTI6c3BfYnRmOjMwMDA1MTQxODc2ODkzMjo6MDo6&url=%2FAmericanElm-Wooden-Guitar-Crafts-Decoration%2Fdp%2FB09BR659CK%2Fref%3Dsr_1_58_sspa%3Fcrid%3D3FLLWWQW5WSSH%26dib%3DeyJ2IjoiMSJ9.fvoRQDrf80B7uH41cX9h5GT9r8u6HvzcsReakfyj5-UNNP8qoOEj9o6il1vcUgshMAxJZS3trpI4DqdiVwzaXUAyESzqQSLfocfVIndpA_Am1wY9dp5ZWBDe7mHhsDugJ9kVautLdRV8Gq-TcGzMRym6fJN0m0PHltxTr2WluntooMMiHqCyKpK1Jnnt-hWbC3kLYZ5ENIih6ls9rIJC813Mq4IJNYY5Ep5bMH-pCXKXe9F4lAC8SMVxB_fszc2oboHPtJlCYtkFVGiX-Z-fflOkPvSPvxZuPmUfliKDLpg.uePZBa-Pio6fp3d9IJDdtRW0WmCbj_zkcSaQnERaR5A%26dib_tag%3Dse%26keywords%3DGuitar%26qid%3D1712409352%26sprefix%3Dguitar%252Caps%252C462%26sr%3D8-58-spons%26sp_csd%3Dd2lkZ2V0TmFtZT1zcF9idGY%26psc%3D1',\n",
       " 'https://www.amazon.in/sspa/click?ie=UTF8&spc=MTo3MDYzMzAzNzg4OTAyMDk2OjE3MTI0MDkzNTI6c3BfYnRmOjMwMDEzMjUxNDYxODEzMjo6MDo6&url=%2FKetsicart-Purfling-Celluloid-Material-Accessories%2Fdp%2FB0CDS9V4WJ%2Fref%3Dsr_1_59_sspa%3Fcrid%3D3FLLWWQW5WSSH%26dib%3DeyJ2IjoiMSJ9.fvoRQDrf80B7uH41cX9h5GT9r8u6HvzcsReakfyj5-UNNP8qoOEj9o6il1vcUgshMAxJZS3trpI4DqdiVwzaXUAyESzqQSLfocfVIndpA_Am1wY9dp5ZWBDe7mHhsDugJ9kVautLdRV8Gq-TcGzMRym6fJN0m0PHltxTr2WluntooMMiHqCyKpK1Jnnt-hWbC3kLYZ5ENIih6ls9rIJC813Mq4IJNYY5Ep5bMH-pCXKXe9F4lAC8SMVxB_fszc2oboHPtJlCYtkFVGiX-Z-fflOkPvSPvxZuPmUfliKDLpg.uePZBa-Pio6fp3d9IJDdtRW0WmCbj_zkcSaQnERaR5A%26dib_tag%3Dse%26keywords%3DGuitar%26qid%3D1712409352%26sprefix%3Dguitar%252Caps%252C462%26sr%3D8-59-spons%26sp_csd%3Dd2lkZ2V0TmFtZT1zcF9idGY%26psc%3D1',\n",
       " 'https://www.amazon.in/sspa/click?ie=UTF8&spc=MTo3MDYzMzAzNzg4OTAyMDk2OjE3MTI0MDkzNTI6c3BfYnRmOjMwMDE0NTY4MTU4MTYzMjo6MDo6&url=%2FSG-Musical-Guitar-Strap-Button%2Fdp%2FB0B9WXN1NG%2Fref%3Dsr_1_60_sspa%3Fcrid%3D3FLLWWQW5WSSH%26dib%3DeyJ2IjoiMSJ9.fvoRQDrf80B7uH41cX9h5GT9r8u6HvzcsReakfyj5-UNNP8qoOEj9o6il1vcUgshMAxJZS3trpI4DqdiVwzaXUAyESzqQSLfocfVIndpA_Am1wY9dp5ZWBDe7mHhsDugJ9kVautLdRV8Gq-TcGzMRym6fJN0m0PHltxTr2WluntooMMiHqCyKpK1Jnnt-hWbC3kLYZ5ENIih6ls9rIJC813Mq4IJNYY5Ep5bMH-pCXKXe9F4lAC8SMVxB_fszc2oboHPtJlCYtkFVGiX-Z-fflOkPvSPvxZuPmUfliKDLpg.uePZBa-Pio6fp3d9IJDdtRW0WmCbj_zkcSaQnERaR5A%26dib_tag%3Dse%26keywords%3DGuitar%26qid%3D1712409352%26sprefix%3Dguitar%252Caps%252C462%26sr%3D8-60-spons%26sp_csd%3Dd2lkZ2V0TmFtZT1zcF9idGY%26psc%3D1',\n",
       " 'https://www.amazon.in/sspa/click?ie=UTF8&spc=MTozMjA0NTg4NjU4Nzg5MDk2OjE3MTI0MDkzNTI6c3Bfc2VhcmNoX3RoZW1hdGljOjMwMDAxNTUwODk1NDEzMjo6MDo6&url=%2FKadence-Frontier-Acoustic-Guitar-Strings%2Fdp%2FB01GDZ46AA%2Fref%3Dsxbs_pa_sp_search_thematic_sspa%3Fcontent-id%3Damzn1.sym.a83da621-77e7-4296-a3f4-89ab1b9d499e%253Aamzn1.sym.a83da621-77e7-4296-a3f4-89ab1b9d499e%26crid%3D3FLLWWQW5WSSH%26cv_ct_cx%3DGuitar%26dib%3DeyJ2IjoiMSJ9.dxxUgg0YV5PJjnSYXA_vEJS_utv3FeAcxhlu5vF-gTeSxNlXooSpPOobuZBgpWJw.EJN1EBQtaMiUB3bvKjdSCHQK5jPfKaEMd1l-mhAbOYg%26dib_tag%3Dse%26keywords%3DGuitar%26pd_rd_i%3DB01GDZ46AA%26pd_rd_r%3D765f6f4e-f27b-46b0-8f54-cef8da946c7b%26pd_rd_w%3Dar73X%26pd_rd_wg%3DMmqIh%26pf_rd_p%3Da83da621-77e7-4296-a3f4-89ab1b9d499e%26pf_rd_r%3DRR3KKDPKWK43N17WPZY6%26qid%3D1712409352%26sbo%3DRZvfv%252F%252FHxDF%252BO5021pAnSA%253D%253D%26sprefix%3Dguitar%252Caps%252C462%26sr%3D1-1-2907eac4-8056-42c7-8014-fdf7bd4c5395-spons%26sp_csd%3Dd2lkZ2V0TmFtZT1zcF9zZWFyY2hfdGhlbWF0aWM%26psc%3D1',\n",
       " 'https://www.amazon.in/sspa/click?ie=UTF8&spc=MTozMjA0NTg4NjU4Nzg5MDk2OjE3MTI0MDkzNTI6c3Bfc2VhcmNoX3RoZW1hdGljOjMwMDAxNTUzNzk3OTIzMjo6MTo6&url=%2FKadence-Frontier-Acoustic-Guitar-Strings%2Fdp%2FB078GTJP5Y%2Fref%3Dsxbs_pa_sp_search_thematic_sspa%3Fcontent-id%3Damzn1.sym.a83da621-77e7-4296-a3f4-89ab1b9d499e%253Aamzn1.sym.a83da621-77e7-4296-a3f4-89ab1b9d499e%26crid%3D3FLLWWQW5WSSH%26cv_ct_cx%3DGuitar%26dib%3DeyJ2IjoiMSJ9.dxxUgg0YV5PJjnSYXA_vEJS_utv3FeAcxhlu5vF-gTeSxNlXooSpPOobuZBgpWJw.EJN1EBQtaMiUB3bvKjdSCHQK5jPfKaEMd1l-mhAbOYg%26dib_tag%3Dse%26keywords%3DGuitar%26pd_rd_i%3DB078GTJP5Y%26pd_rd_r%3D765f6f4e-f27b-46b0-8f54-cef8da946c7b%26pd_rd_w%3Dar73X%26pd_rd_wg%3DMmqIh%26pf_rd_p%3Da83da621-77e7-4296-a3f4-89ab1b9d499e%26pf_rd_r%3DRR3KKDPKWK43N17WPZY6%26qid%3D1712409352%26sbo%3DRZvfv%252F%252FHxDF%252BO5021pAnSA%253D%253D%26sprefix%3Dguitar%252Caps%252C462%26sr%3D1-2-2907eac4-8056-42c7-8014-fdf7bd4c5395-spons%26sp_csd%3Dd2lkZ2V0TmFtZT1zcF9zZWFyY2hfdGhlbWF0aWM%26psc%3D1',\n",
       " 'https://www.amazon.in/sspa/click?ie=UTF8&spc=MTozMjA0NTg4NjU4Nzg5MDk2OjE3MTI0MDkzNTI6c3Bfc2VhcmNoX3RoZW1hdGljOjIwMDU3MTkzMDU2MjA0OjoyOjo&url=%2FKadence-Slowhand-Premium-Acoustic-Instrument%2Fdp%2FB077SZ667X%2Fref%3Dsxbs_pa_sp_search_thematic_sspa%3Fcontent-id%3Damzn1.sym.a83da621-77e7-4296-a3f4-89ab1b9d499e%253Aamzn1.sym.a83da621-77e7-4296-a3f4-89ab1b9d499e%26crid%3D3FLLWWQW5WSSH%26cv_ct_cx%3DGuitar%26dib%3DeyJ2IjoiMSJ9.dxxUgg0YV5PJjnSYXA_vEJS_utv3FeAcxhlu5vF-gTeSxNlXooSpPOobuZBgpWJw.EJN1EBQtaMiUB3bvKjdSCHQK5jPfKaEMd1l-mhAbOYg%26dib_tag%3Dse%26keywords%3DGuitar%26pd_rd_i%3DB077SZ667X%26pd_rd_r%3D765f6f4e-f27b-46b0-8f54-cef8da946c7b%26pd_rd_w%3Dar73X%26pd_rd_wg%3DMmqIh%26pf_rd_p%3Da83da621-77e7-4296-a3f4-89ab1b9d499e%26pf_rd_r%3DRR3KKDPKWK43N17WPZY6%26qid%3D1712409352%26sbo%3DRZvfv%252F%252FHxDF%252BO5021pAnSA%253D%253D%26sprefix%3Dguitar%252Caps%252C462%26sr%3D1-3-2907eac4-8056-42c7-8014-fdf7bd4c5395-spons%26sp_csd%3Dd2lkZ2V0TmFtZT1zcF9zZWFyY2hfdGhlbWF0aWM%26psc%3D1',\n",
       " 'https://www.amazon.in/sspa/click?ie=UTF8&spc=MTozMjA0NTg4NjU4Nzg5MDk2OjE3MTI0MDkzNTI6c3Bfc2VhcmNoX3RoZW1hdGljOjMwMDExODE5OTcxOTkzMjo6Mzo6&url=%2FMOCKING-BIRD-Beginners-instrument-Accessories%2Fdp%2FB0CP24N4HR%2Fref%3Dsxbs_pa_sp_search_thematic_sspa%3Fcontent-id%3Damzn1.sym.a83da621-77e7-4296-a3f4-89ab1b9d499e%253Aamzn1.sym.a83da621-77e7-4296-a3f4-89ab1b9d499e%26crid%3D3FLLWWQW5WSSH%26cv_ct_cx%3DGuitar%26dib%3DeyJ2IjoiMSJ9.dxxUgg0YV5PJjnSYXA_vEJS_utv3FeAcxhlu5vF-gTeSxNlXooSpPOobuZBgpWJw.EJN1EBQtaMiUB3bvKjdSCHQK5jPfKaEMd1l-mhAbOYg%26dib_tag%3Dse%26keywords%3DGuitar%26pd_rd_i%3DB0CP24N4HR%26pd_rd_r%3D765f6f4e-f27b-46b0-8f54-cef8da946c7b%26pd_rd_w%3Dar73X%26pd_rd_wg%3DMmqIh%26pf_rd_p%3Da83da621-77e7-4296-a3f4-89ab1b9d499e%26pf_rd_r%3DRR3KKDPKWK43N17WPZY6%26qid%3D1712409352%26sbo%3DRZvfv%252F%252FHxDF%252BO5021pAnSA%253D%253D%26sprefix%3Dguitar%252Caps%252C462%26sr%3D1-4-2907eac4-8056-42c7-8014-fdf7bd4c5395-spons%26sp_csd%3Dd2lkZ2V0TmFtZT1zcF9zZWFyY2hfdGhlbWF0aWM%26psc%3D1']"
      ]
     },
     "execution_count": 403,
     "metadata": {},
     "output_type": "execute_result"
    }
   ],
   "source": [
    "product_url=product_url[0:183]\n",
    "product_url"
   ]
  },
  {
   "cell_type": "code",
   "execution_count": 614,
   "id": "ac3c2a02",
   "metadata": {},
   "outputs": [],
   "source": [
    "for i in product_url:\n",
    "    driver.get(i)\n",
    "    time.sleep(5)\n",
    "    \n",
    "    try:\n",
    "        bd=driver.find_element(By.XPATH,'//*[@id=\"bylineInfo\"]')\n",
    "        brand.append(bd.text)\n",
    "    except NoSuchElementException:\n",
    "        brand.append('-')\n",
    "        \n",
    "    try:\n",
    "        rs = driver.find_element(By.XPATH,'//span[@class=\"a-price-whole\"]')\n",
    "        price.append(rs.text)\n",
    "    except NoSuchElementException:\n",
    "        price.append('-')\n",
    "        \n",
    "        \n",
    "    try:\n",
    "        product_tag = driver.find_element(By.XPATH,'//*[@id=\"productTitle\"]')\n",
    "        product_name.append(product_tag.text)\n",
    "    except NoSuchElementException:\n",
    "        product_name.append('-')\n",
    "        \n",
    "    try:\n",
    "        delivery = driver.find_element(By.XPATH,'//*[@id=\"mir-layout-DELIVERY_BLOCK-slot-PRIMARY_DELIVERY_MESSAGE_LARGE\"]')\n",
    "        expected_delivery.append(delivery.text)\n",
    "    except NoSuchElementException:\n",
    "        expected_delivery.append('-')\n",
    "        \n",
    "    try:\n",
    "        available = driver.find_element(By.XPATH, '//*[@id=\"availability\"]/span')\n",
    "        availability.append(available.text)\n",
    "    except NoSuchElementException:\n",
    "        availability.append('-')"
   ]
  },
  {
   "cell_type": "code",
   "execution_count": 421,
   "id": "a8e6be8e",
   "metadata": {},
   "outputs": [
    {
     "data": {
      "text/plain": [
       "['Visit the Kadence Store',\n",
       " 'Visit the Henrix Store',\n",
       " 'Visit the JUAREZ Store',\n",
       " 'Brand: YAMAHA',\n",
       " 'Visit the JUAREZ Store',\n",
       " 'Visit the Radhe Flutes Store',\n",
       " 'Brand: YAMAHA',\n",
       " 'Visit the JUAREZ Store',\n",
       " 'Brand: YAMAHA',\n",
       " 'Visit the JUAREZ Store',\n",
       " 'Visit the Intern Store',\n",
       " 'Brand: YAMAHA',\n",
       " 'Visit the Henrix Store',\n",
       " 'Visit the JUAREZ Store',\n",
       " 'Visit the Kadence Store',\n",
       " 'Visit the JUAREZ Store',\n",
       " 'Visit the JUAREZ Store',\n",
       " 'Brand: Medellin',\n",
       " 'Visit the Intern Store',\n",
       " 'Visit the MOCKING BIRD Store',\n",
       " 'Brand: RICHTONE',\n",
       " 'Visit the VAULT Store',\n",
       " 'Visit the VAULT Store',\n",
       " 'Visit the JUAREZ Store',\n",
       " 'Brand: YAMAHA',\n",
       " 'Brand: YAMAHA',\n",
       " 'Brand: REVEL',\n",
       " 'Visit the Kadence Store',\n",
       " 'Visit the Intern Store',\n",
       " 'Visit the Kadence Store',\n",
       " 'Visit the Kadence Store',\n",
       " 'Visit the Kadence Store',\n",
       " 'Visit the Henrix Store',\n",
       " 'Visit the JUAREZ Store',\n",
       " 'Brand: YAMAHA',\n",
       " 'Visit the JUAREZ Store',\n",
       " 'Visit the Radhe Flutes Store',\n",
       " 'Brand: YAMAHA',\n",
       " 'Visit the JUAREZ Store',\n",
       " 'Brand: YAMAHA',\n",
       " 'Visit the JUAREZ Store',\n",
       " 'Visit the Intern Store',\n",
       " 'Brand: YAMAHA',\n",
       " 'Visit the Henrix Store',\n",
       " 'Visit the JUAREZ Store',\n",
       " 'Visit the Kadence Store',\n",
       " 'Visit the JUAREZ Store',\n",
       " 'Visit the JUAREZ Store',\n",
       " 'Brand: Medellin',\n",
       " 'Visit the Intern Store',\n",
       " 'Visit the MOCKING BIRD Store',\n",
       " 'Brand: RICHTONE',\n",
       " 'Visit the VAULT Store',\n",
       " 'Visit the VAULT Store',\n",
       " 'Visit the JUAREZ Store',\n",
       " 'Brand: YAMAHA',\n",
       " 'Brand: YAMAHA',\n",
       " 'Brand: REVEL',\n",
       " 'Visit the Kadence Store',\n",
       " 'Visit the Intern Store']"
      ]
     },
     "execution_count": 421,
     "metadata": {},
     "output_type": "execute_result"
    }
   ],
   "source": [
    "brand=brand[2:172]\n",
    "brand"
   ]
  },
  {
   "cell_type": "code",
   "execution_count": 422,
   "id": "fd9ccb38",
   "metadata": {},
   "outputs": [
    {
     "data": {
      "text/plain": [
       "60"
      ]
     },
     "execution_count": 422,
     "metadata": {},
     "output_type": "execute_result"
    }
   ],
   "source": [
    "len(brand)"
   ]
  },
  {
   "cell_type": "code",
   "execution_count": 419,
   "id": "43c98c28",
   "metadata": {},
   "outputs": [
    {
     "data": {
      "text/plain": [
       "['9,999',\n",
       " '3,499',\n",
       " '1,739',\n",
       " '7,399',\n",
       " '2,199',\n",
       " '399',\n",
       " '7,699',\n",
       " '1,565',\n",
       " '7,990',\n",
       " '1,889',\n",
       " '2,299',\n",
       " '9,441',\n",
       " '2,944',\n",
       " '2,199',\n",
       " '3,999',\n",
       " '2,199',\n",
       " '1,739',\n",
       " '1,849',\n",
       " '2,199',\n",
       " '3,138',\n",
       " '9,000',\n",
       " '4,299',\n",
       " '4,899',\n",
       " '6,750',\n",
       " '9,899',\n",
       " '8,178',\n",
       " '1,999',\n",
       " '4,899',\n",
       " '2,299',\n",
       " '4,799',\n",
       " '4,899',\n",
       " '9,999',\n",
       " '3,499',\n",
       " '1,739',\n",
       " '7,399',\n",
       " '2,199',\n",
       " '399',\n",
       " '7,699',\n",
       " '1,565',\n",
       " '7,990',\n",
       " '1,889',\n",
       " '2,299',\n",
       " '9,441',\n",
       " '2,944',\n",
       " '2,199',\n",
       " '3,999',\n",
       " '2,199',\n",
       " '1,739',\n",
       " '1,849',\n",
       " '2,199',\n",
       " '3,138',\n",
       " '9,000',\n",
       " '4,299',\n",
       " '4,899',\n",
       " '6,750',\n",
       " '9,899',\n",
       " '8,178',\n",
       " '1,999',\n",
       " '4,899',\n",
       " '2,299']"
      ]
     },
     "execution_count": 419,
     "metadata": {},
     "output_type": "execute_result"
    }
   ],
   "source": [
    "price=price[2:172]\n",
    "price"
   ]
  },
  {
   "cell_type": "code",
   "execution_count": 420,
   "id": "409f643e",
   "metadata": {},
   "outputs": [
    {
     "data": {
      "text/plain": [
       "60"
      ]
     },
     "execution_count": 420,
     "metadata": {},
     "output_type": "execute_result"
    }
   ],
   "source": [
    "len(price)"
   ]
  },
  {
   "cell_type": "code",
   "execution_count": 417,
   "id": "547c3c89",
   "metadata": {},
   "outputs": [
    {
     "data": {
      "text/plain": [
       "['Kadence Slowhand Premium Jumbo Semi Acoustic Guitar with Heavy Padded Bag, guitar cable, Pro Capo (Black Spruce Wood)',\n",
       " 'Henrix 40C 40-Inch Cutaway Acoustic Guitar with Dual Action Truss Rod, Gigbag, Picks, String Set, Strap, Polishing Cloth & Ebook - Natural',\n",
       " 'Juârez Acoustic Guitar, 38 Inch Cutaway, 038C with Bag, Strings, Pick and Strap, Black (Acoustic Guitar Kit, Red Sunburst)',\n",
       " 'Yamaha F280 Acoustic Rosewood Guitar (Natural, Beige)',\n",
       " 'Juârez Acoustic Guitar Kit, 38 Inch Cutaway, 038C with Bag, Strings, Pick and Strap, Black',\n",
       " 'Radhe Flutes | Right Handed C Natural With Velvet Cover | Tuned With Tanpura A=440Hz | PVC Fiber',\n",
       " 'Yamaha 22.8 Inches Merantiwood Classical Guitar C40//02 (Brown)',\n",
       " 'Juârez Lindenwood Acoustic Guitar, 38 Inches Cutaway, JRZ38C With Bag, Strings, Pick And Strap, Blue',\n",
       " 'Yamaha F280 Acoustic Guitar, Tobacco Brown Sunburst',\n",
       " 'Juârez Acoustic Guitar, 38 Inch Cutaway, 038C with Bag, Strings, Pick and Strap, Black (Acoustic Guitar Kit, FUNKY)',\n",
       " 'Intern INT-38C Right hand Acoustic Guitar Kit, With Bag, Strings, Pick And Strap, Black, small',\n",
       " 'YAMAHA F310, 6-Strings Rose Wood Acoustic Guitar, Natural',\n",
       " 'Henrix 38C 38 Inch Cutaway Acoustic Guitar With Dual Action Truss Rod, Gigbag, Picks, String Set, String Winder, Strap, Polishing Cloth & Ebook - Black',\n",
       " 'Juârez Acoustic Guitar, 38 Inch Cutaway, 038C with Bag, Strings, Pick and Strap, Black (Acoustic Guitar Kit, BLUE SUNBURST)',\n",
       " 'Kadence Frontier Acoustic Guitar 40\" with Learning Course, Die cast keys, with Combo (Bag,strap,strings And 3 picks) (Blue, Acoustic)',\n",
       " 'Juârez Acoustic Guitar, 38 Inch Cutaway, 038C with Bag, Strings, Pick and Strap, Black (Acoustic Guitar Kit, SUNBURST)',\n",
       " 'Juârez JRZ38C/VTS 6 Strings Acoustic Guitar 38 Inch Cutaway, Right Handed, Violet/Purple with Bag, Strings, Picks and Strap',\n",
       " 'Medellin 38” Acoustic Guitar with (free learning course), Matt finish, Picks (Black)',\n",
       " 'Intern 38C Acoustic Steel-string Guitar Premium White Cutaway Design with carry bag, strings, guitar strap and plectrums (INT-38C-WH)',\n",
       " 'MOCKING BIRD 38c Acoustic Guitar for Beginners Musical Instruments For Adults premium kit wood curved cutaway design Guitar Accessories with string & 5 picks & bag for beige (Honey Brown)',\n",
       " 'Richtone B239C Natural Matt JF style cutaway Acoustic guitar',\n",
       " 'Vault Traveller 34 Inch Acoustic Guitar With Truss Rod, Gig-Bag, Strap, Strings, Polishing Cloth, String Winder, Picks & E-Book - Natural Gloss',\n",
       " 'Vault DA20 Dreadnought Acoustic Guitar With Gig-Bag, Picks, Strings Set, String Winder, Strap, Polishing Cloth And Allen Key',\n",
       " 'Juarez JRZ-ST01 38 Inches Wood 6-String Electric Guitar, Right Handed, Full Black, With Case/Bag And Picks (Black)',\n",
       " 'Yamaha FS100C Acoustic Guitar, Black',\n",
       " 'YAMAHA FS80C BLACK CONCERT CUTAWAY GUITAR',\n",
       " 'Revel 38 Inches Cutaway Design Acoustic Guitar with Carry bag and Plectrums. Great tone and Beginner/Learners standard size configuration for all age groups (Black)',\n",
       " 'Kadence rosewood Guitar Frontier Series, Electric Acoustic Black Guitar With EQ, Die Cast Keys, Set Of Strings, Strap, Picks And Bag (Black EQ, Electric Acoustic)',\n",
       " 'Intern INT-38C-SB Linden Wood Cutaway Right Handed Acoustic Guitar Kit, With Bag, Strings, Pick And Strap (Sunburst, 6 Strings)',\n",
       " 'Kadence Frontier guitar with Online Guitar learning course , Wine Red Acoustic Guitar with Die Cast Keys, Set of Strings, Strap, Picks and Bag (Wine Red, Acoustic)',\n",
       " 'Kadence rosewood Guitar Frontier Series, Electric Acoustic Black Guitar With EQ, Die Cast Keys, Set Of Strings, Strap, Picks And Bag (Black EQ, Electric Acoustic)',\n",
       " 'Kadence Slowhand Premium Jumbo Semi Acoustic Guitar with Heavy Padded Bag, guitar cable, Pro Capo (Black Spruce Wood)',\n",
       " 'Henrix 40C 40-Inch Cutaway Acoustic Guitar with Dual Action Truss Rod, Gigbag, Picks, String Set, Strap, Polishing Cloth & Ebook - Natural',\n",
       " 'Juârez Acoustic Guitar, 38 Inch Cutaway, 038C with Bag, Strings, Pick and Strap, Black (Acoustic Guitar Kit, Red Sunburst)',\n",
       " 'Yamaha F280 Acoustic Rosewood Guitar (Natural, Beige)',\n",
       " 'Juârez Acoustic Guitar Kit, 38 Inch Cutaway, 038C with Bag, Strings, Pick and Strap, Black',\n",
       " 'Radhe Flutes | Right Handed C Natural With Velvet Cover | Tuned With Tanpura A=440Hz | PVC Fiber',\n",
       " 'Yamaha 22.8 Inches Merantiwood Classical Guitar C40//02 (Brown)',\n",
       " 'Juârez Lindenwood Acoustic Guitar, 38 Inches Cutaway, JRZ38C With Bag, Strings, Pick And Strap, Blue',\n",
       " 'Yamaha F280 Acoustic Guitar, Tobacco Brown Sunburst',\n",
       " 'Juârez Acoustic Guitar, 38 Inch Cutaway, 038C with Bag, Strings, Pick and Strap, Black (Acoustic Guitar Kit, FUNKY)',\n",
       " 'Intern INT-38C Right hand Acoustic Guitar Kit, With Bag, Strings, Pick And Strap, Black, small',\n",
       " 'YAMAHA F310, 6-Strings Rose Wood Acoustic Guitar, Natural',\n",
       " 'Henrix 38C 38 Inch Cutaway Acoustic Guitar With Dual Action Truss Rod, Gigbag, Picks, String Set, String Winder, Strap, Polishing Cloth & Ebook - Black',\n",
       " 'Juârez Acoustic Guitar, 38 Inch Cutaway, 038C with Bag, Strings, Pick and Strap, Black (Acoustic Guitar Kit, BLUE SUNBURST)',\n",
       " 'Kadence Frontier Acoustic Guitar 40\" with Learning Course, Die cast keys, with Combo (Bag,strap,strings And 3 picks) (Blue, Acoustic)',\n",
       " 'Juârez Acoustic Guitar, 38 Inch Cutaway, 038C with Bag, Strings, Pick and Strap, Black (Acoustic Guitar Kit, SUNBURST)',\n",
       " 'Juârez JRZ38C/VTS 6 Strings Acoustic Guitar 38 Inch Cutaway, Right Handed, Violet/Purple with Bag, Strings, Picks and Strap',\n",
       " 'Medellin 38” Acoustic Guitar with (free learning course), Matt finish, Picks (Black)',\n",
       " 'Intern 38C Acoustic Steel-string Guitar Premium White Cutaway Design with carry bag, strings, guitar strap and plectrums (INT-38C-WH)',\n",
       " 'MOCKING BIRD 38c Acoustic Guitar for Beginners Musical Instruments For Adults premium kit wood curved cutaway design Guitar Accessories with string & 5 picks & bag for beige (Honey Brown)',\n",
       " 'Richtone B239C Natural Matt JF style cutaway Acoustic guitar',\n",
       " 'Vault Traveller 34 Inch Acoustic Guitar With Truss Rod, Gig-Bag, Strap, Strings, Polishing Cloth, String Winder, Picks & E-Book - Natural Gloss',\n",
       " 'Vault DA20 Dreadnought Acoustic Guitar With Gig-Bag, Picks, Strings Set, String Winder, Strap, Polishing Cloth And Allen Key',\n",
       " 'Juarez JRZ-ST01 38 Inches Wood 6-String Electric Guitar, Right Handed, Full Black, With Case/Bag And Picks (Black)',\n",
       " 'Yamaha FS100C Acoustic Guitar, Black',\n",
       " 'YAMAHA FS80C BLACK CONCERT CUTAWAY GUITAR',\n",
       " 'Revel 38 Inches Cutaway Design Acoustic Guitar with Carry bag and Plectrums. Great tone and Beginner/Learners standard size configuration for all age groups (Black)',\n",
       " 'Kadence rosewood Guitar Frontier Series, Electric Acoustic Black Guitar With EQ, Die Cast Keys, Set Of Strings, Strap, Picks And Bag (Black EQ, Electric Acoustic)',\n",
       " 'Intern INT-38C-SB Linden Wood Cutaway Right Handed Acoustic Guitar Kit, With Bag, Strings, Pick And Strap (Sunburst, 6 Strings)']"
      ]
     },
     "execution_count": 417,
     "metadata": {},
     "output_type": "execute_result"
    }
   ],
   "source": [
    "product_name=product_name[2:170]\n",
    "product_name"
   ]
  },
  {
   "cell_type": "code",
   "execution_count": 418,
   "id": "d2622080",
   "metadata": {},
   "outputs": [
    {
     "data": {
      "text/plain": [
       "60"
      ]
     },
     "execution_count": 418,
     "metadata": {},
     "output_type": "execute_result"
    }
   ],
   "source": [
    "len(product_name)"
   ]
  },
  {
   "cell_type": "code",
   "execution_count": 411,
   "id": "e09e8940",
   "metadata": {},
   "outputs": [
    {
     "data": {
      "text/plain": [
       "['FREE delivery Tuesday, 9 April. Details',\n",
       " 'FREE delivery Tuesday, 9 April. Details',\n",
       " 'FREE delivery Monday, 8 April. Details',\n",
       " 'FREE delivery Wednesday, 10 April. Details',\n",
       " 'FREE delivery Wednesday, 10 April. Details',\n",
       " 'FREE delivery Thursday, 11 April. Details',\n",
       " 'FREE delivery Wednesday, 10 April. Details',\n",
       " 'FREE delivery Monday, 8 April on orders dispatched by Amazon over ₹499. Details',\n",
       " 'FREE delivery Friday, 12 April. Details',\n",
       " 'FREE delivery Wednesday, 10 April. Details',\n",
       " 'FREE delivery Wednesday, 10 April. Details',\n",
       " 'FREE delivery Wednesday, 10 April. Details',\n",
       " 'FREE delivery Wednesday, 10 April. Details',\n",
       " 'FREE delivery Wednesday, 10 April. Details',\n",
       " 'FREE delivery Monday, 8 April. Details',\n",
       " 'FREE delivery Wednesday, 10 April. Details',\n",
       " 'FREE delivery Tuesday, 9 April. Details',\n",
       " 'FREE delivery Wednesday, 10 April. Details',\n",
       " 'FREE delivery Wednesday, 10 April. Details',\n",
       " 'FREE delivery Tuesday, 9 April. Details',\n",
       " 'FREE delivery Wednesday, 10 April. Details',\n",
       " 'FREE delivery Friday, 12 April. Order within 18 hrs 25 mins. Details',\n",
       " 'FREE delivery Saturday, 13 April. Details',\n",
       " 'FREE delivery Monday, 8 April. Details',\n",
       " 'FREE delivery Monday, 8 April. Details',\n",
       " 'FREE delivery Monday, 8 April. Details',\n",
       " 'FREE delivery Thursday, 11 April. Details',\n",
       " 'FREE delivery Wednesday, 10 April. Details',\n",
       " 'FREE delivery Tuesday, 9 April. Details',\n",
       " 'FREE delivery Tuesday, 9 April. Details',\n",
       " 'FREE delivery Tuesday, 9 April. Details',\n",
       " 'FREE delivery Tuesday, 9 April. Details',\n",
       " 'FREE delivery Monday, 8 April. Details',\n",
       " 'FREE delivery Wednesday, 10 April. Details',\n",
       " 'FREE delivery Wednesday, 10 April. Details',\n",
       " 'FREE delivery Thursday, 11 April. Details',\n",
       " 'FREE delivery Wednesday, 10 April. Details',\n",
       " 'FREE delivery Monday, 8 April on orders dispatched by Amazon over ₹499. Details',\n",
       " 'FREE delivery Friday, 12 April. Details',\n",
       " 'FREE delivery Saturday, 13 April. Details',\n",
       " 'FREE delivery Wednesday, 10 April. Details',\n",
       " 'FREE delivery Wednesday, 10 April. Details',\n",
       " 'FREE delivery Wednesday, 10 April. Details',\n",
       " 'FREE delivery Thursday, 11 April. Details',\n",
       " 'FREE delivery Monday, 8 April. Details',\n",
       " 'FREE delivery Wednesday, 10 April. Details',\n",
       " 'FREE delivery Tuesday, 9 April. Details',\n",
       " 'FREE delivery Wednesday, 10 April. Details',\n",
       " 'FREE delivery Wednesday, 10 April. Details',\n",
       " 'FREE delivery Tuesday, 9 April. Details',\n",
       " 'FREE delivery Wednesday, 10 April. Details',\n",
       " 'FREE delivery Friday, 12 April. Order within 18 hrs 18 mins. Details',\n",
       " 'FREE delivery Wednesday, 10 April. Details',\n",
       " 'FREE delivery Monday, 8 April. Details',\n",
       " 'FREE delivery Monday, 8 April. Details',\n",
       " 'FREE delivery Monday, 8 April. Details',\n",
       " 'FREE delivery Thursday, 11 April. Details',\n",
       " 'FREE delivery Thursday, 11 April. Details',\n",
       " 'FREE delivery Tuesday, 9 April. Details',\n",
       " 'FREE delivery Tuesday, 9 April. Details']"
      ]
     },
     "execution_count": 411,
     "metadata": {},
     "output_type": "execute_result"
    }
   ],
   "source": [
    "expected_delivery=expected_delivery[0:172]\n",
    "expected_delivery"
   ]
  },
  {
   "cell_type": "code",
   "execution_count": 412,
   "id": "eb13a603",
   "metadata": {},
   "outputs": [
    {
     "data": {
      "text/plain": [
       "60"
      ]
     },
     "execution_count": 412,
     "metadata": {},
     "output_type": "execute_result"
    }
   ],
   "source": [
    "len(expected_delivery)"
   ]
  },
  {
   "cell_type": "code",
   "execution_count": 413,
   "id": "569c5037",
   "metadata": {},
   "outputs": [
    {
     "data": {
      "text/plain": [
       "['In stock',\n",
       " 'In stock',\n",
       " 'In stock',\n",
       " 'In stock',\n",
       " 'In stock',\n",
       " 'In stock',\n",
       " 'In stock',\n",
       " 'In stock',\n",
       " 'In stock',\n",
       " 'In stock',\n",
       " 'Only 2 left in stock.',\n",
       " 'In stock',\n",
       " 'In stock',\n",
       " 'In stock',\n",
       " 'In stock',\n",
       " 'In stock',\n",
       " 'In stock',\n",
       " 'In stock',\n",
       " 'In stock',\n",
       " 'In stock',\n",
       " 'In stock',\n",
       " 'In stock',\n",
       " 'Only 1 left in stock.',\n",
       " 'In stock',\n",
       " 'In stock',\n",
       " 'In stock',\n",
       " 'In stock',\n",
       " 'In stock',\n",
       " 'In stock',\n",
       " 'In stock',\n",
       " 'In stock',\n",
       " 'In stock',\n",
       " 'In stock',\n",
       " 'In stock',\n",
       " 'In stock',\n",
       " 'In stock',\n",
       " 'In stock',\n",
       " 'In stock',\n",
       " 'In stock',\n",
       " 'In stock',\n",
       " 'Only 2 left in stock.',\n",
       " 'In stock',\n",
       " 'In stock',\n",
       " 'In stock',\n",
       " 'In stock',\n",
       " 'In stock',\n",
       " 'In stock',\n",
       " 'In stock',\n",
       " 'In stock',\n",
       " 'In stock',\n",
       " 'In stock',\n",
       " 'In stock',\n",
       " 'Only 1 left in stock.',\n",
       " 'In stock',\n",
       " 'In stock',\n",
       " 'In stock',\n",
       " 'In stock',\n",
       " 'In stock',\n",
       " 'In stock',\n",
       " 'In stock']"
      ]
     },
     "execution_count": 413,
     "metadata": {},
     "output_type": "execute_result"
    }
   ],
   "source": [
    "availability=availability[0:180]\n",
    "availability"
   ]
  },
  {
   "cell_type": "code",
   "execution_count": 414,
   "id": "297b4ab0",
   "metadata": {},
   "outputs": [
    {
     "data": {
      "text/plain": [
       "60"
      ]
     },
     "execution_count": 414,
     "metadata": {},
     "output_type": "execute_result"
    }
   ],
   "source": [
    "len(availability)"
   ]
  },
  {
   "cell_type": "code",
   "execution_count": 423,
   "id": "42ff044a",
   "metadata": {},
   "outputs": [
    {
     "data": {
      "text/html": [
       "<div>\n",
       "<style scoped>\n",
       "    .dataframe tbody tr th:only-of-type {\n",
       "        vertical-align: middle;\n",
       "    }\n",
       "\n",
       "    .dataframe tbody tr th {\n",
       "        vertical-align: top;\n",
       "    }\n",
       "\n",
       "    .dataframe thead th {\n",
       "        text-align: right;\n",
       "    }\n",
       "</style>\n",
       "<table border=\"1\" class=\"dataframe\">\n",
       "  <thead>\n",
       "    <tr style=\"text-align: right;\">\n",
       "      <th></th>\n",
       "      <th>Brand Name</th>\n",
       "      <th>Name of the product</th>\n",
       "      <th>Price</th>\n",
       "      <th>Expected Delivery</th>\n",
       "      <th>Availability</th>\n",
       "    </tr>\n",
       "  </thead>\n",
       "  <tbody>\n",
       "    <tr>\n",
       "      <th>0</th>\n",
       "      <td>Visit the Kadence Store</td>\n",
       "      <td>Kadence Slowhand Premium Jumbo Semi Acoustic G...</td>\n",
       "      <td>9,999</td>\n",
       "      <td>FREE delivery Tuesday, 9 April. Details</td>\n",
       "      <td>In stock</td>\n",
       "    </tr>\n",
       "    <tr>\n",
       "      <th>1</th>\n",
       "      <td>Visit the Henrix Store</td>\n",
       "      <td>Henrix 40C 40-Inch Cutaway Acoustic Guitar wit...</td>\n",
       "      <td>3,499</td>\n",
       "      <td>FREE delivery Tuesday, 9 April. Details</td>\n",
       "      <td>In stock</td>\n",
       "    </tr>\n",
       "    <tr>\n",
       "      <th>2</th>\n",
       "      <td>Visit the JUAREZ Store</td>\n",
       "      <td>Juârez Acoustic Guitar, 38 Inch Cutaway, 038C ...</td>\n",
       "      <td>1,739</td>\n",
       "      <td>FREE delivery Monday, 8 April. Details</td>\n",
       "      <td>In stock</td>\n",
       "    </tr>\n",
       "    <tr>\n",
       "      <th>3</th>\n",
       "      <td>Brand: YAMAHA</td>\n",
       "      <td>Yamaha F280 Acoustic Rosewood Guitar (Natural,...</td>\n",
       "      <td>7,399</td>\n",
       "      <td>FREE delivery Wednesday, 10 April. Details</td>\n",
       "      <td>In stock</td>\n",
       "    </tr>\n",
       "    <tr>\n",
       "      <th>4</th>\n",
       "      <td>Visit the JUAREZ Store</td>\n",
       "      <td>Juârez Acoustic Guitar Kit, 38 Inch Cutaway, 0...</td>\n",
       "      <td>2,199</td>\n",
       "      <td>FREE delivery Wednesday, 10 April. Details</td>\n",
       "      <td>In stock</td>\n",
       "    </tr>\n",
       "    <tr>\n",
       "      <th>5</th>\n",
       "      <td>Visit the Radhe Flutes Store</td>\n",
       "      <td>Radhe Flutes | Right Handed C Natural With Vel...</td>\n",
       "      <td>399</td>\n",
       "      <td>FREE delivery Thursday, 11 April. Details</td>\n",
       "      <td>In stock</td>\n",
       "    </tr>\n",
       "    <tr>\n",
       "      <th>6</th>\n",
       "      <td>Brand: YAMAHA</td>\n",
       "      <td>Yamaha 22.8 Inches Merantiwood Classical Guita...</td>\n",
       "      <td>7,699</td>\n",
       "      <td>FREE delivery Wednesday, 10 April. Details</td>\n",
       "      <td>In stock</td>\n",
       "    </tr>\n",
       "    <tr>\n",
       "      <th>7</th>\n",
       "      <td>Visit the JUAREZ Store</td>\n",
       "      <td>Juârez Lindenwood Acoustic Guitar, 38 Inches C...</td>\n",
       "      <td>1,565</td>\n",
       "      <td>FREE delivery Monday, 8 April on orders dispat...</td>\n",
       "      <td>In stock</td>\n",
       "    </tr>\n",
       "    <tr>\n",
       "      <th>8</th>\n",
       "      <td>Brand: YAMAHA</td>\n",
       "      <td>Yamaha F280 Acoustic Guitar, Tobacco Brown Sun...</td>\n",
       "      <td>7,990</td>\n",
       "      <td>FREE delivery Friday, 12 April. Details</td>\n",
       "      <td>In stock</td>\n",
       "    </tr>\n",
       "    <tr>\n",
       "      <th>9</th>\n",
       "      <td>Visit the JUAREZ Store</td>\n",
       "      <td>Juârez Acoustic Guitar, 38 Inch Cutaway, 038C ...</td>\n",
       "      <td>1,889</td>\n",
       "      <td>FREE delivery Wednesday, 10 April. Details</td>\n",
       "      <td>In stock</td>\n",
       "    </tr>\n",
       "    <tr>\n",
       "      <th>10</th>\n",
       "      <td>Visit the Intern Store</td>\n",
       "      <td>Intern INT-38C Right hand Acoustic Guitar Kit,...</td>\n",
       "      <td>2,299</td>\n",
       "      <td>FREE delivery Wednesday, 10 April. Details</td>\n",
       "      <td>Only 2 left in stock.</td>\n",
       "    </tr>\n",
       "    <tr>\n",
       "      <th>11</th>\n",
       "      <td>Brand: YAMAHA</td>\n",
       "      <td>YAMAHA F310, 6-Strings Rose Wood Acoustic Guit...</td>\n",
       "      <td>9,441</td>\n",
       "      <td>FREE delivery Wednesday, 10 April. Details</td>\n",
       "      <td>In stock</td>\n",
       "    </tr>\n",
       "    <tr>\n",
       "      <th>12</th>\n",
       "      <td>Visit the Henrix Store</td>\n",
       "      <td>Henrix 38C 38 Inch Cutaway Acoustic Guitar Wit...</td>\n",
       "      <td>2,944</td>\n",
       "      <td>FREE delivery Wednesday, 10 April. Details</td>\n",
       "      <td>In stock</td>\n",
       "    </tr>\n",
       "    <tr>\n",
       "      <th>13</th>\n",
       "      <td>Visit the JUAREZ Store</td>\n",
       "      <td>Juârez Acoustic Guitar, 38 Inch Cutaway, 038C ...</td>\n",
       "      <td>2,199</td>\n",
       "      <td>FREE delivery Wednesday, 10 April. Details</td>\n",
       "      <td>In stock</td>\n",
       "    </tr>\n",
       "    <tr>\n",
       "      <th>14</th>\n",
       "      <td>Visit the Kadence Store</td>\n",
       "      <td>Kadence Frontier Acoustic Guitar 40\" with Lear...</td>\n",
       "      <td>3,999</td>\n",
       "      <td>FREE delivery Monday, 8 April. Details</td>\n",
       "      <td>In stock</td>\n",
       "    </tr>\n",
       "    <tr>\n",
       "      <th>15</th>\n",
       "      <td>Visit the JUAREZ Store</td>\n",
       "      <td>Juârez Acoustic Guitar, 38 Inch Cutaway, 038C ...</td>\n",
       "      <td>2,199</td>\n",
       "      <td>FREE delivery Wednesday, 10 April. Details</td>\n",
       "      <td>In stock</td>\n",
       "    </tr>\n",
       "    <tr>\n",
       "      <th>16</th>\n",
       "      <td>Visit the JUAREZ Store</td>\n",
       "      <td>Juârez JRZ38C/VTS 6 Strings Acoustic Guitar 38...</td>\n",
       "      <td>1,739</td>\n",
       "      <td>FREE delivery Tuesday, 9 April. Details</td>\n",
       "      <td>In stock</td>\n",
       "    </tr>\n",
       "    <tr>\n",
       "      <th>17</th>\n",
       "      <td>Brand: Medellin</td>\n",
       "      <td>Medellin 38” Acoustic Guitar with (free learni...</td>\n",
       "      <td>1,849</td>\n",
       "      <td>FREE delivery Wednesday, 10 April. Details</td>\n",
       "      <td>In stock</td>\n",
       "    </tr>\n",
       "    <tr>\n",
       "      <th>18</th>\n",
       "      <td>Visit the Intern Store</td>\n",
       "      <td>Intern 38C Acoustic Steel-string Guitar Premiu...</td>\n",
       "      <td>2,199</td>\n",
       "      <td>FREE delivery Wednesday, 10 April. Details</td>\n",
       "      <td>In stock</td>\n",
       "    </tr>\n",
       "    <tr>\n",
       "      <th>19</th>\n",
       "      <td>Visit the MOCKING BIRD Store</td>\n",
       "      <td>MOCKING BIRD 38c Acoustic Guitar for Beginners...</td>\n",
       "      <td>3,138</td>\n",
       "      <td>FREE delivery Tuesday, 9 April. Details</td>\n",
       "      <td>In stock</td>\n",
       "    </tr>\n",
       "    <tr>\n",
       "      <th>20</th>\n",
       "      <td>Brand: RICHTONE</td>\n",
       "      <td>Richtone B239C Natural Matt JF style cutaway A...</td>\n",
       "      <td>9,000</td>\n",
       "      <td>FREE delivery Wednesday, 10 April. Details</td>\n",
       "      <td>In stock</td>\n",
       "    </tr>\n",
       "    <tr>\n",
       "      <th>21</th>\n",
       "      <td>Visit the VAULT Store</td>\n",
       "      <td>Vault Traveller 34 Inch Acoustic Guitar With T...</td>\n",
       "      <td>4,299</td>\n",
       "      <td>FREE delivery Friday, 12 April. Order within 1...</td>\n",
       "      <td>In stock</td>\n",
       "    </tr>\n",
       "    <tr>\n",
       "      <th>22</th>\n",
       "      <td>Visit the VAULT Store</td>\n",
       "      <td>Vault DA20 Dreadnought Acoustic Guitar With Gi...</td>\n",
       "      <td>4,899</td>\n",
       "      <td>FREE delivery Saturday, 13 April. Details</td>\n",
       "      <td>Only 1 left in stock.</td>\n",
       "    </tr>\n",
       "    <tr>\n",
       "      <th>23</th>\n",
       "      <td>Visit the JUAREZ Store</td>\n",
       "      <td>Juarez JRZ-ST01 38 Inches Wood 6-String Electr...</td>\n",
       "      <td>6,750</td>\n",
       "      <td>FREE delivery Monday, 8 April. Details</td>\n",
       "      <td>In stock</td>\n",
       "    </tr>\n",
       "    <tr>\n",
       "      <th>24</th>\n",
       "      <td>Brand: YAMAHA</td>\n",
       "      <td>Yamaha FS100C Acoustic Guitar, Black</td>\n",
       "      <td>9,899</td>\n",
       "      <td>FREE delivery Monday, 8 April. Details</td>\n",
       "      <td>In stock</td>\n",
       "    </tr>\n",
       "    <tr>\n",
       "      <th>25</th>\n",
       "      <td>Brand: YAMAHA</td>\n",
       "      <td>YAMAHA FS80C BLACK CONCERT CUTAWAY GUITAR</td>\n",
       "      <td>8,178</td>\n",
       "      <td>FREE delivery Monday, 8 April. Details</td>\n",
       "      <td>In stock</td>\n",
       "    </tr>\n",
       "    <tr>\n",
       "      <th>26</th>\n",
       "      <td>Brand: REVEL</td>\n",
       "      <td>Revel 38 Inches Cutaway Design Acoustic Guitar...</td>\n",
       "      <td>1,999</td>\n",
       "      <td>FREE delivery Thursday, 11 April. Details</td>\n",
       "      <td>In stock</td>\n",
       "    </tr>\n",
       "    <tr>\n",
       "      <th>27</th>\n",
       "      <td>Visit the Kadence Store</td>\n",
       "      <td>Kadence rosewood Guitar Frontier Series, Elect...</td>\n",
       "      <td>4,899</td>\n",
       "      <td>FREE delivery Wednesday, 10 April. Details</td>\n",
       "      <td>In stock</td>\n",
       "    </tr>\n",
       "    <tr>\n",
       "      <th>28</th>\n",
       "      <td>Visit the Intern Store</td>\n",
       "      <td>Intern INT-38C-SB Linden Wood Cutaway Right Ha...</td>\n",
       "      <td>2,299</td>\n",
       "      <td>FREE delivery Tuesday, 9 April. Details</td>\n",
       "      <td>In stock</td>\n",
       "    </tr>\n",
       "    <tr>\n",
       "      <th>29</th>\n",
       "      <td>Visit the Kadence Store</td>\n",
       "      <td>Kadence Frontier guitar with Online Guitar lea...</td>\n",
       "      <td>4,799</td>\n",
       "      <td>FREE delivery Tuesday, 9 April. Details</td>\n",
       "      <td>In stock</td>\n",
       "    </tr>\n",
       "    <tr>\n",
       "      <th>30</th>\n",
       "      <td>Visit the Kadence Store</td>\n",
       "      <td>Kadence rosewood Guitar Frontier Series, Elect...</td>\n",
       "      <td>4,899</td>\n",
       "      <td>FREE delivery Tuesday, 9 April. Details</td>\n",
       "      <td>In stock</td>\n",
       "    </tr>\n",
       "    <tr>\n",
       "      <th>31</th>\n",
       "      <td>Visit the Kadence Store</td>\n",
       "      <td>Kadence Slowhand Premium Jumbo Semi Acoustic G...</td>\n",
       "      <td>9,999</td>\n",
       "      <td>FREE delivery Tuesday, 9 April. Details</td>\n",
       "      <td>In stock</td>\n",
       "    </tr>\n",
       "    <tr>\n",
       "      <th>32</th>\n",
       "      <td>Visit the Henrix Store</td>\n",
       "      <td>Henrix 40C 40-Inch Cutaway Acoustic Guitar wit...</td>\n",
       "      <td>3,499</td>\n",
       "      <td>FREE delivery Monday, 8 April. Details</td>\n",
       "      <td>In stock</td>\n",
       "    </tr>\n",
       "    <tr>\n",
       "      <th>33</th>\n",
       "      <td>Visit the JUAREZ Store</td>\n",
       "      <td>Juârez Acoustic Guitar, 38 Inch Cutaway, 038C ...</td>\n",
       "      <td>1,739</td>\n",
       "      <td>FREE delivery Wednesday, 10 April. Details</td>\n",
       "      <td>In stock</td>\n",
       "    </tr>\n",
       "    <tr>\n",
       "      <th>34</th>\n",
       "      <td>Brand: YAMAHA</td>\n",
       "      <td>Yamaha F280 Acoustic Rosewood Guitar (Natural,...</td>\n",
       "      <td>7,399</td>\n",
       "      <td>FREE delivery Wednesday, 10 April. Details</td>\n",
       "      <td>In stock</td>\n",
       "    </tr>\n",
       "    <tr>\n",
       "      <th>35</th>\n",
       "      <td>Visit the JUAREZ Store</td>\n",
       "      <td>Juârez Acoustic Guitar Kit, 38 Inch Cutaway, 0...</td>\n",
       "      <td>2,199</td>\n",
       "      <td>FREE delivery Thursday, 11 April. Details</td>\n",
       "      <td>In stock</td>\n",
       "    </tr>\n",
       "    <tr>\n",
       "      <th>36</th>\n",
       "      <td>Visit the Radhe Flutes Store</td>\n",
       "      <td>Radhe Flutes | Right Handed C Natural With Vel...</td>\n",
       "      <td>399</td>\n",
       "      <td>FREE delivery Wednesday, 10 April. Details</td>\n",
       "      <td>In stock</td>\n",
       "    </tr>\n",
       "    <tr>\n",
       "      <th>37</th>\n",
       "      <td>Brand: YAMAHA</td>\n",
       "      <td>Yamaha 22.8 Inches Merantiwood Classical Guita...</td>\n",
       "      <td>7,699</td>\n",
       "      <td>FREE delivery Monday, 8 April on orders dispat...</td>\n",
       "      <td>In stock</td>\n",
       "    </tr>\n",
       "    <tr>\n",
       "      <th>38</th>\n",
       "      <td>Visit the JUAREZ Store</td>\n",
       "      <td>Juârez Lindenwood Acoustic Guitar, 38 Inches C...</td>\n",
       "      <td>1,565</td>\n",
       "      <td>FREE delivery Friday, 12 April. Details</td>\n",
       "      <td>In stock</td>\n",
       "    </tr>\n",
       "    <tr>\n",
       "      <th>39</th>\n",
       "      <td>Brand: YAMAHA</td>\n",
       "      <td>Yamaha F280 Acoustic Guitar, Tobacco Brown Sun...</td>\n",
       "      <td>7,990</td>\n",
       "      <td>FREE delivery Saturday, 13 April. Details</td>\n",
       "      <td>In stock</td>\n",
       "    </tr>\n",
       "    <tr>\n",
       "      <th>40</th>\n",
       "      <td>Visit the JUAREZ Store</td>\n",
       "      <td>Juârez Acoustic Guitar, 38 Inch Cutaway, 038C ...</td>\n",
       "      <td>1,889</td>\n",
       "      <td>FREE delivery Wednesday, 10 April. Details</td>\n",
       "      <td>Only 2 left in stock.</td>\n",
       "    </tr>\n",
       "    <tr>\n",
       "      <th>41</th>\n",
       "      <td>Visit the Intern Store</td>\n",
       "      <td>Intern INT-38C Right hand Acoustic Guitar Kit,...</td>\n",
       "      <td>2,299</td>\n",
       "      <td>FREE delivery Wednesday, 10 April. Details</td>\n",
       "      <td>In stock</td>\n",
       "    </tr>\n",
       "    <tr>\n",
       "      <th>42</th>\n",
       "      <td>Brand: YAMAHA</td>\n",
       "      <td>YAMAHA F310, 6-Strings Rose Wood Acoustic Guit...</td>\n",
       "      <td>9,441</td>\n",
       "      <td>FREE delivery Wednesday, 10 April. Details</td>\n",
       "      <td>In stock</td>\n",
       "    </tr>\n",
       "    <tr>\n",
       "      <th>43</th>\n",
       "      <td>Visit the Henrix Store</td>\n",
       "      <td>Henrix 38C 38 Inch Cutaway Acoustic Guitar Wit...</td>\n",
       "      <td>2,944</td>\n",
       "      <td>FREE delivery Thursday, 11 April. Details</td>\n",
       "      <td>In stock</td>\n",
       "    </tr>\n",
       "    <tr>\n",
       "      <th>44</th>\n",
       "      <td>Visit the JUAREZ Store</td>\n",
       "      <td>Juârez Acoustic Guitar, 38 Inch Cutaway, 038C ...</td>\n",
       "      <td>2,199</td>\n",
       "      <td>FREE delivery Monday, 8 April. Details</td>\n",
       "      <td>In stock</td>\n",
       "    </tr>\n",
       "    <tr>\n",
       "      <th>45</th>\n",
       "      <td>Visit the Kadence Store</td>\n",
       "      <td>Kadence Frontier Acoustic Guitar 40\" with Lear...</td>\n",
       "      <td>3,999</td>\n",
       "      <td>FREE delivery Wednesday, 10 April. Details</td>\n",
       "      <td>In stock</td>\n",
       "    </tr>\n",
       "    <tr>\n",
       "      <th>46</th>\n",
       "      <td>Visit the JUAREZ Store</td>\n",
       "      <td>Juârez Acoustic Guitar, 38 Inch Cutaway, 038C ...</td>\n",
       "      <td>2,199</td>\n",
       "      <td>FREE delivery Tuesday, 9 April. Details</td>\n",
       "      <td>In stock</td>\n",
       "    </tr>\n",
       "    <tr>\n",
       "      <th>47</th>\n",
       "      <td>Visit the JUAREZ Store</td>\n",
       "      <td>Juârez JRZ38C/VTS 6 Strings Acoustic Guitar 38...</td>\n",
       "      <td>1,739</td>\n",
       "      <td>FREE delivery Wednesday, 10 April. Details</td>\n",
       "      <td>In stock</td>\n",
       "    </tr>\n",
       "    <tr>\n",
       "      <th>48</th>\n",
       "      <td>Brand: Medellin</td>\n",
       "      <td>Medellin 38” Acoustic Guitar with (free learni...</td>\n",
       "      <td>1,849</td>\n",
       "      <td>FREE delivery Wednesday, 10 April. Details</td>\n",
       "      <td>In stock</td>\n",
       "    </tr>\n",
       "    <tr>\n",
       "      <th>49</th>\n",
       "      <td>Visit the Intern Store</td>\n",
       "      <td>Intern 38C Acoustic Steel-string Guitar Premiu...</td>\n",
       "      <td>2,199</td>\n",
       "      <td>FREE delivery Tuesday, 9 April. Details</td>\n",
       "      <td>In stock</td>\n",
       "    </tr>\n",
       "    <tr>\n",
       "      <th>50</th>\n",
       "      <td>Visit the MOCKING BIRD Store</td>\n",
       "      <td>MOCKING BIRD 38c Acoustic Guitar for Beginners...</td>\n",
       "      <td>3,138</td>\n",
       "      <td>FREE delivery Wednesday, 10 April. Details</td>\n",
       "      <td>In stock</td>\n",
       "    </tr>\n",
       "    <tr>\n",
       "      <th>51</th>\n",
       "      <td>Brand: RICHTONE</td>\n",
       "      <td>Richtone B239C Natural Matt JF style cutaway A...</td>\n",
       "      <td>9,000</td>\n",
       "      <td>FREE delivery Friday, 12 April. Order within 1...</td>\n",
       "      <td>In stock</td>\n",
       "    </tr>\n",
       "    <tr>\n",
       "      <th>52</th>\n",
       "      <td>Visit the VAULT Store</td>\n",
       "      <td>Vault Traveller 34 Inch Acoustic Guitar With T...</td>\n",
       "      <td>4,299</td>\n",
       "      <td>FREE delivery Wednesday, 10 April. Details</td>\n",
       "      <td>Only 1 left in stock.</td>\n",
       "    </tr>\n",
       "    <tr>\n",
       "      <th>53</th>\n",
       "      <td>Visit the VAULT Store</td>\n",
       "      <td>Vault DA20 Dreadnought Acoustic Guitar With Gi...</td>\n",
       "      <td>4,899</td>\n",
       "      <td>FREE delivery Monday, 8 April. Details</td>\n",
       "      <td>In stock</td>\n",
       "    </tr>\n",
       "    <tr>\n",
       "      <th>54</th>\n",
       "      <td>Visit the JUAREZ Store</td>\n",
       "      <td>Juarez JRZ-ST01 38 Inches Wood 6-String Electr...</td>\n",
       "      <td>6,750</td>\n",
       "      <td>FREE delivery Monday, 8 April. Details</td>\n",
       "      <td>In stock</td>\n",
       "    </tr>\n",
       "    <tr>\n",
       "      <th>55</th>\n",
       "      <td>Brand: YAMAHA</td>\n",
       "      <td>Yamaha FS100C Acoustic Guitar, Black</td>\n",
       "      <td>9,899</td>\n",
       "      <td>FREE delivery Monday, 8 April. Details</td>\n",
       "      <td>In stock</td>\n",
       "    </tr>\n",
       "    <tr>\n",
       "      <th>56</th>\n",
       "      <td>Brand: YAMAHA</td>\n",
       "      <td>YAMAHA FS80C BLACK CONCERT CUTAWAY GUITAR</td>\n",
       "      <td>8,178</td>\n",
       "      <td>FREE delivery Thursday, 11 April. Details</td>\n",
       "      <td>In stock</td>\n",
       "    </tr>\n",
       "    <tr>\n",
       "      <th>57</th>\n",
       "      <td>Brand: REVEL</td>\n",
       "      <td>Revel 38 Inches Cutaway Design Acoustic Guitar...</td>\n",
       "      <td>1,999</td>\n",
       "      <td>FREE delivery Thursday, 11 April. Details</td>\n",
       "      <td>In stock</td>\n",
       "    </tr>\n",
       "    <tr>\n",
       "      <th>58</th>\n",
       "      <td>Visit the Kadence Store</td>\n",
       "      <td>Kadence rosewood Guitar Frontier Series, Elect...</td>\n",
       "      <td>4,899</td>\n",
       "      <td>FREE delivery Tuesday, 9 April. Details</td>\n",
       "      <td>In stock</td>\n",
       "    </tr>\n",
       "    <tr>\n",
       "      <th>59</th>\n",
       "      <td>Visit the Intern Store</td>\n",
       "      <td>Intern INT-38C-SB Linden Wood Cutaway Right Ha...</td>\n",
       "      <td>2,299</td>\n",
       "      <td>FREE delivery Tuesday, 9 April. Details</td>\n",
       "      <td>In stock</td>\n",
       "    </tr>\n",
       "  </tbody>\n",
       "</table>\n",
       "</div>"
      ],
      "text/plain": [
       "                      Brand Name  \\\n",
       "0        Visit the Kadence Store   \n",
       "1         Visit the Henrix Store   \n",
       "2         Visit the JUAREZ Store   \n",
       "3                  Brand: YAMAHA   \n",
       "4         Visit the JUAREZ Store   \n",
       "5   Visit the Radhe Flutes Store   \n",
       "6                  Brand: YAMAHA   \n",
       "7         Visit the JUAREZ Store   \n",
       "8                  Brand: YAMAHA   \n",
       "9         Visit the JUAREZ Store   \n",
       "10        Visit the Intern Store   \n",
       "11                 Brand: YAMAHA   \n",
       "12        Visit the Henrix Store   \n",
       "13        Visit the JUAREZ Store   \n",
       "14       Visit the Kadence Store   \n",
       "15        Visit the JUAREZ Store   \n",
       "16        Visit the JUAREZ Store   \n",
       "17               Brand: Medellin   \n",
       "18        Visit the Intern Store   \n",
       "19  Visit the MOCKING BIRD Store   \n",
       "20               Brand: RICHTONE   \n",
       "21         Visit the VAULT Store   \n",
       "22         Visit the VAULT Store   \n",
       "23        Visit the JUAREZ Store   \n",
       "24                 Brand: YAMAHA   \n",
       "25                 Brand: YAMAHA   \n",
       "26                  Brand: REVEL   \n",
       "27       Visit the Kadence Store   \n",
       "28        Visit the Intern Store   \n",
       "29       Visit the Kadence Store   \n",
       "30       Visit the Kadence Store   \n",
       "31       Visit the Kadence Store   \n",
       "32        Visit the Henrix Store   \n",
       "33        Visit the JUAREZ Store   \n",
       "34                 Brand: YAMAHA   \n",
       "35        Visit the JUAREZ Store   \n",
       "36  Visit the Radhe Flutes Store   \n",
       "37                 Brand: YAMAHA   \n",
       "38        Visit the JUAREZ Store   \n",
       "39                 Brand: YAMAHA   \n",
       "40        Visit the JUAREZ Store   \n",
       "41        Visit the Intern Store   \n",
       "42                 Brand: YAMAHA   \n",
       "43        Visit the Henrix Store   \n",
       "44        Visit the JUAREZ Store   \n",
       "45       Visit the Kadence Store   \n",
       "46        Visit the JUAREZ Store   \n",
       "47        Visit the JUAREZ Store   \n",
       "48               Brand: Medellin   \n",
       "49        Visit the Intern Store   \n",
       "50  Visit the MOCKING BIRD Store   \n",
       "51               Brand: RICHTONE   \n",
       "52         Visit the VAULT Store   \n",
       "53         Visit the VAULT Store   \n",
       "54        Visit the JUAREZ Store   \n",
       "55                 Brand: YAMAHA   \n",
       "56                 Brand: YAMAHA   \n",
       "57                  Brand: REVEL   \n",
       "58       Visit the Kadence Store   \n",
       "59        Visit the Intern Store   \n",
       "\n",
       "                                  Name of the product  Price  \\\n",
       "0   Kadence Slowhand Premium Jumbo Semi Acoustic G...  9,999   \n",
       "1   Henrix 40C 40-Inch Cutaway Acoustic Guitar wit...  3,499   \n",
       "2   Juârez Acoustic Guitar, 38 Inch Cutaway, 038C ...  1,739   \n",
       "3   Yamaha F280 Acoustic Rosewood Guitar (Natural,...  7,399   \n",
       "4   Juârez Acoustic Guitar Kit, 38 Inch Cutaway, 0...  2,199   \n",
       "5   Radhe Flutes | Right Handed C Natural With Vel...    399   \n",
       "6   Yamaha 22.8 Inches Merantiwood Classical Guita...  7,699   \n",
       "7   Juârez Lindenwood Acoustic Guitar, 38 Inches C...  1,565   \n",
       "8   Yamaha F280 Acoustic Guitar, Tobacco Brown Sun...  7,990   \n",
       "9   Juârez Acoustic Guitar, 38 Inch Cutaway, 038C ...  1,889   \n",
       "10  Intern INT-38C Right hand Acoustic Guitar Kit,...  2,299   \n",
       "11  YAMAHA F310, 6-Strings Rose Wood Acoustic Guit...  9,441   \n",
       "12  Henrix 38C 38 Inch Cutaway Acoustic Guitar Wit...  2,944   \n",
       "13  Juârez Acoustic Guitar, 38 Inch Cutaway, 038C ...  2,199   \n",
       "14  Kadence Frontier Acoustic Guitar 40\" with Lear...  3,999   \n",
       "15  Juârez Acoustic Guitar, 38 Inch Cutaway, 038C ...  2,199   \n",
       "16  Juârez JRZ38C/VTS 6 Strings Acoustic Guitar 38...  1,739   \n",
       "17  Medellin 38” Acoustic Guitar with (free learni...  1,849   \n",
       "18  Intern 38C Acoustic Steel-string Guitar Premiu...  2,199   \n",
       "19  MOCKING BIRD 38c Acoustic Guitar for Beginners...  3,138   \n",
       "20  Richtone B239C Natural Matt JF style cutaway A...  9,000   \n",
       "21  Vault Traveller 34 Inch Acoustic Guitar With T...  4,299   \n",
       "22  Vault DA20 Dreadnought Acoustic Guitar With Gi...  4,899   \n",
       "23  Juarez JRZ-ST01 38 Inches Wood 6-String Electr...  6,750   \n",
       "24               Yamaha FS100C Acoustic Guitar, Black  9,899   \n",
       "25          YAMAHA FS80C BLACK CONCERT CUTAWAY GUITAR  8,178   \n",
       "26  Revel 38 Inches Cutaway Design Acoustic Guitar...  1,999   \n",
       "27  Kadence rosewood Guitar Frontier Series, Elect...  4,899   \n",
       "28  Intern INT-38C-SB Linden Wood Cutaway Right Ha...  2,299   \n",
       "29  Kadence Frontier guitar with Online Guitar lea...  4,799   \n",
       "30  Kadence rosewood Guitar Frontier Series, Elect...  4,899   \n",
       "31  Kadence Slowhand Premium Jumbo Semi Acoustic G...  9,999   \n",
       "32  Henrix 40C 40-Inch Cutaway Acoustic Guitar wit...  3,499   \n",
       "33  Juârez Acoustic Guitar, 38 Inch Cutaway, 038C ...  1,739   \n",
       "34  Yamaha F280 Acoustic Rosewood Guitar (Natural,...  7,399   \n",
       "35  Juârez Acoustic Guitar Kit, 38 Inch Cutaway, 0...  2,199   \n",
       "36  Radhe Flutes | Right Handed C Natural With Vel...    399   \n",
       "37  Yamaha 22.8 Inches Merantiwood Classical Guita...  7,699   \n",
       "38  Juârez Lindenwood Acoustic Guitar, 38 Inches C...  1,565   \n",
       "39  Yamaha F280 Acoustic Guitar, Tobacco Brown Sun...  7,990   \n",
       "40  Juârez Acoustic Guitar, 38 Inch Cutaway, 038C ...  1,889   \n",
       "41  Intern INT-38C Right hand Acoustic Guitar Kit,...  2,299   \n",
       "42  YAMAHA F310, 6-Strings Rose Wood Acoustic Guit...  9,441   \n",
       "43  Henrix 38C 38 Inch Cutaway Acoustic Guitar Wit...  2,944   \n",
       "44  Juârez Acoustic Guitar, 38 Inch Cutaway, 038C ...  2,199   \n",
       "45  Kadence Frontier Acoustic Guitar 40\" with Lear...  3,999   \n",
       "46  Juârez Acoustic Guitar, 38 Inch Cutaway, 038C ...  2,199   \n",
       "47  Juârez JRZ38C/VTS 6 Strings Acoustic Guitar 38...  1,739   \n",
       "48  Medellin 38” Acoustic Guitar with (free learni...  1,849   \n",
       "49  Intern 38C Acoustic Steel-string Guitar Premiu...  2,199   \n",
       "50  MOCKING BIRD 38c Acoustic Guitar for Beginners...  3,138   \n",
       "51  Richtone B239C Natural Matt JF style cutaway A...  9,000   \n",
       "52  Vault Traveller 34 Inch Acoustic Guitar With T...  4,299   \n",
       "53  Vault DA20 Dreadnought Acoustic Guitar With Gi...  4,899   \n",
       "54  Juarez JRZ-ST01 38 Inches Wood 6-String Electr...  6,750   \n",
       "55               Yamaha FS100C Acoustic Guitar, Black  9,899   \n",
       "56          YAMAHA FS80C BLACK CONCERT CUTAWAY GUITAR  8,178   \n",
       "57  Revel 38 Inches Cutaway Design Acoustic Guitar...  1,999   \n",
       "58  Kadence rosewood Guitar Frontier Series, Elect...  4,899   \n",
       "59  Intern INT-38C-SB Linden Wood Cutaway Right Ha...  2,299   \n",
       "\n",
       "                                    Expected Delivery           Availability  \n",
       "0             FREE delivery Tuesday, 9 April. Details               In stock  \n",
       "1             FREE delivery Tuesday, 9 April. Details               In stock  \n",
       "2              FREE delivery Monday, 8 April. Details               In stock  \n",
       "3          FREE delivery Wednesday, 10 April. Details               In stock  \n",
       "4          FREE delivery Wednesday, 10 April. Details               In stock  \n",
       "5           FREE delivery Thursday, 11 April. Details               In stock  \n",
       "6          FREE delivery Wednesday, 10 April. Details               In stock  \n",
       "7   FREE delivery Monday, 8 April on orders dispat...               In stock  \n",
       "8             FREE delivery Friday, 12 April. Details               In stock  \n",
       "9          FREE delivery Wednesday, 10 April. Details               In stock  \n",
       "10         FREE delivery Wednesday, 10 April. Details  Only 2 left in stock.  \n",
       "11         FREE delivery Wednesday, 10 April. Details               In stock  \n",
       "12         FREE delivery Wednesday, 10 April. Details               In stock  \n",
       "13         FREE delivery Wednesday, 10 April. Details               In stock  \n",
       "14             FREE delivery Monday, 8 April. Details               In stock  \n",
       "15         FREE delivery Wednesday, 10 April. Details               In stock  \n",
       "16            FREE delivery Tuesday, 9 April. Details               In stock  \n",
       "17         FREE delivery Wednesday, 10 April. Details               In stock  \n",
       "18         FREE delivery Wednesday, 10 April. Details               In stock  \n",
       "19            FREE delivery Tuesday, 9 April. Details               In stock  \n",
       "20         FREE delivery Wednesday, 10 April. Details               In stock  \n",
       "21  FREE delivery Friday, 12 April. Order within 1...               In stock  \n",
       "22          FREE delivery Saturday, 13 April. Details  Only 1 left in stock.  \n",
       "23             FREE delivery Monday, 8 April. Details               In stock  \n",
       "24             FREE delivery Monday, 8 April. Details               In stock  \n",
       "25             FREE delivery Monday, 8 April. Details               In stock  \n",
       "26          FREE delivery Thursday, 11 April. Details               In stock  \n",
       "27         FREE delivery Wednesday, 10 April. Details               In stock  \n",
       "28            FREE delivery Tuesday, 9 April. Details               In stock  \n",
       "29            FREE delivery Tuesday, 9 April. Details               In stock  \n",
       "30            FREE delivery Tuesday, 9 April. Details               In stock  \n",
       "31            FREE delivery Tuesday, 9 April. Details               In stock  \n",
       "32             FREE delivery Monday, 8 April. Details               In stock  \n",
       "33         FREE delivery Wednesday, 10 April. Details               In stock  \n",
       "34         FREE delivery Wednesday, 10 April. Details               In stock  \n",
       "35          FREE delivery Thursday, 11 April. Details               In stock  \n",
       "36         FREE delivery Wednesday, 10 April. Details               In stock  \n",
       "37  FREE delivery Monday, 8 April on orders dispat...               In stock  \n",
       "38            FREE delivery Friday, 12 April. Details               In stock  \n",
       "39          FREE delivery Saturday, 13 April. Details               In stock  \n",
       "40         FREE delivery Wednesday, 10 April. Details  Only 2 left in stock.  \n",
       "41         FREE delivery Wednesday, 10 April. Details               In stock  \n",
       "42         FREE delivery Wednesday, 10 April. Details               In stock  \n",
       "43          FREE delivery Thursday, 11 April. Details               In stock  \n",
       "44             FREE delivery Monday, 8 April. Details               In stock  \n",
       "45         FREE delivery Wednesday, 10 April. Details               In stock  \n",
       "46            FREE delivery Tuesday, 9 April. Details               In stock  \n",
       "47         FREE delivery Wednesday, 10 April. Details               In stock  \n",
       "48         FREE delivery Wednesday, 10 April. Details               In stock  \n",
       "49            FREE delivery Tuesday, 9 April. Details               In stock  \n",
       "50         FREE delivery Wednesday, 10 April. Details               In stock  \n",
       "51  FREE delivery Friday, 12 April. Order within 1...               In stock  \n",
       "52         FREE delivery Wednesday, 10 April. Details  Only 1 left in stock.  \n",
       "53             FREE delivery Monday, 8 April. Details               In stock  \n",
       "54             FREE delivery Monday, 8 April. Details               In stock  \n",
       "55             FREE delivery Monday, 8 April. Details               In stock  \n",
       "56          FREE delivery Thursday, 11 April. Details               In stock  \n",
       "57          FREE delivery Thursday, 11 April. Details               In stock  \n",
       "58            FREE delivery Tuesday, 9 April. Details               In stock  \n",
       "59            FREE delivery Tuesday, 9 April. Details               In stock  "
      ]
     },
     "execution_count": 423,
     "metadata": {},
     "output_type": "execute_result"
    }
   ],
   "source": [
    "df=pd.DataFrame({\"Brand Name\":brand,\"Name of the product\":product_name,\"Price\":price,\"Expected Delivery\": expected_delivery,\"Availability\":availability})\n",
    "df"
   ]
  },
  {
   "cell_type": "markdown",
   "id": "a4ce16b6",
   "metadata": {},
   "source": [
    "# QUESTION 3"
   ]
  },
  {
   "cell_type": "code",
   "execution_count": 39,
   "id": "dcb77f6d",
   "metadata": {},
   "outputs": [],
   "source": [
    "driver=webdriver.Chrome()"
   ]
  },
  {
   "cell_type": "code",
   "execution_count": 40,
   "id": "d0336912",
   "metadata": {},
   "outputs": [],
   "source": [
    "driver.get('https://images.google.com/?gws_rd=ss1')"
   ]
  },
  {
   "cell_type": "code",
   "execution_count": 41,
   "id": "522bd890",
   "metadata": {},
   "outputs": [],
   "source": [
    "designation=driver.find_element(By.XPATH,'/html/body/div[1]/div[3]/form/div[1]/div[1]/div[1]/div/div[2]/textarea')\n",
    "designation.send_keys('Fruits')"
   ]
  },
  {
   "cell_type": "code",
   "execution_count": 42,
   "id": "f8be8418",
   "metadata": {},
   "outputs": [],
   "source": [
    "search=driver.find_element(By.XPATH,'//span[@class=\"z1asCe MZy1Rb\"]')\n",
    "search.click()"
   ]
  },
  {
   "cell_type": "code",
   "execution_count": 78,
   "id": "2ae4d8a0",
   "metadata": {},
   "outputs": [],
   "source": [
    "Fruits_url=[]"
   ]
  },
  {
   "cell_type": "code",
   "execution_count": null,
   "id": "22274400",
   "metadata": {},
   "outputs": [],
   "source": [
    "# 10 images of fruits"
   ]
  },
  {
   "cell_type": "code",
   "execution_count": null,
   "id": "b42ff143",
   "metadata": {},
   "outputs": [],
   "source": [
    "for _ in range(20):\n",
    "    driver.execute_script(\"window.scrollBy(0,500)\")\n",
    "    \n",
    "images = driver.find_element(By.XPATH,'//img[@class=\"YQ4gaf\"]')\n",
    "for image in images:\n",
    "    source = image.get_attribute('src')\n",
    "    if source is not None:\n",
    "        if(source[0:4]=='http'):\n",
    "            Fruits_url.append(source)\n",
    "            \n",
    "\n",
    "for i in range(len(image_url)):\n",
    "    if i >= 10:\n",
    "        break\n",
    "        print(\"downloading {0} of {1} images\" .format(i+1, min(len(images_url),10)))\n",
    "        \n",
    "        response = requests.get(image_url[i])\n",
    "        file=open(r\"C:\\Users\\ssour\\Flip Robo\\Image_\"+ str(i) +\".jpg\",\"wb\")\n",
    "        file.write(response.content)"
   ]
  },
  {
   "cell_type": "code",
   "execution_count": 80,
   "id": "e66e402c",
   "metadata": {},
   "outputs": [],
   "source": [
    "Fruits_url=Fruits_url[0:10]\n",
    "Fruits_url"
   ]
  },
  {
   "cell_type": "code",
   "execution_count": null,
   "id": "14f308eb",
   "metadata": {},
   "outputs": [],
   "source": [
    "# 10 images of Cars"
   ]
  },
  {
   "cell_type": "code",
   "execution_count": 45,
   "id": "605d28ce",
   "metadata": {},
   "outputs": [],
   "source": [
    "cars_url=[]"
   ]
  },
  {
   "cell_type": "code",
   "execution_count": 46,
   "id": "8fda2bdd",
   "metadata": {},
   "outputs": [],
   "source": [
    "driver=webdriver.Chrome()\n"
   ]
  },
  {
   "cell_type": "code",
   "execution_count": 47,
   "id": "fc97e67b",
   "metadata": {},
   "outputs": [],
   "source": [
    "driver.get('https://images.google.com/?gws_rd==ss1')"
   ]
  },
  {
   "cell_type": "code",
   "execution_count": 48,
   "id": "6b02810e",
   "metadata": {},
   "outputs": [],
   "source": [
    "designation=driver.find_element(By.XPATH,'/html/body/div[1]/div[3]/form/div[1]/div[1]/div[1]/div/div[2]/textarea')\n",
    "designation.send_keys('Cars')"
   ]
  },
  {
   "cell_type": "code",
   "execution_count": null,
   "id": "8855e8dc",
   "metadata": {},
   "outputs": [],
   "source": [
    "search=driver.find_element(By.XPATH,'//span[@class=\"z1asCe MZy1Rb\"]')\n",
    "search.click()"
   ]
  },
  {
   "cell_type": "code",
   "execution_count": null,
   "id": "a58f3b85",
   "metadata": {},
   "outputs": [],
   "source": [
    "for _ in range(20):\n",
    "    driver.execute_script(\"window.scrollBy(0,500)\")\n",
    "    \n",
    "images = driver.find_element(By.XPATH,'//img[@class=\"YQ4gaf\"]')\n",
    "for image in images:\n",
    "    source = image.get_attribute('src')\n",
    "    if source is not None:\n",
    "        if(source[0:4]=='http'):\n",
    "            cars_url.append(source)\n",
    "            \n",
    "\n",
    "for i in range(len(cars_url)):\n",
    "    if i >= 10:\n",
    "        break\n",
    "        print(\"downloading {0} of {1} images\" .format(i+1, min(len(images_url),10)))\n",
    "        \n",
    "        response = requests.get(image_url[i])\n",
    "        file=open(r\"C:\\Users\\ssour\\Flip Robo\\Image_\"+ str(i) +\".jpg\",\"wb\")\n",
    "        file.write(response.content)"
   ]
  },
  {
   "cell_type": "code",
   "execution_count": 65,
   "id": "eb841b14",
   "metadata": {},
   "outputs": [],
   "source": [
    "cars_url=cars_url[0:10]\n",
    "cars_url"
   ]
  },
  {
   "cell_type": "code",
   "execution_count": null,
   "id": "639823f8",
   "metadata": {},
   "outputs": [],
   "source": [
    "# 10 images of Machine Learning"
   ]
  },
  {
   "cell_type": "code",
   "execution_count": 50,
   "id": "8b3d8292",
   "metadata": {},
   "outputs": [],
   "source": [
    "ML_url=[]"
   ]
  },
  {
   "cell_type": "code",
   "execution_count": 51,
   "id": "2deff242",
   "metadata": {},
   "outputs": [],
   "source": [
    "driver=webdriver.Chrome()"
   ]
  },
  {
   "cell_type": "code",
   "execution_count": 53,
   "id": "d71a5b22",
   "metadata": {},
   "outputs": [],
   "source": [
    "driver.get('https://images.google.com/?gws_rd==ss1')"
   ]
  },
  {
   "cell_type": "code",
   "execution_count": 54,
   "id": "1211e5fa",
   "metadata": {},
   "outputs": [],
   "source": [
    "designation=driver.find_element(By.XPATH,'/html/body/div[1]/div[3]/form/div[1]/div[1]/div[1]/div/div[2]/textarea')\n",
    "designation.send_keys('Machine Learning')"
   ]
  },
  {
   "cell_type": "code",
   "execution_count": null,
   "id": "523ffb71",
   "metadata": {},
   "outputs": [],
   "source": [
    "search=driver.find_element(By.XPATH,'//span[@class=\"z1asCe MZy1Rb\"]')\n",
    "search.click()"
   ]
  },
  {
   "cell_type": "code",
   "execution_count": 56,
   "id": "ae64329a",
   "metadata": {},
   "outputs": [],
   "source": [
    "for _ in range(20):\n",
    "    driver.execute_script(\"window.scrollBy(0,500)\")\n",
    "    \n",
    "images = driver.find_element(By.XPATH,'//img[@class=\"YQ4gaf\"]')\n",
    "for image in images:\n",
    "    source = image.get_attribute('src')\n",
    "    if source is not None:\n",
    "        if(source[0:4]=='http'):\n",
    "            ML_url.append(source)\n",
    "            \n",
    "\n",
    "for i in range(len(ML_url)):\n",
    "    if i >= 10:\n",
    "        break\n",
    "        print(\"downloading {0} of {1} images\" .format(i+1, min(len(images_url),10)))\n",
    "        \n",
    "        response = requests.get(image_url[i])\n",
    "        file=open(r\"C:\\Users\\ssour\\Flip Robo\\Image_\"+ str(i) +\".jpg\",\"wb\")\n",
    "        file.write(response.content)"
   ]
  },
  {
   "cell_type": "code",
   "execution_count": 66,
   "id": "b432e8ad",
   "metadata": {},
   "outputs": [],
   "source": [
    "ML_url=ML_url[0:10]\n",
    "ML_url"
   ]
  },
  {
   "cell_type": "code",
   "execution_count": null,
   "id": "f138e1a7",
   "metadata": {},
   "outputs": [],
   "source": [
    "# 10 Images of Guitar"
   ]
  },
  {
   "cell_type": "code",
   "execution_count": 57,
   "id": "5a8cccc3",
   "metadata": {},
   "outputs": [],
   "source": [
    "driver=webdriver.Chrome()"
   ]
  },
  {
   "cell_type": "code",
   "execution_count": 58,
   "id": "60f47275",
   "metadata": {},
   "outputs": [],
   "source": [
    "driver.get('https://images.google.com/?gws_rd==ss1')"
   ]
  },
  {
   "cell_type": "code",
   "execution_count": 59,
   "id": "e3e26fd2",
   "metadata": {},
   "outputs": [],
   "source": [
    "designation=driver.find_element(By.XPATH,'/html/body/div[1]/div[3]/form/div[1]/div[1]/div[1]/div/div[2]/textarea')\n",
    "designation.send_keys('Guitar')"
   ]
  },
  {
   "cell_type": "code",
   "execution_count": 60,
   "id": "6dea74da",
   "metadata": {},
   "outputs": [],
   "source": [
    "search=driver.find_element(By.XPATH,'//span[@class=\"z1asCe MZy1Rb\"]')\n",
    "search.click()"
   ]
  },
  {
   "cell_type": "code",
   "execution_count": 61,
   "id": "21dab556",
   "metadata": {},
   "outputs": [],
   "source": [
    "Guitar_urls=[]"
   ]
  },
  {
   "cell_type": "code",
   "execution_count": 62,
   "id": "e0843823",
   "metadata": {},
   "outputs": [],
   "source": [
    "for _ in range(20):\n",
    "    driver.execute_script(\"window.scrollBy(0,500)\")\n",
    "    \n",
    "images = driver.find_element(By.XPATH,'//img[@class=\"YQ4gaf\"]')\n",
    "for image in images:\n",
    "    source = image.get_attribute('src')\n",
    "    if source is not None:\n",
    "        if(source[0:4]=='http'):\n",
    "            Guitar_urls.append(source)\n",
    "            \n",
    "\n",
    "for i in range(len(Guitar_url)):\n",
    "    if i >= 10:\n",
    "        break\n",
    "        print(\"downloading {0} of {1} images\" .format(i+1, min(len(images_url),10)))\n",
    "        \n",
    "        response = requests.get(image_url[i])\n",
    "        file=open(r\"C:\\Users\\ssour\\Flip Robo\\Image_\"+ str(i) +\".jpg\",\"wb\")\n",
    "        file.write(response.content)"
   ]
  },
  {
   "cell_type": "code",
   "execution_count": 67,
   "id": "5771e3b7",
   "metadata": {},
   "outputs": [],
   "source": [
    "Guitar_url=Guitar_url[0:10]\n",
    "Guitar_url"
   ]
  },
  {
   "cell_type": "code",
   "execution_count": null,
   "id": "d7678854",
   "metadata": {},
   "outputs": [],
   "source": [
    "# 10 images of cakes"
   ]
  },
  {
   "cell_type": "code",
   "execution_count": 68,
   "id": "f64ba54f",
   "metadata": {},
   "outputs": [],
   "source": [
    "driver=webdriver.Chrome()"
   ]
  },
  {
   "cell_type": "code",
   "execution_count": 69,
   "id": "adc8e936",
   "metadata": {},
   "outputs": [],
   "source": [
    "driver=webdriver.Chrome()"
   ]
  },
  {
   "cell_type": "code",
   "execution_count": 71,
   "id": "adb0ff0e",
   "metadata": {},
   "outputs": [],
   "source": [
    "designation=driver.find_element(By.XPATH,'/html/body/div[1]/div[3]/form/div[1]/div[1]/div[1]/div/div[2]/textarea')\n",
    "designation.send_keys('Cakes')"
   ]
  },
  {
   "cell_type": "code",
   "execution_count": 72,
   "id": "d989b1d8",
   "metadata": {},
   "outputs": [],
   "source": [
    "search=driver.find_element(By.XPATH,'//span[@class=\"z1asCe MZy1Rb\"]')\n",
    "search.click()"
   ]
  },
  {
   "cell_type": "code",
   "execution_count": 73,
   "id": "e9e90254",
   "metadata": {},
   "outputs": [],
   "source": [
    "cake_url=[]"
   ]
  },
  {
   "cell_type": "code",
   "execution_count": 74,
   "id": "4386c0c1",
   "metadata": {},
   "outputs": [],
   "source": [
    "for _ in range(20):\n",
    "    driver.execute_script(\"window.scrollBy(0,500)\")\n",
    "    \n",
    "images = driver.find_element(By.XPATH,'//img[@class=\"YQ4gaf\"]')\n",
    "for image in images:\n",
    "    source = image.get_attribute('src')\n",
    "    if source is not None:\n",
    "        if(source[0:4]=='http'):\n",
    "            cake_urls.append(source)\n",
    "            \n",
    "\n",
    "for i in range(len(Guitar_url)):\n",
    "    if i >= 10:\n",
    "        break\n",
    "        print(\"downloading {0} of {1} images\" .format(i+1, min(len(images_url),10)))\n",
    "        \n",
    "        response = requests.get(cake_url[i])\n",
    "        file=open(r\"C:\\Users\\ssour\\Flip Robo\\Image_\"+ str(i) +\".jpg\",\"wb\")\n",
    "        file.write(response.content)"
   ]
  },
  {
   "cell_type": "code",
   "execution_count": 76,
   "id": "ef90aba0",
   "metadata": {},
   "outputs": [],
   "source": [
    "cake_url=cake_url[0:10]\n",
    "cake_url\n"
   ]
  },
  {
   "cell_type": "markdown",
   "id": "44f438b3",
   "metadata": {},
   "source": [
    "# QUESTION 4"
   ]
  },
  {
   "cell_type": "code",
   "execution_count": 507,
   "id": "446fb566",
   "metadata": {},
   "outputs": [],
   "source": [
    "driver=webdriver.Chrome()"
   ]
  },
  {
   "cell_type": "code",
   "execution_count": 508,
   "id": "33fba0c3",
   "metadata": {},
   "outputs": [],
   "source": [
    "driver.get(\"https://www.flipkart.com\")"
   ]
  },
  {
   "cell_type": "code",
   "execution_count": 509,
   "id": "0870c899",
   "metadata": {},
   "outputs": [],
   "source": [
    "designation=driver.find_element(By.XPATH,'/html/body/div[1]/div/div[1]/div/div/div/div/div[1]/div/div[1]/div/div[1]/div[1]/header/div[1]/div[2]/form/div/div/input')\n",
    "designation.send_keys('One Plus Nord')"
   ]
  },
  {
   "cell_type": "code",
   "execution_count": 510,
   "id": "5aded81a",
   "metadata": {},
   "outputs": [],
   "source": [
    "search=driver.find_element(By.XPATH,'/html/body/div[1]/div/div[1]/div/div/div/div/div[1]/div/div[1]/div/div[1]/div[1]/header/div[1]/div[2]/form/div/button')\n",
    "search.click()"
   ]
  },
  {
   "cell_type": "code",
   "execution_count": 511,
   "id": "800cab93",
   "metadata": {},
   "outputs": [],
   "source": [
    "product_url=[]\n",
    "brand_name=[]\n",
    "smartphone_name=[]\n",
    "colours=[]\n",
    "ram=[]\n",
    "rom=[]\n",
    "primary_camera=[]\n",
    "secondary_camera=[]\n",
    "display_size=[]\n",
    "battery=[]\n",
    "price=[]"
   ]
  },
  {
   "cell_type": "code",
   "execution_count": 512,
   "id": "3a6553a3",
   "metadata": {},
   "outputs": [],
   "source": [
    "titles=driver.find_elements(By.XPATH,'//a[@class=\"_1fQZEK\"]')\n",
    "for i in titles:\n",
    "    product_url.append(i.get_attribute('href'))\n",
    "    "
   ]
  },
  {
   "cell_type": "code",
   "execution_count": 513,
   "id": "1e349141",
   "metadata": {},
   "outputs": [
    {
     "data": {
      "text/plain": [
       "['https://www.flipkart.com/oneplus-nord-ce-3-lite-5g-pastel-lime-256-gb/p/itm2cd5a4e659035?pid=MOBGZJ3ZFQ8AKKRS&lid=LSTMOBGZJ3ZFQ8AKKRSOXTFW2&marketplace=FLIPKART&q=One+Plus+Nord&store=tyy%2F4io&srno=s_1_1&otracker=search&otracker1=search&fm=organic&iid=81f37c8d-2c23-4686-8ae9-c89ed718b981.MOBGZJ3ZFQ8AKKRS.SEARCH&ppt=hp&ppn=homepage&ssid=hnu55tzw800000001712452105615&qH=ec6552bf395feccb',\n",
       " 'https://www.flipkart.com/oneplus-nord-ce-3-lite-5g-chromatic-gray-256-gb/p/itm2cd5a4e659035?pid=MOBGZJ45PS4AQ7BA&lid=LSTMOBGZJ45PS4AQ7BAWZZOBN&marketplace=FLIPKART&q=One+Plus+Nord&store=tyy%2F4io&srno=s_1_2&otracker=search&otracker1=search&fm=organic&iid=81f37c8d-2c23-4686-8ae9-c89ed718b981.MOBGZJ45PS4AQ7BA.SEARCH&ppt=hp&ppn=homepage&ssid=hnu55tzw800000001712452105615&qH=ec6552bf395feccb',\n",
       " 'https://www.flipkart.com/oneplus-nord-ce-3-lite-5g-pastel-lime-128-gb/p/itm2cd5a4e659035?pid=MOBGZJ3WM5SGTGVZ&lid=LSTMOBGZJ3WM5SGTGVZKPMPBL&marketplace=FLIPKART&q=One+Plus+Nord&store=tyy%2F4io&spotlightTagId=BestsellerId_tyy%2F4io&srno=s_1_3&otracker=search&otracker1=search&fm=organic&iid=81f37c8d-2c23-4686-8ae9-c89ed718b981.MOBGZJ3WM5SGTGVZ.SEARCH&ppt=hp&ppn=homepage&ssid=hnu55tzw800000001712452105615&qH=ec6552bf395feccb',\n",
       " 'https://www.flipkart.com/oneplus-nord-ce-3-lite-5g-chromatic-gray-128-gb/p/itm2cd5a4e659035?pid=MOBGZJ42KHUZZKMN&lid=LSTMOBGZJ42KHUZZKMNMOITMO&marketplace=FLIPKART&q=One+Plus+Nord&store=tyy%2F4io&spotlightTagId=BestsellerId_tyy%2F4io&srno=s_1_4&otracker=search&otracker1=search&fm=organic&iid=81f37c8d-2c23-4686-8ae9-c89ed718b981.MOBGZJ42KHUZZKMN.SEARCH&ppt=hp&ppn=homepage&ssid=hnu55tzw800000001712452105615&qH=ec6552bf395feccb',\n",
       " 'https://www.flipkart.com/oneplus-nord-3-5g-misty-green-256-gb/p/itm5fc87afce35dc?pid=MOBGRK3284RMGYSX&lid=LSTMOBGRK3284RMGYSXGW6X0U&marketplace=FLIPKART&q=One+Plus+Nord&store=tyy%2F4io&srno=s_1_5&otracker=search&otracker1=search&fm=organic&iid=81f37c8d-2c23-4686-8ae9-c89ed718b981.MOBGRK3284RMGYSX.SEARCH&ppt=hp&ppn=homepage&ssid=hnu55tzw800000001712452105615&qH=ec6552bf395feccb',\n",
       " 'https://www.flipkart.com/oneplus-nord-3-5g-tempest-gray-256-gb/p/itm5fc87afce35dc?pid=MOBGRK35QGGTMTZ3&lid=LSTMOBGRK35QGGTMTZ3WDSRAQ&marketplace=FLIPKART&q=One+Plus+Nord&store=tyy%2F4io&srno=s_1_6&otracker=search&otracker1=search&fm=organic&iid=81f37c8d-2c23-4686-8ae9-c89ed718b981.MOBGRK35QGGTMTZ3.SEARCH&ppt=hp&ppn=homepage&ssid=hnu55tzw800000001712452105615&qH=ec6552bf395feccb',\n",
       " 'https://www.flipkart.com/oneplus-nord-3-5g-misty-green-128-gb/p/itm5fc87afce35dc?pid=MOBGRKA2GBGGS6QZ&lid=LSTMOBGRKA2GBGGS6QZBEF66Y&marketplace=FLIPKART&q=One+Plus+Nord&store=tyy%2F4io&srno=s_1_7&otracker=search&otracker1=search&fm=organic&iid=81f37c8d-2c23-4686-8ae9-c89ed718b981.MOBGRKA2GBGGS6QZ.SEARCH&ppt=hp&ppn=homepage&ssid=hnu55tzw800000001712452105615&qH=ec6552bf395feccb',\n",
       " 'https://www.flipkart.com/oneplus-nord-3-5g-tempest-gray-128-gb/p/itm5fc87afce35dc?pid=MOBGRK2VXCKBADB5&lid=LSTMOBGRK2VXCKBADB5SG0IBI&marketplace=FLIPKART&q=One+Plus+Nord&store=tyy%2F4io&srno=s_1_8&otracker=search&otracker1=search&fm=organic&iid=81f37c8d-2c23-4686-8ae9-c89ed718b981.MOBGRK2VXCKBADB5.SEARCH&ppt=hp&ppn=homepage&ssid=hnu55tzw800000001712452105615&qH=ec6552bf395feccb',\n",
       " 'https://www.flipkart.com/oneplus-nord-ce-2-lite-5g-black-dusk-128-gb/p/itm537fc2aa73747?pid=MOBGHBZHB7YJT5HF&lid=LSTMOBGHBZHB7YJT5HFYZAVM1&marketplace=FLIPKART&q=One+Plus+Nord&store=tyy%2F4io&srno=s_1_9&otracker=search&otracker1=search&fm=organic&iid=81f37c8d-2c23-4686-8ae9-c89ed718b981.MOBGHBZHB7YJT5HF.SEARCH&ppt=hp&ppn=homepage&ssid=hnu55tzw800000001712452105615&qH=ec6552bf395feccb',\n",
       " 'https://www.flipkart.com/oneplus-nord-ce3-5g-grey-shimmer-128-gb/p/itm95b25bfcca817?pid=MOBGS44NJJVFWSHU&lid=LSTMOBGS44NJJVFWSHUZE41CV&marketplace=FLIPKART&q=One+Plus+Nord&store=tyy%2F4io&srno=s_1_10&otracker=search&otracker1=search&fm=organic&iid=81f37c8d-2c23-4686-8ae9-c89ed718b981.MOBGS44NJJVFWSHU.SEARCH&ppt=hp&ppn=homepage&ssid=hnu55tzw800000001712452105615&qH=ec6552bf395feccb',\n",
       " 'https://www.flipkart.com/oneplus-nord-ce3-5g-aqua-surge-128-gb/p/itm95b25bfcca817?pid=MOBGS44DBDZBTUWS&lid=LSTMOBGS44DBDZBTUWSZS40AD&marketplace=FLIPKART&q=One+Plus+Nord&store=tyy%2F4io&srno=s_1_11&otracker=search&otracker1=search&fm=organic&iid=81f37c8d-2c23-4686-8ae9-c89ed718b981.MOBGS44DBDZBTUWS.SEARCH&ppt=hp&ppn=homepage&ssid=hnu55tzw800000001712452105615&qH=ec6552bf395feccb',\n",
       " 'https://www.flipkart.com/oneplus-nord-ce3-5g-aqua-surge-256-gb/p/itm95b25bfcca817?pid=MOBGS45CEU4ZGYWY&lid=LSTMOBGS45CEU4ZGYWYOJ8TR2&marketplace=FLIPKART&q=One+Plus+Nord&store=tyy%2F4io&srno=s_1_12&otracker=search&otracker1=search&fm=organic&iid=81f37c8d-2c23-4686-8ae9-c89ed718b981.MOBGS45CEU4ZGYWY.SEARCH&ppt=hp&ppn=homepage&ssid=hnu55tzw800000001712452105615&qH=ec6552bf395feccb',\n",
       " 'https://www.flipkart.com/oneplus-nord-ce-2-lite-5g-blue-tide-128-gb/p/itm7acae55b999e6?pid=MOBGMFREBAHZQGY9&lid=LSTMOBGMFREBAHZQGY9LFGFLR&marketplace=FLIPKART&q=One+Plus+Nord&store=tyy%2F4io&srno=s_1_13&otracker=search&otracker1=search&fm=organic&iid=81f37c8d-2c23-4686-8ae9-c89ed718b981.MOBGMFREBAHZQGY9.SEARCH&ppt=hp&ppn=homepage&ssid=hnu55tzw800000001712452105615&qH=ec6552bf395feccb',\n",
       " 'https://www.flipkart.com/oneplus-nord-ce-5g-charcoal-ink-128-gb/p/itmc4c02029d9c90?pid=MOBGDM46BMYENNJN&lid=LSTMOBGDM46BMYENNJNCW89EK&marketplace=FLIPKART&q=One+Plus+Nord&store=tyy%2F4io&srno=s_1_14&otracker=search&otracker1=search&fm=organic&iid=81f37c8d-2c23-4686-8ae9-c89ed718b981.MOBGDM46BMYENNJN.SEARCH&ppt=hp&ppn=homepage&ssid=hnu55tzw800000001712452105615&qH=ec6552bf395feccb',\n",
       " 'https://www.flipkart.com/oneplus-nord-2t-5g-jade-fog-128-gb/p/itm31ac32e308282?pid=MOBGHBZHFAUYKH3U&lid=LSTMOBGHBZHFAUYKH3U7R4B3A&marketplace=FLIPKART&q=One+Plus+Nord&store=tyy%2F4io&srno=s_1_15&otracker=search&otracker1=search&fm=organic&iid=81f37c8d-2c23-4686-8ae9-c89ed718b981.MOBGHBZHFAUYKH3U.SEARCH&ppt=hp&ppn=homepage&ssid=hnu55tzw800000001712452105615&qH=ec6552bf395feccb',\n",
       " 'https://www.flipkart.com/oneplus-nord-2t-5g-gray-shadow-128-gb/p/itmd6fae876845b9?pid=MOBGZKM5XBXSJYZT&lid=LSTMOBGZKM5XBXSJYZTF1NRRP&marketplace=FLIPKART&q=One+Plus+Nord&store=tyy%2F4io&srno=s_1_16&otracker=search&otracker1=search&fm=organic&iid=81f37c8d-2c23-4686-8ae9-c89ed718b981.MOBGZKM5XBXSJYZT.SEARCH&ppt=hp&ppn=homepage&ssid=hnu55tzw800000001712452105615&qH=ec6552bf395feccb',\n",
       " 'https://www.flipkart.com/oneplus-nord-2t-5g-gray-shadow-128-gb/p/itm09f5278e2a599?pid=MOBGNQHZG3HBMRDW&lid=LSTMOBGNQHZG3HBMRDWS2TETJ&marketplace=FLIPKART&q=One+Plus+Nord&store=tyy%2F4io&srno=s_1_17&otracker=search&otracker1=search&fm=organic&iid=81f37c8d-2c23-4686-8ae9-c89ed718b981.MOBGNQHZG3HBMRDW.SEARCH&ppt=hp&ppn=homepage&ssid=hnu55tzw800000001712452105615&qH=ec6552bf395feccb',\n",
       " 'https://www.flipkart.com/oneplus-nord-ce-2-lite-5g-black-dusk-128-gb/p/itmc56272cceee9d?pid=MOBGHBZHQMNV4KKS&lid=LSTMOBGHBZHQMNV4KKSLCMNP5&marketplace=FLIPKART&q=One+Plus+Nord&store=tyy%2F4io&srno=s_1_18&otracker=search&otracker1=search&fm=organic&iid=81f37c8d-2c23-4686-8ae9-c89ed718b981.MOBGHBZHQMNV4KKS.SEARCH&ppt=hp&ppn=homepage&ssid=hnu55tzw800000001712452105615&qH=ec6552bf395feccb',\n",
       " 'https://www.flipkart.com/oneplus-nord-ce-2-5g-bahama-blue-128-gb/p/itm2a9883679c57c?pid=MOBGHHZ2CKB5D4WU&lid=LSTMOBGHHZ2CKB5D4WUSVEMWB&marketplace=FLIPKART&q=One+Plus+Nord&store=tyy%2F4io&srno=s_1_19&otracker=search&otracker1=search&fm=organic&iid=81f37c8d-2c23-4686-8ae9-c89ed718b981.MOBGHHZ2CKB5D4WU.SEARCH&ppt=hp&ppn=homepage&ssid=hnu55tzw800000001712452105615&qH=ec6552bf395feccb',\n",
       " 'https://www.flipkart.com/oneplus-nord-ce-2-5g-bahama-blue-128-gb/p/itm2a9883679c57c?pid=MOBGJMUH64MTF6PK&lid=LSTMOBGJMUH64MTF6PKNK4ESK&marketplace=FLIPKART&q=One+Plus+Nord&store=tyy%2F4io&srno=s_1_20&otracker=search&otracker1=search&fm=organic&iid=81f37c8d-2c23-4686-8ae9-c89ed718b981.MOBGJMUH64MTF6PK.SEARCH&ppt=hp&ppn=homepage&ssid=hnu55tzw800000001712452105615&qH=ec6552bf395feccb',\n",
       " 'https://www.flipkart.com/oneplus-nord-ce-2-5g-bahama-blue-128-gb/p/itm2a9883679c57c?pid=MOBGDBYGG6PPNFD9&lid=LSTMOBGDBYGG6PPNFD98KK2DS&marketplace=FLIPKART&q=One+Plus+Nord&store=tyy%2F4io&srno=s_1_21&otracker=search&otracker1=search&fm=organic&iid=81f37c8d-2c23-4686-8ae9-c89ed718b981.MOBGDBYGG6PPNFD9.SEARCH&ppt=hp&ppn=homepage&ssid=hnu55tzw800000001712452105615&qH=ec6552bf395feccb',\n",
       " 'https://www.flipkart.com/oneplus-nord-2t-5g-jade-fog-128-gb/p/itm35e6b96d50ae8?pid=MOBGNQHZ7V2GPFKG&lid=LSTMOBGNQHZ7V2GPFKGAQZ2OH&marketplace=FLIPKART&q=One+Plus+Nord&store=tyy%2F4io&srno=s_1_22&otracker=search&otracker1=search&fm=organic&iid=81f37c8d-2c23-4686-8ae9-c89ed718b981.MOBGNQHZ7V2GPFKG.SEARCH&ppt=hp&ppn=homepage&ssid=hnu55tzw800000001712452105615&qH=ec6552bf395feccb',\n",
       " 'https://www.flipkart.com/oneplus-nord-2t-5g-gray-shadow-128-gb/p/itmeadf76c1e8943?pid=MOBGHBZH2S8MWQGQ&lid=LSTMOBGHBZH2S8MWQGQVS5NRI&marketplace=FLIPKART&q=One+Plus+Nord&store=tyy%2F4io&srno=s_1_23&otracker=search&otracker1=search&fm=organic&iid=81f37c8d-2c23-4686-8ae9-c89ed718b981.MOBGHBZH2S8MWQGQ.SEARCH&ppt=hp&ppn=homepage&ssid=hnu55tzw800000001712452105615&qH=ec6552bf395feccb',\n",
       " 'https://www.flipkart.com/oneplus-nord-ce-2-5g-gray-mirror-128-gb/p/itm2a9883679c57c?pid=MOBGDHWMFQBKFV5F&lid=LSTMOBGDHWMFQBKFV5FEPMV1S&marketplace=FLIPKART&q=One+Plus+Nord&store=tyy%2F4io&srno=s_1_24&otracker=search&otracker1=search&fm=organic&iid=81f37c8d-2c23-4686-8ae9-c89ed718b981.MOBGDHWMFQBKFV5F.SEARCH&ppt=hp&ppn=homepage&ssid=hnu55tzw800000001712452105615&qH=ec6552bf395feccb']"
      ]
     },
     "execution_count": 513,
     "metadata": {},
     "output_type": "execute_result"
    }
   ],
   "source": [
    "product_url"
   ]
  },
  {
   "cell_type": "code",
   "execution_count": 514,
   "id": "a110af10",
   "metadata": {},
   "outputs": [],
   "source": [
    "for i in product_url:\n",
    "    driver.get(i)\n",
    "    time.sleep(5)\n",
    "    \n",
    "   \n",
    "    \n",
    "    try:\n",
    "        sn=driver.find_element(By.XPATH,'//span[@class=\"B_NuCI\"]')\n",
    "        smartphone_name.append(sn.text)\n",
    "    except NoSuchElementException:\n",
    "        smartphone_name.append('-')\n",
    "    \n",
    "    \n",
    "    try:\n",
    "        ram_rom=driver.find_element(By.XPATH,'//li[@class=\"_21Ahn-\"][1]')\n",
    "        rom.append(ram_rom.text)\n",
    "    except NoSuchElementException:\n",
    "        rom.append('-')\n",
    "    \n",
    "    try:\n",
    "        camera=driver.find_element(By.XPATH,'//li[@class=\"_21Ahn-\"][3]')\n",
    "        primary_camera.append(camera.text)\n",
    "    except NoSuchElementException:\n",
    "        primary_camera.append('-')\n",
    "    \n",
    "    \n",
    "    try:\n",
    "        display=driver.find_element(By.XPATH,'//li[@class=\"_21Ahn-\"][2]')\n",
    "        display_size.append(display.text)\n",
    "    except NoSuchElementException:\n",
    "        display_size.append('-')\n",
    "        \n",
    "    \n",
    "    try:\n",
    "        battery_tag=driver.find_element(By.XPATH,'//li[@class=\"_21Ahn-\"][4]')\n",
    "        battery.append(battery_tag.text)\n",
    "    except NoSuchElementException:\n",
    "        battery.append('-')\n",
    "    \n",
    "\n",
    "    try:\n",
    "        rs=driver.find_element(By.XPATH,'//div[@class=\"_30jeq3 _16Jk6d\"]')\n",
    "        price.append(rs.text)\n",
    "    except NoSuchElementException:\n",
    "        price.append('-')"
   ]
  },
  {
   "cell_type": "code",
   "execution_count": 515,
   "id": "ca36e026",
   "metadata": {},
   "outputs": [
    {
     "data": {
      "text/plain": [
       "['OnePlus Nord CE 3 Lite 5G (Pastel Lime, 256 GB)  (8 GB RAM)',\n",
       " 'OnePlus Nord CE 3 Lite 5G (Chromatic Gray, 256 GB)  (8 GB RAM)',\n",
       " 'OnePlus Nord CE 3 Lite 5G (Pastel Lime, 128 GB)  (8 GB RAM)',\n",
       " 'OnePlus Nord CE 3 Lite 5G (Chromatic Gray, 128 GB)  (8 GB RAM)',\n",
       " 'OnePlus Nord 3 5G (Misty Green, 256 GB)  (16 GB RAM)',\n",
       " 'OnePlus Nord 3 5G (Tempest Gray, 256 GB)  (16 GB RAM)',\n",
       " 'OnePlus Nord 3 5G (Misty Green, 128 GB)  (8 GB RAM)',\n",
       " 'OnePlus Nord 3 5G (Tempest Gray, 128 GB)  (8 GB RAM)',\n",
       " 'OnePlus Nord CE 2 Lite 5G (Black Dusk, 128 GB)  (6 GB RAM)',\n",
       " 'OnePlus Nord CE3 5G (Grey Shimmer, 128 GB)  (8 GB RAM)',\n",
       " 'OnePlus Nord CE3 5G (Aqua Surge, 128 GB)  (8 GB RAM)',\n",
       " 'OnePlus Nord CE3 5G (Aqua Surge, 256 GB)  (12 GB RAM)',\n",
       " 'OnePlus Nord CE 2 Lite 5G (Blue Tide, 128 GB)  (6 GB RAM)',\n",
       " 'OnePlus Nord CE 5G (Charcoal Ink, 128 GB)  (6 GB RAM)',\n",
       " 'OnePlus Nord 2T 5G (Jade Fog, 128 GB)  (8 GB RAM)',\n",
       " 'OnePlus Nord 2T 5G (Gray Shadow, 128 GB)  (8 GB RAM)',\n",
       " 'OnePlus Nord 2T 5G (Gray Shadow, 128 GB)  (8 GB RAM)',\n",
       " 'OnePlus Nord CE 2 Lite 5G (Black Dusk, 128 GB)  (8 GB RAM)',\n",
       " 'OnePlus Nord CE 2 5G (Bahama Blue, 128 GB)  (8 GB RAM)',\n",
       " 'OnePlus Nord CE 2 5G (Bahama Blue, 128 GB)  (8 GB RAM)',\n",
       " 'OnePlus Nord CE 2 5G (Bahama Blue, 128 GB)  (8 GB RAM)',\n",
       " 'OnePlus Nord 2T 5G (Jade Fog, 128 GB)  (8 GB RAM)',\n",
       " 'OnePlus Nord 2T 5G (Gray Shadow, 128 GB)  (8 GB RAM)',\n",
       " 'OnePlus Nord CE 2 5G (Gray Mirror, 128 GB)  (8 GB RAM)']"
      ]
     },
     "execution_count": 515,
     "metadata": {},
     "output_type": "execute_result"
    }
   ],
   "source": [
    "smartphone_name"
   ]
  },
  {
   "cell_type": "code",
   "execution_count": 516,
   "id": "b17dac87",
   "metadata": {},
   "outputs": [
    {
     "data": {
      "text/plain": [
       "24"
      ]
     },
     "execution_count": 516,
     "metadata": {},
     "output_type": "execute_result"
    }
   ],
   "source": [
    "len(smartphone_name)"
   ]
  },
  {
   "cell_type": "code",
   "execution_count": 517,
   "id": "197e0619",
   "metadata": {},
   "outputs": [
    {
     "name": "stdout",
     "output_type": "stream",
     "text": [
      "['₹19,857', '₹19,987', '₹17,402', '₹17,425', '₹37,630', '₹36,000', '₹25,065', '₹25,079', '₹17,548', '₹23,299', '₹23,990', '₹28,979', '₹19,975', '₹22,989', '₹28,990', '₹28,999', '₹28,449', '₹20,890', '₹22,995', '₹23,285', '₹23,789', '₹28,199', '₹28,989', '₹17,999']\n"
     ]
    }
   ],
   "source": [
    "print(price)"
   ]
  },
  {
   "cell_type": "code",
   "execution_count": 518,
   "id": "44b0c5a9",
   "metadata": {},
   "outputs": [
    {
     "data": {
      "text/plain": [
       "24"
      ]
     },
     "execution_count": 518,
     "metadata": {},
     "output_type": "execute_result"
    }
   ],
   "source": [
    "len(price)"
   ]
  },
  {
   "cell_type": "code",
   "execution_count": 519,
   "id": "18538b50",
   "metadata": {},
   "outputs": [
    {
     "data": {
      "text/plain": [
       "['108MP Rear Camera',\n",
       " '108MP Rear Camera',\n",
       " '108MP Rear Camera',\n",
       " '108MP Rear Camera',\n",
       " '50MP Rear Camera',\n",
       " '50MP Rear Camera',\n",
       " '50MP Rear Camera',\n",
       " '50MP Rear Camera',\n",
       " '64MP Rear Camera | 16MP Front Camera',\n",
       " '50MP Rear Camera',\n",
       " '50MP Rear Camera | 16MP Front Camera',\n",
       " '50MP Rear Camera',\n",
       " '64MP Rear Camera | 16MP Front Camera',\n",
       " '64MP Rear Camera',\n",
       " '50MP Rear Camera | 32MP Front Camera',\n",
       " '50MP Rear Camera',\n",
       " '50MP Rear Camera',\n",
       " '64MP Rear Camera | 16MP Front Camera',\n",
       " '64MP Rear Camera',\n",
       " '64MP Rear Camera',\n",
       " '64MP Rear Camera',\n",
       " '50MP Rear Camera',\n",
       " '50MP Rear Camera | 32MP Front Camera',\n",
       " '64MP Rear Camera']"
      ]
     },
     "execution_count": 519,
     "metadata": {},
     "output_type": "execute_result"
    }
   ],
   "source": [
    "primary_camera"
   ]
  },
  {
   "cell_type": "code",
   "execution_count": 520,
   "id": "43fd7868",
   "metadata": {},
   "outputs": [
    {
     "data": {
      "text/plain": [
       "24"
      ]
     },
     "execution_count": 520,
     "metadata": {},
     "output_type": "execute_result"
    }
   ],
   "source": [
    "len(primary_camera)"
   ]
  },
  {
   "cell_type": "code",
   "execution_count": 521,
   "id": "871cae35",
   "metadata": {},
   "outputs": [
    {
     "name": "stdout",
     "output_type": "stream",
     "text": [
      "['8 GB RAM | 256 GB ROM', '8 GB RAM | 256 GB ROM', '8 GB RAM | 128 GB ROM', '8 GB RAM | 128 GB ROM', '16 GB RAM | 256 GB ROM', '16 GB RAM | 256 GB ROM', '8 GB RAM | 128 GB ROM', '8 GB RAM | 128 GB ROM', '6 GB RAM | 128 GB ROM', '8 GB RAM | 128 GB ROM', '8 GB RAM | 128 GB ROM', '12 GB RAM | 256 GB ROM', '6 GB RAM | 128 GB ROM', '6 GB RAM | 128 GB ROM', '8 GB RAM | 128 GB ROM', '8 GB RAM | 128 GB ROM', '8 GB RAM | 128 GB ROM', '8 GB RAM | 128 GB ROM', '8 GB RAM | 128 GB ROM', '8 GB RAM | 128 GB ROM', '8 GB RAM | 128 GB ROM', '8 GB RAM | 128 GB ROM', '8 GB RAM | 128 GB ROM', '8 GB RAM | 128 GB ROM']\n"
     ]
    }
   ],
   "source": [
    "print(rom)"
   ]
  },
  {
   "cell_type": "code",
   "execution_count": 522,
   "id": "81fda26e",
   "metadata": {},
   "outputs": [
    {
     "data": {
      "text/plain": [
       "24"
      ]
     },
     "execution_count": 522,
     "metadata": {},
     "output_type": "execute_result"
    }
   ],
   "source": [
    "len(rom)"
   ]
  },
  {
   "cell_type": "code",
   "execution_count": 523,
   "id": "5c8c1b86",
   "metadata": {},
   "outputs": [
    {
     "data": {
      "text/plain": [
       "['17.07 cm (6.72 inch) Display',\n",
       " '17.07 cm (6.72 inch) Display',\n",
       " '17.07 cm (6.72 inch) Display',\n",
       " '17.07 cm (6.72 inch) Display',\n",
       " '17.12 cm (6.74 inch) Display',\n",
       " '17.12 cm (6.74 inch) Display',\n",
       " '17.12 cm (6.74 inch) Display',\n",
       " '17.12 cm (6.74 inch) Full HD+ Display',\n",
       " '16.74 cm (6.59 inch) Display',\n",
       " '17.02 cm (6.7 inch) Display',\n",
       " '17.02 cm (6.7 inch) Display',\n",
       " '17.02 cm (6.7 inch) Display',\n",
       " '16.74 cm (6.59 inch) Display',\n",
       " '16.33 cm (6.43 inch) Display',\n",
       " '17.02 cm (6.7 inch) Display',\n",
       " '17.02 cm (6.7 inch) Display',\n",
       " '17.02 cm (6.7 inch) Display',\n",
       " '16.74 cm (6.59 inch) Display',\n",
       " '16.33 cm (6.43 inch) Display',\n",
       " '16.33 cm (6.43 inch) Display',\n",
       " '16.33 cm (6.43 inch) Display',\n",
       " '17.02 cm (6.7 inch) Display',\n",
       " '17.02 cm (6.7 inch) Display',\n",
       " '16.33 cm (6.43 inch) Display']"
      ]
     },
     "execution_count": 523,
     "metadata": {},
     "output_type": "execute_result"
    }
   ],
   "source": [
    "display_size"
   ]
  },
  {
   "cell_type": "code",
   "execution_count": 524,
   "id": "3f379078",
   "metadata": {},
   "outputs": [
    {
     "data": {
      "text/plain": [
       "24"
      ]
     },
     "execution_count": 524,
     "metadata": {},
     "output_type": "execute_result"
    }
   ],
   "source": [
    "len(display_size)"
   ]
  },
  {
   "cell_type": "code",
   "execution_count": 525,
   "id": "ffa2d2d8",
   "metadata": {},
   "outputs": [
    {
     "name": "stdout",
     "output_type": "stream",
     "text": [
      "['5000 mAh Battery', '5000 mAh Battery', '5000 mAh Battery', '5000 mAh Battery', '5000 mAh Battery', '5000 mAh Battery', '5000 mAh Battery', '5000 mAh Battery', '5000 mAh Battery', '5000 mAh Battery', '5000 mAh Battery', '5000 mAh Battery', '5000 mAh Battery', '4500 mAh Battery', '4500 mAh Battery', '4500 mAh Battery', '4500 mAh Battery', '5000 mAh Battery', '4500 mAh Battery', '4500 mAh Battery', '4500 mAh Battery', '4500 mAh Battery', '4500 mAh Battery', '4500 mAh Battery']\n"
     ]
    }
   ],
   "source": [
    "print(battery)"
   ]
  },
  {
   "cell_type": "code",
   "execution_count": 526,
   "id": "f200099d",
   "metadata": {},
   "outputs": [
    {
     "data": {
      "text/plain": [
       "24"
      ]
     },
     "execution_count": 526,
     "metadata": {},
     "output_type": "execute_result"
    }
   ],
   "source": [
    "len(battery)"
   ]
  },
  {
   "cell_type": "code",
   "execution_count": 527,
   "id": "6caa6f96",
   "metadata": {},
   "outputs": [
    {
     "data": {
      "text/html": [
       "<div>\n",
       "<style scoped>\n",
       "    .dataframe tbody tr th:only-of-type {\n",
       "        vertical-align: middle;\n",
       "    }\n",
       "\n",
       "    .dataframe tbody tr th {\n",
       "        vertical-align: top;\n",
       "    }\n",
       "\n",
       "    .dataframe thead th {\n",
       "        text-align: right;\n",
       "    }\n",
       "</style>\n",
       "<table border=\"1\" class=\"dataframe\">\n",
       "  <thead>\n",
       "    <tr style=\"text-align: right;\">\n",
       "      <th></th>\n",
       "      <th>Smart Phone</th>\n",
       "      <th>Price</th>\n",
       "      <th>Primary Camera</th>\n",
       "      <th>Rom</th>\n",
       "      <th>Display Size</th>\n",
       "      <th>Battery</th>\n",
       "    </tr>\n",
       "  </thead>\n",
       "  <tbody>\n",
       "    <tr>\n",
       "      <th>0</th>\n",
       "      <td>OnePlus Nord CE 3 Lite 5G (Pastel Lime, 256 GB...</td>\n",
       "      <td>₹19,857</td>\n",
       "      <td>108MP Rear Camera</td>\n",
       "      <td>8 GB RAM | 256 GB ROM</td>\n",
       "      <td>17.07 cm (6.72 inch) Display</td>\n",
       "      <td>5000 mAh Battery</td>\n",
       "    </tr>\n",
       "    <tr>\n",
       "      <th>1</th>\n",
       "      <td>OnePlus Nord CE 3 Lite 5G (Chromatic Gray, 256...</td>\n",
       "      <td>₹19,987</td>\n",
       "      <td>108MP Rear Camera</td>\n",
       "      <td>8 GB RAM | 256 GB ROM</td>\n",
       "      <td>17.07 cm (6.72 inch) Display</td>\n",
       "      <td>5000 mAh Battery</td>\n",
       "    </tr>\n",
       "    <tr>\n",
       "      <th>2</th>\n",
       "      <td>OnePlus Nord CE 3 Lite 5G (Pastel Lime, 128 GB...</td>\n",
       "      <td>₹17,402</td>\n",
       "      <td>108MP Rear Camera</td>\n",
       "      <td>8 GB RAM | 128 GB ROM</td>\n",
       "      <td>17.07 cm (6.72 inch) Display</td>\n",
       "      <td>5000 mAh Battery</td>\n",
       "    </tr>\n",
       "    <tr>\n",
       "      <th>3</th>\n",
       "      <td>OnePlus Nord CE 3 Lite 5G (Chromatic Gray, 128...</td>\n",
       "      <td>₹17,425</td>\n",
       "      <td>108MP Rear Camera</td>\n",
       "      <td>8 GB RAM | 128 GB ROM</td>\n",
       "      <td>17.07 cm (6.72 inch) Display</td>\n",
       "      <td>5000 mAh Battery</td>\n",
       "    </tr>\n",
       "    <tr>\n",
       "      <th>4</th>\n",
       "      <td>OnePlus Nord 3 5G (Misty Green, 256 GB)  (16 G...</td>\n",
       "      <td>₹37,630</td>\n",
       "      <td>50MP Rear Camera</td>\n",
       "      <td>16 GB RAM | 256 GB ROM</td>\n",
       "      <td>17.12 cm (6.74 inch) Display</td>\n",
       "      <td>5000 mAh Battery</td>\n",
       "    </tr>\n",
       "    <tr>\n",
       "      <th>5</th>\n",
       "      <td>OnePlus Nord 3 5G (Tempest Gray, 256 GB)  (16 ...</td>\n",
       "      <td>₹36,000</td>\n",
       "      <td>50MP Rear Camera</td>\n",
       "      <td>16 GB RAM | 256 GB ROM</td>\n",
       "      <td>17.12 cm (6.74 inch) Display</td>\n",
       "      <td>5000 mAh Battery</td>\n",
       "    </tr>\n",
       "    <tr>\n",
       "      <th>6</th>\n",
       "      <td>OnePlus Nord 3 5G (Misty Green, 128 GB)  (8 GB...</td>\n",
       "      <td>₹25,065</td>\n",
       "      <td>50MP Rear Camera</td>\n",
       "      <td>8 GB RAM | 128 GB ROM</td>\n",
       "      <td>17.12 cm (6.74 inch) Display</td>\n",
       "      <td>5000 mAh Battery</td>\n",
       "    </tr>\n",
       "    <tr>\n",
       "      <th>7</th>\n",
       "      <td>OnePlus Nord 3 5G (Tempest Gray, 128 GB)  (8 G...</td>\n",
       "      <td>₹25,079</td>\n",
       "      <td>50MP Rear Camera</td>\n",
       "      <td>8 GB RAM | 128 GB ROM</td>\n",
       "      <td>17.12 cm (6.74 inch) Full HD+ Display</td>\n",
       "      <td>5000 mAh Battery</td>\n",
       "    </tr>\n",
       "    <tr>\n",
       "      <th>8</th>\n",
       "      <td>OnePlus Nord CE 2 Lite 5G (Black Dusk, 128 GB)...</td>\n",
       "      <td>₹17,548</td>\n",
       "      <td>64MP Rear Camera | 16MP Front Camera</td>\n",
       "      <td>6 GB RAM | 128 GB ROM</td>\n",
       "      <td>16.74 cm (6.59 inch) Display</td>\n",
       "      <td>5000 mAh Battery</td>\n",
       "    </tr>\n",
       "    <tr>\n",
       "      <th>9</th>\n",
       "      <td>OnePlus Nord CE3 5G (Grey Shimmer, 128 GB)  (8...</td>\n",
       "      <td>₹23,299</td>\n",
       "      <td>50MP Rear Camera</td>\n",
       "      <td>8 GB RAM | 128 GB ROM</td>\n",
       "      <td>17.02 cm (6.7 inch) Display</td>\n",
       "      <td>5000 mAh Battery</td>\n",
       "    </tr>\n",
       "    <tr>\n",
       "      <th>10</th>\n",
       "      <td>OnePlus Nord CE3 5G (Aqua Surge, 128 GB)  (8 G...</td>\n",
       "      <td>₹23,990</td>\n",
       "      <td>50MP Rear Camera | 16MP Front Camera</td>\n",
       "      <td>8 GB RAM | 128 GB ROM</td>\n",
       "      <td>17.02 cm (6.7 inch) Display</td>\n",
       "      <td>5000 mAh Battery</td>\n",
       "    </tr>\n",
       "    <tr>\n",
       "      <th>11</th>\n",
       "      <td>OnePlus Nord CE3 5G (Aqua Surge, 256 GB)  (12 ...</td>\n",
       "      <td>₹28,979</td>\n",
       "      <td>50MP Rear Camera</td>\n",
       "      <td>12 GB RAM | 256 GB ROM</td>\n",
       "      <td>17.02 cm (6.7 inch) Display</td>\n",
       "      <td>5000 mAh Battery</td>\n",
       "    </tr>\n",
       "    <tr>\n",
       "      <th>12</th>\n",
       "      <td>OnePlus Nord CE 2 Lite 5G (Blue Tide, 128 GB) ...</td>\n",
       "      <td>₹19,975</td>\n",
       "      <td>64MP Rear Camera | 16MP Front Camera</td>\n",
       "      <td>6 GB RAM | 128 GB ROM</td>\n",
       "      <td>16.74 cm (6.59 inch) Display</td>\n",
       "      <td>5000 mAh Battery</td>\n",
       "    </tr>\n",
       "    <tr>\n",
       "      <th>13</th>\n",
       "      <td>OnePlus Nord CE 5G (Charcoal Ink, 128 GB)  (6 ...</td>\n",
       "      <td>₹22,989</td>\n",
       "      <td>64MP Rear Camera</td>\n",
       "      <td>6 GB RAM | 128 GB ROM</td>\n",
       "      <td>16.33 cm (6.43 inch) Display</td>\n",
       "      <td>4500 mAh Battery</td>\n",
       "    </tr>\n",
       "    <tr>\n",
       "      <th>14</th>\n",
       "      <td>OnePlus Nord 2T 5G (Jade Fog, 128 GB)  (8 GB RAM)</td>\n",
       "      <td>₹28,990</td>\n",
       "      <td>50MP Rear Camera | 32MP Front Camera</td>\n",
       "      <td>8 GB RAM | 128 GB ROM</td>\n",
       "      <td>17.02 cm (6.7 inch) Display</td>\n",
       "      <td>4500 mAh Battery</td>\n",
       "    </tr>\n",
       "    <tr>\n",
       "      <th>15</th>\n",
       "      <td>OnePlus Nord 2T 5G (Gray Shadow, 128 GB)  (8 G...</td>\n",
       "      <td>₹28,999</td>\n",
       "      <td>50MP Rear Camera</td>\n",
       "      <td>8 GB RAM | 128 GB ROM</td>\n",
       "      <td>17.02 cm (6.7 inch) Display</td>\n",
       "      <td>4500 mAh Battery</td>\n",
       "    </tr>\n",
       "    <tr>\n",
       "      <th>16</th>\n",
       "      <td>OnePlus Nord 2T 5G (Gray Shadow, 128 GB)  (8 G...</td>\n",
       "      <td>₹28,449</td>\n",
       "      <td>50MP Rear Camera</td>\n",
       "      <td>8 GB RAM | 128 GB ROM</td>\n",
       "      <td>17.02 cm (6.7 inch) Display</td>\n",
       "      <td>4500 mAh Battery</td>\n",
       "    </tr>\n",
       "    <tr>\n",
       "      <th>17</th>\n",
       "      <td>OnePlus Nord CE 2 Lite 5G (Black Dusk, 128 GB)...</td>\n",
       "      <td>₹20,890</td>\n",
       "      <td>64MP Rear Camera | 16MP Front Camera</td>\n",
       "      <td>8 GB RAM | 128 GB ROM</td>\n",
       "      <td>16.74 cm (6.59 inch) Display</td>\n",
       "      <td>5000 mAh Battery</td>\n",
       "    </tr>\n",
       "    <tr>\n",
       "      <th>18</th>\n",
       "      <td>OnePlus Nord CE 2 5G (Bahama Blue, 128 GB)  (8...</td>\n",
       "      <td>₹22,995</td>\n",
       "      <td>64MP Rear Camera</td>\n",
       "      <td>8 GB RAM | 128 GB ROM</td>\n",
       "      <td>16.33 cm (6.43 inch) Display</td>\n",
       "      <td>4500 mAh Battery</td>\n",
       "    </tr>\n",
       "    <tr>\n",
       "      <th>19</th>\n",
       "      <td>OnePlus Nord CE 2 5G (Bahama Blue, 128 GB)  (8...</td>\n",
       "      <td>₹23,285</td>\n",
       "      <td>64MP Rear Camera</td>\n",
       "      <td>8 GB RAM | 128 GB ROM</td>\n",
       "      <td>16.33 cm (6.43 inch) Display</td>\n",
       "      <td>4500 mAh Battery</td>\n",
       "    </tr>\n",
       "    <tr>\n",
       "      <th>20</th>\n",
       "      <td>OnePlus Nord CE 2 5G (Bahama Blue, 128 GB)  (8...</td>\n",
       "      <td>₹23,789</td>\n",
       "      <td>64MP Rear Camera</td>\n",
       "      <td>8 GB RAM | 128 GB ROM</td>\n",
       "      <td>16.33 cm (6.43 inch) Display</td>\n",
       "      <td>4500 mAh Battery</td>\n",
       "    </tr>\n",
       "    <tr>\n",
       "      <th>21</th>\n",
       "      <td>OnePlus Nord 2T 5G (Jade Fog, 128 GB)  (8 GB RAM)</td>\n",
       "      <td>₹28,199</td>\n",
       "      <td>50MP Rear Camera</td>\n",
       "      <td>8 GB RAM | 128 GB ROM</td>\n",
       "      <td>17.02 cm (6.7 inch) Display</td>\n",
       "      <td>4500 mAh Battery</td>\n",
       "    </tr>\n",
       "    <tr>\n",
       "      <th>22</th>\n",
       "      <td>OnePlus Nord 2T 5G (Gray Shadow, 128 GB)  (8 G...</td>\n",
       "      <td>₹28,989</td>\n",
       "      <td>50MP Rear Camera | 32MP Front Camera</td>\n",
       "      <td>8 GB RAM | 128 GB ROM</td>\n",
       "      <td>17.02 cm (6.7 inch) Display</td>\n",
       "      <td>4500 mAh Battery</td>\n",
       "    </tr>\n",
       "    <tr>\n",
       "      <th>23</th>\n",
       "      <td>OnePlus Nord CE 2 5G (Gray Mirror, 128 GB)  (8...</td>\n",
       "      <td>₹17,999</td>\n",
       "      <td>64MP Rear Camera</td>\n",
       "      <td>8 GB RAM | 128 GB ROM</td>\n",
       "      <td>16.33 cm (6.43 inch) Display</td>\n",
       "      <td>4500 mAh Battery</td>\n",
       "    </tr>\n",
       "  </tbody>\n",
       "</table>\n",
       "</div>"
      ],
      "text/plain": [
       "                                          Smart Phone    Price  \\\n",
       "0   OnePlus Nord CE 3 Lite 5G (Pastel Lime, 256 GB...  ₹19,857   \n",
       "1   OnePlus Nord CE 3 Lite 5G (Chromatic Gray, 256...  ₹19,987   \n",
       "2   OnePlus Nord CE 3 Lite 5G (Pastel Lime, 128 GB...  ₹17,402   \n",
       "3   OnePlus Nord CE 3 Lite 5G (Chromatic Gray, 128...  ₹17,425   \n",
       "4   OnePlus Nord 3 5G (Misty Green, 256 GB)  (16 G...  ₹37,630   \n",
       "5   OnePlus Nord 3 5G (Tempest Gray, 256 GB)  (16 ...  ₹36,000   \n",
       "6   OnePlus Nord 3 5G (Misty Green, 128 GB)  (8 GB...  ₹25,065   \n",
       "7   OnePlus Nord 3 5G (Tempest Gray, 128 GB)  (8 G...  ₹25,079   \n",
       "8   OnePlus Nord CE 2 Lite 5G (Black Dusk, 128 GB)...  ₹17,548   \n",
       "9   OnePlus Nord CE3 5G (Grey Shimmer, 128 GB)  (8...  ₹23,299   \n",
       "10  OnePlus Nord CE3 5G (Aqua Surge, 128 GB)  (8 G...  ₹23,990   \n",
       "11  OnePlus Nord CE3 5G (Aqua Surge, 256 GB)  (12 ...  ₹28,979   \n",
       "12  OnePlus Nord CE 2 Lite 5G (Blue Tide, 128 GB) ...  ₹19,975   \n",
       "13  OnePlus Nord CE 5G (Charcoal Ink, 128 GB)  (6 ...  ₹22,989   \n",
       "14  OnePlus Nord 2T 5G (Jade Fog, 128 GB)  (8 GB RAM)  ₹28,990   \n",
       "15  OnePlus Nord 2T 5G (Gray Shadow, 128 GB)  (8 G...  ₹28,999   \n",
       "16  OnePlus Nord 2T 5G (Gray Shadow, 128 GB)  (8 G...  ₹28,449   \n",
       "17  OnePlus Nord CE 2 Lite 5G (Black Dusk, 128 GB)...  ₹20,890   \n",
       "18  OnePlus Nord CE 2 5G (Bahama Blue, 128 GB)  (8...  ₹22,995   \n",
       "19  OnePlus Nord CE 2 5G (Bahama Blue, 128 GB)  (8...  ₹23,285   \n",
       "20  OnePlus Nord CE 2 5G (Bahama Blue, 128 GB)  (8...  ₹23,789   \n",
       "21  OnePlus Nord 2T 5G (Jade Fog, 128 GB)  (8 GB RAM)  ₹28,199   \n",
       "22  OnePlus Nord 2T 5G (Gray Shadow, 128 GB)  (8 G...  ₹28,989   \n",
       "23  OnePlus Nord CE 2 5G (Gray Mirror, 128 GB)  (8...  ₹17,999   \n",
       "\n",
       "                          Primary Camera                     Rom  \\\n",
       "0                      108MP Rear Camera   8 GB RAM | 256 GB ROM   \n",
       "1                      108MP Rear Camera   8 GB RAM | 256 GB ROM   \n",
       "2                      108MP Rear Camera   8 GB RAM | 128 GB ROM   \n",
       "3                      108MP Rear Camera   8 GB RAM | 128 GB ROM   \n",
       "4                       50MP Rear Camera  16 GB RAM | 256 GB ROM   \n",
       "5                       50MP Rear Camera  16 GB RAM | 256 GB ROM   \n",
       "6                       50MP Rear Camera   8 GB RAM | 128 GB ROM   \n",
       "7                       50MP Rear Camera   8 GB RAM | 128 GB ROM   \n",
       "8   64MP Rear Camera | 16MP Front Camera   6 GB RAM | 128 GB ROM   \n",
       "9                       50MP Rear Camera   8 GB RAM | 128 GB ROM   \n",
       "10  50MP Rear Camera | 16MP Front Camera   8 GB RAM | 128 GB ROM   \n",
       "11                      50MP Rear Camera  12 GB RAM | 256 GB ROM   \n",
       "12  64MP Rear Camera | 16MP Front Camera   6 GB RAM | 128 GB ROM   \n",
       "13                      64MP Rear Camera   6 GB RAM | 128 GB ROM   \n",
       "14  50MP Rear Camera | 32MP Front Camera   8 GB RAM | 128 GB ROM   \n",
       "15                      50MP Rear Camera   8 GB RAM | 128 GB ROM   \n",
       "16                      50MP Rear Camera   8 GB RAM | 128 GB ROM   \n",
       "17  64MP Rear Camera | 16MP Front Camera   8 GB RAM | 128 GB ROM   \n",
       "18                      64MP Rear Camera   8 GB RAM | 128 GB ROM   \n",
       "19                      64MP Rear Camera   8 GB RAM | 128 GB ROM   \n",
       "20                      64MP Rear Camera   8 GB RAM | 128 GB ROM   \n",
       "21                      50MP Rear Camera   8 GB RAM | 128 GB ROM   \n",
       "22  50MP Rear Camera | 32MP Front Camera   8 GB RAM | 128 GB ROM   \n",
       "23                      64MP Rear Camera   8 GB RAM | 128 GB ROM   \n",
       "\n",
       "                             Display Size           Battery  \n",
       "0            17.07 cm (6.72 inch) Display  5000 mAh Battery  \n",
       "1            17.07 cm (6.72 inch) Display  5000 mAh Battery  \n",
       "2            17.07 cm (6.72 inch) Display  5000 mAh Battery  \n",
       "3            17.07 cm (6.72 inch) Display  5000 mAh Battery  \n",
       "4            17.12 cm (6.74 inch) Display  5000 mAh Battery  \n",
       "5            17.12 cm (6.74 inch) Display  5000 mAh Battery  \n",
       "6            17.12 cm (6.74 inch) Display  5000 mAh Battery  \n",
       "7   17.12 cm (6.74 inch) Full HD+ Display  5000 mAh Battery  \n",
       "8            16.74 cm (6.59 inch) Display  5000 mAh Battery  \n",
       "9             17.02 cm (6.7 inch) Display  5000 mAh Battery  \n",
       "10            17.02 cm (6.7 inch) Display  5000 mAh Battery  \n",
       "11            17.02 cm (6.7 inch) Display  5000 mAh Battery  \n",
       "12           16.74 cm (6.59 inch) Display  5000 mAh Battery  \n",
       "13           16.33 cm (6.43 inch) Display  4500 mAh Battery  \n",
       "14            17.02 cm (6.7 inch) Display  4500 mAh Battery  \n",
       "15            17.02 cm (6.7 inch) Display  4500 mAh Battery  \n",
       "16            17.02 cm (6.7 inch) Display  4500 mAh Battery  \n",
       "17           16.74 cm (6.59 inch) Display  5000 mAh Battery  \n",
       "18           16.33 cm (6.43 inch) Display  4500 mAh Battery  \n",
       "19           16.33 cm (6.43 inch) Display  4500 mAh Battery  \n",
       "20           16.33 cm (6.43 inch) Display  4500 mAh Battery  \n",
       "21            17.02 cm (6.7 inch) Display  4500 mAh Battery  \n",
       "22            17.02 cm (6.7 inch) Display  4500 mAh Battery  \n",
       "23           16.33 cm (6.43 inch) Display  4500 mAh Battery  "
      ]
     },
     "execution_count": 527,
     "metadata": {},
     "output_type": "execute_result"
    }
   ],
   "source": [
    "df=pd.DataFrame({\"Smart Phone\":smartphone_name,\"Price\":price,\"Primary Camera\":primary_camera,\"Rom\":rom,\"Display Size\":display_size,\"Battery\":battery})\n",
    "df"
   ]
  },
  {
   "cell_type": "markdown",
   "id": "d85f00f5",
   "metadata": {},
   "source": [
    "# QUESTION 5"
   ]
  },
  {
   "cell_type": "code",
   "execution_count": 211,
   "id": "6a8bb665",
   "metadata": {},
   "outputs": [],
   "source": [
    "driver=webdriver.Chrome()"
   ]
  },
  {
   "cell_type": "code",
   "execution_count": 212,
   "id": "c850bd7d",
   "metadata": {},
   "outputs": [],
   "source": [
    "driver.get(\"https://www.google.com/maps/@28.643683,76.7628881,10z?entry=ttu\")"
   ]
  },
  {
   "cell_type": "code",
   "execution_count": 213,
   "id": "beb03cd0",
   "metadata": {},
   "outputs": [],
   "source": [
    "designation=driver.find_element(By.XPATH,'/html/body/div[1]/div[3]/div[8]/div[3]/div[1]/div[1]/div/div[2]/form/input')\n",
    "designation.send_keys('Delhi')"
   ]
  },
  {
   "cell_type": "code",
   "execution_count": 214,
   "id": "2a34da18",
   "metadata": {},
   "outputs": [],
   "source": [
    "search=driver.find_element(By.XPATH,'/html/body/div[1]/div[3]/div[8]/div[3]/div[1]/div[1]/div/div[2]/div[1]/button')\n",
    "search.click()"
   ]
  },
  {
   "cell_type": "code",
   "execution_count": 215,
   "id": "02798b11",
   "metadata": {},
   "outputs": [
    {
     "name": "stdout",
     "output_type": "stream",
     "text": [
      "URL Extracted:  https://www.google.com/maps/place/Delhi/@28.6442874,76.7635695,10z/data=!3m1!4b1!4m6!3m5!1s0x390cfd5b347eb62d:0x37205b715389640!8m2!3d28.7040592!4d77.1024902!16zL20vMDlmMDc?entry=ttu\n",
      "Latitude and Longitude:  [('28.6442874', '76.7635695')]\n"
     ]
    }
   ],
   "source": [
    "import re\n",
    "\n",
    "try:\n",
    "    url_string = driver.current_url\n",
    "    print(\"URL Extracted: \", url_string)\n",
    "    \n",
    "    lat_lng = re.findall(r'@([-+]?\\d+\\.\\d+),([-+]?\\d+\\.\\d+)',url_string)\n",
    "    \n",
    "    print(\"Latitude and Longitude: \" , lat_lng)\n",
    "    \n",
    "except Exception as e:\n",
    "    print(\"Error Occured:\" ,e)"
   ]
  },
  {
   "cell_type": "markdown",
   "id": "a52e29b4",
   "metadata": {},
   "source": [
    "# QUESTION 6"
   ]
  },
  {
   "cell_type": "code",
   "execution_count": 584,
   "id": "1adf7347",
   "metadata": {},
   "outputs": [],
   "source": [
    "driver=webdriver.Chrome()"
   ]
  },
  {
   "cell_type": "code",
   "execution_count": 585,
   "id": "a9280dac",
   "metadata": {},
   "outputs": [],
   "source": [
    "driver.get(\"https://www.digit.in\")"
   ]
  },
  {
   "cell_type": "code",
   "execution_count": 586,
   "id": "dd3990ac",
   "metadata": {},
   "outputs": [],
   "source": [
    "search=driver.find_element(By.XPATH,'/html/body/div[1]/header/div/div[2]/div/nav/ul/li[3]/a')\n",
    "search.click()"
   ]
  },
  {
   "cell_type": "code",
   "execution_count": 587,
   "id": "254c896a",
   "metadata": {},
   "outputs": [],
   "source": [
    "search=driver.find_element(By.XPATH,'/html/body/div[1]/div[3]/div/div[2]/div[1]/div[3]/div[6]/p/a')\n",
    "search.click()"
   ]
  },
  {
   "cell_type": "code",
   "execution_count": 615,
   "id": "41eba418",
   "metadata": {},
   "outputs": [],
   "source": [
    "search=driver.find_element(By.XPATH,'/html/body/div[1]/div[3]/div/div[2]/div[1]/div[3]/div[6]/p/a')\n",
    "search.click()"
   ]
  },
  {
   "cell_type": "code",
   "execution_count": 611,
   "id": "65422977",
   "metadata": {},
   "outputs": [],
   "source": [
    "laptop_url=[]\n",
    "laptop_brand=[]\n",
    "operating_system=[]\n",
    "procesor_name=[]\n",
    "laptop_type=[]\n",
    "display_size=[]\n",
    "ram=[]\n",
    "price=[]\n",
    "laptop=[]\n",
    "ssd_size=[]"
   ]
  },
  {
   "cell_type": "code",
   "execution_count": 590,
   "id": "d62311fb",
   "metadata": {},
   "outputs": [],
   "source": [
    "titles=driver.find_elements(By.XPATH,'//h3[@class=\"font130 mt0 mb10 mobilesblockdisplay \"]/a')\n",
    "for i in titles:\n",
    "    laptop_url.append(i.get_attribute('href'))"
   ]
  },
  {
   "cell_type": "code",
   "execution_count": 591,
   "id": "83ddd651",
   "metadata": {},
   "outputs": [
    {
     "data": {
      "text/plain": [
       "['https://www.digit.in/laptops/apple-macbook-air-2023-price-348747.html',\n",
       " 'https://www.digit.in/laptops/dell-xps-15.html',\n",
       " 'https://www.digit.in/laptops/acer-aspire-5-a515-58gm.html',\n",
       " 'https://www.digit.in/laptops/apple-macbook-pro-16-price.html',\n",
       " 'https://www.digit.in/laptops/asus-zenbook-14-oled-ux3405.html',\n",
       " 'https://www.digit.in/laptops/acer-predator-helios-neo-16-13th-gen-core-i7-13700hx-phn16-71-price-346677.html',\n",
       " 'https://www.digit.in/laptops/lenovo-yoga-9i13th-gen-core-i7-i7-1360p-price-346092.html',\n",
       " 'https://www.digit.in/laptops/asus-tuf-gaming-a16-advantage-edition-2023-fa617xs.html',\n",
       " 'https://www.digit.in/laptops/hp-spectre-x360-16-f1009tx-core-i7-1260p-2022-price-301315.html',\n",
       " 'https://www.digit.in/laptops/samsung-galaxy-book3-pro-np960xfg-kc2in.html']"
      ]
     },
     "execution_count": 591,
     "metadata": {},
     "output_type": "execute_result"
    }
   ],
   "source": [
    "laptop_url"
   ]
  },
  {
   "cell_type": "code",
   "execution_count": 599,
   "id": "245094a2",
   "metadata": {},
   "outputs": [],
   "source": [
    "for i in laptop_url:\n",
    "    driver.get(i)\n",
    "    time.sleep(5)\n",
    "    \n",
    "    \n",
    "  \n",
    "    try:\n",
    "        laptope_ty = driver.find_element(By.XPATH,'//tr[@class=\"woocommerce-product-attributes-item woocommerce-product-attributes-item--attribute_pa_lap_operating-system-with\"]/td')\n",
    "        laptop_type.append(laptope_ty.text)\n",
    "    except NoSuchElementException:\n",
    "        laptop_type.append('-')\n",
    "    \n",
    "  \n",
    "    "
   ]
  },
  {
   "cell_type": "code",
   "execution_count": 600,
   "id": "ffd4638c",
   "metadata": {
    "scrolled": true
   },
   "outputs": [
    {
     "name": "stdout",
     "output_type": "stream",
     "text": [
      "['operating system (with\\nMac', 'operating system (with\\nWindows 11 Home', 'operating system (with\\nWindows 11 Home', 'operating system (with\\nMacOS', 'operating system (with\\nWindows 11 Pro', 'operating system (with\\nWindows 11 Home', 'operating system (with\\nWindows 11 Home', 'operating system (with\\nWindows 11 Home', 'operating system (with\\nWindows 11 Home', 'operating system (with\\nWindows 11 Home', 'Mac', 'Windows 11 Home', 'Windows 11 Home', 'MacOS', 'Windows 11 Pro', 'Windows 11 Home', 'Windows 11 Home', 'Windows 11 Home', 'Windows 11 Home', 'Windows 11 Home']\n"
     ]
    }
   ],
   "source": [
    "print(laptop_type)"
   ]
  },
  {
   "cell_type": "code",
   "execution_count": 601,
   "id": "596af827",
   "metadata": {},
   "outputs": [
    {
     "data": {
      "text/plain": [
       "20"
      ]
     },
     "execution_count": 601,
     "metadata": {},
     "output_type": "execute_result"
    }
   ],
   "source": [
    "len(laptop_type)"
   ]
  },
  {
   "cell_type": "code",
   "execution_count": 602,
   "id": "32cb6210",
   "metadata": {},
   "outputs": [],
   "source": [
    "for i in laptop_url:\n",
    "    driver.get(i)\n",
    "    time.sleep(5)\n",
    "    \n",
    "    \n",
    "  \n",
    "    try:\n",
    "        display = driver.find_element(By.XPATH,'//tr[@class=\"woocommerce-product-attributes-item woocommerce-product-attributes-item--attribute_pa_lap_display-size-in-inche\"]')\n",
    "        display_size.append(display.text)\n",
    "    except NoSuchElementException:\n",
    "        display_size.append('-')"
   ]
  },
  {
   "cell_type": "code",
   "execution_count": 603,
   "id": "bef11ce4",
   "metadata": {},
   "outputs": [
    {
     "name": "stdout",
     "output_type": "stream",
     "text": [
      "['display size (in inches)\\n15', 'display size (in inches)\\n15.6', 'display size (in inches)\\n15.6', 'display size (in inches)\\n16', 'display size (in inches)\\n14', 'display size (in inches)\\n16', 'display size (in inches)\\n14', 'display size (in inches)\\n16', 'display size (in inches)\\n16', 'display size (in inches)\\n16']\n"
     ]
    }
   ],
   "source": [
    "print(display_size)"
   ]
  },
  {
   "cell_type": "code",
   "execution_count": 607,
   "id": "f5bbfbc0",
   "metadata": {},
   "outputs": [
    {
     "data": {
      "text/plain": [
       "10"
      ]
     },
     "execution_count": 607,
     "metadata": {},
     "output_type": "execute_result"
    }
   ],
   "source": [
    "len(display_size)"
   ]
  },
  {
   "cell_type": "code",
   "execution_count": 604,
   "id": "b18a7116",
   "metadata": {},
   "outputs": [],
   "source": [
    "for i in laptop_url:\n",
    "    driver.get(i)\n",
    "    time.sleep(5)\n",
    "    \n",
    "     try:\n",
    "        laptop_tag = driver.find_element(By.XPATH,'//tr[@class=\"woocommerce-product-attributes-item woocommerce-product-attributes-item--attribute_pa_lap_ram-included-in-gb\"]/td')\n",
    "        laptop_brand.append(laptop_tag.text)\n",
    "    except NoSuchElementException:\n",
    "        laptop_brand.append('-')\n",
    "  \n",
    "    try:\n",
    "        processor = driver.find_element(By.XPATH,'//tr[@class=\"woocommerce-product-attributes-item woocommerce-product-attributes-item--attribute_pa_lap_ram-included-in-gb\"]/td')\n",
    "        processor_name.append(processor.text)\n",
    "    except NoSuchElementException:\n",
    "        processor_name.append('-')\n",
    "        \n",
    "    try:\n",
    "        ssd = driver.find_element(By.XPATH,'//tr[@class=\"woocommerce-product-attributes-item woocommerce-product-attributes-item--attribute_pa_lap_storage-drive-capacity\"]/td')\n",
    "        ssd_size.append(ssd.text)\n",
    "    except NoSuchElementException:\n",
    "        ssd_size.append('-')\n",
    "    \n",
    "    try:\n",
    "        ram_tag = driver.find_element(By.XPATH,'//tr[@class=\"woocommerce-product-attributes-item woocommerce-product-attributes-item--attribute_pa_lap_storage-drive-capacity\"]/td')\n",
    "        ram.append(ram.text)\n",
    "    except NoSuchElementException:\n",
    "        ram.append('-')\n",
    "    \n",
    "    try:\n",
    "        display = driver.find_element(By.XPATH,'//tr[@class=\"woocommerce-product-attributes-item woocommerce-product-attributes-item--attribute_pa_lap_storage-drive-capacity\"]/td')\n",
    "        display_size.append(display.text)\n",
    "    except NoSuchElementException:\n",
    "        display_size.append('-')\n",
    "    \n",
    "    try:\n",
    "        ssd = driver.find_element(By.XPATH,'//tr[@class=\"woocommerce-product-attributes-item woocommerce-product-attributes-item--attribute_pa_lap_storage-drive-capacity\"]/td')\n",
    "        ssd_size.append(ssd.text)\n",
    "    except NoSuchElementException:\n",
    "        ssd_size.append('-')\n",
    "    \n",
    "    try:\n",
    "        rs = driver.find_element(By.XPATH,'//tr[@class=\"woocommerce-product-attributes-item woocommerce-product-attributes-item--attribute_pa_lap_storage-drive-capacity\"]/td')\n",
    "        price.append(rs.text)\n",
    "    except NoSuchElementException:\n",
    "        privce.append('-')"
   ]
  },
  {
   "cell_type": "code",
   "execution_count": 617,
   "id": "4ff53db6",
   "metadata": {},
   "outputs": [],
   "source": [
    "print(laptop_brand)\n",
    "len(laptop_brand"
   ]
  },
  {
   "cell_type": "code",
   "execution_count": 618,
   "id": "c3c31e27",
   "metadata": {},
   "outputs": [],
   "source": [
    "print(processor_name)\n",
    "len(processor_name)"
   ]
  },
  {
   "cell_type": "code",
   "execution_count": 619,
   "id": "020d1fbe",
   "metadata": {},
   "outputs": [],
   "source": [
    "print(ssd_size)\n",
    "len(ssd_size)"
   ]
  },
  {
   "cell_type": "code",
   "execution_count": 620,
   "id": "d8bfc246",
   "metadata": {},
   "outputs": [],
   "source": [
    "print(ram)\n",
    "len(ram)"
   ]
  },
  {
   "cell_type": "code",
   "execution_count": 621,
   "id": "8a8669cb",
   "metadata": {},
   "outputs": [],
   "source": [
    "print(display)\n",
    "len(display)"
   ]
  },
  {
   "cell_type": "code",
   "execution_count": 622,
   "id": "0c5f455b",
   "metadata": {},
   "outputs": [],
   "source": [
    "print(ssd)\n",
    "len(ssd)"
   ]
  },
  {
   "cell_type": "code",
   "execution_count": 623,
   "id": "84da3bcd",
   "metadata": {},
   "outputs": [],
   "source": [
    "print(rs)\n",
    "len(rs)"
   ]
  },
  {
   "cell_type": "code",
   "execution_count": null,
   "id": "d9b0d104",
   "metadata": {},
   "outputs": [],
   "source": [
    "df=pd.DataFrame({\"Laptop\":laptop_brand,\"Processor\":processor_name,\"SSD size\":ssd_size,\"Display\":display,\"Ram\":ram,\"Price\":price})\n",
    "df"
   ]
  },
  {
   "cell_type": "markdown",
   "id": "8f330ef8",
   "metadata": {},
   "source": [
    "# QUESTION 7"
   ]
  },
  {
   "cell_type": "code",
   "execution_count": 447,
   "id": "f65254a5",
   "metadata": {},
   "outputs": [],
   "source": [
    "driver=webdriver.Chrome()"
   ]
  },
  {
   "cell_type": "code",
   "execution_count": 448,
   "id": "b03b6993",
   "metadata": {},
   "outputs": [],
   "source": [
    "driver.get(\"https://www.forbes.com/billionaires/\")"
   ]
  },
  {
   "cell_type": "code",
   "execution_count": 449,
   "id": "97c3e344",
   "metadata": {},
   "outputs": [],
   "source": [
    "rank=[]\n",
    "name=[]\n",
    "net_worth=[]\n",
    "age=[]\n",
    "country=[]\n",
    "source=[]\n",
    "Industry=[]\n"
   ]
  },
  {
   "cell_type": "code",
   "execution_count": 450,
   "id": "10855882",
   "metadata": {},
   "outputs": [
    {
     "ename": "AttributeError",
     "evalue": "'list' object has no attribute 'click'",
     "output_type": "error",
     "traceback": [
      "\u001b[0;31m---------------------------------------------------------------------------\u001b[0m",
      "\u001b[0;31mAttributeError\u001b[0m                            Traceback (most recent call last)",
      "\u001b[0;32m/var/folders/jz/63ppdfvj7298vqnc295pj00r0000gn/T/ipykernel_21241/2278586626.py\u001b[0m in \u001b[0;36m<module>\u001b[0;34m\u001b[0m\n\u001b[1;32m     31\u001b[0m \u001b[0;34m\u001b[0m\u001b[0m\n\u001b[1;32m     32\u001b[0m     \u001b[0mnext_button\u001b[0m\u001b[0;34m=\u001b[0m\u001b[0mdriver\u001b[0m\u001b[0;34m.\u001b[0m\u001b[0mfind_elements\u001b[0m\u001b[0;34m(\u001b[0m\u001b[0mBy\u001b[0m\u001b[0;34m.\u001b[0m\u001b[0mXPATH\u001b[0m\u001b[0;34m,\u001b[0m\u001b[0;34m'//*[@class=\"arrow-right_svg__fs-icon arrow-right_svg__fs-icon--arrow-right\"]'\u001b[0m\u001b[0;34m)\u001b[0m\u001b[0;34m\u001b[0m\u001b[0;34m\u001b[0m\u001b[0m\n\u001b[0;32m---> 33\u001b[0;31m     \u001b[0mnext_button\u001b[0m\u001b[0;34m.\u001b[0m\u001b[0mclick\u001b[0m\u001b[0;34m(\u001b[0m\u001b[0;34m)\u001b[0m\u001b[0;34m\u001b[0m\u001b[0;34m\u001b[0m\u001b[0m\n\u001b[0m\u001b[1;32m     34\u001b[0m     \u001b[0mtime\u001b[0m\u001b[0;34m.\u001b[0m\u001b[0msleep\u001b[0m\u001b[0;34m(\u001b[0m\u001b[0;36m3\u001b[0m\u001b[0;34m)\u001b[0m\u001b[0;34m\u001b[0m\u001b[0;34m\u001b[0m\u001b[0m\n",
      "\u001b[0;31mAttributeError\u001b[0m: 'list' object has no attribute 'click'"
     ]
    }
   ],
   "source": [
    "for page in range(14):\n",
    "    \n",
    "    rk=driver.find_elements(By.XPATH,'//div[@class=\"Table_rank__X4MKf\"]/div')\n",
    "    for i in rk:\n",
    "        rank.append(i.text)\n",
    "        \n",
    "    name_tag=driver.find_elements(By.XPATH,'//div[@class=\"Table_personName__Bus2E\"]')\n",
    "    for i in name_tag:\n",
    "        name.append(i.text) \n",
    "        \n",
    "    worth=driver.find_elements(By.XPATH,'//div[@class=\"Table_finalWorth__UZA6k\"]')\n",
    "    for i in worth:\n",
    "        net_worth.append(i.text) \n",
    "        \n",
    "    industry_tag=driver.find_elements(By.XPATH,'//div[@class=\"Table_finalWorth__UZA6k\"]')\n",
    "    for i in industry_tag:\n",
    "        Industry.append(i.text)\n",
    "        \n",
    "        \n",
    "    age_tag=driver.find_elements(By.XPATH,'//div[@class=\"Table_tableRow__lF_cY Table_expanded__0lLQ6\"]/div[1]/div/div[1]')\n",
    "    for i in age_tag:\n",
    "        age.append(i.text)\n",
    "        \n",
    "    country_tag=driver.find_elements(By.XPATH,'//div[@class=\"Table_tableRow__lF_cY Table_expanded__0lLQ6\"]/div[5]')\n",
    "    for i in country_tag:\n",
    "        country.append(i.text)\n",
    "        \n",
    "    source_tag=driver.find_elements(By.XPATH,'//div[@class=\"Table_tableRow__lF_cY Table_expanded__0lLQ6\"]/div[6]')\n",
    "    for i in source_tag:\n",
    "        source.append(i.text)\n",
    "        \n",
    "    next_button=driver.find_elements(By.XPATH,'//*[@class=\"arrow-right_svg__fs-icon arrow-right_svg__fs-icon--arrow-right\"]')\n",
    "    next_button.click()\n",
    "    time.sleep(3)\n"
   ]
  },
  {
   "cell_type": "code",
   "execution_count": 451,
   "id": "e995b38c",
   "metadata": {},
   "outputs": [
    {
     "name": "stdout",
     "output_type": "stream",
     "text": [
      "['Bernard Arnault & family', 'Elon Musk', 'Jeff Bezos', 'Mark Zuckerberg', 'Larry Ellison', 'Warren Buffett', 'Bill Gates', 'Steve Ballmer', 'Mukesh Ambani', 'Larry Page', 'Sergey Brin', 'Michael Bloomberg', 'Amancio Ortega', 'Carlos Slim Helu & family', 'Francoise Bettencourt Meyers & family', 'Michael Dell', 'Gautam Adani', 'Jim Walton & family', 'Rob Walton & family', 'Jensen Huang', 'Alice Walton', 'David Thomson & family', 'Julia Koch & family', 'Zhong Shanshan', 'Charles Koch & family', 'Giovanni Ferrero', 'Prajogo Pangestu', 'Zhang Yiming', 'Tadashi Yanai & family', 'Phil Knight & family', 'Mark Mateschitz', 'Klaus-Michael Kuehne', 'Colin Huang', 'Stephen Schwarzman', 'Jacqueline Mars', 'John Mars', 'Dieter Schwarz', 'Li Ka-shing', 'Shiv Nadar', 'Alain Wertheimer', 'Gerard Wertheimer', 'Ken Griffin', 'MacKenzie Scott', 'Thomas Peterffy', 'Reinhold Wuerth & family', 'William Ding', 'Savitri Jindal & family', 'Gianluigi Aponte', 'Rafaela Aponte-Diamant', 'Changpeng Zhao', 'Masayoshi Son', 'Len Blavatnik', 'Miriam Adelson & family', 'François Pinault & family', 'Jim Simons', 'Gina Rinehart', 'Ma Huateng', 'Abigail Johnson', 'Vagit Alekperov', 'Eduardo Saverin', 'Lukas Walton', 'Germán Larrea Mota Velasco & family', 'Lee Shau Kee', 'Jeff Yass', 'Andrea Pignataro', 'Low Tuck Kwong', 'Leonid Mikhelson & family', 'Stefan Quandt', 'Dilip Shanghvi', 'Vladimir Lisin', 'R. Budi Hartono', 'Susanne Klatten', 'Thomas Frist, Jr. & family', 'Daniel Gilbert', 'Iris Fontbona & family', 'Emmanuel Besnier', 'Michael Hartono', 'Alexey Mordashov & family', 'John Menard, Jr.', 'He Xiangjian & family', 'Jack Ma', 'Elaine Marshall & family', 'Autry Stephens', 'Eyal Ofer', 'Vladimir Potanin', 'Gennady Timchenko', 'Takemitsu Takizaki', 'Vinod Adani', 'Robin Zeng', 'Cyrus Poonawalla', 'Andrey Melnichenko & family', 'Diane Hendricks', 'Kushal Pal Singh', 'Vicky Safra & family', 'Eric Schmidt', 'David Tepper', 'Steve Cohen', 'Kumar Birla', 'Rick Cohen & family', 'Rupert Murdoch & family', 'Andrew Forrest & family', 'Harold Hamm & family', 'Dustin Moskovitz', 'Donald Bren', 'Renata Kellnerova & family', 'Michael Platt', 'Radhakishan Damani', 'John Fredriksen', 'Eric Li', 'Stefan Persson', 'James Ratcliffe', 'Harry Triguboff', 'Jorge Paulo Lemann & family', 'Lakshmi Mittal', 'Ravi Jaipuria', 'Stanley Kroenke', 'Jan Koum', 'Karl Albrecht Jr. & family', 'Beate Heister', 'Idan Ofer', 'Nicolas Puech', 'Pavel Durov', 'Qin Yinglin', 'Ray Dalio', 'Philip Anschutz', 'Leonard Lauder', 'Li Xiting', 'Peter Woo', 'Andreas von Bechtolsheim & family', 'George Kaiser', 'Wang Chuanfu', 'Charlene de Carvalho-Heineken & family', 'David Duffield', 'Henry Samueli', 'Theo Albrecht, Jr. & family', 'Leon Black', 'Jerry Jones', 'Wang Wei', 'David Green & family', 'James Dyson', 'David Sun', 'John Tu', 'Christy Walton', 'Dang Yanbao', 'Aliko Dangote', 'Ricardo Salinas Pliego & family', 'Alisher Usmanov', 'Mike Cannon-Brookes', 'Uday Kotak', 'Mikhail Fridman', 'Joseph Lau', 'Scott Farquhar', 'Laurene Powell Jobs & family', 'Goh Cheng Liang', 'George Roberts', 'David Cheriton', 'Jeffery Hildebrand', 'Georg Stumpf', 'Dhanin Chearavanont', 'Anders Holch Povlsen', 'Israel Englander', 'Shahid Khan', 'Johann Rupert & family', 'Hasso Plattner & family', 'Kwong Siu-hing', 'Azim Premji', 'Henry Nicholas, III.', 'Edward Johnson, IV.', 'John Doerr', 'Henry Kravis', 'Eric Smidt', 'Lu Xiangyang', 'Andrew Beal', 'Jay Y. Lee', 'Michael Rubin', 'Robert Kuok', 'Giorgio Armani', 'Jay Chaudhry', 'Charoen Sirivadhanabhakdi', 'Brian Armstrong', 'Ernesto Bertarelli', 'Bubba Cathy', 'Dan Cathy', 'Trudy Cathy White', 'Lui Che Woo', 'Wei Jianjun & family', 'Sky Xu', 'Melinda French Gates', 'Robert Kraft', 'Brian Chesky', 'Barry Lam', 'Donald Newhouse', 'Mikhail Prokhorov', 'Manuel Villar', 'Jiang Rensheng & family', 'Lei Jun', 'Georg Schaeffler', 'Marcel Herrmann Telles & family', 'David Velez & family', 'Suleiman Kerimov & family']\n"
     ]
    },
    {
     "data": {
      "text/plain": [
       "200"
      ]
     },
     "execution_count": 451,
     "metadata": {},
     "output_type": "execute_result"
    }
   ],
   "source": [
    "print(name)\n",
    "len(name)"
   ]
  },
  {
   "cell_type": "code",
   "execution_count": 452,
   "id": "f38d5e66",
   "metadata": {},
   "outputs": [
    {
     "name": "stdout",
     "output_type": "stream",
     "text": [
      "['1.', '2.', '3.', '4.', '5.', '6.', '7.', '8.', '9.', '10.', '11.', '12.', '13.', '14.', '15.', '16.', '17.', '18.', '19.', '20.', '21.', '22.', '23.', '24.', '25.', '26.', '27.', '27.', '29.', '30.', '31.', '32.', '33.', '34.', '35.', '35.', '37.', '38.', '39.', '40.', '40.', '42.', '43.', '44.', '45.', '46.', '46.', '48.', '48.', '50.', '51.', '52.', '53.', '54.', '55.', '56.', '57.', '58.', '59.', '60.', '60.', '62.', '63.', '64.', '65.', '66.', '66.', '68.', '69.', '70.', '71.', '71.', '73.', '73.', '75.', '76.', '76.', '76.', '79.', '80.', '81.', '81.', '83.', '84.', '85.', '86.', '87.', '88.', '89.', '90.', '91.', '92.', '92.', '94.', '94.', '94.', '97.', '98.', '99.', '100.', '101.', '102.', '103.', '104.', '104.', '104.', '107.', '108.', '109.', '110.', '111.', '111.', '113.', '113.', '115.', '115.', '117.', '118.', '118.', '120.', '121.', '122.', '122.', '124.', '125.', '126.', '126.', '126.', '129.', '130.', '131.', '132.', '132.', '132.', '135.', '135.', '137.', '137.', '139.', '140.', '140.', '140.', '140.', '144.', '144.', '144.', '144.', '148.', '148.', '150.', '150.', '152.', '153.', '154.', '154.', '156.', '156.', '156.', '159.', '159.', '161.', '162.', '162.', '164.', '165.', '165.', '167.', '168.', '169.', '169.', '169.', '172.', '173.', '173.', '173.', '176.', '177.', '177.', '177.', '180.', '180.', '180.', '180.', '180.', '180.', '180.', '180.', '188.', '188.', '190.', '190.', '190.', '190.', '190.', '195.', '195.', '195.', '195.', '199.', '200.']\n"
     ]
    },
    {
     "data": {
      "text/plain": [
       "200"
      ]
     },
     "execution_count": 452,
     "metadata": {},
     "output_type": "execute_result"
    }
   ],
   "source": [
    "rank=rank[0:2540]\n",
    "print(rank)\n",
    "len(rank)"
   ]
  },
  {
   "cell_type": "code",
   "execution_count": 453,
   "id": "9be68e29",
   "metadata": {},
   "outputs": [
    {
     "name": "stdout",
     "output_type": "stream",
     "text": [
      "['$233 B', '$195 B', '$194 B', '$177 B', '$141 B', '$133 B', '$128 B', '$121 B', '$116 B', '$114 B', '$110 B', '$106 B', '$103 B', '$102 B', '$99.5 B', '$91 B', '$84 B', '$78.4 B', '$77.4 B', '$77 B', '$72.3 B', '$67.8 B', '$64.3 B', '$62.3 B', '$58.5 B', '$43.8 B', '$43.4 B', '$43.4 B', '$42.8 B', '$40.9 B', '$39.6 B', '$39.2 B', '$38.9 B', '$38.8 B', '$38.5 B', '$38.5 B', '$38 B', '$37.3 B', '$36.9 B', '$36.8 B', '$36.8 B', '$36.4 B', '$35.6 B', '$34 B', '$33.6 B', '$33.5 B', '$33.5 B', '$33.1 B', '$33.1 B', '$33 B', '$32.7 B', '$32.1 B', '$32 B', '$31.6 B', '$31.4 B', '$30.8 B', '$30.2 B', '$29 B', '$28.6 B', '$28 B', '$28 B', '$27.9 B', '$27.7 B', '$27.6 B', '$27.5 B', '$27.4 B', '$27.4 B', '$27.3 B', '$26.7 B', '$26.6 B', '$26.5 B', '$26.5 B', '$26.2 B', '$26.2 B', '$25.7 B', '$25.5 B', '$25.5 B', '$25.5 B', '$25.2 B', '$25.1 B', '$24.5 B', '$24.5 B', '$24.3 B', '$24 B', '$23.7 B', '$23.4 B', '$23.1 B', '$23 B', '$22.9 B', '$21.3 B', '$21.1 B', '$20.9 B', '$20.9 B', '$20.6 B', '$20.6 B', '$20.6 B', '$19.8 B', '$19.7 B', '$19.6 B', '$19.5 B', '$19 B', '$18.5 B', '$18.3 B', '$18 B', '$18 B', '$18 B', '$17.6 B', '$16.9 B', '$16.8 B', '$16.6 B', '$16.5 B', '$16.5 B', '$16.4 B', '$16.4 B', '$16.2 B', '$16.2 B', '$16.1 B', '$15.9 B', '$15.9 B', '$15.8 B', '$15.6 B', '$15.5 B', '$15.5 B', '$15.4 B', '$15.3 B', '$15.1 B', '$15.1 B', '$15.1 B', '$14.8 B', '$14.6 B', '$14.2 B', '$14.1 B', '$14.1 B', '$14.1 B', '$14 B', '$14 B', '$13.8 B', '$13.8 B', '$13.7 B', '$13.6 B', '$13.6 B', '$13.6 B', '$13.6 B', '$13.4 B', '$13.4 B', '$13.4 B', '$13.4 B', '$13.3 B', '$13.3 B', '$13.1 B', '$13.1 B', '$13 B', '$12.8 B', '$12.7 B', '$12.7 B', '$12.6 B', '$12.6 B', '$12.6 B', '$12.5 B', '$12.5 B', '$12.4 B', '$12.2 B', '$12.2 B', '$12.1 B', '$12 B', '$12 B', '$11.9 B', '$11.8 B', '$11.7 B', '$11.7 B', '$11.7 B', '$11.6 B', '$11.5 B', '$11.5 B', '$11.5 B', '$11.4 B', '$11.3 B', '$11.3 B', '$11.3 B', '$11.2 B', '$11.2 B', '$11.2 B', '$11.2 B', '$11.2 B', '$11.2 B', '$11.2 B', '$11.2 B', '$11.1 B', '$11.1 B', '$11 B', '$11 B', '$11 B', '$11 B', '$11 B', '$10.9 B', '$10.9 B', '$10.9 B', '$10.9 B', '$10.8 B', '$10.7 B']\n"
     ]
    }
   ],
   "source": [
    "net_worth=net_worth[0:2540]\n",
    "print(net_worth)"
   ]
  },
  {
   "cell_type": "code",
   "execution_count": 454,
   "id": "5501416d",
   "metadata": {},
   "outputs": [
    {
     "data": {
      "text/plain": [
       "200"
      ]
     },
     "execution_count": 454,
     "metadata": {},
     "output_type": "execute_result"
    }
   ],
   "source": [
    "len(net_worth)"
   ]
  },
  {
   "cell_type": "code",
   "execution_count": 455,
   "id": "663ba1a3",
   "metadata": {},
   "outputs": [
    {
     "data": {
      "text/html": [
       "<div>\n",
       "<style scoped>\n",
       "    .dataframe tbody tr th:only-of-type {\n",
       "        vertical-align: middle;\n",
       "    }\n",
       "\n",
       "    .dataframe tbody tr th {\n",
       "        vertical-align: top;\n",
       "    }\n",
       "\n",
       "    .dataframe thead th {\n",
       "        text-align: right;\n",
       "    }\n",
       "</style>\n",
       "<table border=\"1\" class=\"dataframe\">\n",
       "  <thead>\n",
       "    <tr style=\"text-align: right;\">\n",
       "      <th></th>\n",
       "      <th>Rank</th>\n",
       "      <th>Name</th>\n",
       "      <th>Net_Worth</th>\n",
       "    </tr>\n",
       "  </thead>\n",
       "  <tbody>\n",
       "    <tr>\n",
       "      <th>0</th>\n",
       "      <td>1.</td>\n",
       "      <td>Bernard Arnault &amp; family</td>\n",
       "      <td>$233 B</td>\n",
       "    </tr>\n",
       "    <tr>\n",
       "      <th>1</th>\n",
       "      <td>2.</td>\n",
       "      <td>Elon Musk</td>\n",
       "      <td>$195 B</td>\n",
       "    </tr>\n",
       "    <tr>\n",
       "      <th>2</th>\n",
       "      <td>3.</td>\n",
       "      <td>Jeff Bezos</td>\n",
       "      <td>$194 B</td>\n",
       "    </tr>\n",
       "    <tr>\n",
       "      <th>3</th>\n",
       "      <td>4.</td>\n",
       "      <td>Mark Zuckerberg</td>\n",
       "      <td>$177 B</td>\n",
       "    </tr>\n",
       "    <tr>\n",
       "      <th>4</th>\n",
       "      <td>5.</td>\n",
       "      <td>Larry Ellison</td>\n",
       "      <td>$141 B</td>\n",
       "    </tr>\n",
       "    <tr>\n",
       "      <th>...</th>\n",
       "      <td>...</td>\n",
       "      <td>...</td>\n",
       "      <td>...</td>\n",
       "    </tr>\n",
       "    <tr>\n",
       "      <th>195</th>\n",
       "      <td>195.</td>\n",
       "      <td>Lei Jun</td>\n",
       "      <td>$10.9 B</td>\n",
       "    </tr>\n",
       "    <tr>\n",
       "      <th>196</th>\n",
       "      <td>195.</td>\n",
       "      <td>Georg Schaeffler</td>\n",
       "      <td>$10.9 B</td>\n",
       "    </tr>\n",
       "    <tr>\n",
       "      <th>197</th>\n",
       "      <td>195.</td>\n",
       "      <td>Marcel Herrmann Telles &amp; family</td>\n",
       "      <td>$10.9 B</td>\n",
       "    </tr>\n",
       "    <tr>\n",
       "      <th>198</th>\n",
       "      <td>199.</td>\n",
       "      <td>David Velez &amp; family</td>\n",
       "      <td>$10.8 B</td>\n",
       "    </tr>\n",
       "    <tr>\n",
       "      <th>199</th>\n",
       "      <td>200.</td>\n",
       "      <td>Suleiman Kerimov &amp; family</td>\n",
       "      <td>$10.7 B</td>\n",
       "    </tr>\n",
       "  </tbody>\n",
       "</table>\n",
       "<p>200 rows × 3 columns</p>\n",
       "</div>"
      ],
      "text/plain": [
       "     Rank                             Name Net_Worth\n",
       "0      1.         Bernard Arnault & family    $233 B\n",
       "1      2.                        Elon Musk    $195 B\n",
       "2      3.                       Jeff Bezos    $194 B\n",
       "3      4.                  Mark Zuckerberg    $177 B\n",
       "4      5.                    Larry Ellison    $141 B\n",
       "..    ...                              ...       ...\n",
       "195  195.                          Lei Jun   $10.9 B\n",
       "196  195.                 Georg Schaeffler   $10.9 B\n",
       "197  195.  Marcel Herrmann Telles & family   $10.9 B\n",
       "198  199.             David Velez & family   $10.8 B\n",
       "199  200.        Suleiman Kerimov & family   $10.7 B\n",
       "\n",
       "[200 rows x 3 columns]"
      ]
     },
     "execution_count": 455,
     "metadata": {},
     "output_type": "execute_result"
    }
   ],
   "source": [
    "df=pd.DataFrame({\"Rank\":rank,\"Name\":name,\"Net_Worth\":net_worth})\n",
    "df"
   ]
  },
  {
   "cell_type": "markdown",
   "id": "b762807e",
   "metadata": {},
   "source": [
    "# QUESTION 8"
   ]
  },
  {
   "cell_type": "code",
   "execution_count": 171,
   "id": "c8f2b4e0",
   "metadata": {},
   "outputs": [],
   "source": [
    "driver=webdriver.Chrome()"
   ]
  },
  {
   "cell_type": "code",
   "execution_count": 172,
   "id": "d9e76377",
   "metadata": {},
   "outputs": [],
   "source": [
    "driver.get('https://www.youtube.com/watch?v=X3paOmcrTjQ')"
   ]
  },
  {
   "cell_type": "code",
   "execution_count": 174,
   "id": "19160164",
   "metadata": {},
   "outputs": [],
   "source": [
    "comment=[]\n",
    "like_count=[]\n",
    "published=[]"
   ]
  },
  {
   "cell_type": "code",
   "execution_count": 189,
   "id": "2ced2f06",
   "metadata": {},
   "outputs": [
    {
     "name": "stdout",
     "output_type": "stream",
     "text": [
      "\n",
      " Caltech Post Graduate Program In Data Science: https://www.simplilearn.com/post-graduate-program-data-science?utm_campaign=DataScienceScribe&utm_medium=Comments&utm_source=youtube\n",
      "IIT Kanpur Professional Certificate Course In Data Science (India Only): https://www.simplilearn.com/iitk-professional-certificate-course-data-science?utm_campaign=DataScienceScribe&utm_medium=Comments&utm_source=youtube\n",
      " Data Science Bootcamp (US Only): \n",
      "Data Scientist Masters Program (Discount Code - YTBE15): \n",
      "Great video! As an established data scientist myself, this is definitely an accurate data science project lifecycle; however, I almost never go through all of these steps in the same day. You can spend whole days just cleaning data, tuning models, or putting things into production. The work that you do can also vary by company, some data scientists only work on part of that lifecycle just doing exploration and modeling or modeling and productionization. I have a few videos on my channel that complement this one nicely for those interested!\n",
      "So, i watched this video, and im even more confused as to wtf a data scientist actually is\n",
      "it was a great overview of all the process.  it would be great if we get more videos on DATA PREPARATION, EDA. various methods\n",
      "for different scenarios.\n",
      "This is really a very clear presentation of what really goes with a data science project from the very beginning. However, things do not happen very easily. There are a lot of challenges that you have to deal with. In data cleaning alone, the time that you use can be overwhelming.\n",
      "A nice capture of the top level elements, thank you! It easily gets convoluted, and I was looking reflect on a simple overview.\n",
      "Your videos are what is getting me the necessary introduction to data science. Thank you so much!\n",
      "A very interesting intro to data science. I want to learn the step data cleaning more deeply. It would be very helpful if you could make a vedio on that. Thanks!\n",
      "Excellent video, I think I've got it now.  Data Science is when someone is a BA and is also a peddler for particular software or applications.\n",
      "It's so encouraging\n",
      "I wish I have had known this before 5 years! :)\n",
      "Thank you..For give us the intro of Data Science..Now I'm very excited to learn this course by your video..Once again Thank u lot Respected..!!\n",
      "Thank you for this super interesting video! :)\n",
      "I would like to ask you something: Which are the most important skills that a data analyst should have/learn?\n",
      "One of the most useful vedio I watched...\n",
      "Thanks for sharing this information about Data Science, its really helpful\n",
      "#Simplilearn\n",
      "You are amazing !! Thanks for teaching us a big chunk of knowledge within a couple of minutes !!!\n",
      "Now I'm much interested to become Data Scientist.\n",
      "Data science explained in such a clean and brilliant manner!! Thank you for the awesome video!!\n",
      "I just want to Thank you so much for this video\n",
      " I dont know what the future holds for me,but i hope my interest for this might come true.\n",
      "wonderful explanation thank you so much. it was very clear \n",
      "It was so simple in your way.\n",
      "Thanks for this video......\n",
      "Thank you for the additional Information!!...\n",
      "Great video. You did great explaining this. That said, I would argue that it can never be overstated how extremely rigorous you must be in the earliest steps. Specifically data acquisition and cleaning. Mistakes in these steps will often corrupt every subsequent step in your research. Furthermore, it is these earliest steps that are the hardest if not impossible to correct if mistakes are found. Do some field work, say NSF or an FFRDC gives you 2 million dollars for it. Go out into the field and unknowingly bring the wrong brand of batteries for your solar panels that you don’t figure out until your back? Oh well. This seemingly tiny and innocent mistake turns a long lived project of monitoring an area into a very short lived one when the battery dies. All the clocks on your instruments are not correctly synced by gps and you have timing errors now? Now we have absolutely horrible data that needs to be cleaned! THE FIRST TWO STEPS (ACQUISITION AND CLEANING) ARE SO IMPORTANT!!!!!\n",
      "Awesome video! Please let me know the Mathematics topics that is used/vital to develop a Data Science Model and how important it is to be strong in certain areas.\n",
      "Thanks for this informative video. I am a Genetic Engineer and would like to know more about Application of data science in Genomics as mentioned in your video.\n",
      "Great information, now I want to be a data scientist  !!Thanks\n",
      "This is such an amazing video! Please create a video on blockchain too!\n",
      "Thank you Simplilearn :)\n",
      "Thankyou for this great video, I plan to choose data science as my specialization in college now :)\n",
      "Thanks for sharing!!!  Very helpful\n",
      "Your video is very valuable to understand the Data Science. Awesome.\n",
      "Do you have any questions on this topic? Please share your feedback in the comment section below and we'll have our experts answer it for you. Thanks for watching the video. Cheers!\n",
      "Thank you this was very helpful and informative \n",
      "I currently studying BS Data Science in the Philippines. Thank you for this video.\n",
      "Great explained ,thank you \n",
      "Thanx for this information\n",
      "Im going to study data science next year and got the question what it was exactly and couldnt really answer that but now I can thanx\n",
      "Thank u for this informative video really help me to understand more about data scientist(:(:((:\n",
      "Was curious...now I know it is not the job for me. Thank you for this video!\n",
      "So, What tool did you use to create the video. I liked how engaging it was\n",
      "Thank you for the video.....it helped me a lot.....\n",
      "️\n",
      "Great Video! Good pacing and information.\n",
      "Very Good and clear information you have presented...Thank you #Simplilearn and to the voice speaker\n",
      "This was a nicely done video. You were clear and effective, well done! Though in my opinion that salary range is applicable for senior professionals only, noobies start with less. Am I wrong?\n",
      "Great video! What do you use to produce such a great video? What tool do you use for drawing? Thnx\n",
      "Good video for beigner who want to know about data science.. Great vedio\n",
      "Thanks for sharing this video of the introduction of data science.\n",
      "Very good explanation and useful informations. \n",
      "thanks :-)\n",
      "\n",
      "I love data science,thats why I have created a youtube channel showing people how to leverage data to empower business corporation.\n",
      "I have an Aerospace Engineering degree and looking forward to pursue masters in data science. What are pre requisites I should learn ?\n",
      "Thank you for such a good explanation\n",
      "Amazing video! I love it!\n",
      "i still dont get it. a lot of technical words. i need a very simple in-life examples with it.\n",
      "Great video....thanks for sharing your knowledge\n",
      "thanks for the great content that you provided for us\n",
      "Omg still replies comments, subbed \n",
      "Loved hearing your perspective! - I just uploaded a day in the life of a Data Scientist on my channel :)\n",
      "Great video..Thanks Simplilearn\n",
      "Really great and i formative video, thanks\n",
      "Thanks\n",
      "Would you please do an episode on UX research and differentiate it from UX designer, if you haven't done one already! Thank you for the helpful videos :)\n",
      "thank you this is very helpful\n",
      "That's very nice video..which will be the best materials or guidelines to start this to get practical knowledge and theory knowledge as well?\n",
      "I want to make Final year project on data science can you please give me some ideas that which topic should i choose, i wounder if you please\n",
      "i am MBA Fin,in 40s, what route you suggest to become data scientist, thnx\n",
      "The course has helped me boost my career.  After the certification, I was selected for so many posts.  Now, I am getting more responsibilities and the spectrum of my work has broadened.\n",
      "Its an amazing video.can you also make a video about artificial intelligence.\n",
      "Hi, I’m an international business student and I have a chance to sign up for elective subject as part of my curricula and one of the choices I’ve been given is data science. However, most people who have taken that choice are saying that it’s too difficult and have already given up on it. I’m doing my own research into the topic so as to make an informed decision. As an undergraduate student of international business, do I stand a chance of making it through the 3 modules of data science given my background in business?\n",
      "I am seduced, I see no job more suited for me and this video has inspired that.\n",
      "Can u tell me between AI and Data Science, which one are better to start up a bussiness.\n",
      "one of the best short videos I ever have seen\n",
      "Can you recommend any college for getting a bachelor in data science?\n",
      "Hii i have cmpleted my b. Com graduation and i m interested to learn data science course is it possible or nt if it possible could u plz suggest the best institute for data science in Hyderabad\n",
      "Impressed with your explanation. Subscribed.\n",
      "And can u suggest me a best role \n",
      "I am a Mechanical Engineering Graduate.\n",
      "Helpful video, thanks!\n",
      "I'm going to become a data freak.\n",
      "Hi, I am from a non- technical background and my qualification is bachelor of arts but I found that the future is data science and people are going crazy over it. Just wanted to know will I be eligible to pursue a career out of this ..?\n",
      "\n",
      "Thanks\n",
      "Very good presentation. Very simple and lucid .\n",
      "Please let me know suitable course and role for me .I am having 5 years of experience in  windows programming C++.\n",
      "Goods videos for new generation Students.I like this\n",
      "How do post production defects come in to this process?\n",
      "Liked even before watching video...\n",
      "Excellent.... Explained nicely\n",
      "Now that I know the importance of Data scientist ,pls tell me what is best way to become a data scientist without a degree.\n",
      "Can a person with non-engineering background become data scientist? Asking this from a legal-technology perspective.\n",
      "Data privacy, governance, and ownership of data.  The presentation implies the Data Scientist has full rights to do anything and everything with the data.\n",
      "Greate Summary video Thanks\n",
      "t was a great overview of all the process\n",
      "I am working as a teacher, Could you guide me how can I pursue this course.?\n",
      "Hello Team,\n",
      "That was really helpful but i have doubt that which is best among following for a mechanical engineer to grow in his career according to current scenarios and future trends\n",
      "1. Data Analyst\n",
      "2. Machine Learning Engineer\n",
      "3. Deep Learning Engineer\n",
      "4.  Data Engineer\n",
      "5. Data Scientists\n",
      "\n",
      "Appreciate your response on my query.\n",
      "\n",
      "Thank you\n",
      "Good explanation. Excellent video.\n",
      "cool stuff! Thank you! :)\n",
      "lovely voice \n",
      "Kindly let know on how Python will be useful in the context of Datascience.\n",
      "มันยอดมาก\n",
      "Thanks very informative\n",
      "Thanks for the great vid! Can I ask... How do you make these animations?\n",
      "I like it very much .. simple and easy\n",
      "Can you please make video regarding industrial design as well as industrial management?\n",
      "Thank u for ur explaination\n",
      "thanks, it was good explanation\n",
      "actually useful video of what data scientists do !\n",
      "Please make a video for the difference between Data Scientist and Data Analyst\n",
      "Thanks for the helpful video dear.\n",
      "Hi,  I like your quick presentation on data science. Do you have any ppt for this\n",
      "thank for sharing knowledge\n",
      "Nice video! quite explainable ..\n",
      "Really inspiring\n",
      "Excellent video,  kudos to the creators... where can i persue and get certified?\n",
      "Thank you so much\n",
      "Whether a person of accountancy background, start over his career as data scientist.\n",
      "Great video. Thanks\n",
      "Nice explanation \n",
      "I am basically from Become Background i hold 4.9years od experience in BPO Now i wanted to learn a course can you can guys suggest me is this is the right choice which I am taking to learn Data Science With Python.\n",
      "Nice explanation \n",
      ":-)\n",
      "never heard of it before - a friend mentioned and few searches manage to find this video.. is data analytics/data science useful for accountants? thanks\n",
      "This looks vast but also interesting.\n",
      "nicely explaing, intresting video\n",
      "What is the basic requirement before becoming a data scientist?\n",
      "I am from srilanka \n",
      "Finished my Advanced level examination\n",
      "I got s passes for maths, physics and ICT.\n",
      "Now I am confused what should I choose. Software engineering or computer science.\n",
      "My dream is to earn more. So which will be the best option. Please give me a respond asap\n",
      "Do we get certificate of completion from simplilearn app\n",
      "I will like to inquire about the Masters program you offer in conjunction with IBM. Is it really viewed as a Masters Degree?\n",
      "I am doing msc chemistry now..can i take 2-3month course of data science??is it worth??\n",
      "Sir if i have 4-5 years of experience as business analyst, can i become a data scientist?\n",
      "Great explanation great video\n",
      "Wall St is the best way to learn this. The whole idea is not to take trading loss as the base to make decisions once u learn that then u apply to everything else u have to clean up worthless data\n",
      "It's my dream to become a data scientist...\n",
      "Thank for sharing this information \n",
      "️\n",
      "let me know how data science is helpful for a mechanical engineer? In what all streams an mech engg can explore the data science??Pls explain with an video if possible\n",
      "Thank's a lot...\n",
      "How can student from different background(non CS/IT) can start his/her career in this field ?is simplilearn provide their classes from basic roots?\n",
      "nice\n",
      "Animation demo good\n",
      "amazing !!\n",
      "Thank you \n",
      "Thank you for the video!\n",
      "Very informative. Is it useful for mechanical engineers.\n",
      "Nice got to learn many things\n",
      "Hi im thinking if i should do early admission for a new course in a local polytecnic called data science. How do i express my interests/traits for the interviewers in my writeup and interview?\n",
      "THIS VIDEO IS SO  GOOD\n",
      "can you tell me which is the best (data science) or (artificial inteligence ) or (mechine learning). and let me know the placements in these compartments\n",
      "I’m working on becoming a data scientist, how do I get started? I’m loss\n",
      "Thanks for the video could you do a video on machine Learning\n",
      "really impressive video\n",
      "Thank you for making this video. Easy to understand \n",
      "greate data science video.\n",
      "hello . i m pursued MSc in physics so that i know nothing about coding except c programming.  now i planning to learn data science . what are the basic coding languages i should learn before entering data science course ?\n",
      "I am a recent graduate in Computer Science and want to instead go into Data Science industry instead of the traditional Software Developer/ Software Engineer career. So as someone like me who eventually one day wants to work in data science industry, is there an entry level job role that one can apply as a starting point and just get promoted/ level up to a data science in time rather than just trying to apply for a data science position from the get go? I dont mind starting at the bottom and working my way up the ladder. Anyone have any suggestions?\n",
      "great data analysis\n",
      "Great video\n",
      "I am a medical student, I'd like to learn data science but only as a compliment to my career. How can I go about that,  and what section of data science should I focus on\n",
      "Can you please make a video or playlist on math behind neural network and backpropagation.\n",
      "Very good video thanks\n",
      "Hi Team,\n",
      "I am working as a Change Analyst in Data Operations!!!\n",
      "Is that comes under these five like Data scientist or Data Analyst??\n",
      "Whether i can apply for Data Analyst??\n",
      "Finally a video that doesn't scare me to quit learning data science\n",
      "Am a homemaker with no basics in IT. Could thus be a career for me? What are some of the must have attributes in a candidate before getting into learning data science\n",
      "I am thinking to take cse with data science in NSUT :)... btw thanks \n",
      "This seems like so much for one person\n",
      "I  keep on focussing on the drawing :)\n",
      "Can you please help me out in identifying which sources are best to find factual datas\n",
      "This was very good.\n",
      "Informative\n",
      "Hi Mam, which one is best, data science course, Artificial intelligence or Machine learning or data analytics\n",
      "Great information\n",
      "Hi the salaries you mentioned right before the end of your video, are annually or monthly salaries?\n",
      "thanks a lot\n",
      "My son is doing online 4 Yr Degree  Course Frm IIT Madras in Data Science.. Will he get Job in india or Foreign?\n",
      "Hello Sir, \n",
      "I want start my career in Data science. \n",
      "Firstly I want learn in detail about statistics and Applied mathematics. \n",
      "Which book I have to buy for statistics and Applied mathematics. \n",
      "Please suggest any Indian author book for ease understanding.\n",
      "I'm a mechanic engineer graduate can I go for Data science instead of master in engineering management\n",
      "My education is 2puc can i go for data science or it needs engineering,degree??\n",
      "Thanks. I request something on ERP and PEGA please.\n",
      "I really like the video. can you do a video on Management Information System and the differences between it and data science\n",
      "Thankyou !\n",
      "Tqs for your information, For taking data science should we require any degree ?\n",
      "How many years of learning will be required to be a Data Scientist? Since I have just graduate from a course related to IR\n",
      "Hey iam working as an hr generalist, can you just tell me how i can advance in my career by learning data science\n",
      "excellent\n",
      "Hello @Simplilearn, your animations are very good. Which tool do u use to create them :)\n",
      "how can we get a job easily in data science\n",
      "What are step to become a data scientist \n",
      "I mean what courses and what tools at what stages that I should learn ,the part to become a data scientist\n",
      "Bahut hi Badhiya mam.\n",
      "Aapki study bahut hi achhi hai explain karne ke liye\n",
      "Amazing video\n",
      "As im a beginner please tell which language should I start learning to learn artificial intelligence?\n",
      "Very helpful video \n",
      "Animation and voice \n",
      "️\n",
      "️\n",
      "I just wanted to clarify, would it be beneficial if an aspiring data scientist does a Python course, or could they do well without it?\n",
      "To undergo a course like data science, do we need a computer knowledge like c, c+ etc... Plz reply me as soon as possible... It would help me a lot\n",
      "So for someone who is interested in technology/coding, statistics, and general mathematics, would data science or computer science or neither be the best fit?\n",
      "This video is informative and help full for understanding what exactly is Data Scientist doing...\n",
      "Apart from this, I would like to know if I can start my career into Data Science after having 8 years experience in Java(J2EE) including projects development and Problem Management(Production support).Below are few doubts I have.\n",
      "\n",
      "\n",
      "1] Is there only single team that takes care of all the 7 phases mentioned above ?Just like we have different phases in SDLC\n",
      "2] Considering the career switch after 8 years, its impact on salary and job role/level of work?\n",
      "4] Skills in demand , requirements of any extra courses/certifications\n",
      "5] Future career path/growth as a data scientist basis organizational hierarchy and salary\n",
      "Hello, what is the eligibility criteria to become a data scientist or machine learning engineer?\n",
      "Very useful\n",
      "Thank you\n",
      "excelent video\n",
      "Hello,\n",
      "I have enjoyed your video a lot.\n",
      "I want to become a data scientist and I don't know what degree can I study to develop my skills in thid area.\n",
      "For the moment I'm thinking of studying statistics, maths, computer engineer or data engineer.\n",
      "I think that the best option for me would be to study statistics, what do you think?\n",
      "Thank you very much\n",
      "nice and very big think\n",
      "learn by doing!!\n",
      "Good job.\n",
      "I have completed my masters in Linguistics but sadly we were not introduced to computational linguistics. Is big data and data scientist related with Computational linguistics ? Do I need to learn python and other applications to learn big data beginners course?\n",
      "From big data and cloud computing which is best to learn as a beginer ? And for high unexpected future requirements ??\n",
      "Hi,  I have done B.Tech and M.tech in Electronics. Have lecturer experience. How much this course be effective for me? Can this give a fresh start in companies?\n",
      "It's amazing\n",
      "what are the prequistes to become a data scientist ..?\n",
      "is there will be any coding language is necessary to learn for data science?\n",
      "For each step, is it possible for self study?\n",
      "My background is logistics and supply chain management can I take data science field ? How tough will it be for me ?\n",
      "Thanks\n",
      "THIS VIDEO IS SO GOOD\n",
      "Great video\n",
      "Hello...I completed my graduation in statistics......can I do a statistics for business analytics and data science A-Z course? And what are the job opportunities I can get and where I can get work? As I am a fresher so I don't have any idea about it ...one of my relatives said me to do it....so please suggest me ?\n",
      "Thanks\n",
      "Do you have to know how to code to become a data analyst?\n",
      "Data Science is art thats why I love it.\n",
      "Can i go for artifical in telligence  after learning data science in deep ??\n",
      "Will there be any job openings for freshers  for data science?\n",
      "Mam , B.Tech Artificial Intelligence and Data Science  &  Integrated M.Sc Data science . Which has high Scope & job opportunities & Salary ? Kindly Reply mam\n",
      "Great! It is was crisp and clear......may i know what other DS applications are there in medicine?\n",
      "Thanks\n",
      "But. From Where can we start date science? . There are several things of managing the date as like of many field. What's the best to get in field of  data .\n",
      "Can data science be learnt by an arts student, having no technical or coding background ?? How much time does it take to learn completely from scratch?\n",
      "Good one\n",
      "Great Video\n",
      "I am 29 , I am bachelor and master in computer science with 3 years of experience in teaching profession. What path you recommend me to be a data scientist.\n",
      "Is it cumpulsory for postgraduation to become a data analyst?\n",
      "Awesome would like to learn Data analytics any valid job oriented with high package available\n",
      "I am an MBA marketing... I want to become a data scientist... Is it is possible for me..  Because right now I don't have any technical knowledge.. If yes then is it is important to learn tech basics before course or will they teach me in between the course the basics of technical knowledge??\n",
      "I am a BA english student .so which course should i study to stand in data science or IT field.\n",
      "Can you start a Data Strategy project without Data Governance in place first?\n",
      "Hi i m a beginner in this feild i want to learn data science could you please suggest me best course in online.\n",
      "Is tarah ki video kis app se banti hai please suggest kijiye mujhe beacuase I am a teacher and I want to make this type of videos for my students for online classes\n",
      "Most useful video\n",
      "Nice of this\n",
      "Which course shld we take for data science\n",
      "Thanks a lot for sharing.. I am a graphic designer strong with design visual skills frm media background 10 years.. What job profile would be best for me then here to learn????. Also Many industries have age criteria after certain age then dont hire u. How does age factors work here  when a old 45 age fresher works under 25 age experienced person???\n",
      "Hey that's bretty gud\n",
      "Can Data Science be applied in quantitative trading ?\n",
      "Which is the best platform to become a data scientist\n",
      "what tool you use to make that type of video kindly answer me\n",
      "What background of subjects is needed to persue data scientist as career?\n",
      "How to edit video like this\n",
      "Can you do an similar video about data analyst\n",
      "Please explain each step in detail.\n",
      "Please explain the difference between data science and data mining\n",
      "I have questions I completed my bsc in computer science can it possible do data science it will be difficult or normal\n",
      "I am a commerce student and curious for data science. How to give it a go?\n",
      "\n",
      "Data science is data mining?\n",
      "how can one be passionate about data science and come to watch this?\n",
      "What's the qualifications need to study this course\n",
      "Science has solve many human problem\n",
      "Nice video \n",
      "MBA in information technology student can do data scientist??\n",
      "I am very much passionate about Data Science, but I am non IT background can I be a Data scientist??\n",
      "hi, I do not fully understand step 4:  Exploratory data analysis, could you explain more detail? thank you. what's the purpose?\n",
      "Can anyone please suggest which is best to learn devops or do data science\n",
      "Do we require any specific qualification or experience for this.\n",
      "Informatica... \n",
      "Iam 2015 passed out. I don't have any knowledge in c java or other streams in software and worked for a bpo company for 2 years. Can I go for it? Is there any chances to get a  job as a fresher after 5 years? Waiting for your reply.\n",
      "I'm going to study bsc and MSC integrated courses data science would you suggest me a best college in tamilnadu\n",
      "What are basic skills needed before we learn data science\n",
      "Which aspect weighs more to data science : Math or Programming\n",
      "To lean data science is it necessary to be computer engineer or other background students can also learn\n",
      "How Data science helps in healthcare can you give some key points to understand \n",
      "..?\n",
      "Amen!\n",
      "My background is Civil Engineering! Can I be a data scientist ?\n",
      "Can i do courses like data science, machine learning , etc  with bcom at the same time\n",
      "I am 34 years old Mechanical Engineer, I want to switch my career to IT, ,to become data scientist.\n",
      "Is it feasible at this point of time ?\n",
      "What path would you suggest?\n",
      "Sir, my back ground is mechanical engineering and no knowledge of any language. So is it suitable for any graduate as fresher level entry or only for IT and CS branch.\n",
      "Beautiful\n",
      "\n",
      " Caltech Post Graduate Program In Data Science: https://www.simplilearn.com/post-graduate-program-data-science?utm_campaign=DataScienceScribe&utm_medium=Comments&utm_source=youtube\n",
      "IIT Kanpur Professional Certificate Course In Data Science (India Only): https://www.simplilearn.com/iitk-professional-certificate-course-data-science?utm_campaign=DataScienceScribe&utm_medium=Comments&utm_source=youtube\n",
      " Data Science Bootcamp (US Only): \n",
      "Data Scientist Masters Program (Discount Code - YTBE15): \n",
      "Great video! As an established data scientist myself, this is definitely an accurate data science project lifecycle; however, I almost never go through all of these steps in the same day. You can spend whole days just cleaning data, tuning models, or putting things into production. The work that you do can also vary by company, some data scientists only work on part of that lifecycle just doing exploration and modeling or modeling and productionization. I have a few videos on my channel that complement this one nicely for those interested!\n",
      "So, i watched this video, and im even more confused as to wtf a data scientist actually is\n",
      "it was a great overview of all the process.  it would be great if we get more videos on DATA PREPARATION, EDA. various methods\n",
      "for different scenarios.\n",
      "This is really a very clear presentation of what really goes with a data science project from the very beginning. However, things do not happen very easily. There are a lot of challenges that you have to deal with. In data cleaning alone, the time that you use can be overwhelming.\n",
      "A nice capture of the top level elements, thank you! It easily gets convoluted, and I was looking reflect on a simple overview.\n",
      "Your videos are what is getting me the necessary introduction to data science. Thank you so much!\n",
      "A very interesting intro to data science. I want to learn the step data cleaning more deeply. It would be very helpful if you could make a vedio on that. Thanks!\n",
      "Excellent video, I think I've got it now.  Data Science is when someone is a BA and is also a peddler for particular software or applications.\n",
      "It's so encouraging\n",
      "I wish I have had known this before 5 years! :)\n",
      "Thank you..For give us the intro of Data Science..Now I'm very excited to learn this course by your video..Once again Thank u lot Respected..!!\n",
      "Thank you for this super interesting video! :)\n",
      "I would like to ask you something: Which are the most important skills that a data analyst should have/learn?\n",
      "One of the most useful vedio I watched...\n",
      "Thanks for sharing this information about Data Science, its really helpful\n",
      "#Simplilearn\n",
      "You are amazing !! Thanks for teaching us a big chunk of knowledge within a couple of minutes !!!\n",
      "Now I'm much interested to become Data Scientist.\n",
      "Data science explained in such a clean and brilliant manner!! Thank you for the awesome video!!\n",
      "I just want to Thank you so much for this video\n",
      " I dont know what the future holds for me,but i hope my interest for this might come true.\n",
      "wonderful explanation thank you so much. it was very clear \n",
      "It was so simple in your way.\n",
      "Thanks for this video......\n",
      "Thank you for the additional Information!!...\n",
      "Great video. You did great explaining this. That said, I would argue that it can never be overstated how extremely rigorous you must be in the earliest steps. Specifically data acquisition and cleaning. Mistakes in these steps will often corrupt every subsequent step in your research. Furthermore, it is these earliest steps that are the hardest if not impossible to correct if mistakes are found. Do some field work, say NSF or an FFRDC gives you 2 million dollars for it. Go out into the field and unknowingly bring the wrong brand of batteries for your solar panels that you don’t figure out until your back? Oh well. This seemingly tiny and innocent mistake turns a long lived project of monitoring an area into a very short lived one when the battery dies. All the clocks on your instruments are not correctly synced by gps and you have timing errors now? Now we have absolutely horrible data that needs to be cleaned! THE FIRST TWO STEPS (ACQUISITION AND CLEANING) ARE SO IMPORTANT!!!!!\n",
      "Awesome video! Please let me know the Mathematics topics that is used/vital to develop a Data Science Model and how important it is to be strong in certain areas.\n",
      "Thanks for this informative video. I am a Genetic Engineer and would like to know more about Application of data science in Genomics as mentioned in your video.\n",
      "Great information, now I want to be a data scientist  !!Thanks\n",
      "This is such an amazing video! Please create a video on blockchain too!\n",
      "Thank you Simplilearn :)\n",
      "Thankyou for this great video, I plan to choose data science as my specialization in college now :)\n",
      "Thanks for sharing!!!  Very helpful\n",
      "Your video is very valuable to understand the Data Science. Awesome.\n",
      "Do you have any questions on this topic? Please share your feedback in the comment section below and we'll have our experts answer it for you. Thanks for watching the video. Cheers!\n",
      "Thank you this was very helpful and informative \n",
      "I currently studying BS Data Science in the Philippines. Thank you for this video.\n",
      "Great explained ,thank you \n",
      "Thanx for this information\n",
      "Im going to study data science next year and got the question what it was exactly and couldnt really answer that but now I can thanx\n",
      "Thank u for this informative video really help me to understand more about data scientist(:(:((:\n",
      "Was curious...now I know it is not the job for me. Thank you for this video!\n",
      "So, What tool did you use to create the video. I liked how engaging it was\n",
      "Thank you for the video.....it helped me a lot.....\n",
      "️\n",
      "Great Video! Good pacing and information.\n",
      "Very Good and clear information you have presented...Thank you #Simplilearn and to the voice speaker\n",
      "This was a nicely done video. You were clear and effective, well done! Though in my opinion that salary range is applicable for senior professionals only, noobies start with less. Am I wrong?\n",
      "Great video! What do you use to produce such a great video? What tool do you use for drawing? Thnx\n",
      "Good video for beigner who want to know about data science.. Great vedio\n",
      "Thanks for sharing this video of the introduction of data science.\n",
      "Very good explanation and useful informations. \n",
      "thanks :-)\n",
      "\n",
      "I love data science,thats why I have created a youtube channel showing people how to leverage data to empower business corporation.\n",
      "I have an Aerospace Engineering degree and looking forward to pursue masters in data science. What are pre requisites I should learn ?\n",
      "Thank you for such a good explanation\n",
      "Amazing video! I love it!\n",
      "i still dont get it. a lot of technical words. i need a very simple in-life examples with it.\n",
      "Great video....thanks for sharing your knowledge\n",
      "thanks for the great content that you provided for us\n",
      "Omg still replies comments, subbed \n",
      "Loved hearing your perspective! - I just uploaded a day in the life of a Data Scientist on my channel :)\n",
      "Great video..Thanks Simplilearn\n",
      "Really great and i formative video, thanks\n",
      "Thanks\n",
      "Would you please do an episode on UX research and differentiate it from UX designer, if you haven't done one already! Thank you for the helpful videos :)\n",
      "thank you this is very helpful\n",
      "That's very nice video..which will be the best materials or guidelines to start this to get practical knowledge and theory knowledge as well?\n",
      "I want to make Final year project on data science can you please give me some ideas that which topic should i choose, i wounder if you please\n",
      "i am MBA Fin,in 40s, what route you suggest to become data scientist, thnx\n",
      "The course has helped me boost my career.  After the certification, I was selected for so many posts.  Now, I am getting more responsibilities and the spectrum of my work has broadened.\n",
      "Its an amazing video.can you also make a video about artificial intelligence.\n",
      "Hi, I’m an international business student and I have a chance to sign up for elective subject as part of my curricula and one of the choices I’ve been given is data science. However, most people who have taken that choice are saying that it’s too difficult and have already given up on it. I’m doing my own research into the topic so as to make an informed decision. As an undergraduate student of international business, do I stand a chance of making it through the 3 modules of data science given my background in business?\n",
      "I am seduced, I see no job more suited for me and this video has inspired that.\n",
      "Can u tell me between AI and Data Science, which one are better to start up a bussiness.\n",
      "one of the best short videos I ever have seen\n",
      "Can you recommend any college for getting a bachelor in data science?\n",
      "Hii i have cmpleted my b. Com graduation and i m interested to learn data science course is it possible or nt if it possible could u plz suggest the best institute for data science in Hyderabad\n",
      "Impressed with your explanation. Subscribed.\n",
      "And can u suggest me a best role \n",
      "I am a Mechanical Engineering Graduate.\n",
      "Helpful video, thanks!\n",
      "I'm going to become a data freak.\n",
      "Hi, I am from a non- technical background and my qualification is bachelor of arts but I found that the future is data science and people are going crazy over it. Just wanted to know will I be eligible to pursue a career out of this ..?\n",
      "\n",
      "Thanks\n",
      "Very good presentation. Very simple and lucid .\n",
      "Please let me know suitable course and role for me .I am having 5 years of experience in  windows programming C++.\n",
      "Goods videos for new generation Students.I like this\n",
      "How do post production defects come in to this process?\n",
      "Liked even before watching video...\n",
      "Excellent.... Explained nicely\n",
      "Now that I know the importance of Data scientist ,pls tell me what is best way to become a data scientist without a degree.\n",
      "Can a person with non-engineering background become data scientist? Asking this from a legal-technology perspective.\n",
      "Data privacy, governance, and ownership of data.  The presentation implies the Data Scientist has full rights to do anything and everything with the data.\n",
      "Greate Summary video Thanks\n",
      "t was a great overview of all the process\n",
      "I am working as a teacher, Could you guide me how can I pursue this course.?\n",
      "Hello Team,\n",
      "That was really helpful but i have doubt that which is best among following for a mechanical engineer to grow in his career according to current scenarios and future trends\n",
      "1. Data Analyst\n",
      "2. Machine Learning Engineer\n",
      "3. Deep Learning Engineer\n",
      "4.  Data Engineer\n",
      "5. Data Scientists\n",
      "\n",
      "Appreciate your response on my query.\n",
      "\n",
      "Thank you\n",
      "Good explanation. Excellent video.\n",
      "cool stuff! Thank you! :)\n",
      "lovely voice \n",
      "Kindly let know on how Python will be useful in the context of Datascience.\n",
      "มันยอดมาก\n",
      "Thanks very informative\n",
      "Thanks for the great vid! Can I ask... How do you make these animations?\n",
      "I like it very much .. simple and easy\n",
      "Can you please make video regarding industrial design as well as industrial management?\n",
      "Thank u for ur explaination\n",
      "thanks, it was good explanation\n",
      "actually useful video of what data scientists do !\n",
      "Please make a video for the difference between Data Scientist and Data Analyst\n",
      "Thanks for the helpful video dear.\n",
      "Hi,  I like your quick presentation on data science. Do you have any ppt for this\n",
      "thank for sharing knowledge\n",
      "Nice video! quite explainable ..\n",
      "Really inspiring\n",
      "Excellent video,  kudos to the creators... where can i persue and get certified?\n",
      "Thank you so much\n",
      "Whether a person of accountancy background, start over his career as data scientist.\n",
      "Great video. Thanks\n",
      "Nice explanation \n",
      "I am basically from Become Background i hold 4.9years od experience in BPO Now i wanted to learn a course can you can guys suggest me is this is the right choice which I am taking to learn Data Science With Python.\n",
      "Nice explanation \n",
      ":-)\n",
      "never heard of it before - a friend mentioned and few searches manage to find this video.. is data analytics/data science useful for accountants? thanks\n",
      "This looks vast but also interesting.\n",
      "nicely explaing, intresting video\n",
      "What is the basic requirement before becoming a data scientist?\n",
      "I am from srilanka \n",
      "Finished my Advanced level examination\n",
      "I got s passes for maths, physics and ICT.\n",
      "Now I am confused what should I choose. Software engineering or computer science.\n",
      "My dream is to earn more. So which will be the best option. Please give me a respond asap\n",
      "Do we get certificate of completion from simplilearn app\n",
      "I will like to inquire about the Masters program you offer in conjunction with IBM. Is it really viewed as a Masters Degree?\n",
      "I am doing msc chemistry now..can i take 2-3month course of data science??is it worth??\n",
      "Sir if i have 4-5 years of experience as business analyst, can i become a data scientist?\n",
      "Great explanation great video\n",
      "Wall St is the best way to learn this. The whole idea is not to take trading loss as the base to make decisions once u learn that then u apply to everything else u have to clean up worthless data\n",
      "It's my dream to become a data scientist...\n",
      "Thank for sharing this information \n",
      "️\n",
      "let me know how data science is helpful for a mechanical engineer? In what all streams an mech engg can explore the data science??Pls explain with an video if possible\n",
      "Thank's a lot...\n",
      "How can student from different background(non CS/IT) can start his/her career in this field ?is simplilearn provide their classes from basic roots?\n",
      "nice\n",
      "Animation demo good\n",
      "amazing !!\n",
      "Thank you \n",
      "Thank you for the video!\n",
      "Very informative. Is it useful for mechanical engineers.\n",
      "Nice got to learn many things\n",
      "Hi im thinking if i should do early admission for a new course in a local polytecnic called data science. How do i express my interests/traits for the interviewers in my writeup and interview?\n",
      "THIS VIDEO IS SO  GOOD\n",
      "can you tell me which is the best (data science) or (artificial inteligence ) or (mechine learning). and let me know the placements in these compartments\n",
      "I’m working on becoming a data scientist, how do I get started? I’m loss\n",
      "Thanks for the video could you do a video on machine Learning\n",
      "really impressive video\n",
      "Thank you for making this video. Easy to understand \n",
      "greate data science video.\n",
      "hello . i m pursued MSc in physics so that i know nothing about coding except c programming.  now i planning to learn data science . what are the basic coding languages i should learn before entering data science course ?\n",
      "I am a recent graduate in Computer Science and want to instead go into Data Science industry instead of the traditional Software Developer/ Software Engineer career. So as someone like me who eventually one day wants to work in data science industry, is there an entry level job role that one can apply as a starting point and just get promoted/ level up to a data science in time rather than just trying to apply for a data science position from the get go? I dont mind starting at the bottom and working my way up the ladder. Anyone have any suggestions?\n",
      "great data analysis\n",
      "Great video\n",
      "I am a medical student, I'd like to learn data science but only as a compliment to my career. How can I go about that,  and what section of data science should I focus on\n",
      "Can you please make a video or playlist on math behind neural network and backpropagation.\n",
      "Very good video thanks\n",
      "Hi Team,\n",
      "I am working as a Change Analyst in Data Operations!!!\n",
      "Is that comes under these five like Data scientist or Data Analyst??\n",
      "Whether i can apply for Data Analyst??\n",
      "Finally a video that doesn't scare me to quit learning data science\n",
      "Am a homemaker with no basics in IT. Could thus be a career for me? What are some of the must have attributes in a candidate before getting into learning data science\n",
      "I am thinking to take cse with data science in NSUT :)... btw thanks \n",
      "This seems like so much for one person\n",
      "I  keep on focussing on the drawing :)\n",
      "Can you please help me out in identifying which sources are best to find factual datas\n",
      "This was very good.\n",
      "Informative\n",
      "Hi Mam, which one is best, data science course, Artificial intelligence or Machine learning or data analytics\n",
      "Great information\n",
      "Hi the salaries you mentioned right before the end of your video, are annually or monthly salaries?\n",
      "thanks a lot\n",
      "My son is doing online 4 Yr Degree  Course Frm IIT Madras in Data Science.. Will he get Job in india or Foreign?\n",
      "Hello Sir, \n",
      "I want start my career in Data science. \n",
      "Firstly I want learn in detail about statistics and Applied mathematics. \n",
      "Which book I have to buy for statistics and Applied mathematics. \n",
      "Please suggest any Indian author book for ease understanding.\n",
      "I'm a mechanic engineer graduate can I go for Data science instead of master in engineering management\n",
      "My education is 2puc can i go for data science or it needs engineering,degree??\n",
      "Thanks. I request something on ERP and PEGA please.\n",
      "I really like the video. can you do a video on Management Information System and the differences between it and data science\n",
      "Thankyou !\n",
      "Tqs for your information, For taking data science should we require any degree ?\n",
      "How many years of learning will be required to be a Data Scientist? Since I have just graduate from a course related to IR\n",
      "Hey iam working as an hr generalist, can you just tell me how i can advance in my career by learning data science\n",
      "excellent\n",
      "Hello @Simplilearn, your animations are very good. Which tool do u use to create them :)\n",
      "how can we get a job easily in data science\n",
      "What are step to become a data scientist \n",
      "I mean what courses and what tools at what stages that I should learn ,the part to become a data scientist\n",
      "Bahut hi Badhiya mam.\n",
      "Aapki study bahut hi achhi hai explain karne ke liye\n",
      "Amazing video\n",
      "As im a beginner please tell which language should I start learning to learn artificial intelligence?\n",
      "Very helpful video \n",
      "Animation and voice \n",
      "️\n",
      "️\n",
      "I just wanted to clarify, would it be beneficial if an aspiring data scientist does a Python course, or could they do well without it?\n",
      "To undergo a course like data science, do we need a computer knowledge like c, c+ etc... Plz reply me as soon as possible... It would help me a lot\n",
      "So for someone who is interested in technology/coding, statistics, and general mathematics, would data science or computer science or neither be the best fit?\n",
      "This video is informative and help full for understanding what exactly is Data Scientist doing...\n",
      "Apart from this, I would like to know if I can start my career into Data Science after having 8 years experience in Java(J2EE) including projects development and Problem Management(Production support).Below are few doubts I have.\n",
      "\n",
      "\n",
      "1] Is there only single team that takes care of all the 7 phases mentioned above ?Just like we have different phases in SDLC\n",
      "2] Considering the career switch after 8 years, its impact on salary and job role/level of work?\n",
      "4] Skills in demand , requirements of any extra courses/certifications\n",
      "5] Future career path/growth as a data scientist basis organizational hierarchy and salary\n",
      "Hello, what is the eligibility criteria to become a data scientist or machine learning engineer?\n",
      "Very useful\n",
      "Thank you\n",
      "excelent video\n",
      "Hello,\n",
      "I have enjoyed your video a lot.\n",
      "I want to become a data scientist and I don't know what degree can I study to develop my skills in thid area.\n",
      "For the moment I'm thinking of studying statistics, maths, computer engineer or data engineer.\n",
      "I think that the best option for me would be to study statistics, what do you think?\n",
      "Thank you very much\n",
      "nice and very big think\n",
      "learn by doing!!\n",
      "Good job.\n",
      "I have completed my masters in Linguistics but sadly we were not introduced to computational linguistics. Is big data and data scientist related with Computational linguistics ? Do I need to learn python and other applications to learn big data beginners course?\n",
      "From big data and cloud computing which is best to learn as a beginer ? And for high unexpected future requirements ??\n",
      "Hi,  I have done B.Tech and M.tech in Electronics. Have lecturer experience. How much this course be effective for me? Can this give a fresh start in companies?\n",
      "It's amazing\n",
      "what are the prequistes to become a data scientist ..?\n",
      "is there will be any coding language is necessary to learn for data science?\n",
      "For each step, is it possible for self study?\n",
      "My background is logistics and supply chain management can I take data science field ? How tough will it be for me ?\n",
      "Thanks\n",
      "THIS VIDEO IS SO GOOD\n",
      "Great video\n",
      "Hello...I completed my graduation in statistics......can I do a statistics for business analytics and data science A-Z course? And what are the job opportunities I can get and where I can get work? As I am a fresher so I don't have any idea about it ...one of my relatives said me to do it....so please suggest me ?\n",
      "Thanks\n",
      "Do you have to know how to code to become a data analyst?\n",
      "Data Science is art thats why I love it.\n",
      "Can i go for artifical in telligence  after learning data science in deep ??\n",
      "Will there be any job openings for freshers  for data science?\n",
      "Mam , B.Tech Artificial Intelligence and Data Science  &  Integrated M.Sc Data science . Which has high Scope & job opportunities & Salary ? Kindly Reply mam\n",
      "Great! It is was crisp and clear......may i know what other DS applications are there in medicine?\n",
      "Thanks\n",
      "But. From Where can we start date science? . There are several things of managing the date as like of many field. What's the best to get in field of  data .\n",
      "Can data science be learnt by an arts student, having no technical or coding background ?? How much time does it take to learn completely from scratch?\n",
      "Good one\n",
      "Great Video\n",
      "I am 29 , I am bachelor and master in computer science with 3 years of experience in teaching profession. What path you recommend me to be a data scientist.\n",
      "Is it cumpulsory for postgraduation to become a data analyst?\n",
      "Awesome would like to learn Data analytics any valid job oriented with high package available\n",
      "I am an MBA marketing... I want to become a data scientist... Is it is possible for me..  Because right now I don't have any technical knowledge.. If yes then is it is important to learn tech basics before course or will they teach me in between the course the basics of technical knowledge??\n",
      "I am a BA english student .so which course should i study to stand in data science or IT field.\n",
      "Can you start a Data Strategy project without Data Governance in place first?\n",
      "Hi i m a beginner in this feild i want to learn data science could you please suggest me best course in online.\n",
      "Is tarah ki video kis app se banti hai please suggest kijiye mujhe beacuase I am a teacher and I want to make this type of videos for my students for online classes\n",
      "Most useful video\n",
      "Nice of this\n",
      "Which course shld we take for data science\n",
      "Thanks a lot for sharing.. I am a graphic designer strong with design visual skills frm media background 10 years.. What job profile would be best for me then here to learn????. Also Many industries have age criteria after certain age then dont hire u. How does age factors work here  when a old 45 age fresher works under 25 age experienced person???\n",
      "Hey that's bretty gud\n",
      "Can Data Science be applied in quantitative trading ?\n",
      "Which is the best platform to become a data scientist\n",
      "what tool you use to make that type of video kindly answer me\n",
      "What background of subjects is needed to persue data scientist as career?\n",
      "How to edit video like this\n",
      "Can you do an similar video about data analyst\n",
      "Please explain each step in detail.\n",
      "Please explain the difference between data science and data mining\n",
      "I have questions I completed my bsc in computer science can it possible do data science it will be difficult or normal\n",
      "I am a commerce student and curious for data science. How to give it a go?\n",
      "\n",
      "Data science is data mining?\n"
     ]
    }
   ],
   "source": [
    "for _ in range(600):\n",
    "    driver.execute_script(\"window.scrollBy(0,1000)\")\n",
    "    \n",
    "comme = driver.find_elements(By.XPATH,'//div[@class=\"style-scope ytd-expander\"]')\n",
    "for i in comme:\n",
    "    comment.append(i.text)\n",
    "    \n",
    "for i in range(len(comment)):\n",
    "    if i >= 500:\n",
    "        break\n",
    "    print(comment[i])"
   ]
  },
  {
   "cell_type": "code",
   "execution_count": 190,
   "id": "13684acd",
   "metadata": {},
   "outputs": [
    {
     "data": {
      "text/plain": [
       "823"
      ]
     },
     "execution_count": 190,
     "metadata": {},
     "output_type": "execute_result"
    }
   ],
   "source": [
    "len(comment)"
   ]
  },
  {
   "cell_type": "code",
   "execution_count": 203,
   "id": "b1d58453",
   "metadata": {},
   "outputs": [],
   "source": [
    "publish=driver.find_elements(By.XPATH,'/html/body/ytd-app/div[1]/ytd-page-manager/ytd-watch-flexy/div[5]/div[1]/div/div[2]/ytd-comments/ytd-item-section-renderer/div[3]/ytd-comment-thread-renderer[3]/ytd-comment-view-model/div[3]/div[2]/div/div[2]/span[3]')\n",
    "for i in publish:\n",
    "    published.append(i.text)"
   ]
  },
  {
   "cell_type": "code",
   "execution_count": 204,
   "id": "2e6d5d01",
   "metadata": {},
   "outputs": [
    {
     "name": "stdout",
     "output_type": "stream",
     "text": [
      "['4 years ago', '4 years ago', '4 years ago', '2 years ago', '2 years ago']\n"
     ]
    }
   ],
   "source": [
    "print(published)"
   ]
  },
  {
   "cell_type": "code",
   "execution_count": 191,
   "id": "d4a6222b",
   "metadata": {},
   "outputs": [],
   "source": [
    "count=driver.find_elements(By.XPATH,'//span[@class=\"style-scope ytd-comment-engagement-bar\"]')\n",
    "for i in count:\n",
    "    like_count.append(i.text)"
   ]
  },
  {
   "cell_type": "code",
   "execution_count": 192,
   "id": "1409dc10",
   "metadata": {},
   "outputs": [
    {
     "name": "stdout",
     "output_type": "stream",
     "text": [
      "['71', '915', '723', '89', '60', '21', '8', '45', '9', '27', '99', '12', '34', '39', '4', '35', '14', '4', '5', '1', '2', '59', '28', '12', '1', '9', '3', '', '2', '106', '6', '1', '2', '3', '5', '1', '', '84', '3', '2', '1', '7', '9', '1', '1', '8', '17', '1', '1', '12', '1', '2', '7', '16', '', '', '3', '6', '', '1', '6', '8', '2', '1', '3', '3', '', '1', '6', '8', '1', '1', '67', '5', '1', '', '3', '3', '1', '', '4', '9', '', '1', '3', '3', '', '', '3', '', '2', '', '1', '', '', '2', '', '', '', '1', '', '', '1', '', '1', '1', '', '1', '2', '1', '', '', '1', '1', '1', '', '', '2', '3', '', '1', '', '2', '', '', '2', '1', '', '', '1', '1', '', '', '1', '1', '', '', '', '', '', '', '2', '', '2', '', '', '2', '', '', '1', '2', '', '1', '', '', '', '', '1', '', '', '', '1', '', '', '', '', '', '', '1', '', '1', '2', '', '', '', '', '', '', '', '', '', '1', '2', '2', '1', '1', '2', '', '', '1', '1', '', '', '', '1', '', '2', '1', '1', '1', '', '', '', '1', '2', '', '1', '2', '', '', '', '', '', '', '', '', '2', '1', '', '', '1', '1', '', '1', '1', '1', '', '2', '', '1', '', '', '', '', '', '', '', '1', '', '1', '', '', '1', '2', '', '', '', '1', '', '', '', '', '', '', '', '1', '1', '', '', '', '', '', '', '', '1', '', '1', '1', '', '', '', '1', '', '', '', '1', '', '', '', '2', '71', '915', '723', '89', '60', '21', '8', '45', '9', '27', '99', '12', '34', '39', '4', '35', '14', '4', '5', '1', '2', '59', '28', '12', '1', '9', '3', '', '2', '106', '6', '1', '2', '3', '5', '1', '', '84', '3', '2', '1', '7', '9', '1', '1', '8', '17', '1', '1', '12', '1', '2', '7', '16', '', '', '3', '6', '', '1', '6', '8', '2', '1', '3', '3', '', '1', '6', '8', '1', '1', '67', '5', '1', '', '3', '3', '1', '', '4', '9', '', '1', '3', '3', '', '', '3', '', '2', '', '1', '', '', '2', '', '', '', '1', '', '', '1', '', '1', '1', '', '1', '2', '1', '', '', '1', '1', '1', '', '', '2', '3', '', '1', '', '2', '', '', '2', '1', '', '', '1', '1', '', '', '1', '1', '', '', '', '', '', '', '2', '', '2', '', '', '2', '', '', '1', '2', '', '1', '', '', '', '', '1', '', '', '', '1', '', '', '', '', '', '', '1', '', '1', '2', '', '', '', '', '', '', '', '', '', '1', '2', '2', '1', '1', '2', '', '', '1', '1', '', '', '', '1', '', '2', '1', '1', '1', '', '', '', '1', '2', '', '1', '2', '', '', '', '', '', '', '', '', '2', '1', '', '', '1', '1', '', '1', '1', '1', '', '2', '', '1', '', '', '', '', '', '', '', '1', '', '1', '', '', '1', '2', '', '', '', '1', '', '', '', '', '', '', '', '1', '1', '', '', '', '', '', '', '', '1', '', '1', '1', '', '', '', '1', '', '', '', '1', '', '', '', '2', '71', '915', '723', '89', '60', '21', '8', '45', '9', '27', '99', '12', '34', '39', '4', '35', '14', '4', '5', '1', '2', '59', '28', '12', '1', '9', '3', '', '2', '106', '6', '1', '2', '3', '5', '1', '', '84', '3', '2', '1', '7', '9', '1', '1', '8', '17', '1', '1', '12', '1', '2', '7', '16', '', '', '3', '6', '', '1', '6', '8', '2', '1', '3', '3', '', '1', '6', '8', '1', '1', '67', '5', '1', '', '3', '3', '1', '', '4', '9', '', '1', '3', '3', '', '', '3', '', '2', '', '1', '', '', '2', '', '', '', '1', '', '', '1', '', '1', '1', '', '1', '2', '1', '', '', '1', '1', '1', '', '', '2', '3', '', '1', '', '2', '', '', '2', '1', '', '', '1', '1', '', '', '1', '1', '', '', '', '', '', '', '2', '', '2', '', '', '2', '', '', '1', '2', '', '1', '', '', '', '', '1', '', '', '', '1', '', '', '', '', '', '', '1', '', '1', '2', '', '', '', '', '', '', '', '', '', '1', '2', '2', '1', '1', '2', '', '', '1', '1', '', '', '', '1', '', '2', '1', '1', '1', '', '', '', '1', '2', '', '1', '2', '', '', '', '', '', '', '', '', '2', '1', '', '', '1', '1', '', '1', '1', '1', '', '2', '', '1', '', '', '', '', '', '', '', '1', '', '1', '', '', '1', '2', '', '', '', '1', '', '', '', '', '', '', '', '1', '1', '', '', '', '', '', '', '', '1', '', '1', '1', '', '', '', '1', '', '', '', '1', '', '', '', '2']\n"
     ]
    }
   ],
   "source": [
    "print(like_count)"
   ]
  },
  {
   "cell_type": "code",
   "execution_count": 193,
   "id": "b13a821b",
   "metadata": {},
   "outputs": [
    {
     "data": {
      "text/plain": [
       "840"
      ]
     },
     "execution_count": 193,
     "metadata": {},
     "output_type": "execute_result"
    }
   ],
   "source": [
    "len(like_count)"
   ]
  },
  {
   "cell_type": "markdown",
   "id": "643afb51",
   "metadata": {},
   "source": [
    "# QUESTION NO 9"
   ]
  },
  {
   "cell_type": "code",
   "execution_count": 472,
   "id": "5f9161f2",
   "metadata": {},
   "outputs": [],
   "source": [
    "driver=webdriver.Chrome()"
   ]
  },
  {
   "cell_type": "code",
   "execution_count": 473,
   "id": "95df3806",
   "metadata": {},
   "outputs": [],
   "source": [
    "driver.get(\"https://www.hostelworld.com/\")"
   ]
  },
  {
   "cell_type": "code",
   "execution_count": 474,
   "id": "55e95ce6",
   "metadata": {},
   "outputs": [],
   "source": [
    "designation=driver.find_element(By.XPATH,'/html/body/div[3]/div/div/div[2]/div[2]/div[2]/div/div/div/div[1]/div/div/div[2]/input')\n",
    "designation.send_keys('London')\n"
   ]
  },
  {
   "cell_type": "code",
   "execution_count": 475,
   "id": "54bf1928",
   "metadata": {},
   "outputs": [],
   "source": [
    "search=driver.find_element(By.XPATH,'//*[@id=\"3\"]')\n",
    "search.click()"
   ]
  },
  {
   "cell_type": "code",
   "execution_count": 633,
   "id": "38d24a1c",
   "metadata": {},
   "outputs": [],
   "source": [
    "search=driver.find_element(By.XPATH,'/html/body/div[3]/div/div/div[2]/div[2]/div[2]/div/div/div/div[5]/button[1]/div/svgx`')\n",
    "search.click()"
   ]
  },
  {
   "cell_type": "code",
   "execution_count": 476,
   "id": "80e57009",
   "metadata": {},
   "outputs": [],
   "source": [
    "hostle_url=[]\n",
    "hostle_name=[]\n",
    "distance=[]\n",
    "rating=[]\n",
    "review=[]\n",
    "private_from_price=[]\n",
    "facilities=[]\n",
    "description=[]"
   ]
  },
  {
   "cell_type": "code",
   "execution_count": 632,
   "id": "4928eb4f",
   "metadata": {},
   "outputs": [],
   "source": [
    "for i in range(3):\n",
    "    print(\"Scraping page\",i+1)\n",
    "    titles=driver.find_elements(By.XPATH,'//div[@class=\"property-card\"]/a')\n",
    "    for i in titles:\n",
    "        hostle_url.append(i.get_attribute('href'))\n",
    "        \n",
    "\n",
    "        \n",
    "\n",
    "next_button=driver.find_element(By.XPATH,'//button[@class=\"pill-content page-nav nav-right icon-only\"]')\n",
    "next_button.click()\n",
    "time.sleep(3)"
   ]
  },
  {
   "cell_type": "code",
   "execution_count": 478,
   "id": "7623f7d6",
   "metadata": {},
   "outputs": [
    {
     "data": {
      "text/plain": [
       "['https://www.hostelworld.com/pwa/hosteldetails.php/Palmers-Lodge-Swiss-Cottage/London/14348?from=2024-04-07&to=2024-04-10&guests=2',\n",
       " 'https://www.hostelworld.com/pwa/hosteldetails.php/St-Christopher-s-Village/London/502?from=2024-04-07&to=2024-04-10&guests=2',\n",
       " 'https://www.hostelworld.com/pwa/hosteldetails.php/Wombat-s-City-Hostel-London/London/88047?from=2024-04-07&to=2024-04-10&guests=2',\n",
       " 'https://www.hostelworld.com/pwa/hosteldetails.php/Palmers-Lodge-Swiss-Cottage/London/14348?from=2024-04-07&to=2024-04-10&guests=2',\n",
       " 'https://www.hostelworld.com/pwa/hosteldetails.php/Onefam-Notting-Hill/London/291433?from=2024-04-07&to=2024-04-10&guests=2',\n",
       " 'https://www.hostelworld.com/pwa/hosteldetails.php/Urbany-Hostel-London/London/303427?from=2024-04-07&to=2024-04-10&guests=2',\n",
       " 'https://www.hostelworld.com/pwa/hosteldetails.php/NX-London-Hostel/London/15204?from=2024-04-07&to=2024-04-10&guests=2',\n",
       " 'https://www.hostelworld.com/pwa/hosteldetails.php/Generator-London/London/510?from=2024-04-07&to=2024-04-10&guests=2',\n",
       " 'https://www.hostelworld.com/pwa/hosteldetails.php/St-Christopher-s-Village/London/502?from=2024-04-07&to=2024-04-10&guests=2',\n",
       " 'https://www.hostelworld.com/pwa/hosteldetails.php/Onefam-Waterloo/London/39493?from=2024-04-07&to=2024-04-10&guests=2',\n",
       " 'https://www.hostelworld.com/pwa/hosteldetails.php/Clink261/London/516?from=2024-04-07&to=2024-04-10&guests=2',\n",
       " 'https://www.hostelworld.com/pwa/hosteldetails.php/No-8-Seven-Sisters/London/91108?from=2024-04-07&to=2024-04-10&guests=2',\n",
       " 'https://www.hostelworld.com/pwa/hosteldetails.php/Safestay-London-Elephant-Castle/London/55551?from=2024-04-07&to=2024-04-10&guests=2',\n",
       " 'https://www.hostelworld.com/pwa/hosteldetails.php/No-8-Willesden-Hostel-London/London/18420?from=2024-04-07&to=2024-04-10&guests=2',\n",
       " 'https://www.hostelworld.com/pwa/hosteldetails.php/Safestay-London-Kensington-Holland-Park/London/93920?from=2024-04-07&to=2024-04-10&guests=2',\n",
       " 'https://www.hostelworld.com/pwa/hosteldetails.php/Astor-Hyde-Park/London/25678?from=2024-04-07&to=2024-04-10&guests=2',\n",
       " 'https://www.hostelworld.com/pwa/hosteldetails.php/Smart-Russell-Square-Hostel/London/29412?from=2024-04-07&to=2024-04-10&guests=2',\n",
       " 'https://www.hostelworld.com/pwa/hosteldetails.php/Hostelle-women-only-hostel-London/London/316723?from=2024-04-07&to=2024-04-10&guests=2',\n",
       " 'https://www.hostelworld.com/pwa/hosteldetails.php/YHA-London-Oxford-Street/London/6996?from=2024-04-07&to=2024-04-10&guests=2',\n",
       " 'https://www.hostelworld.com/pwa/hosteldetails.php/Astor-Museum-Inn/London/520?from=2024-04-07&to=2024-04-10&guests=2',\n",
       " 'https://www.hostelworld.com/pwa/hosteldetails.php/Smart-Hyde-Park-Inn-Hostel/London/517?from=2024-04-07&to=2024-04-10&guests=2',\n",
       " 'https://www.hostelworld.com/pwa/hosteldetails.php/Queen-Elizabeth-Chelsea/London/50443?from=2024-04-07&to=2024-04-10&guests=2',\n",
       " 'https://www.hostelworld.com/pwa/hosteldetails.php/The-Walrus-Hostel/London/58378?from=2024-04-07&to=2024-04-10&guests=2',\n",
       " 'https://www.hostelworld.com/pwa/hosteldetails.php/Destinations-Hostels-The-Gallery/London/314563?from=2024-04-07&to=2024-04-10&guests=2',\n",
       " 'https://www.hostelworld.com/pwa/hosteldetails.php/St-Christopher-s-Inn-London-Bridge/London/503?from=2024-04-07&to=2024-04-10&guests=2',\n",
       " 'https://www.hostelworld.com/pwa/hosteldetails.php/Phoenix-Hostel/London/48221?from=2024-04-07&to=2024-04-10&guests=2',\n",
       " 'https://www.hostelworld.com/pwa/hosteldetails.php/Kabannas-London-St-Pancras/London/7010?from=2024-04-07&to=2024-04-10&guests=2',\n",
       " 'https://www.hostelworld.com/pwa/hosteldetails.php/St-Christopher-s-Hammersmith/London/20976?from=2024-04-07&to=2024-04-10&guests=2',\n",
       " 'https://www.hostelworld.com/pwa/hosteldetails.php/Astor-Victoria/London/524?from=2024-04-07&to=2024-04-10&guests=2',\n",
       " 'https://www.hostelworld.com/pwa/hosteldetails.php/London-Backpackers/London/527?from=2024-04-07&to=2024-04-10&guests=2',\n",
       " 'https://www.hostelworld.com/pwa/hosteldetails.php/Barmy-Badger-Backpackers/London/64746?from=2024-04-07&to=2024-04-10&guests=2',\n",
       " 'https://www.hostelworld.com/pwa/hosteldetails.php/Prime-Backpackers-Angel/London/93902?from=2024-04-07&to=2024-04-10&guests=2',\n",
       " 'https://www.hostelworld.com/pwa/hosteldetails.php/Palmers-Lodge-Swiss-Cottage/London/14348?from=2024-04-07&to=2024-04-10&guests=2',\n",
       " 'https://www.hostelworld.com/pwa/hosteldetails.php/St-Christopher-s-Village/London/502?from=2024-04-07&to=2024-04-10&guests=2',\n",
       " 'https://www.hostelworld.com/pwa/hosteldetails.php/Wombat-s-City-Hostel-London/London/88047?from=2024-04-07&to=2024-04-10&guests=2',\n",
       " 'https://www.hostelworld.com/pwa/hosteldetails.php/Palmers-Lodge-Swiss-Cottage/London/14348?from=2024-04-07&to=2024-04-10&guests=2',\n",
       " 'https://www.hostelworld.com/pwa/hosteldetails.php/Onefam-Notting-Hill/London/291433?from=2024-04-07&to=2024-04-10&guests=2',\n",
       " 'https://www.hostelworld.com/pwa/hosteldetails.php/Urbany-Hostel-London/London/303427?from=2024-04-07&to=2024-04-10&guests=2',\n",
       " 'https://www.hostelworld.com/pwa/hosteldetails.php/NX-London-Hostel/London/15204?from=2024-04-07&to=2024-04-10&guests=2',\n",
       " 'https://www.hostelworld.com/pwa/hosteldetails.php/Generator-London/London/510?from=2024-04-07&to=2024-04-10&guests=2',\n",
       " 'https://www.hostelworld.com/pwa/hosteldetails.php/St-Christopher-s-Village/London/502?from=2024-04-07&to=2024-04-10&guests=2',\n",
       " 'https://www.hostelworld.com/pwa/hosteldetails.php/Onefam-Waterloo/London/39493?from=2024-04-07&to=2024-04-10&guests=2',\n",
       " 'https://www.hostelworld.com/pwa/hosteldetails.php/Clink261/London/516?from=2024-04-07&to=2024-04-10&guests=2',\n",
       " 'https://www.hostelworld.com/pwa/hosteldetails.php/No-8-Seven-Sisters/London/91108?from=2024-04-07&to=2024-04-10&guests=2',\n",
       " 'https://www.hostelworld.com/pwa/hosteldetails.php/Safestay-London-Elephant-Castle/London/55551?from=2024-04-07&to=2024-04-10&guests=2',\n",
       " 'https://www.hostelworld.com/pwa/hosteldetails.php/No-8-Willesden-Hostel-London/London/18420?from=2024-04-07&to=2024-04-10&guests=2',\n",
       " 'https://www.hostelworld.com/pwa/hosteldetails.php/Safestay-London-Kensington-Holland-Park/London/93920?from=2024-04-07&to=2024-04-10&guests=2',\n",
       " 'https://www.hostelworld.com/pwa/hosteldetails.php/Astor-Hyde-Park/London/25678?from=2024-04-07&to=2024-04-10&guests=2',\n",
       " 'https://www.hostelworld.com/pwa/hosteldetails.php/Smart-Russell-Square-Hostel/London/29412?from=2024-04-07&to=2024-04-10&guests=2',\n",
       " 'https://www.hostelworld.com/pwa/hosteldetails.php/Hostelle-women-only-hostel-London/London/316723?from=2024-04-07&to=2024-04-10&guests=2',\n",
       " 'https://www.hostelworld.com/pwa/hosteldetails.php/YHA-London-Oxford-Street/London/6996?from=2024-04-07&to=2024-04-10&guests=2',\n",
       " 'https://www.hostelworld.com/pwa/hosteldetails.php/Astor-Museum-Inn/London/520?from=2024-04-07&to=2024-04-10&guests=2',\n",
       " 'https://www.hostelworld.com/pwa/hosteldetails.php/Smart-Hyde-Park-Inn-Hostel/London/517?from=2024-04-07&to=2024-04-10&guests=2',\n",
       " 'https://www.hostelworld.com/pwa/hosteldetails.php/Queen-Elizabeth-Chelsea/London/50443?from=2024-04-07&to=2024-04-10&guests=2',\n",
       " 'https://www.hostelworld.com/pwa/hosteldetails.php/The-Walrus-Hostel/London/58378?from=2024-04-07&to=2024-04-10&guests=2',\n",
       " 'https://www.hostelworld.com/pwa/hosteldetails.php/Destinations-Hostels-The-Gallery/London/314563?from=2024-04-07&to=2024-04-10&guests=2',\n",
       " 'https://www.hostelworld.com/pwa/hosteldetails.php/St-Christopher-s-Inn-London-Bridge/London/503?from=2024-04-07&to=2024-04-10&guests=2',\n",
       " 'https://www.hostelworld.com/pwa/hosteldetails.php/Phoenix-Hostel/London/48221?from=2024-04-07&to=2024-04-10&guests=2',\n",
       " 'https://www.hostelworld.com/pwa/hosteldetails.php/Kabannas-London-St-Pancras/London/7010?from=2024-04-07&to=2024-04-10&guests=2',\n",
       " 'https://www.hostelworld.com/pwa/hosteldetails.php/St-Christopher-s-Hammersmith/London/20976?from=2024-04-07&to=2024-04-10&guests=2',\n",
       " 'https://www.hostelworld.com/pwa/hosteldetails.php/Astor-Victoria/London/524?from=2024-04-07&to=2024-04-10&guests=2',\n",
       " 'https://www.hostelworld.com/pwa/hosteldetails.php/London-Backpackers/London/527?from=2024-04-07&to=2024-04-10&guests=2',\n",
       " 'https://www.hostelworld.com/pwa/hosteldetails.php/Barmy-Badger-Backpackers/London/64746?from=2024-04-07&to=2024-04-10&guests=2',\n",
       " 'https://www.hostelworld.com/pwa/hosteldetails.php/Prime-Backpackers-Angel/London/93902?from=2024-04-07&to=2024-04-10&guests=2',\n",
       " 'https://www.hostelworld.com/pwa/hosteldetails.php/Palmers-Lodge-Swiss-Cottage/London/14348?from=2024-04-07&to=2024-04-10&guests=2',\n",
       " 'https://www.hostelworld.com/pwa/hosteldetails.php/St-Christopher-s-Village/London/502?from=2024-04-07&to=2024-04-10&guests=2',\n",
       " 'https://www.hostelworld.com/pwa/hosteldetails.php/Wombat-s-City-Hostel-London/London/88047?from=2024-04-07&to=2024-04-10&guests=2',\n",
       " 'https://www.hostelworld.com/pwa/hosteldetails.php/Palmers-Lodge-Swiss-Cottage/London/14348?from=2024-04-07&to=2024-04-10&guests=2',\n",
       " 'https://www.hostelworld.com/pwa/hosteldetails.php/Onefam-Notting-Hill/London/291433?from=2024-04-07&to=2024-04-10&guests=2',\n",
       " 'https://www.hostelworld.com/pwa/hosteldetails.php/Urbany-Hostel-London/London/303427?from=2024-04-07&to=2024-04-10&guests=2',\n",
       " 'https://www.hostelworld.com/pwa/hosteldetails.php/NX-London-Hostel/London/15204?from=2024-04-07&to=2024-04-10&guests=2',\n",
       " 'https://www.hostelworld.com/pwa/hosteldetails.php/Generator-London/London/510?from=2024-04-07&to=2024-04-10&guests=2',\n",
       " 'https://www.hostelworld.com/pwa/hosteldetails.php/St-Christopher-s-Village/London/502?from=2024-04-07&to=2024-04-10&guests=2',\n",
       " 'https://www.hostelworld.com/pwa/hosteldetails.php/Onefam-Waterloo/London/39493?from=2024-04-07&to=2024-04-10&guests=2',\n",
       " 'https://www.hostelworld.com/pwa/hosteldetails.php/Clink261/London/516?from=2024-04-07&to=2024-04-10&guests=2',\n",
       " 'https://www.hostelworld.com/pwa/hosteldetails.php/No-8-Seven-Sisters/London/91108?from=2024-04-07&to=2024-04-10&guests=2',\n",
       " 'https://www.hostelworld.com/pwa/hosteldetails.php/Safestay-London-Elephant-Castle/London/55551?from=2024-04-07&to=2024-04-10&guests=2',\n",
       " 'https://www.hostelworld.com/pwa/hosteldetails.php/No-8-Willesden-Hostel-London/London/18420?from=2024-04-07&to=2024-04-10&guests=2',\n",
       " 'https://www.hostelworld.com/pwa/hosteldetails.php/Safestay-London-Kensington-Holland-Park/London/93920?from=2024-04-07&to=2024-04-10&guests=2',\n",
       " 'https://www.hostelworld.com/pwa/hosteldetails.php/Astor-Hyde-Park/London/25678?from=2024-04-07&to=2024-04-10&guests=2',\n",
       " 'https://www.hostelworld.com/pwa/hosteldetails.php/Smart-Russell-Square-Hostel/London/29412?from=2024-04-07&to=2024-04-10&guests=2',\n",
       " 'https://www.hostelworld.com/pwa/hosteldetails.php/Hostelle-women-only-hostel-London/London/316723?from=2024-04-07&to=2024-04-10&guests=2',\n",
       " 'https://www.hostelworld.com/pwa/hosteldetails.php/YHA-London-Oxford-Street/London/6996?from=2024-04-07&to=2024-04-10&guests=2',\n",
       " 'https://www.hostelworld.com/pwa/hosteldetails.php/Astor-Museum-Inn/London/520?from=2024-04-07&to=2024-04-10&guests=2',\n",
       " 'https://www.hostelworld.com/pwa/hosteldetails.php/Smart-Hyde-Park-Inn-Hostel/London/517?from=2024-04-07&to=2024-04-10&guests=2',\n",
       " 'https://www.hostelworld.com/pwa/hosteldetails.php/Queen-Elizabeth-Chelsea/London/50443?from=2024-04-07&to=2024-04-10&guests=2',\n",
       " 'https://www.hostelworld.com/pwa/hosteldetails.php/The-Walrus-Hostel/London/58378?from=2024-04-07&to=2024-04-10&guests=2',\n",
       " 'https://www.hostelworld.com/pwa/hosteldetails.php/Destinations-Hostels-The-Gallery/London/314563?from=2024-04-07&to=2024-04-10&guests=2',\n",
       " 'https://www.hostelworld.com/pwa/hosteldetails.php/St-Christopher-s-Inn-London-Bridge/London/503?from=2024-04-07&to=2024-04-10&guests=2',\n",
       " 'https://www.hostelworld.com/pwa/hosteldetails.php/Phoenix-Hostel/London/48221?from=2024-04-07&to=2024-04-10&guests=2',\n",
       " 'https://www.hostelworld.com/pwa/hosteldetails.php/Kabannas-London-St-Pancras/London/7010?from=2024-04-07&to=2024-04-10&guests=2',\n",
       " 'https://www.hostelworld.com/pwa/hosteldetails.php/St-Christopher-s-Hammersmith/London/20976?from=2024-04-07&to=2024-04-10&guests=2',\n",
       " 'https://www.hostelworld.com/pwa/hosteldetails.php/Astor-Victoria/London/524?from=2024-04-07&to=2024-04-10&guests=2',\n",
       " 'https://www.hostelworld.com/pwa/hosteldetails.php/London-Backpackers/London/527?from=2024-04-07&to=2024-04-10&guests=2',\n",
       " 'https://www.hostelworld.com/pwa/hosteldetails.php/Barmy-Badger-Backpackers/London/64746?from=2024-04-07&to=2024-04-10&guests=2',\n",
       " 'https://www.hostelworld.com/pwa/hosteldetails.php/Prime-Backpackers-Angel/London/93902?from=2024-04-07&to=2024-04-10&guests=2']"
      ]
     },
     "execution_count": 478,
     "metadata": {},
     "output_type": "execute_result"
    }
   ],
   "source": [
    "hostle_url=hostle_url[0:96]\n",
    "hostle_url"
   ]
  },
  {
   "cell_type": "code",
   "execution_count": 624,
   "id": "88f92226",
   "metadata": {},
   "outputs": [],
   "source": [
    "for i in hostle_url:\n",
    "    driver.get(i)\n",
    "    time.sleep(5)\n",
    "        \n",
    "        \n",
    "    try:\n",
    "        rev=driver.find_element(By.XPATH,'//div[@class=\"review\"][1]')\n",
    "        review.append(rev.text)\n",
    "    except NoSuchElementException:\n",
    "        review.append('-')  \n",
    "        \n",
    "    try:\n",
    "        name=driver.find_element(By.XPATH,'//h1[@class=\"name title-4-bld\"]')\n",
    "        hostle_name.append(name.text)\n",
    "    except NoSuchElementException:\n",
    "        hostle_name.append('-')\n",
    "        \n",
    "        \n",
    "    try:\n",
    "        dist=driver.find_element(By.XPATH,'//li[@class=\"city-center\"]')\n",
    "        distance.append(dist.text)\n",
    "    except NoSuchElementException:\n",
    "        distance.append('-')\n",
    "        \n",
    "    try:\n",
    "        private_price=driver.find_element(By.XPATH,'//p[@class=\"from-price\"]')\n",
    "        private_from_price.append(private_price.text)\n",
    "    except NoSuchElementException:\n",
    "        private_from_price.append('-')\n",
    "        \n",
    "    try:\n",
    "        facility=driver.find_element(By.XPATH,'//span[@class=\"facility-name body-2-reg\"]')\n",
    "        facilities.append(facility.text)\n",
    "    except NoSuchElementException:\n",
    "        facilities.append('-')\n",
    "        \n",
    "    try:\n",
    "        rate=driver.find_element(By.XPATH,'//span[@class=\"keyword\"]')\n",
    "        rating.append(facility.text)\n",
    "    except NoSuchElementException:\n",
    "        rating.append('-')"
   ]
  },
  {
   "cell_type": "code",
   "execution_count": 626,
   "id": "1b2779fc",
   "metadata": {},
   "outputs": [],
   "source": [
    "print(hoslte_name)\n",
    "len(hostle_name)"
   ]
  },
  {
   "cell_type": "code",
   "execution_count": 625,
   "id": "7a1de975",
   "metadata": {},
   "outputs": [],
   "source": [
    "print(review)\n",
    "len(review)"
   ]
  },
  {
   "cell_type": "code",
   "execution_count": 628,
   "id": "95c77c49",
   "metadata": {},
   "outputs": [],
   "source": [
    "print(private_price)\n",
    "len(private_price0\n"
   ]
  },
  {
   "cell_type": "code",
   "execution_count": 629,
   "id": "64cb20a5",
   "metadata": {},
   "outputs": [],
   "source": [
    "print(facility)\n",
    "len(facility)"
   ]
  },
  {
   "cell_type": "code",
   "execution_count": 630,
   "id": "3f11592f",
   "metadata": {},
   "outputs": [],
   "source": [
    "print(distance)\n",
    "len(distance)"
   ]
  },
  {
   "cell_type": "code",
   "execution_count": 631,
   "id": "2bc90e18",
   "metadata": {},
   "outputs": [],
   "source": [
    "print(rating)\n",
    "len(rating)"
   ]
  },
  {
   "cell_type": "code",
   "execution_count": null,
   "id": "278ab5ec",
   "metadata": {},
   "outputs": [],
   "source": [
    "df=pd.DataFrame({\"Hostle_Name\":hostle_name,\"Review\":review,\"Private_price\":price,\"Facility\":facility,\"Distance\":distance,\"Rating\":rating})\n",
    "df"
   ]
  },
  {
   "cell_type": "markdown",
   "id": "0f927d4a",
   "metadata": {},
   "source": [
    "# THANK YOU"
   ]
  }
 ],
 "metadata": {
  "kernelspec": {
   "display_name": "Python 3 (ipykernel)",
   "language": "python",
   "name": "python3"
  },
  "language_info": {
   "codemirror_mode": {
    "name": "ipython",
    "version": 3
   },
   "file_extension": ".py",
   "mimetype": "text/x-python",
   "name": "python",
   "nbconvert_exporter": "python",
   "pygments_lexer": "ipython3",
   "version": "3.9.13"
  }
 },
 "nbformat": 4,
 "nbformat_minor": 5
}
