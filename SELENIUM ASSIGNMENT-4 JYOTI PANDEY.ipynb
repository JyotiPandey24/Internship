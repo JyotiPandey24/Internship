{
 "cells": [
  {
   "cell_type": "markdown",
   "id": "efc9cc5f",
   "metadata": {},
   "source": [
    "# QUESTION NO 1"
   ]
  },
  {
   "cell_type": "code",
   "execution_count": 1,
   "id": "2513dca8",
   "metadata": {},
   "outputs": [
    {
     "name": "stdout",
     "output_type": "stream",
     "text": [
      "Requirement already satisfied: selenium in ./opt/anaconda3/lib/python3.9/site-packages (4.18.1)\n",
      "Requirement already satisfied: trio-websocket~=0.9 in ./opt/anaconda3/lib/python3.9/site-packages (from selenium) (0.11.1)\n",
      "Requirement already satisfied: trio~=0.17 in ./opt/anaconda3/lib/python3.9/site-packages (from selenium) (0.24.0)\n",
      "Requirement already satisfied: typing_extensions>=4.9.0 in ./opt/anaconda3/lib/python3.9/site-packages (from selenium) (4.10.0)\n",
      "Requirement already satisfied: urllib3[socks]<3,>=1.26 in ./opt/anaconda3/lib/python3.9/site-packages (from selenium) (1.26.11)\n",
      "Requirement already satisfied: certifi>=2021.10.8 in ./opt/anaconda3/lib/python3.9/site-packages (from selenium) (2022.9.24)\n",
      "Requirement already satisfied: outcome in ./opt/anaconda3/lib/python3.9/site-packages (from trio~=0.17->selenium) (1.3.0.post0)\n",
      "Requirement already satisfied: attrs>=20.1.0 in ./opt/anaconda3/lib/python3.9/site-packages (from trio~=0.17->selenium) (21.4.0)\n",
      "Requirement already satisfied: sniffio>=1.3.0 in ./opt/anaconda3/lib/python3.9/site-packages (from trio~=0.17->selenium) (1.3.1)\n",
      "Requirement already satisfied: idna in ./opt/anaconda3/lib/python3.9/site-packages (from trio~=0.17->selenium) (3.3)\n",
      "Requirement already satisfied: sortedcontainers in ./opt/anaconda3/lib/python3.9/site-packages (from trio~=0.17->selenium) (2.4.0)\n",
      "Requirement already satisfied: exceptiongroup in ./opt/anaconda3/lib/python3.9/site-packages (from trio~=0.17->selenium) (1.2.0)\n",
      "Requirement already satisfied: wsproto>=0.14 in ./opt/anaconda3/lib/python3.9/site-packages (from trio-websocket~=0.9->selenium) (1.2.0)\n",
      "Requirement already satisfied: PySocks!=1.5.7,<2.0,>=1.5.6 in ./opt/anaconda3/lib/python3.9/site-packages (from urllib3[socks]<3,>=1.26->selenium) (1.7.1)\n",
      "Requirement already satisfied: h11<1,>=0.9.0 in ./opt/anaconda3/lib/python3.9/site-packages (from wsproto>=0.14->trio-websocket~=0.9->selenium) (0.14.0)\n"
     ]
    }
   ],
   "source": [
    "!pip install selenium"
   ]
  },
  {
   "cell_type": "code",
   "execution_count": 2,
   "id": "e9b3b6ba",
   "metadata": {},
   "outputs": [],
   "source": [
    "import selenium\n",
    "import pandas as pd\n",
    "from selenium import webdriver\n",
    "import warnings\n",
    "warnings.filterwarnings('ignore')\n",
    "from selenium.webdriver.common.by import By\n",
    "import time"
   ]
  },
  {
   "cell_type": "code",
   "execution_count": 3,
   "id": "e7b9e6f9",
   "metadata": {},
   "outputs": [],
   "source": [
    "driver=webdriver.Chrome()"
   ]
  },
  {
   "cell_type": "code",
   "execution_count": 4,
   "id": "7c1e3b16",
   "metadata": {},
   "outputs": [],
   "source": [
    "driver.get('https://en.wikipedia.org/wiki/List_of_most-viewed_YouTube_videos')"
   ]
  },
  {
   "cell_type": "code",
   "execution_count": 5,
   "id": "ab69f927",
   "metadata": {},
   "outputs": [],
   "source": [
    "data=[]\n",
    "name=[]\n",
    "artist=[]\n",
    "upload_date=[]\n",
    "view=[]"
   ]
  },
  {
   "cell_type": "code",
   "execution_count": 7,
   "id": "b89f9e33",
   "metadata": {},
   "outputs": [
    {
     "name": "stdout",
     "output_type": "stream",
     "text": [
      "['\"Baby Shark Dance\"[7]', \"Pinkfong Baby Shark - Kids' Songs & Stories\", '14.32', 'June 17, 2016', '[A]', '\"Despacito\"[10]', 'Luis Fonsi', '8.41', 'January 12, 2017', '[B]', '\"Johny Johny Yes Papa\"[18]', \"LooLoo Kids - Nursery Rhymes and Children's Songs\", '6.89', 'October 8, 2016', '', '\"Bath Song\"[19]', 'Cocomelon - Nursery Rhymes', '6.66', 'May 2, 2018', '', '\"Shape of You\"[20]', 'Ed Sheeran', '6.23', 'January 30, 2017', '[C]', '\"See You Again\"[23]', 'Wiz Khalifa', '6.22', 'April 6, 2015', '[D]', '\"Wheels on the Bus\"[28]', 'Cocomelon - Nursery Rhymes', '6.01', 'May 24, 2018', '', '\"Phonics Song with Two Words\"[29]', 'ChuChu TV Nursery Rhymes & Kids Songs', '5.75', 'March 6, 2014', '', '\"Uptown Funk\"[30]', 'Mark Ronson', '5.18', 'November 19, 2014', '', '\"Gangnam Style\"[31]', 'Psy', '5.10', 'July 15, 2012', '[E]', '\"Learning Colors – Colorful Eggs on a Farm\"[36]', 'Miroshka TV', '5.09', 'February 27, 2018', '', '\"Dame Tu Cosita\"[37]', 'Ultra Records', '4.59', 'April 5, 2018', '', '\"Masha and the Bear – Recipe for Disaster\"[38]', 'Get Movies', '4.57', 'January 31, 2012', '', '\"Axel F\"[39]', 'Crazy Frog', '4.45', 'June 16, 2009', '', '\"Sugar\"[40]', 'Maroon 5', '4.02', 'January 14, 2015', '', '\"Baa Baa Black Sheep\"[41]', 'Cocomelon - Nursery Rhymes', '4.01', 'June 25, 2018', '', '\"Counting Stars\"[42]', 'OneRepublic', '4.00', 'May 31, 2013', '', '\"Lakdi Ki Kathi\"[43]', 'Jingle Toons', '3.98', 'June 14, 2018', '', '\"Roar\"[44]', 'Katy Perry', '3.98', 'September 5, 2013', '', '\"Waka Waka (This Time for Africa)\"[45]', 'Shakira', '3.89', 'June 4, 2010', '', '\"Sorry\"[46]', 'Justin Bieber', '3.78', 'October 22, 2015', '', '\"Shree Hanuman Chalisa\"[47]', 'T-Series Bhakti Sagar', '3.77', 'May 10, 2011', '', '\"Humpty the train on a fruits ride\"[48]', 'Kiddiestv Hindi - Nursery Rhymes & Kids Songs', '3.76', 'January 26, 2018', '', '\"Thinking Out Loud\"[49]', 'Ed Sheeran', '3.75', 'October 7, 2014', '', '\"Perfect\"[50]', 'Ed Sheeran', '3.70', 'November 9, 2017', '', '\"Dark Horse\"[51]', 'Katy Perry', '3.70', 'February 20, 2014', '', '\"Let Her Go\"[52]', 'Passenger', '3.64', 'July 25, 2012', '', '\"Faded\"[53]', 'Alan Walker', '3.60', 'December 3, 2015', '', '\"Girls Like You\"[54]', 'Maroon 5', '3.58', 'May 31, 2018', '', '\"Lean On\"[55]', 'Major Lazer Official', '3.57', 'March 22, 2015']\n"
     ]
    },
    {
     "data": {
      "text/plain": [
       "149"
      ]
     },
     "execution_count": 7,
     "metadata": {},
     "output_type": "execute_result"
    }
   ],
   "source": [
    "tag=driver.find_elements(By.TAG_NAME,'td')\n",
    "for i in tag:\n",
    "    names=i.text\n",
    "    data.append(names)\n",
    "data=data[2:151]\n",
    "print(data)\n",
    "len(data)"
   ]
  },
  {
   "cell_type": "code",
   "execution_count": 8,
   "id": "a6808bca",
   "metadata": {},
   "outputs": [
    {
     "data": {
      "text/plain": [
       "['\"Baby Shark Dance\"[7]',\n",
       " '\"Despacito\"[10]',\n",
       " '\"Johny Johny Yes Papa\"[18]',\n",
       " '\"Bath Song\"[19]',\n",
       " '\"Shape of You\"[20]',\n",
       " '\"See You Again\"[23]',\n",
       " '\"Wheels on the Bus\"[28]',\n",
       " '\"Phonics Song with Two Words\"[29]',\n",
       " '\"Uptown Funk\"[30]',\n",
       " '\"Gangnam Style\"[31]',\n",
       " '\"Learning Colors – Colorful Eggs on a Farm\"[36]',\n",
       " '\"Dame Tu Cosita\"[37]',\n",
       " '\"Masha and the Bear – Recipe for Disaster\"[38]',\n",
       " '\"Axel F\"[39]',\n",
       " '\"Sugar\"[40]',\n",
       " '\"Baa Baa Black Sheep\"[41]',\n",
       " '\"Counting Stars\"[42]',\n",
       " '\"Lakdi Ki Kathi\"[43]',\n",
       " '\"Roar\"[44]',\n",
       " '\"Waka Waka (This Time for Africa)\"[45]',\n",
       " '\"Sorry\"[46]',\n",
       " '\"Shree Hanuman Chalisa\"[47]',\n",
       " '\"Humpty the train on a fruits ride\"[48]',\n",
       " '\"Thinking Out Loud\"[49]',\n",
       " '\"Perfect\"[50]',\n",
       " '\"Dark Horse\"[51]',\n",
       " '\"Let Her Go\"[52]',\n",
       " '\"Faded\"[53]',\n",
       " '\"Girls Like You\"[54]',\n",
       " '\"Lean On\"[55]']"
      ]
     },
     "execution_count": 8,
     "metadata": {},
     "output_type": "execute_result"
    }
   ],
   "source": [
    "name=data[0:151:5]\n",
    "name"
   ]
  },
  {
   "cell_type": "code",
   "execution_count": 9,
   "id": "a71455df",
   "metadata": {},
   "outputs": [
    {
     "data": {
      "text/plain": [
       "[\"Pinkfong Baby Shark - Kids' Songs & Stories\",\n",
       " 'Luis Fonsi',\n",
       " \"LooLoo Kids - Nursery Rhymes and Children's Songs\",\n",
       " 'Cocomelon - Nursery Rhymes',\n",
       " 'Ed Sheeran',\n",
       " 'Wiz Khalifa',\n",
       " 'Cocomelon - Nursery Rhymes',\n",
       " 'ChuChu TV Nursery Rhymes & Kids Songs',\n",
       " 'Mark Ronson',\n",
       " 'Psy',\n",
       " 'Miroshka TV',\n",
       " 'Ultra Records',\n",
       " 'Get Movies',\n",
       " 'Crazy Frog',\n",
       " 'Maroon 5',\n",
       " 'Cocomelon - Nursery Rhymes',\n",
       " 'OneRepublic',\n",
       " 'Jingle Toons',\n",
       " 'Katy Perry',\n",
       " 'Shakira',\n",
       " 'Justin Bieber',\n",
       " 'T-Series Bhakti Sagar',\n",
       " 'Kiddiestv Hindi - Nursery Rhymes & Kids Songs',\n",
       " 'Ed Sheeran',\n",
       " 'Ed Sheeran',\n",
       " 'Katy Perry',\n",
       " 'Passenger',\n",
       " 'Alan Walker',\n",
       " 'Maroon 5',\n",
       " 'Major Lazer Official']"
      ]
     },
     "execution_count": 9,
     "metadata": {},
     "output_type": "execute_result"
    }
   ],
   "source": [
    "artist=data[1:151:5]\n",
    "artist"
   ]
  },
  {
   "cell_type": "code",
   "execution_count": 11,
   "id": "fc186aaa",
   "metadata": {},
   "outputs": [
    {
     "data": {
      "text/plain": [
       "['14.32',\n",
       " '8.41',\n",
       " '6.89',\n",
       " '6.66',\n",
       " '6.23',\n",
       " '6.22',\n",
       " '6.01',\n",
       " '5.75',\n",
       " '5.18',\n",
       " '5.10',\n",
       " '5.09',\n",
       " '4.59',\n",
       " '4.57',\n",
       " '4.45',\n",
       " '4.02',\n",
       " '4.01',\n",
       " '4.00',\n",
       " '3.98',\n",
       " '3.98',\n",
       " '3.89',\n",
       " '3.78',\n",
       " '3.77',\n",
       " '3.76',\n",
       " '3.75',\n",
       " '3.70',\n",
       " '3.70',\n",
       " '3.64',\n",
       " '3.60',\n",
       " '3.58',\n",
       " '3.57']"
      ]
     },
     "execution_count": 11,
     "metadata": {},
     "output_type": "execute_result"
    }
   ],
   "source": [
    "views=data[2:150:5]\n",
    "views"
   ]
  },
  {
   "cell_type": "code",
   "execution_count": 12,
   "id": "420d7933",
   "metadata": {},
   "outputs": [
    {
     "data": {
      "text/plain": [
       "['June 17, 2016',\n",
       " 'January 12, 2017',\n",
       " 'October 8, 2016',\n",
       " 'May 2, 2018',\n",
       " 'January 30, 2017',\n",
       " 'April 6, 2015',\n",
       " 'May 24, 2018',\n",
       " 'March 6, 2014',\n",
       " 'November 19, 2014',\n",
       " 'July 15, 2012',\n",
       " 'February 27, 2018',\n",
       " 'April 5, 2018',\n",
       " 'January 31, 2012',\n",
       " 'June 16, 2009',\n",
       " 'January 14, 2015',\n",
       " 'June 25, 2018',\n",
       " 'May 31, 2013',\n",
       " 'June 14, 2018',\n",
       " 'September 5, 2013',\n",
       " 'June 4, 2010',\n",
       " 'October 22, 2015',\n",
       " 'May 10, 2011',\n",
       " 'January 26, 2018',\n",
       " 'October 7, 2014',\n",
       " 'November 9, 2017',\n",
       " 'February 20, 2014',\n",
       " 'July 25, 2012',\n",
       " 'December 3, 2015',\n",
       " 'May 31, 2018',\n",
       " 'March 22, 2015']"
      ]
     },
     "execution_count": 12,
     "metadata": {},
     "output_type": "execute_result"
    }
   ],
   "source": [
    "upload_date=data[3:150:5]\n",
    "upload_date"
   ]
  },
  {
   "cell_type": "code",
   "execution_count": 13,
   "id": "b0f093f8",
   "metadata": {},
   "outputs": [
    {
     "data": {
      "text/html": [
       "<div>\n",
       "<style scoped>\n",
       "    .dataframe tbody tr th:only-of-type {\n",
       "        vertical-align: middle;\n",
       "    }\n",
       "\n",
       "    .dataframe tbody tr th {\n",
       "        vertical-align: top;\n",
       "    }\n",
       "\n",
       "    .dataframe thead th {\n",
       "        text-align: right;\n",
       "    }\n",
       "</style>\n",
       "<table border=\"1\" class=\"dataframe\">\n",
       "  <thead>\n",
       "    <tr style=\"text-align: right;\">\n",
       "      <th></th>\n",
       "      <th>Name</th>\n",
       "      <th>Artists</th>\n",
       "      <th>Views</th>\n",
       "      <th>Upload Date</th>\n",
       "    </tr>\n",
       "  </thead>\n",
       "  <tbody>\n",
       "    <tr>\n",
       "      <th>0</th>\n",
       "      <td>\"Baby Shark Dance\"[7]</td>\n",
       "      <td>Pinkfong Baby Shark - Kids' Songs &amp; Stories</td>\n",
       "      <td>14.32</td>\n",
       "      <td>June 17, 2016</td>\n",
       "    </tr>\n",
       "    <tr>\n",
       "      <th>1</th>\n",
       "      <td>\"Despacito\"[10]</td>\n",
       "      <td>Luis Fonsi</td>\n",
       "      <td>8.41</td>\n",
       "      <td>January 12, 2017</td>\n",
       "    </tr>\n",
       "    <tr>\n",
       "      <th>2</th>\n",
       "      <td>\"Johny Johny Yes Papa\"[18]</td>\n",
       "      <td>LooLoo Kids - Nursery Rhymes and Children's Songs</td>\n",
       "      <td>6.89</td>\n",
       "      <td>October 8, 2016</td>\n",
       "    </tr>\n",
       "    <tr>\n",
       "      <th>3</th>\n",
       "      <td>\"Bath Song\"[19]</td>\n",
       "      <td>Cocomelon - Nursery Rhymes</td>\n",
       "      <td>6.66</td>\n",
       "      <td>May 2, 2018</td>\n",
       "    </tr>\n",
       "    <tr>\n",
       "      <th>4</th>\n",
       "      <td>\"Shape of You\"[20]</td>\n",
       "      <td>Ed Sheeran</td>\n",
       "      <td>6.23</td>\n",
       "      <td>January 30, 2017</td>\n",
       "    </tr>\n",
       "    <tr>\n",
       "      <th>5</th>\n",
       "      <td>\"See You Again\"[23]</td>\n",
       "      <td>Wiz Khalifa</td>\n",
       "      <td>6.22</td>\n",
       "      <td>April 6, 2015</td>\n",
       "    </tr>\n",
       "    <tr>\n",
       "      <th>6</th>\n",
       "      <td>\"Wheels on the Bus\"[28]</td>\n",
       "      <td>Cocomelon - Nursery Rhymes</td>\n",
       "      <td>6.01</td>\n",
       "      <td>May 24, 2018</td>\n",
       "    </tr>\n",
       "    <tr>\n",
       "      <th>7</th>\n",
       "      <td>\"Phonics Song with Two Words\"[29]</td>\n",
       "      <td>ChuChu TV Nursery Rhymes &amp; Kids Songs</td>\n",
       "      <td>5.75</td>\n",
       "      <td>March 6, 2014</td>\n",
       "    </tr>\n",
       "    <tr>\n",
       "      <th>8</th>\n",
       "      <td>\"Uptown Funk\"[30]</td>\n",
       "      <td>Mark Ronson</td>\n",
       "      <td>5.18</td>\n",
       "      <td>November 19, 2014</td>\n",
       "    </tr>\n",
       "    <tr>\n",
       "      <th>9</th>\n",
       "      <td>\"Gangnam Style\"[31]</td>\n",
       "      <td>Psy</td>\n",
       "      <td>5.10</td>\n",
       "      <td>July 15, 2012</td>\n",
       "    </tr>\n",
       "    <tr>\n",
       "      <th>10</th>\n",
       "      <td>\"Learning Colors – Colorful Eggs on a Farm\"[36]</td>\n",
       "      <td>Miroshka TV</td>\n",
       "      <td>5.09</td>\n",
       "      <td>February 27, 2018</td>\n",
       "    </tr>\n",
       "    <tr>\n",
       "      <th>11</th>\n",
       "      <td>\"Dame Tu Cosita\"[37]</td>\n",
       "      <td>Ultra Records</td>\n",
       "      <td>4.59</td>\n",
       "      <td>April 5, 2018</td>\n",
       "    </tr>\n",
       "    <tr>\n",
       "      <th>12</th>\n",
       "      <td>\"Masha and the Bear – Recipe for Disaster\"[38]</td>\n",
       "      <td>Get Movies</td>\n",
       "      <td>4.57</td>\n",
       "      <td>January 31, 2012</td>\n",
       "    </tr>\n",
       "    <tr>\n",
       "      <th>13</th>\n",
       "      <td>\"Axel F\"[39]</td>\n",
       "      <td>Crazy Frog</td>\n",
       "      <td>4.45</td>\n",
       "      <td>June 16, 2009</td>\n",
       "    </tr>\n",
       "    <tr>\n",
       "      <th>14</th>\n",
       "      <td>\"Sugar\"[40]</td>\n",
       "      <td>Maroon 5</td>\n",
       "      <td>4.02</td>\n",
       "      <td>January 14, 2015</td>\n",
       "    </tr>\n",
       "    <tr>\n",
       "      <th>15</th>\n",
       "      <td>\"Baa Baa Black Sheep\"[41]</td>\n",
       "      <td>Cocomelon - Nursery Rhymes</td>\n",
       "      <td>4.01</td>\n",
       "      <td>June 25, 2018</td>\n",
       "    </tr>\n",
       "    <tr>\n",
       "      <th>16</th>\n",
       "      <td>\"Counting Stars\"[42]</td>\n",
       "      <td>OneRepublic</td>\n",
       "      <td>4.00</td>\n",
       "      <td>May 31, 2013</td>\n",
       "    </tr>\n",
       "    <tr>\n",
       "      <th>17</th>\n",
       "      <td>\"Lakdi Ki Kathi\"[43]</td>\n",
       "      <td>Jingle Toons</td>\n",
       "      <td>3.98</td>\n",
       "      <td>June 14, 2018</td>\n",
       "    </tr>\n",
       "    <tr>\n",
       "      <th>18</th>\n",
       "      <td>\"Roar\"[44]</td>\n",
       "      <td>Katy Perry</td>\n",
       "      <td>3.98</td>\n",
       "      <td>September 5, 2013</td>\n",
       "    </tr>\n",
       "    <tr>\n",
       "      <th>19</th>\n",
       "      <td>\"Waka Waka (This Time for Africa)\"[45]</td>\n",
       "      <td>Shakira</td>\n",
       "      <td>3.89</td>\n",
       "      <td>June 4, 2010</td>\n",
       "    </tr>\n",
       "    <tr>\n",
       "      <th>20</th>\n",
       "      <td>\"Sorry\"[46]</td>\n",
       "      <td>Justin Bieber</td>\n",
       "      <td>3.78</td>\n",
       "      <td>October 22, 2015</td>\n",
       "    </tr>\n",
       "    <tr>\n",
       "      <th>21</th>\n",
       "      <td>\"Shree Hanuman Chalisa\"[47]</td>\n",
       "      <td>T-Series Bhakti Sagar</td>\n",
       "      <td>3.77</td>\n",
       "      <td>May 10, 2011</td>\n",
       "    </tr>\n",
       "    <tr>\n",
       "      <th>22</th>\n",
       "      <td>\"Humpty the train on a fruits ride\"[48]</td>\n",
       "      <td>Kiddiestv Hindi - Nursery Rhymes &amp; Kids Songs</td>\n",
       "      <td>3.76</td>\n",
       "      <td>January 26, 2018</td>\n",
       "    </tr>\n",
       "    <tr>\n",
       "      <th>23</th>\n",
       "      <td>\"Thinking Out Loud\"[49]</td>\n",
       "      <td>Ed Sheeran</td>\n",
       "      <td>3.75</td>\n",
       "      <td>October 7, 2014</td>\n",
       "    </tr>\n",
       "    <tr>\n",
       "      <th>24</th>\n",
       "      <td>\"Perfect\"[50]</td>\n",
       "      <td>Ed Sheeran</td>\n",
       "      <td>3.70</td>\n",
       "      <td>November 9, 2017</td>\n",
       "    </tr>\n",
       "    <tr>\n",
       "      <th>25</th>\n",
       "      <td>\"Dark Horse\"[51]</td>\n",
       "      <td>Katy Perry</td>\n",
       "      <td>3.70</td>\n",
       "      <td>February 20, 2014</td>\n",
       "    </tr>\n",
       "    <tr>\n",
       "      <th>26</th>\n",
       "      <td>\"Let Her Go\"[52]</td>\n",
       "      <td>Passenger</td>\n",
       "      <td>3.64</td>\n",
       "      <td>July 25, 2012</td>\n",
       "    </tr>\n",
       "    <tr>\n",
       "      <th>27</th>\n",
       "      <td>\"Faded\"[53]</td>\n",
       "      <td>Alan Walker</td>\n",
       "      <td>3.60</td>\n",
       "      <td>December 3, 2015</td>\n",
       "    </tr>\n",
       "    <tr>\n",
       "      <th>28</th>\n",
       "      <td>\"Girls Like You\"[54]</td>\n",
       "      <td>Maroon 5</td>\n",
       "      <td>3.58</td>\n",
       "      <td>May 31, 2018</td>\n",
       "    </tr>\n",
       "    <tr>\n",
       "      <th>29</th>\n",
       "      <td>\"Lean On\"[55]</td>\n",
       "      <td>Major Lazer Official</td>\n",
       "      <td>3.57</td>\n",
       "      <td>March 22, 2015</td>\n",
       "    </tr>\n",
       "  </tbody>\n",
       "</table>\n",
       "</div>"
      ],
      "text/plain": [
       "                                               Name  \\\n",
       "0                             \"Baby Shark Dance\"[7]   \n",
       "1                                   \"Despacito\"[10]   \n",
       "2                        \"Johny Johny Yes Papa\"[18]   \n",
       "3                                   \"Bath Song\"[19]   \n",
       "4                                \"Shape of You\"[20]   \n",
       "5                               \"See You Again\"[23]   \n",
       "6                           \"Wheels on the Bus\"[28]   \n",
       "7                 \"Phonics Song with Two Words\"[29]   \n",
       "8                                 \"Uptown Funk\"[30]   \n",
       "9                               \"Gangnam Style\"[31]   \n",
       "10  \"Learning Colors – Colorful Eggs on a Farm\"[36]   \n",
       "11                             \"Dame Tu Cosita\"[37]   \n",
       "12   \"Masha and the Bear – Recipe for Disaster\"[38]   \n",
       "13                                     \"Axel F\"[39]   \n",
       "14                                      \"Sugar\"[40]   \n",
       "15                        \"Baa Baa Black Sheep\"[41]   \n",
       "16                             \"Counting Stars\"[42]   \n",
       "17                             \"Lakdi Ki Kathi\"[43]   \n",
       "18                                       \"Roar\"[44]   \n",
       "19           \"Waka Waka (This Time for Africa)\"[45]   \n",
       "20                                      \"Sorry\"[46]   \n",
       "21                      \"Shree Hanuman Chalisa\"[47]   \n",
       "22          \"Humpty the train on a fruits ride\"[48]   \n",
       "23                          \"Thinking Out Loud\"[49]   \n",
       "24                                    \"Perfect\"[50]   \n",
       "25                                 \"Dark Horse\"[51]   \n",
       "26                                 \"Let Her Go\"[52]   \n",
       "27                                      \"Faded\"[53]   \n",
       "28                             \"Girls Like You\"[54]   \n",
       "29                                    \"Lean On\"[55]   \n",
       "\n",
       "                                              Artists  Views  \\\n",
       "0         Pinkfong Baby Shark - Kids' Songs & Stories  14.32   \n",
       "1                                          Luis Fonsi   8.41   \n",
       "2   LooLoo Kids - Nursery Rhymes and Children's Songs   6.89   \n",
       "3                          Cocomelon - Nursery Rhymes   6.66   \n",
       "4                                          Ed Sheeran   6.23   \n",
       "5                                         Wiz Khalifa   6.22   \n",
       "6                          Cocomelon - Nursery Rhymes   6.01   \n",
       "7               ChuChu TV Nursery Rhymes & Kids Songs   5.75   \n",
       "8                                         Mark Ronson   5.18   \n",
       "9                                                 Psy   5.10   \n",
       "10                                        Miroshka TV   5.09   \n",
       "11                                      Ultra Records   4.59   \n",
       "12                                         Get Movies   4.57   \n",
       "13                                         Crazy Frog   4.45   \n",
       "14                                           Maroon 5   4.02   \n",
       "15                         Cocomelon - Nursery Rhymes   4.01   \n",
       "16                                        OneRepublic   4.00   \n",
       "17                                       Jingle Toons   3.98   \n",
       "18                                         Katy Perry   3.98   \n",
       "19                                            Shakira   3.89   \n",
       "20                                      Justin Bieber   3.78   \n",
       "21                              T-Series Bhakti Sagar   3.77   \n",
       "22      Kiddiestv Hindi - Nursery Rhymes & Kids Songs   3.76   \n",
       "23                                         Ed Sheeran   3.75   \n",
       "24                                         Ed Sheeran   3.70   \n",
       "25                                         Katy Perry   3.70   \n",
       "26                                          Passenger   3.64   \n",
       "27                                        Alan Walker   3.60   \n",
       "28                                           Maroon 5   3.58   \n",
       "29                               Major Lazer Official   3.57   \n",
       "\n",
       "          Upload Date  \n",
       "0       June 17, 2016  \n",
       "1    January 12, 2017  \n",
       "2     October 8, 2016  \n",
       "3         May 2, 2018  \n",
       "4    January 30, 2017  \n",
       "5       April 6, 2015  \n",
       "6        May 24, 2018  \n",
       "7       March 6, 2014  \n",
       "8   November 19, 2014  \n",
       "9       July 15, 2012  \n",
       "10  February 27, 2018  \n",
       "11      April 5, 2018  \n",
       "12   January 31, 2012  \n",
       "13      June 16, 2009  \n",
       "14   January 14, 2015  \n",
       "15      June 25, 2018  \n",
       "16       May 31, 2013  \n",
       "17      June 14, 2018  \n",
       "18  September 5, 2013  \n",
       "19       June 4, 2010  \n",
       "20   October 22, 2015  \n",
       "21       May 10, 2011  \n",
       "22   January 26, 2018  \n",
       "23    October 7, 2014  \n",
       "24   November 9, 2017  \n",
       "25  February 20, 2014  \n",
       "26      July 25, 2012  \n",
       "27   December 3, 2015  \n",
       "28       May 31, 2018  \n",
       "29     March 22, 2015  "
      ]
     },
     "execution_count": 13,
     "metadata": {},
     "output_type": "execute_result"
    }
   ],
   "source": [
    "df=pd.DataFrame({\"Name\":name,\"Artists\":artist,\"Views\":view,\"Upload Date\":upload_date})\n",
    "df"
   ]
  },
  {
   "cell_type": "code",
   "execution_count": null,
   "id": "073d3e04",
   "metadata": {},
   "outputs": [],
   "source": []
  },
  {
   "cell_type": "code",
   "execution_count": null,
   "id": "95687cc8",
   "metadata": {},
   "outputs": [],
   "source": []
  },
  {
   "cell_type": "markdown",
   "id": "c91bfd16",
   "metadata": {},
   "source": [
    "# QUESTION NO.2"
   ]
  },
  {
   "cell_type": "code",
   "execution_count": 14,
   "id": "57fee309",
   "metadata": {},
   "outputs": [],
   "source": [
    "driver=webdriver.Chrome()"
   ]
  },
  {
   "cell_type": "code",
   "execution_count": 15,
   "id": "a69c6266",
   "metadata": {},
   "outputs": [],
   "source": [
    "driver.get('https://www.bcci.tv/')"
   ]
  },
  {
   "cell_type": "code",
   "execution_count": 16,
   "id": "4d992eea",
   "metadata": {},
   "outputs": [],
   "source": [
    "search=driver.find_element(By.XPATH,'/html/body/header/div[3]/div[2]/ul/div[1]/a[2]')\n",
    "search.click()"
   ]
  },
  {
   "cell_type": "code",
   "execution_count": 17,
   "id": "64b8ccdf",
   "metadata": {},
   "outputs": [],
   "source": [
    "series=[]\n",
    "place=[]\n",
    "date=[]\n",
    "time=[]\n",
    "stadium_name=[]"
   ]
  },
  {
   "cell_type": "code",
   "execution_count": 18,
   "id": "293bade0",
   "metadata": {},
   "outputs": [
    {
     "name": "stdout",
     "output_type": "stream",
     "text": [
      "['ICC MENS T20 WORLD CUP 2024', 'ICC MENS T20 WORLD CUP 2024', 'ICC MENS T20 WORLD CUP 2024', 'ICC MENS T20 WORLD CUP 2024', 'INDIA TOUR OF ZIMBABWE 2024', 'INDIA TOUR OF ZIMBABWE 2024', 'INDIA TOUR OF ZIMBABWE 2024', 'INDIA TOUR OF ZIMBABWE 2024', 'INDIA TOUR OF ZIMBABWE 2024']\n"
     ]
    },
    {
     "data": {
      "text/plain": [
       "9"
      ]
     },
     "execution_count": 18,
     "metadata": {},
     "output_type": "execute_result"
    }
   ],
   "source": [
    "tag=driver.find_elements(By.XPATH,'//h5[@class=\"match-tournament-name ng-binding\"]')\n",
    "for i in tag:\n",
    "    names=i.text\n",
    "    series.append(names)\n",
    "print(series)\n",
    "len(series)"
   ]
  },
  {
   "cell_type": "code",
   "execution_count": 19,
   "id": "2fe5245e",
   "metadata": {},
   "outputs": [
    {
     "name": "stdout",
     "output_type": "stream",
     "text": [
      "['New York', 'New York', 'New York', 'Florida', 'Harare', 'Harare', 'Harare', 'Harare', 'Harare']\n"
     ]
    },
    {
     "data": {
      "text/plain": [
       "9"
      ]
     },
     "execution_count": 19,
     "metadata": {},
     "output_type": "execute_result"
    }
   ],
   "source": [
    "tag=driver.find_elements(By.XPATH,'//span[@class=\"ng-binding\"]')\n",
    "for i in tag:\n",
    "    names=i.text\n",
    "    place.append(names)\n",
    "print(place)\n",
    "len(place)"
   ]
  },
  {
   "cell_type": "code",
   "execution_count": 20,
   "id": "19ab0d22",
   "metadata": {},
   "outputs": [
    {
     "name": "stdout",
     "output_type": "stream",
     "text": [
      "['5 JUNE, 2024', '9 JUNE, 2024', '12 JUNE, 2024', '15 JUNE, 2024', '6 JULY, 2024', '7 JULY, 2024', '10 JULY, 2024', '13 JULY, 2024', '14 JULY, 2024']\n"
     ]
    },
    {
     "data": {
      "text/plain": [
       "9"
      ]
     },
     "execution_count": 20,
     "metadata": {},
     "output_type": "execute_result"
    }
   ],
   "source": [
    "tag=driver.find_elements(By.XPATH,'//div[@class=\"match-dates ng-binding\"]')\n",
    "for i in tag:\n",
    "    names=i.text\n",
    "    date.append(names)\n",
    "print(date)\n",
    "len(date)"
   ]
  },
  {
   "cell_type": "code",
   "execution_count": 21,
   "id": "350bc4ae",
   "metadata": {},
   "outputs": [
    {
     "name": "stdout",
     "output_type": "stream",
     "text": [
      "['8:00 PM IST', '8:00 PM IST', '8:00 PM IST', '8:00 PM IST', '8:00 PM IST', '8:00 PM IST', '8:00 PM IST', '8:00 PM IST', '8:00 PM IST']\n"
     ]
    },
    {
     "data": {
      "text/plain": [
       "9"
      ]
     },
     "execution_count": 21,
     "metadata": {},
     "output_type": "execute_result"
    }
   ],
   "source": [
    "tag=driver.find_elements(By.XPATH,'//div[@class=\"match-time no-margin ng-binding\"]')\n",
    "for i in tag:\n",
    "    names=i.text\n",
    "    time.append(names)\n",
    "print(time)\n",
    "len(time)"
   ]
  },
  {
   "cell_type": "code",
   "execution_count": 22,
   "id": "5bda808b",
   "metadata": {},
   "outputs": [
    {
     "name": "stdout",
     "output_type": "stream",
     "text": [
      "['Nassau County International Cricket Stadium,', 'Nassau County International Cricket Stadium,', 'Nassau County International Cricket Stadium,', 'Central Broward Park & Broward County Stadium, Lauderhill,', 'Harare Sports Club,', 'Harare Sports Club,', 'Harare Sports Club,', 'Harare Sports Club,', 'Harare Sports Club,']\n"
     ]
    },
    {
     "data": {
      "text/plain": [
       "9"
      ]
     },
     "execution_count": 22,
     "metadata": {},
     "output_type": "execute_result"
    }
   ],
   "source": [
    "tag=driver.find_elements(By.XPATH,'//span[@class=\"ng-binding ng-scope\"]')\n",
    "for i in tag:\n",
    "    names=i.text\n",
    "    stadium_name.append(names)\n",
    "print(stadium_name)\n",
    "len(stadium_name)"
   ]
  },
  {
   "cell_type": "code",
   "execution_count": 23,
   "id": "adb4e95b",
   "metadata": {},
   "outputs": [
    {
     "data": {
      "text/html": [
       "<div>\n",
       "<style scoped>\n",
       "    .dataframe tbody tr th:only-of-type {\n",
       "        vertical-align: middle;\n",
       "    }\n",
       "\n",
       "    .dataframe tbody tr th {\n",
       "        vertical-align: top;\n",
       "    }\n",
       "\n",
       "    .dataframe thead th {\n",
       "        text-align: right;\n",
       "    }\n",
       "</style>\n",
       "<table border=\"1\" class=\"dataframe\">\n",
       "  <thead>\n",
       "    <tr style=\"text-align: right;\">\n",
       "      <th></th>\n",
       "      <th>Series</th>\n",
       "      <th>Place</th>\n",
       "      <th>Date</th>\n",
       "      <th>Time</th>\n",
       "      <th>Stadium</th>\n",
       "    </tr>\n",
       "  </thead>\n",
       "  <tbody>\n",
       "    <tr>\n",
       "      <th>0</th>\n",
       "      <td>ICC MENS T20 WORLD CUP 2024</td>\n",
       "      <td>New York</td>\n",
       "      <td>5 JUNE, 2024</td>\n",
       "      <td>8:00 PM IST</td>\n",
       "      <td>Nassau County International Cricket Stadium,</td>\n",
       "    </tr>\n",
       "    <tr>\n",
       "      <th>1</th>\n",
       "      <td>ICC MENS T20 WORLD CUP 2024</td>\n",
       "      <td>New York</td>\n",
       "      <td>9 JUNE, 2024</td>\n",
       "      <td>8:00 PM IST</td>\n",
       "      <td>Nassau County International Cricket Stadium,</td>\n",
       "    </tr>\n",
       "    <tr>\n",
       "      <th>2</th>\n",
       "      <td>ICC MENS T20 WORLD CUP 2024</td>\n",
       "      <td>New York</td>\n",
       "      <td>12 JUNE, 2024</td>\n",
       "      <td>8:00 PM IST</td>\n",
       "      <td>Nassau County International Cricket Stadium,</td>\n",
       "    </tr>\n",
       "    <tr>\n",
       "      <th>3</th>\n",
       "      <td>ICC MENS T20 WORLD CUP 2024</td>\n",
       "      <td>Florida</td>\n",
       "      <td>15 JUNE, 2024</td>\n",
       "      <td>8:00 PM IST</td>\n",
       "      <td>Central Broward Park &amp; Broward County Stadium,...</td>\n",
       "    </tr>\n",
       "    <tr>\n",
       "      <th>4</th>\n",
       "      <td>INDIA TOUR OF ZIMBABWE 2024</td>\n",
       "      <td>Harare</td>\n",
       "      <td>6 JULY, 2024</td>\n",
       "      <td>8:00 PM IST</td>\n",
       "      <td>Harare Sports Club,</td>\n",
       "    </tr>\n",
       "    <tr>\n",
       "      <th>5</th>\n",
       "      <td>INDIA TOUR OF ZIMBABWE 2024</td>\n",
       "      <td>Harare</td>\n",
       "      <td>7 JULY, 2024</td>\n",
       "      <td>8:00 PM IST</td>\n",
       "      <td>Harare Sports Club,</td>\n",
       "    </tr>\n",
       "    <tr>\n",
       "      <th>6</th>\n",
       "      <td>INDIA TOUR OF ZIMBABWE 2024</td>\n",
       "      <td>Harare</td>\n",
       "      <td>10 JULY, 2024</td>\n",
       "      <td>8:00 PM IST</td>\n",
       "      <td>Harare Sports Club,</td>\n",
       "    </tr>\n",
       "    <tr>\n",
       "      <th>7</th>\n",
       "      <td>INDIA TOUR OF ZIMBABWE 2024</td>\n",
       "      <td>Harare</td>\n",
       "      <td>13 JULY, 2024</td>\n",
       "      <td>8:00 PM IST</td>\n",
       "      <td>Harare Sports Club,</td>\n",
       "    </tr>\n",
       "    <tr>\n",
       "      <th>8</th>\n",
       "      <td>INDIA TOUR OF ZIMBABWE 2024</td>\n",
       "      <td>Harare</td>\n",
       "      <td>14 JULY, 2024</td>\n",
       "      <td>8:00 PM IST</td>\n",
       "      <td>Harare Sports Club,</td>\n",
       "    </tr>\n",
       "  </tbody>\n",
       "</table>\n",
       "</div>"
      ],
      "text/plain": [
       "                        Series     Place           Date         Time  \\\n",
       "0  ICC MENS T20 WORLD CUP 2024  New York   5 JUNE, 2024  8:00 PM IST   \n",
       "1  ICC MENS T20 WORLD CUP 2024  New York   9 JUNE, 2024  8:00 PM IST   \n",
       "2  ICC MENS T20 WORLD CUP 2024  New York  12 JUNE, 2024  8:00 PM IST   \n",
       "3  ICC MENS T20 WORLD CUP 2024   Florida  15 JUNE, 2024  8:00 PM IST   \n",
       "4  INDIA TOUR OF ZIMBABWE 2024    Harare   6 JULY, 2024  8:00 PM IST   \n",
       "5  INDIA TOUR OF ZIMBABWE 2024    Harare   7 JULY, 2024  8:00 PM IST   \n",
       "6  INDIA TOUR OF ZIMBABWE 2024    Harare  10 JULY, 2024  8:00 PM IST   \n",
       "7  INDIA TOUR OF ZIMBABWE 2024    Harare  13 JULY, 2024  8:00 PM IST   \n",
       "8  INDIA TOUR OF ZIMBABWE 2024    Harare  14 JULY, 2024  8:00 PM IST   \n",
       "\n",
       "                                             Stadium  \n",
       "0       Nassau County International Cricket Stadium,  \n",
       "1       Nassau County International Cricket Stadium,  \n",
       "2       Nassau County International Cricket Stadium,  \n",
       "3  Central Broward Park & Broward County Stadium,...  \n",
       "4                                Harare Sports Club,  \n",
       "5                                Harare Sports Club,  \n",
       "6                                Harare Sports Club,  \n",
       "7                                Harare Sports Club,  \n",
       "8                                Harare Sports Club,  "
      ]
     },
     "execution_count": 23,
     "metadata": {},
     "output_type": "execute_result"
    }
   ],
   "source": [
    "df=pd.DataFrame({\"Series\":series,\"Place\":place,\"Date\":date,\"Time\":time,\"Stadium\":stadium_name})\n",
    "df"
   ]
  },
  {
   "cell_type": "code",
   "execution_count": null,
   "id": "1122acd7",
   "metadata": {},
   "outputs": [],
   "source": []
  },
  {
   "cell_type": "code",
   "execution_count": null,
   "id": "755e8e87",
   "metadata": {},
   "outputs": [],
   "source": []
  },
  {
   "cell_type": "markdown",
   "id": "61fdea2e",
   "metadata": {},
   "source": [
    "# QUESTION NO 3"
   ]
  },
  {
   "cell_type": "code",
   "execution_count": 24,
   "id": "3908115b",
   "metadata": {},
   "outputs": [],
   "source": [
    "driver=webdriver.Chrome()"
   ]
  },
  {
   "cell_type": "code",
   "execution_count": 25,
   "id": "d181f0af",
   "metadata": {},
   "outputs": [],
   "source": [
    "driver.get('https://statisticstimes.com/')"
   ]
  },
  {
   "cell_type": "code",
   "execution_count": 26,
   "id": "39b79685",
   "metadata": {},
   "outputs": [],
   "source": [
    "data=[]\n",
    "rank=[]\n",
    "state=[]\n",
    "gsdp1=[]\n",
    "gsdp2=[]\n",
    "share=[]\n",
    "gdp=[]"
   ]
  },
  {
   "cell_type": "code",
   "execution_count": 27,
   "id": "7fed2c26",
   "metadata": {},
   "outputs": [],
   "source": [
    "search=driver.find_element(By.XPATH,'/html/body/div[2]/div[1]/div[2]/div[2]/button')\n",
    "search.click()"
   ]
  },
  {
   "cell_type": "code",
   "execution_count": null,
   "id": "e352f657",
   "metadata": {},
   "outputs": [],
   "source": [
    "search=driver.find_element(By.XPATH,'/html/body/div[2]/div[1]/div[2]/div[2]/div/a[3]')\n",
    "search.click()"
   ]
  },
  {
   "cell_type": "code",
   "execution_count": null,
   "id": "1f56d4f8",
   "metadata": {},
   "outputs": [],
   "source": [
    "search=driver.find_element(By.XPATH,'/html/body/div[2]/div[2]/div[2]/ul/li[1]/a')\n",
    "search.click()"
   ]
  },
  {
   "cell_type": "code",
   "execution_count": 30,
   "id": "79dabec7",
   "metadata": {},
   "outputs": [
    {
     "name": "stdout",
     "output_type": "stream",
     "text": [
      "['1', 'Maharashtra', '-', '-', '3,108,022', '13.17%', '414.928', '-', '-', '2,027,971', '2', 'Tamil Nadu', '2,700,109', '2,364,514', '2,071,286', '8.78%', '276.522', '1,572,601', '1,453,321', '1,343,287', '3', 'Karnataka', '2,500,733', '2,269,995', '1,978,094', '8.38%', '264.080', '1,423,229', '1,335,052', '1,235,377', '4', 'Uttar Pradesh', '2,547,861', '2,258,040', '1,975,595', '8.37%', '263.747', '1,423,358', '1,318,027', '1,200,093', '5', 'Gujarat', '-', '2,230,609', '1,928,683', '8.17%', '257.484', '-', '1,475,629', '1,365,922', '6', 'West Bengal', '1,700,939', '1,531,758', '1,329,238', '5.63%', '177.456', '904,088', '839,805', '787,439', '7', 'Rajasthan', '1,524,030', '1,365,849', '1,193,489', '5.06%', '159.334', '842,621', '784,655', '727,805', '8', 'Andhra Pradesh', '1,439,674', '1,303,524', '1,148,471', '4.87%', '153.324', '820,894', '764,685', '722,727', '9', 'Telangana', '1,463,960', '1,308,034', '1,124,204', '4.76%', '150.084', '767,936', '715,157', '669,229', '10', 'Madhya Pradesh', '1,363,327', '1,246,471', '1,092,964', '4.63%', '145.913', '660,363', '622,908', '584,470', '11', 'Kerala', '-', '1,046,188', '934,542', '3.96%', '124.764', '-', '616,189', '578,057', '12', 'Delhi', '1,107,746', '1,014,688', '881,336', '3.73%', '117.660', '672,247', '625,981', '580,396', '13', 'Haryana', '1,095,535', '984,055', '868,905', '3.68%', '116.001', '634,027', '587,198', '544,317', '14', 'Odisha', '832,790', '753,177', '662,886', '2.81%', '88.497', '503,871', '464,574', '430,541', '15', 'Bihar', '-', '751,396', '650,302', '2.76%', '86.817', '-', '442,473', '399,930', '16', 'Punjab', '736,423', '676,164', '617,192', '2.62%', '82.397', '493,283', '462,053', '434,261', '17', 'Assam', '565,401', '493,167', '411,454', '1.74%', '54.930', '318,559', '300,799', '278,835', '18', 'Chhattisgarh', '505,887', '464,399', '410,525', '1.74%', '54.806', '321,945', '302,119', '280,609', '19', 'Jharkhand', '-', '393,722', '358,863', '1.52%', '47.909', '-', '259,800', '243,348', '20', 'Uttarakhand', '346,206', '303,781', '267,143', '1.13%', '35.664', '213,378', '198,341', '184,274', '21', 'Jammu & Kashmir', '246,465', '224,226', '193,352', '0.82%', '25.813', '139,171', '129,573', '119,174', '22', 'Himachal Pradesh', '207,430', '191,728', '172,162', '0.73%', '22.984', '142,800', '133,372', '124,770', '23', 'Goa', '-', '93,672', '84,266', '0.36%', '11.250', '-', '59,867', '55,342', '24', 'Tripura', '-', '72,636', '62,550', '0.27%', '8.351', '-', '42,997', '39,487', '25', 'Chandigarh', '-', '54,285', '46,096', '0.20%', '6.154', '-', '33,879', '30,587', '26', 'Puducherry', '-', '49,643', '43,810', '0.19%', '5.849', '-', '28,849', '27,131', '27', 'Meghalaya', '47,381', '42,697']\n"
     ]
    },
    {
     "data": {
      "text/plain": [
       "264"
      ]
     },
     "execution_count": 30,
     "metadata": {},
     "output_type": "execute_result"
    }
   ],
   "source": [
    "tag=driver.find_elements(By.TAG_NAME,'td')\n",
    "for i in tag:\n",
    "    names=i.text\n",
    "    data.append(names)\n",
    "data=data[4:268]\n",
    "print(data)\n",
    "len(data)"
   ]
  },
  {
   "cell_type": "code",
   "execution_count": 88,
   "id": "3140b653",
   "metadata": {},
   "outputs": [
    {
     "data": {
      "text/plain": [
       "['1',\n",
       " '2',\n",
       " '3',\n",
       " '4',\n",
       " '5',\n",
       " '6',\n",
       " '7',\n",
       " '8',\n",
       " '9',\n",
       " '10',\n",
       " '11',\n",
       " '12',\n",
       " '13',\n",
       " '14',\n",
       " '15',\n",
       " '16',\n",
       " '17',\n",
       " '18',\n",
       " '19',\n",
       " '20',\n",
       " '21',\n",
       " '22',\n",
       " '23',\n",
       " '24',\n",
       " '25',\n",
       " '26']"
      ]
     },
     "execution_count": 88,
     "metadata": {},
     "output_type": "execute_result"
    }
   ],
   "source": [
    "rank=data[0:260:10]\n",
    "rank"
   ]
  },
  {
   "cell_type": "code",
   "execution_count": 89,
   "id": "fe907f36",
   "metadata": {},
   "outputs": [
    {
     "data": {
      "text/plain": [
       "26"
      ]
     },
     "execution_count": 89,
     "metadata": {},
     "output_type": "execute_result"
    }
   ],
   "source": [
    "len(rank)"
   ]
  },
  {
   "cell_type": "code",
   "execution_count": 85,
   "id": "38c9d7ce",
   "metadata": {},
   "outputs": [
    {
     "data": {
      "text/plain": [
       "['Maharashtra',\n",
       " 'Tamil Nadu',\n",
       " 'Karnataka',\n",
       " 'Uttar Pradesh',\n",
       " 'Gujarat',\n",
       " 'West Bengal',\n",
       " 'Rajasthan',\n",
       " 'Andhra Pradesh',\n",
       " 'Telangana',\n",
       " 'Madhya Pradesh',\n",
       " 'Kerala',\n",
       " 'Delhi',\n",
       " 'Haryana',\n",
       " 'Odisha',\n",
       " 'Bihar',\n",
       " 'Punjab',\n",
       " 'Assam',\n",
       " 'Chhattisgarh',\n",
       " 'Jharkhand',\n",
       " 'Uttarakhand',\n",
       " 'Jammu & Kashmir',\n",
       " 'Himachal Pradesh',\n",
       " 'Goa',\n",
       " 'Tripura',\n",
       " 'Chandigarh',\n",
       " 'Puducherry']"
      ]
     },
     "execution_count": 85,
     "metadata": {},
     "output_type": "execute_result"
    }
   ],
   "source": [
    "state=data[1:260:10]\n",
    "state\n"
   ]
  },
  {
   "cell_type": "code",
   "execution_count": 86,
   "id": "0b1148c5",
   "metadata": {},
   "outputs": [
    {
     "data": {
      "text/plain": [
       "26"
      ]
     },
     "execution_count": 86,
     "metadata": {},
     "output_type": "execute_result"
    }
   ],
   "source": [
    "len(state)"
   ]
  },
  {
   "cell_type": "code",
   "execution_count": 78,
   "id": "dea77d1e",
   "metadata": {},
   "outputs": [
    {
     "data": {
      "text/plain": [
       "['-',\n",
       " '2,700,109',\n",
       " '2,500,733',\n",
       " '2,547,861',\n",
       " '-',\n",
       " '1,700,939',\n",
       " '1,524,030',\n",
       " '1,439,674',\n",
       " '1,463,960',\n",
       " '1,363,327',\n",
       " '-',\n",
       " '1,107,746',\n",
       " '1,095,535',\n",
       " '832,790',\n",
       " '-',\n",
       " '736,423',\n",
       " '565,401',\n",
       " '505,887',\n",
       " '-',\n",
       " '346,206',\n",
       " '246,465',\n",
       " '207,430',\n",
       " '-',\n",
       " '-',\n",
       " '-',\n",
       " '-']"
      ]
     },
     "execution_count": 78,
     "metadata": {},
     "output_type": "execute_result"
    }
   ],
   "source": [
    "gsdp1=data[2:262:10]\n",
    "gsdp1"
   ]
  },
  {
   "cell_type": "code",
   "execution_count": 79,
   "id": "ef6e4fa9",
   "metadata": {},
   "outputs": [
    {
     "data": {
      "text/plain": [
       "26"
      ]
     },
     "execution_count": 79,
     "metadata": {},
     "output_type": "execute_result"
    }
   ],
   "source": [
    "len(gsdp1)"
   ]
  },
  {
   "cell_type": "code",
   "execution_count": 72,
   "id": "81e08cc5",
   "metadata": {},
   "outputs": [
    {
     "data": {
      "text/plain": [
       "['-',\n",
       " '2,364,514',\n",
       " '2,269,995',\n",
       " '2,258,040',\n",
       " '2,230,609',\n",
       " '1,531,758',\n",
       " '1,365,849',\n",
       " '1,303,524',\n",
       " '1,308,034',\n",
       " '1,246,471',\n",
       " '1,046,188',\n",
       " '1,014,688',\n",
       " '984,055',\n",
       " '753,177',\n",
       " '751,396',\n",
       " '676,164',\n",
       " '493,167',\n",
       " '464,399',\n",
       " '393,722',\n",
       " '303,781',\n",
       " '224,226',\n",
       " '191,728',\n",
       " '93,672',\n",
       " '72,636',\n",
       " '54,285',\n",
       " '49,643']"
      ]
     },
     "execution_count": 72,
     "metadata": {},
     "output_type": "execute_result"
    }
   ],
   "source": [
    "gsdp2=data[3:263:10]\n",
    "gsdp2"
   ]
  },
  {
   "cell_type": "code",
   "execution_count": 73,
   "id": "288a7cea",
   "metadata": {},
   "outputs": [
    {
     "data": {
      "text/plain": [
       "26"
      ]
     },
     "execution_count": 73,
     "metadata": {},
     "output_type": "execute_result"
    }
   ],
   "source": [
    "len(gsdp2)"
   ]
  },
  {
   "cell_type": "code",
   "execution_count": 56,
   "id": "2e36fe12",
   "metadata": {},
   "outputs": [
    {
     "data": {
      "text/plain": [
       "['3,108,022',\n",
       " '2,071,286',\n",
       " '1,978,094',\n",
       " '1,975,595',\n",
       " '1,928,683',\n",
       " '1,329,238',\n",
       " '1,193,489',\n",
       " '1,148,471',\n",
       " '1,124,204',\n",
       " '1,092,964',\n",
       " '934,542',\n",
       " '881,336',\n",
       " '868,905',\n",
       " '662,886',\n",
       " '650,302',\n",
       " '617,192',\n",
       " '411,454',\n",
       " '410,525',\n",
       " '358,863',\n",
       " '267,143',\n",
       " '193,352',\n",
       " '172,162',\n",
       " '84,266',\n",
       " '62,550',\n",
       " '46,096',\n",
       " '43,810']"
      ]
     },
     "execution_count": 56,
     "metadata": {},
     "output_type": "execute_result"
    }
   ],
   "source": [
    "gdp_billion=data[4:264:10]\n",
    "gdp_billion"
   ]
  },
  {
   "cell_type": "code",
   "execution_count": 70,
   "id": "5d83e3cf",
   "metadata": {},
   "outputs": [
    {
     "data": {
      "text/plain": [
       "26"
      ]
     },
     "execution_count": 70,
     "metadata": {},
     "output_type": "execute_result"
    }
   ],
   "source": [
    "len(gdp_billion)"
   ]
  },
  {
   "cell_type": "code",
   "execution_count": 68,
   "id": "bbefe542",
   "metadata": {},
   "outputs": [
    {
     "data": {
      "text/plain": [
       "['13.17%',\n",
       " '8.78%',\n",
       " '8.38%',\n",
       " '8.37%',\n",
       " '8.17%',\n",
       " '5.63%',\n",
       " '5.06%',\n",
       " '4.87%',\n",
       " '4.76%',\n",
       " '4.63%',\n",
       " '3.96%',\n",
       " '3.73%',\n",
       " '3.68%',\n",
       " '2.81%',\n",
       " '2.76%',\n",
       " '2.62%',\n",
       " '1.74%',\n",
       " '1.74%',\n",
       " '1.52%',\n",
       " '1.13%',\n",
       " '0.82%',\n",
       " '0.73%',\n",
       " '0.36%',\n",
       " '0.27%',\n",
       " '0.20%',\n",
       " '0.19%']"
      ]
     },
     "execution_count": 68,
     "metadata": {},
     "output_type": "execute_result"
    }
   ],
   "source": [
    "share=data[5:266:10]\n",
    "share"
   ]
  },
  {
   "cell_type": "code",
   "execution_count": 69,
   "id": "3b9b6c88",
   "metadata": {},
   "outputs": [
    {
     "data": {
      "text/plain": [
       "26"
      ]
     },
     "execution_count": 69,
     "metadata": {},
     "output_type": "execute_result"
    }
   ],
   "source": [
    "len(share)"
   ]
  },
  {
   "cell_type": "code",
   "execution_count": 58,
   "id": "0932bfe5",
   "metadata": {},
   "outputs": [
    {
     "data": {
      "text/plain": [
       "['414.928',\n",
       " '276.522',\n",
       " '264.080',\n",
       " '263.747',\n",
       " '257.484',\n",
       " '177.456',\n",
       " '159.334',\n",
       " '153.324',\n",
       " '150.084',\n",
       " '145.913',\n",
       " '124.764',\n",
       " '117.660',\n",
       " '116.001',\n",
       " '88.497',\n",
       " '86.817',\n",
       " '82.397',\n",
       " '54.930',\n",
       " '54.806',\n",
       " '47.909',\n",
       " '35.664',\n",
       " '25.813',\n",
       " '22.984',\n",
       " '11.250',\n",
       " '8.351',\n",
       " '6.154',\n",
       " '5.849']"
      ]
     },
     "execution_count": 58,
     "metadata": {},
     "output_type": "execute_result"
    }
   ],
   "source": [
    "gsdp3=data[6:264:10]\n",
    "gsdp3"
   ]
  },
  {
   "cell_type": "code",
   "execution_count": 60,
   "id": "c582dfa1",
   "metadata": {},
   "outputs": [
    {
     "data": {
      "text/plain": [
       "['-',\n",
       " '1,572,601',\n",
       " '1,423,229',\n",
       " '1,423,358',\n",
       " '-',\n",
       " '904,088',\n",
       " '842,621',\n",
       " '820,894',\n",
       " '767,936',\n",
       " '660,363',\n",
       " '-',\n",
       " '672,247',\n",
       " '634,027',\n",
       " '503,871',\n",
       " '-',\n",
       " '493,283',\n",
       " '318,559',\n",
       " '321,945',\n",
       " '-',\n",
       " '213,378',\n",
       " '139,171',\n",
       " '142,800',\n",
       " '-',\n",
       " '-',\n",
       " '-',\n",
       " '-']"
      ]
     },
     "execution_count": 60,
     "metadata": {},
     "output_type": "execute_result"
    }
   ],
   "source": [
    "gsdp4=data[7:264:10]\n",
    "gsdp4"
   ]
  },
  {
   "cell_type": "code",
   "execution_count": 90,
   "id": "63173cfa",
   "metadata": {},
   "outputs": [
    {
     "data": {
      "text/html": [
       "<div>\n",
       "<style scoped>\n",
       "    .dataframe tbody tr th:only-of-type {\n",
       "        vertical-align: middle;\n",
       "    }\n",
       "\n",
       "    .dataframe tbody tr th {\n",
       "        vertical-align: top;\n",
       "    }\n",
       "\n",
       "    .dataframe thead th {\n",
       "        text-align: right;\n",
       "    }\n",
       "</style>\n",
       "<table border=\"1\" class=\"dataframe\">\n",
       "  <thead>\n",
       "    <tr style=\"text-align: right;\">\n",
       "      <th></th>\n",
       "      <th>Rank</th>\n",
       "      <th>State</th>\n",
       "      <th>GSDP(22-23)</th>\n",
       "      <th>GSDP(21-22)</th>\n",
       "      <th>Share</th>\n",
       "      <th>GDP(Billion)</th>\n",
       "    </tr>\n",
       "  </thead>\n",
       "  <tbody>\n",
       "    <tr>\n",
       "      <th>0</th>\n",
       "      <td>1</td>\n",
       "      <td>Maharashtra</td>\n",
       "      <td>-</td>\n",
       "      <td>-</td>\n",
       "      <td>13.17%</td>\n",
       "      <td>3,108,022</td>\n",
       "    </tr>\n",
       "    <tr>\n",
       "      <th>1</th>\n",
       "      <td>2</td>\n",
       "      <td>Tamil Nadu</td>\n",
       "      <td>2,700,109</td>\n",
       "      <td>2,700,109</td>\n",
       "      <td>8.78%</td>\n",
       "      <td>2,071,286</td>\n",
       "    </tr>\n",
       "    <tr>\n",
       "      <th>2</th>\n",
       "      <td>3</td>\n",
       "      <td>Karnataka</td>\n",
       "      <td>2,500,733</td>\n",
       "      <td>2,500,733</td>\n",
       "      <td>8.38%</td>\n",
       "      <td>1,978,094</td>\n",
       "    </tr>\n",
       "    <tr>\n",
       "      <th>3</th>\n",
       "      <td>4</td>\n",
       "      <td>Uttar Pradesh</td>\n",
       "      <td>2,547,861</td>\n",
       "      <td>2,547,861</td>\n",
       "      <td>8.37%</td>\n",
       "      <td>1,975,595</td>\n",
       "    </tr>\n",
       "    <tr>\n",
       "      <th>4</th>\n",
       "      <td>5</td>\n",
       "      <td>Gujarat</td>\n",
       "      <td>-</td>\n",
       "      <td>-</td>\n",
       "      <td>8.17%</td>\n",
       "      <td>1,928,683</td>\n",
       "    </tr>\n",
       "    <tr>\n",
       "      <th>5</th>\n",
       "      <td>6</td>\n",
       "      <td>West Bengal</td>\n",
       "      <td>1,700,939</td>\n",
       "      <td>1,700,939</td>\n",
       "      <td>5.63%</td>\n",
       "      <td>1,329,238</td>\n",
       "    </tr>\n",
       "    <tr>\n",
       "      <th>6</th>\n",
       "      <td>7</td>\n",
       "      <td>Rajasthan</td>\n",
       "      <td>1,524,030</td>\n",
       "      <td>1,524,030</td>\n",
       "      <td>5.06%</td>\n",
       "      <td>1,193,489</td>\n",
       "    </tr>\n",
       "    <tr>\n",
       "      <th>7</th>\n",
       "      <td>8</td>\n",
       "      <td>Andhra Pradesh</td>\n",
       "      <td>1,439,674</td>\n",
       "      <td>1,439,674</td>\n",
       "      <td>4.87%</td>\n",
       "      <td>1,148,471</td>\n",
       "    </tr>\n",
       "    <tr>\n",
       "      <th>8</th>\n",
       "      <td>9</td>\n",
       "      <td>Telangana</td>\n",
       "      <td>1,463,960</td>\n",
       "      <td>1,463,960</td>\n",
       "      <td>4.76%</td>\n",
       "      <td>1,124,204</td>\n",
       "    </tr>\n",
       "    <tr>\n",
       "      <th>9</th>\n",
       "      <td>10</td>\n",
       "      <td>Madhya Pradesh</td>\n",
       "      <td>1,363,327</td>\n",
       "      <td>1,363,327</td>\n",
       "      <td>4.63%</td>\n",
       "      <td>1,092,964</td>\n",
       "    </tr>\n",
       "    <tr>\n",
       "      <th>10</th>\n",
       "      <td>11</td>\n",
       "      <td>Kerala</td>\n",
       "      <td>-</td>\n",
       "      <td>-</td>\n",
       "      <td>3.96%</td>\n",
       "      <td>934,542</td>\n",
       "    </tr>\n",
       "    <tr>\n",
       "      <th>11</th>\n",
       "      <td>12</td>\n",
       "      <td>Delhi</td>\n",
       "      <td>1,107,746</td>\n",
       "      <td>1,107,746</td>\n",
       "      <td>3.73%</td>\n",
       "      <td>881,336</td>\n",
       "    </tr>\n",
       "    <tr>\n",
       "      <th>12</th>\n",
       "      <td>13</td>\n",
       "      <td>Haryana</td>\n",
       "      <td>1,095,535</td>\n",
       "      <td>1,095,535</td>\n",
       "      <td>3.68%</td>\n",
       "      <td>868,905</td>\n",
       "    </tr>\n",
       "    <tr>\n",
       "      <th>13</th>\n",
       "      <td>14</td>\n",
       "      <td>Odisha</td>\n",
       "      <td>832,790</td>\n",
       "      <td>832,790</td>\n",
       "      <td>2.81%</td>\n",
       "      <td>662,886</td>\n",
       "    </tr>\n",
       "    <tr>\n",
       "      <th>14</th>\n",
       "      <td>15</td>\n",
       "      <td>Bihar</td>\n",
       "      <td>-</td>\n",
       "      <td>-</td>\n",
       "      <td>2.76%</td>\n",
       "      <td>650,302</td>\n",
       "    </tr>\n",
       "    <tr>\n",
       "      <th>15</th>\n",
       "      <td>16</td>\n",
       "      <td>Punjab</td>\n",
       "      <td>736,423</td>\n",
       "      <td>736,423</td>\n",
       "      <td>2.62%</td>\n",
       "      <td>617,192</td>\n",
       "    </tr>\n",
       "    <tr>\n",
       "      <th>16</th>\n",
       "      <td>17</td>\n",
       "      <td>Assam</td>\n",
       "      <td>565,401</td>\n",
       "      <td>565,401</td>\n",
       "      <td>1.74%</td>\n",
       "      <td>411,454</td>\n",
       "    </tr>\n",
       "    <tr>\n",
       "      <th>17</th>\n",
       "      <td>18</td>\n",
       "      <td>Chhattisgarh</td>\n",
       "      <td>505,887</td>\n",
       "      <td>505,887</td>\n",
       "      <td>1.74%</td>\n",
       "      <td>410,525</td>\n",
       "    </tr>\n",
       "    <tr>\n",
       "      <th>18</th>\n",
       "      <td>19</td>\n",
       "      <td>Jharkhand</td>\n",
       "      <td>-</td>\n",
       "      <td>-</td>\n",
       "      <td>1.52%</td>\n",
       "      <td>358,863</td>\n",
       "    </tr>\n",
       "    <tr>\n",
       "      <th>19</th>\n",
       "      <td>20</td>\n",
       "      <td>Uttarakhand</td>\n",
       "      <td>346,206</td>\n",
       "      <td>346,206</td>\n",
       "      <td>1.13%</td>\n",
       "      <td>267,143</td>\n",
       "    </tr>\n",
       "    <tr>\n",
       "      <th>20</th>\n",
       "      <td>21</td>\n",
       "      <td>Jammu &amp; Kashmir</td>\n",
       "      <td>246,465</td>\n",
       "      <td>246,465</td>\n",
       "      <td>0.82%</td>\n",
       "      <td>193,352</td>\n",
       "    </tr>\n",
       "    <tr>\n",
       "      <th>21</th>\n",
       "      <td>22</td>\n",
       "      <td>Himachal Pradesh</td>\n",
       "      <td>207,430</td>\n",
       "      <td>207,430</td>\n",
       "      <td>0.73%</td>\n",
       "      <td>172,162</td>\n",
       "    </tr>\n",
       "    <tr>\n",
       "      <th>22</th>\n",
       "      <td>23</td>\n",
       "      <td>Goa</td>\n",
       "      <td>-</td>\n",
       "      <td>-</td>\n",
       "      <td>0.36%</td>\n",
       "      <td>84,266</td>\n",
       "    </tr>\n",
       "    <tr>\n",
       "      <th>23</th>\n",
       "      <td>24</td>\n",
       "      <td>Tripura</td>\n",
       "      <td>-</td>\n",
       "      <td>-</td>\n",
       "      <td>0.27%</td>\n",
       "      <td>62,550</td>\n",
       "    </tr>\n",
       "    <tr>\n",
       "      <th>24</th>\n",
       "      <td>25</td>\n",
       "      <td>Chandigarh</td>\n",
       "      <td>-</td>\n",
       "      <td>-</td>\n",
       "      <td>0.20%</td>\n",
       "      <td>46,096</td>\n",
       "    </tr>\n",
       "    <tr>\n",
       "      <th>25</th>\n",
       "      <td>26</td>\n",
       "      <td>Puducherry</td>\n",
       "      <td>-</td>\n",
       "      <td>-</td>\n",
       "      <td>0.19%</td>\n",
       "      <td>43,810</td>\n",
       "    </tr>\n",
       "  </tbody>\n",
       "</table>\n",
       "</div>"
      ],
      "text/plain": [
       "   Rank             State GSDP(22-23) GSDP(21-22)   Share GDP(Billion)\n",
       "0     1       Maharashtra           -           -  13.17%    3,108,022\n",
       "1     2        Tamil Nadu   2,700,109   2,700,109   8.78%    2,071,286\n",
       "2     3         Karnataka   2,500,733   2,500,733   8.38%    1,978,094\n",
       "3     4     Uttar Pradesh   2,547,861   2,547,861   8.37%    1,975,595\n",
       "4     5           Gujarat           -           -   8.17%    1,928,683\n",
       "5     6       West Bengal   1,700,939   1,700,939   5.63%    1,329,238\n",
       "6     7         Rajasthan   1,524,030   1,524,030   5.06%    1,193,489\n",
       "7     8    Andhra Pradesh   1,439,674   1,439,674   4.87%    1,148,471\n",
       "8     9         Telangana   1,463,960   1,463,960   4.76%    1,124,204\n",
       "9    10    Madhya Pradesh   1,363,327   1,363,327   4.63%    1,092,964\n",
       "10   11            Kerala           -           -   3.96%      934,542\n",
       "11   12             Delhi   1,107,746   1,107,746   3.73%      881,336\n",
       "12   13           Haryana   1,095,535   1,095,535   3.68%      868,905\n",
       "13   14            Odisha     832,790     832,790   2.81%      662,886\n",
       "14   15             Bihar           -           -   2.76%      650,302\n",
       "15   16            Punjab     736,423     736,423   2.62%      617,192\n",
       "16   17             Assam     565,401     565,401   1.74%      411,454\n",
       "17   18      Chhattisgarh     505,887     505,887   1.74%      410,525\n",
       "18   19         Jharkhand           -           -   1.52%      358,863\n",
       "19   20       Uttarakhand     346,206     346,206   1.13%      267,143\n",
       "20   21   Jammu & Kashmir     246,465     246,465   0.82%      193,352\n",
       "21   22  Himachal Pradesh     207,430     207,430   0.73%      172,162\n",
       "22   23               Goa           -           -   0.36%       84,266\n",
       "23   24           Tripura           -           -   0.27%       62,550\n",
       "24   25        Chandigarh           -           -   0.20%       46,096\n",
       "25   26        Puducherry           -           -   0.19%       43,810"
      ]
     },
     "execution_count": 90,
     "metadata": {},
     "output_type": "execute_result"
    }
   ],
   "source": [
    "df=pd.DataFrame({\"Rank\":rank,\"State\":state,\"GSDP(22-23)\":gsdp1,\"GSDP(21-22)\":gsdp1,\"Share\":share,\"GDP(Billion)\":gdp_billion})\n",
    "df"
   ]
  },
  {
   "cell_type": "markdown",
   "id": "07c6f5bf",
   "metadata": {},
   "source": [
    "# QUESTION NO 4"
   ]
  },
  {
   "cell_type": "code",
   "execution_count": 212,
   "id": "76969e47",
   "metadata": {},
   "outputs": [],
   "source": [
    "driver=webdriver.Chrome()"
   ]
  },
  {
   "cell_type": "code",
   "execution_count": 213,
   "id": "4f3653b5",
   "metadata": {},
   "outputs": [],
   "source": [
    "driver.get(\"https://www.flipkart.com\")"
   ]
  },
  {
   "cell_type": "code",
   "execution_count": 216,
   "id": "dee587dd",
   "metadata": {},
   "outputs": [],
   "source": [
    "designation=driver.find_element(By.XPATH,'/html/body/div[1]/div/div[1]/div/div/div/div/div[1]/div/div[1]/div/div[1]/div[1]/header/div[1]/div[2]/form/div/div/input')\n",
    "designation.send_keys('One Plus Nord')"
   ]
  },
  {
   "cell_type": "code",
   "execution_count": 217,
   "id": "5403053f",
   "metadata": {},
   "outputs": [],
   "source": [
    "search=driver.find_element(By.XPATH,'/html/body/div[1]/div/div[1]/div/div/div/div/div[1]/div/div[1]/div/div[1]/div[1]/header/div[1]/div[2]/form/div/button')\n",
    "search.click()"
   ]
  },
  {
   "cell_type": "code",
   "execution_count": 218,
   "id": "690fa50e",
   "metadata": {},
   "outputs": [],
   "source": [
    "product_url=[]\n",
    "brand_name=[]\n",
    "smartphone_name=[]\n",
    "colours=[]\n",
    "ram=[]\n",
    "rom=[]\n",
    "primary_camera=[]\n",
    "secondary_camera=[]\n",
    "display_size=[]\n",
    "battery=[]\n",
    "price=[]"
   ]
  },
  {
   "cell_type": "code",
   "execution_count": 219,
   "id": "0ac504ba",
   "metadata": {},
   "outputs": [],
   "source": [
    "titles=driver.find_elements(By.XPATH,'//a[@class=\"_1fQZEK\"]')\n",
    "for i in titles:\n",
    "    product_url.append(i.get_attribute('href'))\n",
    "    "
   ]
  },
  {
   "cell_type": "code",
   "execution_count": 220,
   "id": "5cfb71f8",
   "metadata": {},
   "outputs": [
    {
     "data": {
      "text/plain": [
       "['https://www.flipkart.com/oneplus-nord-ce-3-lite-5g-chromatic-gray-256-gb/p/itm2cd5a4e659035?pid=MOBGZJ45PS4AQ7BA&lid=LSTMOBGZJ45PS4AQ7BACKUFNR&marketplace=FLIPKART&q=One+Plus+Nord&store=tyy%2F4io&srno=s_1_1&otracker=search&otracker1=search&fm=organic&iid=10157c84-4afa-4198-ae72-0c0f1adbc3f2.MOBGZJ45PS4AQ7BA.SEARCH&ppt=hp&ppn=homepage&ssid=efylm80mds0000001712470123061&qH=ec6552bf395feccb',\n",
       " 'https://www.flipkart.com/oneplus-nord-ce-3-lite-5g-pastel-lime-128-gb/p/itm2cd5a4e659035?pid=MOBGZJ3WM5SGTGVZ&lid=LSTMOBGZJ3WM5SGTGVZKIFVYT&marketplace=FLIPKART&q=One+Plus+Nord&store=tyy%2F4io&spotlightTagId=BestsellerId_tyy%2F4io&srno=s_1_2&otracker=search&otracker1=search&fm=Search&iid=10157c84-4afa-4198-ae72-0c0f1adbc3f2.MOBGZJ3WM5SGTGVZ.SEARCH&ppt=sp&ppn=sp&ssid=efylm80mds0000001712470123061&qH=ec6552bf395feccb',\n",
       " 'https://www.flipkart.com/oneplus-nord-ce-3-lite-5g-pastel-lime-256-gb/p/itm2cd5a4e659035?pid=MOBGZJ3ZFQ8AKKRS&lid=LSTMOBGZJ3ZFQ8AKKRSQXDLGM&marketplace=FLIPKART&q=One+Plus+Nord&store=tyy%2F4io&srno=s_1_3&otracker=search&otracker1=search&fm=organic&iid=10157c84-4afa-4198-ae72-0c0f1adbc3f2.MOBGZJ3ZFQ8AKKRS.SEARCH&ppt=hp&ppn=homepage&ssid=efylm80mds0000001712470123061&qH=ec6552bf395feccb',\n",
       " 'https://www.flipkart.com/oneplus-nord-ce-3-lite-5g-chromatic-gray-128-gb/p/itm2cd5a4e659035?pid=MOBGZJ42KHUZZKMN&lid=LSTMOBGZJ42KHUZZKMNNZJMSB&marketplace=FLIPKART&q=One+Plus+Nord&store=tyy%2F4io&spotlightTagId=BestsellerId_tyy%2F4io&srno=s_1_4&otracker=search&otracker1=search&fm=organic&iid=10157c84-4afa-4198-ae72-0c0f1adbc3f2.MOBGZJ42KHUZZKMN.SEARCH&ppt=hp&ppn=homepage&ssid=efylm80mds0000001712470123061&qH=ec6552bf395feccb',\n",
       " 'https://www.flipkart.com/oneplus-nord-3-5g-tempest-gray-128-gb/p/itm5fc87afce35dc?pid=MOBGRK2VXCKBADB5&lid=LSTMOBGRK2VXCKBADB55DIJGI&marketplace=FLIPKART&q=One+Plus+Nord&store=tyy%2F4io&srno=s_1_5&otracker=search&otracker1=search&fm=organic&iid=10157c84-4afa-4198-ae72-0c0f1adbc3f2.MOBGRK2VXCKBADB5.SEARCH&ppt=hp&ppn=homepage&ssid=efylm80mds0000001712470123061&qH=ec6552bf395feccb',\n",
       " 'https://www.flipkart.com/oneplus-nord-3-5g-misty-green-128-gb/p/itm5fc87afce35dc?pid=MOBGRKA2GBGGS6QZ&lid=LSTMOBGRKA2GBGGS6QZJ2AQTE&marketplace=FLIPKART&q=One+Plus+Nord&store=tyy%2F4io&srno=s_1_6&otracker=search&otracker1=search&fm=organic&iid=10157c84-4afa-4198-ae72-0c0f1adbc3f2.MOBGRKA2GBGGS6QZ.SEARCH&ppt=hp&ppn=homepage&ssid=efylm80mds0000001712470123061&qH=ec6552bf395feccb',\n",
       " 'https://www.flipkart.com/oneplus-nord-ce-2-lite-5g-black-dusk-128-gb/p/itm537fc2aa73747?pid=MOBGHBZHB7YJT5HF&lid=LSTMOBGHBZHB7YJT5HFYZAVM1&marketplace=FLIPKART&q=One+Plus+Nord&store=tyy%2F4io&srno=s_1_7&otracker=search&otracker1=search&fm=organic&iid=10157c84-4afa-4198-ae72-0c0f1adbc3f2.MOBGHBZHB7YJT5HF.SEARCH&ppt=hp&ppn=homepage&ssid=efylm80mds0000001712470123061&qH=ec6552bf395feccb',\n",
       " 'https://www.flipkart.com/oneplus-nord-ce3-5g-aqua-surge-128-gb/p/itm95b25bfcca817?pid=MOBGS44DBDZBTUWS&lid=LSTMOBGS44DBDZBTUWSJ6NA4V&marketplace=FLIPKART&q=One+Plus+Nord&store=tyy%2F4io&srno=s_1_8&otracker=search&otracker1=search&fm=organic&iid=10157c84-4afa-4198-ae72-0c0f1adbc3f2.MOBGS44DBDZBTUWS.SEARCH&ppt=hp&ppn=homepage&ssid=efylm80mds0000001712470123061&qH=ec6552bf395feccb',\n",
       " 'https://www.flipkart.com/oneplus-nord-ce3-5g-grey-shimmer-128-gb/p/itm95b25bfcca817?pid=MOBGS44NJJVFWSHU&lid=LSTMOBGS44NJJVFWSHUQL9AHR&marketplace=FLIPKART&q=One+Plus+Nord&store=tyy%2F4io&srno=s_1_9&otracker=search&otracker1=search&fm=organic&iid=10157c84-4afa-4198-ae72-0c0f1adbc3f2.MOBGS44NJJVFWSHU.SEARCH&ppt=hp&ppn=homepage&ssid=efylm80mds0000001712470123061&qH=ec6552bf395feccb',\n",
       " 'https://www.flipkart.com/oneplus-nord-ce-2-lite-5g-blue-tide-128-gb/p/itm7acae55b999e6?pid=MOBGMFREBAHZQGY9&lid=LSTMOBGMFREBAHZQGY9RTJZHA&marketplace=FLIPKART&q=One+Plus+Nord&store=tyy%2F4io&srno=s_1_10&otracker=search&otracker1=search&fm=organic&iid=10157c84-4afa-4198-ae72-0c0f1adbc3f2.MOBGMFREBAHZQGY9.SEARCH&ppt=hp&ppn=homepage&ssid=efylm80mds0000001712470123061&qH=ec6552bf395feccb',\n",
       " 'https://www.flipkart.com/oneplus-nord-ce-2-5g-bahama-blue-128-gb/p/itm2a9883679c57c?pid=MOBGHHZ2CKB5D4WU&lid=LSTMOBGHHZ2CKB5D4WUSVEMWB&marketplace=FLIPKART&q=One+Plus+Nord&store=tyy%2F4io&srno=s_1_11&otracker=search&otracker1=search&fm=organic&iid=10157c84-4afa-4198-ae72-0c0f1adbc3f2.MOBGHHZ2CKB5D4WU.SEARCH&ppt=hp&ppn=homepage&ssid=efylm80mds0000001712470123061&qH=ec6552bf395feccb',\n",
       " 'https://www.flipkart.com/oneplus-nord-ce-2-5g-bahama-blue-128-gb/p/itm2a9883679c57c?pid=MOBGDBYGG6PPNFD9&lid=LSTMOBGDBYGG6PPNFD98KK2DS&marketplace=FLIPKART&q=One+Plus+Nord&store=tyy%2F4io&srno=s_1_12&otracker=search&otracker1=search&fm=organic&iid=10157c84-4afa-4198-ae72-0c0f1adbc3f2.MOBGDBYGG6PPNFD9.SEARCH&ppt=hp&ppn=homepage&ssid=efylm80mds0000001712470123061&qH=ec6552bf395feccb',\n",
       " 'https://www.flipkart.com/oneplus-nord-ce-2-5g-bahama-blue-128-gb/p/itm2a9883679c57c?pid=MOBGJMUH64MTF6PK&lid=LSTMOBGJMUH64MTF6PKHMZAIE&marketplace=FLIPKART&q=One+Plus+Nord&store=tyy%2F4io&srno=s_1_13&otracker=search&otracker1=search&fm=organic&iid=10157c84-4afa-4198-ae72-0c0f1adbc3f2.MOBGJMUH64MTF6PK.SEARCH&ppt=hp&ppn=homepage&ssid=efylm80mds0000001712470123061&qH=ec6552bf395feccb',\n",
       " 'https://www.flipkart.com/oneplus-nord-2-5g-pac-man-256-gb/p/itmc88e4a702db46?pid=MOBGHBNGEY9ZCDJV&lid=LSTMOBGHBNGEY9ZCDJVMA2XJM&marketplace=FLIPKART&q=One+Plus+Nord&store=tyy%2F4io&srno=s_1_14&otracker=search&otracker1=search&fm=organic&iid=10157c84-4afa-4198-ae72-0c0f1adbc3f2.MOBGHBNGEY9ZCDJV.SEARCH&ppt=hp&ppn=homepage&ssid=efylm80mds0000001712470123061&qH=ec6552bf395feccb',\n",
       " 'https://www.flipkart.com/oneplus-nord-2t-5g-jade-fog-256-gb/p/itm97eda8b1a1566?pid=MOBGHBZHF4YCMGZY&lid=LSTMOBGHBZHF4YCMGZYKRPRKZ&marketplace=FLIPKART&q=One+Plus+Nord&store=tyy%2F4io&srno=s_1_15&otracker=search&otracker1=search&fm=organic&iid=10157c84-4afa-4198-ae72-0c0f1adbc3f2.MOBGHBZHF4YCMGZY.SEARCH&ppt=hp&ppn=homepage&ssid=efylm80mds0000001712470123061&qH=ec6552bf395feccb',\n",
       " 'https://www.flipkart.com/oneplus-nord-2-5g-gray-sierra-128-gb/p/itmd16c63dadf5c5?pid=MOBGDBFFA5EGECHQ&lid=LSTMOBGDBFFA5EGECHQ8WHD67&marketplace=FLIPKART&q=One+Plus+Nord&store=tyy%2F4io&srno=s_1_16&otracker=search&otracker1=search&fm=organic&iid=10157c84-4afa-4198-ae72-0c0f1adbc3f2.MOBGDBFFA5EGECHQ.SEARCH&ppt=hp&ppn=homepage&ssid=efylm80mds0000001712470123061&qH=ec6552bf395feccb',\n",
       " 'https://www.flipkart.com/oneplus-nord-ce-2-5g-gray-mirror-128-gb/p/itm2a9883679c57c?pid=MOBGDBYUNZZ2ZKFM&lid=LSTMOBGDBYUNZZ2ZKFMRXHLUF&marketplace=FLIPKART&q=One+Plus+Nord&store=tyy%2F4io&srno=s_1_17&otracker=search&otracker1=search&fm=organic&iid=10157c84-4afa-4198-ae72-0c0f1adbc3f2.MOBGDBYUNZZ2ZKFM.SEARCH&ppt=hp&ppn=homepage&ssid=efylm80mds0000001712470123061&qH=ec6552bf395feccb',\n",
       " 'https://www.flipkart.com/oneplus-nord-2t-5g-gray-shadow-128-gb/p/itmeadf76c1e8943?pid=MOBGHBZH2S8MWQGQ&lid=LSTMOBGHBZH2S8MWQGQVS5NRI&marketplace=FLIPKART&q=One+Plus+Nord&store=tyy%2F4io&srno=s_1_18&otracker=search&otracker1=search&fm=organic&iid=10157c84-4afa-4198-ae72-0c0f1adbc3f2.MOBGHBZH2S8MWQGQ.SEARCH&ppt=hp&ppn=homepage&ssid=efylm80mds0000001712470123061&qH=ec6552bf395feccb',\n",
       " 'https://www.flipkart.com/oneplus-nord-2-5g-pac-man-256-gb/p/itmd16c63dadf5c5?pid=MOBGEYH6EJGAWMFT&lid=LSTMOBGEYH6EJGAWMFTWEPYFO&marketplace=FLIPKART&q=One+Plus+Nord&store=tyy%2F4io&srno=s_1_19&otracker=search&otracker1=search&fm=organic&iid=10157c84-4afa-4198-ae72-0c0f1adbc3f2.MOBGEYH6EJGAWMFT.SEARCH&ppt=hp&ppn=homepage&ssid=efylm80mds0000001712470123061&qH=ec6552bf395feccb',\n",
       " 'https://www.flipkart.com/oneplus-nord-ce-5g-blue-void-128-gb/p/itmd6dcbd8116ed1?pid=MOBGDM4UUD2FDBPH&lid=LSTMOBGDM4UUD2FDBPHWHSJTR&marketplace=FLIPKART&q=One+Plus+Nord&store=tyy%2F4io&srno=s_1_20&otracker=search&otracker1=search&fm=organic&iid=10157c84-4afa-4198-ae72-0c0f1adbc3f2.MOBGDM4UUD2FDBPH.SEARCH&ppt=hp&ppn=homepage&ssid=efylm80mds0000001712470123061&qH=ec6552bf395feccb',\n",
       " 'https://www.flipkart.com/oneplus-nord-2t-5g-gray-shadow-256-gb/p/itm8717097d388df?pid=MOBGHBZHNPGQGXJY&lid=LSTMOBGHBZHNPGQGXJYIFKKVX&marketplace=FLIPKART&q=One+Plus+Nord&store=tyy%2F4io&srno=s_1_21&otracker=search&otracker1=search&fm=organic&iid=10157c84-4afa-4198-ae72-0c0f1adbc3f2.MOBGHBZHNPGQGXJY.SEARCH&ppt=hp&ppn=homepage&ssid=efylm80mds0000001712470123061&qH=ec6552bf395feccb',\n",
       " 'https://www.flipkart.com/oneplus-nord-3-5g-misty-green-256-gb/p/itm5fc87afce35dc?pid=MOBGRK3284RMGYSX&lid=LSTMOBGRK3284RMGYSXRLM9NP&marketplace=FLIPKART&q=One+Plus+Nord&store=tyy%2F4io&srno=s_1_22&otracker=search&otracker1=search&fm=organic&iid=10157c84-4afa-4198-ae72-0c0f1adbc3f2.MOBGRK3284RMGYSX.SEARCH&ppt=hp&ppn=homepage&ssid=efylm80mds0000001712470123061&qH=ec6552bf395feccb',\n",
       " 'https://www.flipkart.com/oneplus-nord-3-5g-tempest-gray-256-gb/p/itm5fc87afce35dc?pid=MOBGRK35QGGTMTZ3&lid=LSTMOBGRK35QGGTMTZ3KCGOXO&marketplace=FLIPKART&q=One+Plus+Nord&store=tyy%2F4io&srno=s_1_23&otracker=search&otracker1=search&fm=organic&iid=10157c84-4afa-4198-ae72-0c0f1adbc3f2.MOBGRK35QGGTMTZ3.SEARCH&ppt=hp&ppn=homepage&ssid=efylm80mds0000001712470123061&qH=ec6552bf395feccb',\n",
       " 'https://www.flipkart.com/oneplus-nord-ce3-5g-grey-shimmer-256-gb/p/itm95b25bfcca817?pid=MOBGS452TWGEZXMC&lid=LSTMOBGS452TWGEZXMCS6SQM7&marketplace=FLIPKART&q=One+Plus+Nord&store=tyy%2F4io&srno=s_1_24&otracker=search&otracker1=search&fm=organic&iid=10157c84-4afa-4198-ae72-0c0f1adbc3f2.MOBGS452TWGEZXMC.SEARCH&ppt=hp&ppn=homepage&ssid=efylm80mds0000001712470123061&qH=ec6552bf395feccb']"
      ]
     },
     "execution_count": 220,
     "metadata": {},
     "output_type": "execute_result"
    }
   ],
   "source": [
    "product_url"
   ]
  },
  {
   "cell_type": "code",
   "execution_count": 232,
   "id": "c9e02712",
   "metadata": {},
   "outputs": [],
   "source": [
    "for i in product_url:\n",
    "    driver.get(i)\n",
    "    time.sleep(5)\n",
    "    \n",
    "   \n",
    "    \n",
    "    try:\n",
    "        sn=driver.find_element(By.XPATH,'//span[@class=\"B_NuCI\"]')\n",
    "        smartphone_name.append(sn.text)\n",
    "    except NoSuchElementException:\n",
    "        smartphone_name.append('-')\n",
    "    \n",
    "    \n",
    "    try:\n",
    "        ram_rom=driver.find_element(By.XPATH,'//li[@class=\"_21Ahn-\"][1]')\n",
    "        rom.append(ram_rom.text)\n",
    "    except NoSuchElementException:\n",
    "        rom.append('-')\n",
    "    \n",
    "    try:\n",
    "        camera=driver.find_element(By.XPATH,'//li[@class=\"_21Ahn-\"][3]')\n",
    "        primary_camera.append(camera.text)\n",
    "    except NoSuchElementException:\n",
    "        primary_camera.append('-')\n",
    "    \n",
    "    \n",
    "    try:\n",
    "        display=driver.find_element(By.XPATH,'//li[@class=\"_21Ahn-\"][2]')\n",
    "        display_size.append(display.text)\n",
    "    except NoSuchElementException:\n",
    "        display_size.append('-')\n",
    "        \n",
    "    \n",
    "    try:\n",
    "        battery_tag=driver.find_element(By.XPATH,'//li[@class=\"_21Ahn-\"][4]')\n",
    "        battery.append(battery_tag.text)\n",
    "    except NoSuchElementException:\n",
    "        battery.append('-')\n",
    "    \n",
    "\n",
    "    try:\n",
    "        rs=driver.find_element(By.XPATH,'//div[@class=\"_30jeq3 _16Jk6d\"]')\n",
    "        price.append(rs.text)\n",
    "    except NoSuchElementException:\n",
    "        price.append('-')"
   ]
  },
  {
   "cell_type": "code",
   "execution_count": 233,
   "id": "e922d011",
   "metadata": {},
   "outputs": [],
   "source": [
    "smartphone_name"
   ]
  },
  {
   "cell_type": "code",
   "execution_count": 234,
   "id": "71ae64fd",
   "metadata": {},
   "outputs": [],
   "source": [
    "rom"
   ]
  },
  {
   "cell_type": "code",
   "execution_count": 235,
   "id": "4fd5339d",
   "metadata": {},
   "outputs": [],
   "source": [
    "primary_camera"
   ]
  },
  {
   "cell_type": "code",
   "execution_count": 236,
   "id": "4de7dae9",
   "metadata": {},
   "outputs": [],
   "source": [
    "display_size"
   ]
  },
  {
   "cell_type": "code",
   "execution_count": null,
   "id": "612de3e1",
   "metadata": {},
   "outputs": [],
   "source": [
    "battery_append"
   ]
  },
  {
   "cell_type": "code",
   "execution_count": null,
   "id": "5b18e8d9",
   "metadata": {},
   "outputs": [],
   "source": [
    "price"
   ]
  },
  {
   "cell_type": "code",
   "execution_count": 237,
   "id": "937f6bd9",
   "metadata": {},
   "outputs": [],
   "source": [
    "df=pd.DataFrame({\"SmartPhone\":smartphone_name,\"Rom\":rom,\"Primary Camera\":primary_camera,\"Dispaly_size\":display_size,\"Battery Append\":battery_append,\"Price\":price})\n",
    "df"
   ]
  },
  {
   "cell_type": "markdown",
   "id": "38260b01",
   "metadata": {},
   "source": [
    "# QUESTION NO 5"
   ]
  },
  {
   "cell_type": "code",
   "execution_count": 97,
   "id": "41ac707d",
   "metadata": {},
   "outputs": [],
   "source": [
    "driver=webdriver.Chrome()"
   ]
  },
  {
   "cell_type": "code",
   "execution_count": 98,
   "id": "9dd3b415",
   "metadata": {},
   "outputs": [],
   "source": [
    "driver.get('https://www.billboard.com/')"
   ]
  },
  {
   "cell_type": "code",
   "execution_count": 99,
   "id": "c0e9f92e",
   "metadata": {},
   "outputs": [],
   "source": [
    "search=driver.find_element(By.XPATH,'/html/body/div[3]/header/div/div[3]/div/nav/ul/li[1]/a')\n",
    "search.click()"
   ]
  },
  {
   "cell_type": "code",
   "execution_count": 101,
   "id": "d337ac1c",
   "metadata": {},
   "outputs": [],
   "source": [
    "song_name=[]\n",
    "artist_name=[]\n",
    "last_week_rank=[]\n",
    "peak_rank=[]\n",
    "weeks_on_board=[]\n"
   ]
  },
  {
   "cell_type": "code",
   "execution_count": 113,
   "id": "4a09f5cb",
   "metadata": {},
   "outputs": [
    {
     "name": "stdout",
     "output_type": "stream",
     "text": [
      "['Like That', 'Type Shit', 'Beautiful Things', 'Lose Control', 'Too Sweet', 'Cinderella', 'Lovin On Me', \"We Don't Trust You\", 'Young Metro', \"We Can't Be Friends (Wait For Your Love)\", \"Texas Hold 'Em\", 'Carnival', 'Ice Attack', 'Obsessed', 'I Remember Everything', 'Cruel Summer', 'Greedy', 'Stick Season', 'Water', 'Slimed In', 'End Of Beginning', 'Agora Hills', 'Snooze', 'Claustrophobic', 'Fast Car', 'Saturn', 'Magic Don Juan (Princess Diana)', 'Get It Sexyy', 'Never Lose Me', 'Redrum', 'Act II: Date @ 8', 'Whatever She Wants', 'Fried (She A Vibe)', 'Made For Me', 'Feather', 'Runnin Outta Time', 'Man Made A Bar', 'Everyday Hustle', 'Truck Bed', 'GTA', \"Ain't No Love\", 'Houdini', 'Paint The Town Red', 'Enough (Miami)', 'Slow It Down', 'Selfish', \"Is It Over Now? (Taylor's Version) [From The Vault]\", '23', 'Yeah Glo!', 'Where The Wild Things Are', 'Burn It Down', 'WTFYM', 'Austin', 'Seen It All', 'Wild Ones', 'La Diabla', 'Exes', 'So American', 'Wildflowers And Wild Horses', 'The Boy Is Mine', 'Yes, And?', 'Where My Twin @', 'Get In With Me', 'Soak City', 'Scared To Start', 'Everybody', 'Praise Jah In The Moonlight', \"Mamaw's House\", 'La People II', 'I Like The Way You Kiss Me', 'Training Season', 'Punteria', 'Corazon de Piedra', 'One Of The Girls', 'Stranger', 'Mmhmm', 'Bandit', 'Surround Sound', 'Where It Ends', 'Supernatural', 'Tu Name', 'FTCU', 'Gata Only', 'I Can Feel It', 'Breathe', 'Bye', 'Eternal Sunshine', 'Wildflower And Barley', 'Sensational', 'Scared Of My Guitar', 'Spin You Around (1/24)', 'One Call', 'Best For Me', 'You Broke My Heart', 'Home', 'La Victima', 'Tucson Too Late', 'Empire Now', \"Girl I've Always Been\"]\n"
     ]
    },
    {
     "data": {
      "text/plain": [
       "99"
      ]
     },
     "execution_count": 113,
     "metadata": {},
     "output_type": "execute_result"
    }
   ],
   "source": [
    "tag=driver.find_elements(By.XPATH,'//h3[@class=\"c-title  a-no-trucate a-font-primary-bold-s u-letter-spacing-0021 lrv-u-font-size-18@tablet lrv-u-font-size-16 u-line-height-125 u-line-height-normal@mobile-max a-truncate-ellipsis u-max-width-330 u-max-width-230@tablet-only\"]')\n",
    "for i in tag:\n",
    "    names=i.text\n",
    "    song_name.append(names)\n",
    "song_name=song_name[0:99]\n",
    "print(song_name)\n",
    "len(song_name)"
   ]
  },
  {
   "cell_type": "code",
   "execution_count": 104,
   "id": "b5d0a368",
   "metadata": {},
   "outputs": [
    {
     "name": "stdout",
     "output_type": "stream",
     "text": [
      "['Future, Metro Boomin, Travis Scott & Playboi Carti', 'Benson Boone', 'Teddy Swims', 'Hozier', 'Future, Metro Boomin & Travis Scott', 'Jack Harlow', 'Future & Metro Boomin', 'Future, Metro Boomin & The Weeknd', 'Ariana Grande', 'Beyonce', '¥$: Ye & Ty Dolla $ign Featuring Rich The Kid & Playboi Carti', 'Future & Metro Boomin', 'Olivia Rodrigo', 'Zach Bryan Featuring Kacey Musgraves', 'Taylor Swift', 'Tate McRae', 'Noah Kahan', 'Tyla', 'Future & Metro Boomin', 'Djo', 'Doja Cat', 'SZA', 'Future & Metro Boomin', 'Luke Combs', 'SZA', 'Future & Metro Boomin', 'Sexyy Red', 'Flo Milli', '21 Savage', '4Batz Featuring Drake', 'Bryson Tiller', 'Future & Metro Boomin', 'Muni Long', 'Sabrina Carpenter', 'Future & Metro Boomin', 'Morgan Wallen Featuring Eric Church', 'Future, Metro Boomin & Rick Ross', 'HARDY', 'Future & Metro Boomin', 'Future & Metro Boomin', 'Dua Lipa', 'Doja Cat', 'Cardi B', 'Benson Boone', 'Justin Timberlake', 'Taylor Swift', 'Chayce Beckham', 'GloRilla', 'Luke Combs', 'Parker McCollum', 'Future & Metro Boomin', 'Dasha', 'Future & Metro Boomin', 'Jessie Murph & Jelly Roll', 'Xavi', 'Tate McRae', 'Olivia Rodrigo', 'Lainey Wilson', 'Ariana Grande', 'Ariana Grande', 'Future & Metro Boomin', 'BossMan Dlow', '310babii', 'Michael Marcagi', 'Nicki Minaj Featuring Lil Uzi Vert', 'YG Marley', 'Thomas Rhett Featuring Morgan Wallen', 'Peso Pluma, Tito Double P & Joel de La P', 'Artemas', 'Dua Lipa', 'Shakira & Cardi B', 'Xavi', 'The Weeknd, Jennie & Lily Rose Depp', 'Olivia Rodrigo', 'BigXthaPlug', 'Don Toliver', 'JID Featuring 21 Savage & Baby Tate', 'Bailey Zimmerman', 'Ariana Grande', 'Fuerza Regida', 'Nicki Minaj', 'FloyyMenor X Cris Mj', 'Kane Brown', 'Yeat', 'Ariana Grande', 'Ariana Grande', 'Hozier & Allison Russell', 'Chris Brown Featuring Davido & Lojay', 'Olivia Rodrigo', 'Morgan Wallen', 'Rich Amiri', 'Joyner Lucas & Jelly Roll', 'Drake', 'Good Neighbours', 'Xavi', 'Jordan Davis', 'Hozier', 'Olivia Rodrigo', 'Sam Hunt']\n"
     ]
    },
    {
     "data": {
      "text/plain": [
       "99"
      ]
     },
     "execution_count": 104,
     "metadata": {},
     "output_type": "execute_result"
    }
   ],
   "source": [
    "tag=driver.find_elements(By.XPATH,'//span[@class=\"c-label  a-no-trucate a-font-primary-s lrv-u-font-size-14@mobile-max u-line-height-normal@mobile-max u-letter-spacing-0021 lrv-u-display-block a-truncate-ellipsis-2line u-max-width-330 u-max-width-230@tablet-only\"]')\n",
    "for i in tag:\n",
    "    names=i.text\n",
    "    artist_name.append(names)\n",
    "artist_name=artist_name[0:100]\n",
    "print(artist_name)\n",
    "len(artist_name)"
   ]
  },
  {
   "cell_type": "code",
   "execution_count": 105,
   "id": "127c66f4",
   "metadata": {},
   "outputs": [
    {
     "name": "stdout",
     "output_type": "stream",
     "text": [
      "['-', '2', '1', '', '', '', '2', '2', '10', '', '', '', '1', '1', '33', '', '', '', '-', '5', '1', '', '', '', '-', '6', '1', '', '', '', '4', '1', '20', '', '', '', '-', '8', '1', '', '', '', '-', '9', '1', '', '', '', '3', '1', '3', '', '', '', '6', '1', '7', '', '', '', '5', '1', '7', '', '', '', '-', '13', '1', '', '', '', '-', '14', '1', '', '', '', '7', '1', '31', '', '', '', '10', '1', '47', '', '', '', '8', '3', '28', '', '', '', '12', '10', '26', '', '', '', '20', '7', '26', '', '', '', '-', '20', '1', '', '', '', '11', '11', '6', '', '', '', '13', '7', '27', '', '', '', '14', '2', '67', '', '', '', '-', '24', '1', '', '', '', '18', '2', '53', '', '', '', '17', '6', '5', '', '', '', '-', '27', '1', '', '', '', '23', '23', '2', '', '', '', '15', '15', '15', '', '', '', '22', '5', '11', '', '', '', '19', '7', '12', '', '', '', '24', '19', '6', '', '', '', '-', '33', '1', '', '', '', '25', '20', '11', '', '', '', '26', '26', '17', '', '', '', '-', '36', '1', '', '', '', '28', '15', '27', '', '', '', '-', '38', '1', '', '', '', '27', '27', '41', '', '', '', '-', '40', '1', '', '', '', '-', '41', '1', '', '', '', '29', '11', '20', '', '', '', '32', '1', '34', '', '', '', '9', '9', '2', '', '', '', '-', '45', '1', '', '', '', '30', '19', '9', '', '', '', '31', '1', '22', '', '', '', '45', '45', '13', '', '', '', '35', '35', '7', '', '', '', '41', '26', '19', '', '', '', '42', '42', '23', '', '', '', '-', '52', '1', '', '', '', '59', '53', '3', '', '', '', '-', '54', '1', '', '', '', '37', '35', '25', '', '', '', '44', '20', '15', '', '', '', '43', '34', '19', '', '', '', '-', '58', '1', '', '', '', '48', '48', '9', '', '', '', '34', '16', '3', '', '', '', '36', '1', '11', '', '', '', '-', '62', '1', '', '', '', '50', '49', '8', '', '', '', '53', '53', '15', '', '', '', '56', '56', '6', '', '', '', '51', '24', '16', '', '', '', '62', '34', '9', '', '', '', '55', '55', '13', '', '', '', '-', '69', '1', '', '', '', '-', '70', '1', '', '', '', '61', '27', '6', '', '', '', '-', '72', '1', '', '', '', '-', '73', '1', '', '', '', '58', '51', '14', '', '', '', '-', '75', '1', '', '', '', '70', '65', '14', '', '', '', '60', '38', '8', '', '', '', '57', '40', '20', '', '', '', '67', '32', '13', '', '', '', '40', '17', '3', '', '', '', '74', '66', '6', '', '', '', '71', '15', '16', '', '', '', '98', '83', '2', '', '', '', '63', '50', '13', '', '', '', '64', '42', '6', '', '', '', '52', '25', '3', '', '', '', '49', '23', '3', '', '', '', '-', '88', '1', '', '', '', '73', '71', '8', '', '', '', '-', '90', '1', '', '', '', '78', '24', '9', '', '', '', '75', '60', '9', '', '', '', '-', '93', '1', '', '', '', '69', '11', '19', '', '', '', '80', '77', '8', '', '', '', '77', '46', '15', '', '', '', '81', '81', '4', '', '', '', '-', '98', '1', '', '', '', '-', '99', '1', '', '', '', '92', '92', '3', '', '', '']\n"
     ]
    },
    {
     "data": {
      "text/plain": [
       "594"
      ]
     },
     "execution_count": 105,
     "metadata": {},
     "output_type": "execute_result"
    }
   ],
   "source": [
    "data=[]\n",
    "tag=driver.find_elements(By.XPATH,'//span[@class=\"c-label  a-font-primary-m lrv-u-padding-tb-050@mobile-max\"]')\n",
    "for i in tag:\n",
    "    names=i.text\n",
    "    data.append(names)\n",
    "print(data)\n",
    "len(data)"
   ]
  },
  {
   "cell_type": "code",
   "execution_count": 106,
   "id": "31ab5a18",
   "metadata": {},
   "outputs": [
    {
     "data": {
      "text/plain": [
       "['-',\n",
       " '2',\n",
       " '1',\n",
       " '-',\n",
       " '-',\n",
       " '4',\n",
       " '-',\n",
       " '-',\n",
       " '3',\n",
       " '6',\n",
       " '5',\n",
       " '-',\n",
       " '-',\n",
       " '7',\n",
       " '10',\n",
       " '8',\n",
       " '12',\n",
       " '20',\n",
       " '-',\n",
       " '11',\n",
       " '13',\n",
       " '14',\n",
       " '-',\n",
       " '18',\n",
       " '17',\n",
       " '-',\n",
       " '23',\n",
       " '15',\n",
       " '22',\n",
       " '19',\n",
       " '24',\n",
       " '-',\n",
       " '25',\n",
       " '26',\n",
       " '-',\n",
       " '28',\n",
       " '-',\n",
       " '27',\n",
       " '-',\n",
       " '-',\n",
       " '29',\n",
       " '32',\n",
       " '9',\n",
       " '-',\n",
       " '30',\n",
       " '31',\n",
       " '45',\n",
       " '35',\n",
       " '41',\n",
       " '42',\n",
       " '-',\n",
       " '59',\n",
       " '-',\n",
       " '37',\n",
       " '44',\n",
       " '43',\n",
       " '-',\n",
       " '48',\n",
       " '34',\n",
       " '36',\n",
       " '-',\n",
       " '50',\n",
       " '53',\n",
       " '56',\n",
       " '51',\n",
       " '62',\n",
       " '55',\n",
       " '-',\n",
       " '-',\n",
       " '61',\n",
       " '-',\n",
       " '-',\n",
       " '58',\n",
       " '-',\n",
       " '70',\n",
       " '60',\n",
       " '57',\n",
       " '67',\n",
       " '40',\n",
       " '74',\n",
       " '71',\n",
       " '98',\n",
       " '63',\n",
       " '64',\n",
       " '52',\n",
       " '49',\n",
       " '-',\n",
       " '73',\n",
       " '-',\n",
       " '78',\n",
       " '75',\n",
       " '-',\n",
       " '69',\n",
       " '80',\n",
       " '77',\n",
       " '81',\n",
       " '-',\n",
       " '-',\n",
       " '92']"
      ]
     },
     "execution_count": 106,
     "metadata": {},
     "output_type": "execute_result"
    }
   ],
   "source": [
    "last_week_rank=data[0:594:6]\n",
    "last_week_rank=last_week_rank[0:100]\n",
    "last_week_rank"
   ]
  },
  {
   "cell_type": "code",
   "execution_count": 107,
   "id": "50b094da",
   "metadata": {},
   "outputs": [
    {
     "data": {
      "text/plain": [
       "99"
      ]
     },
     "execution_count": 107,
     "metadata": {},
     "output_type": "execute_result"
    }
   ],
   "source": [
    "len(last_week_rank)"
   ]
  },
  {
   "cell_type": "code",
   "execution_count": 108,
   "id": "32100717",
   "metadata": {},
   "outputs": [
    {
     "data": {
      "text/plain": [
       "['2',\n",
       " '2',\n",
       " '1',\n",
       " '5',\n",
       " '6',\n",
       " '1',\n",
       " '8',\n",
       " '9',\n",
       " '1',\n",
       " '1',\n",
       " '1',\n",
       " '13',\n",
       " '14',\n",
       " '1',\n",
       " '1',\n",
       " '3',\n",
       " '10',\n",
       " '7',\n",
       " '20',\n",
       " '11',\n",
       " '7',\n",
       " '2',\n",
       " '24',\n",
       " '2',\n",
       " '6',\n",
       " '27',\n",
       " '23',\n",
       " '15',\n",
       " '5',\n",
       " '7',\n",
       " '19',\n",
       " '33',\n",
       " '20',\n",
       " '26',\n",
       " '36',\n",
       " '15',\n",
       " '38',\n",
       " '27',\n",
       " '40',\n",
       " '41',\n",
       " '11',\n",
       " '1',\n",
       " '9',\n",
       " '45',\n",
       " '19',\n",
       " '1',\n",
       " '45',\n",
       " '35',\n",
       " '26',\n",
       " '42',\n",
       " '52',\n",
       " '53',\n",
       " '54',\n",
       " '35',\n",
       " '20',\n",
       " '34',\n",
       " '58',\n",
       " '48',\n",
       " '16',\n",
       " '1',\n",
       " '62',\n",
       " '49',\n",
       " '53',\n",
       " '56',\n",
       " '24',\n",
       " '34',\n",
       " '55',\n",
       " '69',\n",
       " '70',\n",
       " '27',\n",
       " '72',\n",
       " '73',\n",
       " '51',\n",
       " '75',\n",
       " '65',\n",
       " '38',\n",
       " '40',\n",
       " '32',\n",
       " '17',\n",
       " '66',\n",
       " '15',\n",
       " '83',\n",
       " '50',\n",
       " '42',\n",
       " '25',\n",
       " '23',\n",
       " '88',\n",
       " '71',\n",
       " '90',\n",
       " '24',\n",
       " '60',\n",
       " '93',\n",
       " '11',\n",
       " '77',\n",
       " '46',\n",
       " '81',\n",
       " '98',\n",
       " '99',\n",
       " '92']"
      ]
     },
     "execution_count": 108,
     "metadata": {},
     "output_type": "execute_result"
    }
   ],
   "source": [
    "peak_rank=data[1:594:6]\n",
    "peak_rank=peak_rank[0:100]\n",
    "peak_rank"
   ]
  },
  {
   "cell_type": "code",
   "execution_count": 109,
   "id": "8df00e1f",
   "metadata": {},
   "outputs": [
    {
     "data": {
      "text/plain": [
       "99"
      ]
     },
     "execution_count": 109,
     "metadata": {},
     "output_type": "execute_result"
    }
   ],
   "source": [
    "len(peak_rank)"
   ]
  },
  {
   "cell_type": "code",
   "execution_count": 110,
   "id": "153e154a",
   "metadata": {},
   "outputs": [
    {
     "data": {
      "text/plain": [
       "['1',\n",
       " '10',\n",
       " '33',\n",
       " '1',\n",
       " '1',\n",
       " '20',\n",
       " '1',\n",
       " '1',\n",
       " '3',\n",
       " '7',\n",
       " '7',\n",
       " '1',\n",
       " '1',\n",
       " '31',\n",
       " '47',\n",
       " '28',\n",
       " '26',\n",
       " '26',\n",
       " '1',\n",
       " '6',\n",
       " '27',\n",
       " '67',\n",
       " '1',\n",
       " '53',\n",
       " '5',\n",
       " '1',\n",
       " '2',\n",
       " '15',\n",
       " '11',\n",
       " '12',\n",
       " '6',\n",
       " '1',\n",
       " '11',\n",
       " '17',\n",
       " '1',\n",
       " '27',\n",
       " '1',\n",
       " '41',\n",
       " '1',\n",
       " '1',\n",
       " '20',\n",
       " '34',\n",
       " '2',\n",
       " '1',\n",
       " '9',\n",
       " '22',\n",
       " '13',\n",
       " '7',\n",
       " '19',\n",
       " '23',\n",
       " '1',\n",
       " '3',\n",
       " '1',\n",
       " '25',\n",
       " '15',\n",
       " '19',\n",
       " '1',\n",
       " '9',\n",
       " '3',\n",
       " '11',\n",
       " '1',\n",
       " '8',\n",
       " '15',\n",
       " '6',\n",
       " '16',\n",
       " '9',\n",
       " '13',\n",
       " '1',\n",
       " '1',\n",
       " '6',\n",
       " '1',\n",
       " '1',\n",
       " '14',\n",
       " '1',\n",
       " '14',\n",
       " '8',\n",
       " '20',\n",
       " '13',\n",
       " '3',\n",
       " '6',\n",
       " '16',\n",
       " '2',\n",
       " '13',\n",
       " '6',\n",
       " '3',\n",
       " '3',\n",
       " '1',\n",
       " '8',\n",
       " '1',\n",
       " '9',\n",
       " '9',\n",
       " '1',\n",
       " '19',\n",
       " '8',\n",
       " '15',\n",
       " '4',\n",
       " '1',\n",
       " '1',\n",
       " '3']"
      ]
     },
     "execution_count": 110,
     "metadata": {},
     "output_type": "execute_result"
    }
   ],
   "source": [
    "weeks_on_board=data[2:594:6]\n",
    "weeks_on_board=weeks_on_board[0:100]\n",
    "weeks_on_board"
   ]
  },
  {
   "cell_type": "code",
   "execution_count": 111,
   "id": "54d274f8",
   "metadata": {},
   "outputs": [
    {
     "data": {
      "text/plain": [
       "99"
      ]
     },
     "execution_count": 111,
     "metadata": {},
     "output_type": "execute_result"
    }
   ],
   "source": [
    "len(weeks_on_board)"
   ]
  },
  {
   "cell_type": "code",
   "execution_count": 117,
   "id": "86b2105a",
   "metadata": {},
   "outputs": [
    {
     "data": {
      "text/html": [
       "<div>\n",
       "<style scoped>\n",
       "    .dataframe tbody tr th:only-of-type {\n",
       "        vertical-align: middle;\n",
       "    }\n",
       "\n",
       "    .dataframe tbody tr th {\n",
       "        vertical-align: top;\n",
       "    }\n",
       "\n",
       "    .dataframe thead th {\n",
       "        text-align: right;\n",
       "    }\n",
       "</style>\n",
       "<table border=\"1\" class=\"dataframe\">\n",
       "  <thead>\n",
       "    <tr style=\"text-align: right;\">\n",
       "      <th></th>\n",
       "      <th>Song Name</th>\n",
       "      <th>Artist Name</th>\n",
       "      <th>Current Rank</th>\n",
       "      <th>Last Week rank</th>\n",
       "      <th>Week On Borad</th>\n",
       "    </tr>\n",
       "  </thead>\n",
       "  <tbody>\n",
       "    <tr>\n",
       "      <th>0</th>\n",
       "      <td>Like That</td>\n",
       "      <td>Future, Metro Boomin, Travis Scott &amp; Playboi C...</td>\n",
       "      <td>2</td>\n",
       "      <td>-</td>\n",
       "      <td>1</td>\n",
       "    </tr>\n",
       "    <tr>\n",
       "      <th>1</th>\n",
       "      <td>Type Shit</td>\n",
       "      <td>Benson Boone</td>\n",
       "      <td>2</td>\n",
       "      <td>2</td>\n",
       "      <td>10</td>\n",
       "    </tr>\n",
       "    <tr>\n",
       "      <th>2</th>\n",
       "      <td>Beautiful Things</td>\n",
       "      <td>Teddy Swims</td>\n",
       "      <td>1</td>\n",
       "      <td>1</td>\n",
       "      <td>33</td>\n",
       "    </tr>\n",
       "    <tr>\n",
       "      <th>3</th>\n",
       "      <td>Lose Control</td>\n",
       "      <td>Hozier</td>\n",
       "      <td>5</td>\n",
       "      <td>-</td>\n",
       "      <td>1</td>\n",
       "    </tr>\n",
       "    <tr>\n",
       "      <th>4</th>\n",
       "      <td>Too Sweet</td>\n",
       "      <td>Future, Metro Boomin &amp; Travis Scott</td>\n",
       "      <td>6</td>\n",
       "      <td>-</td>\n",
       "      <td>1</td>\n",
       "    </tr>\n",
       "    <tr>\n",
       "      <th>...</th>\n",
       "      <td>...</td>\n",
       "      <td>...</td>\n",
       "      <td>...</td>\n",
       "      <td>...</td>\n",
       "      <td>...</td>\n",
       "    </tr>\n",
       "    <tr>\n",
       "      <th>94</th>\n",
       "      <td>Home</td>\n",
       "      <td>Xavi</td>\n",
       "      <td>46</td>\n",
       "      <td>77</td>\n",
       "      <td>15</td>\n",
       "    </tr>\n",
       "    <tr>\n",
       "      <th>95</th>\n",
       "      <td>La Victima</td>\n",
       "      <td>Jordan Davis</td>\n",
       "      <td>81</td>\n",
       "      <td>81</td>\n",
       "      <td>4</td>\n",
       "    </tr>\n",
       "    <tr>\n",
       "      <th>96</th>\n",
       "      <td>Tucson Too Late</td>\n",
       "      <td>Hozier</td>\n",
       "      <td>98</td>\n",
       "      <td>-</td>\n",
       "      <td>1</td>\n",
       "    </tr>\n",
       "    <tr>\n",
       "      <th>97</th>\n",
       "      <td>Empire Now</td>\n",
       "      <td>Olivia Rodrigo</td>\n",
       "      <td>99</td>\n",
       "      <td>-</td>\n",
       "      <td>1</td>\n",
       "    </tr>\n",
       "    <tr>\n",
       "      <th>98</th>\n",
       "      <td>Girl I've Always Been</td>\n",
       "      <td>Sam Hunt</td>\n",
       "      <td>92</td>\n",
       "      <td>92</td>\n",
       "      <td>3</td>\n",
       "    </tr>\n",
       "  </tbody>\n",
       "</table>\n",
       "<p>99 rows × 5 columns</p>\n",
       "</div>"
      ],
      "text/plain": [
       "                Song Name                                        Artist Name  \\\n",
       "0               Like That  Future, Metro Boomin, Travis Scott & Playboi C...   \n",
       "1               Type Shit                                       Benson Boone   \n",
       "2        Beautiful Things                                        Teddy Swims   \n",
       "3            Lose Control                                             Hozier   \n",
       "4               Too Sweet                Future, Metro Boomin & Travis Scott   \n",
       "..                    ...                                                ...   \n",
       "94                   Home                                               Xavi   \n",
       "95             La Victima                                       Jordan Davis   \n",
       "96        Tucson Too Late                                             Hozier   \n",
       "97             Empire Now                                     Olivia Rodrigo   \n",
       "98  Girl I've Always Been                                           Sam Hunt   \n",
       "\n",
       "   Current Rank Last Week rank Week On Borad  \n",
       "0             2              -             1  \n",
       "1             2              2            10  \n",
       "2             1              1            33  \n",
       "3             5              -             1  \n",
       "4             6              -             1  \n",
       "..          ...            ...           ...  \n",
       "94           46             77            15  \n",
       "95           81             81             4  \n",
       "96           98              -             1  \n",
       "97           99              -             1  \n",
       "98           92             92             3  \n",
       "\n",
       "[99 rows x 5 columns]"
      ]
     },
     "execution_count": 117,
     "metadata": {},
     "output_type": "execute_result"
    }
   ],
   "source": [
    "df=pd.DataFrame({\"Song Name\":song_name,\"Artist Name\":artist_name,\"Current Rank\":peak_rank,\"Last Week rank\":last_week_rank,\"Week On Borad\":weeks_on_board})\n",
    "df"
   ]
  },
  {
   "cell_type": "code",
   "execution_count": null,
   "id": "154de3d7",
   "metadata": {},
   "outputs": [],
   "source": []
  },
  {
   "cell_type": "code",
   "execution_count": null,
   "id": "fa4f7a3e",
   "metadata": {},
   "outputs": [],
   "source": []
  },
  {
   "cell_type": "markdown",
   "id": "f8f2fd79",
   "metadata": {},
   "source": [
    "# QUESTION NO 6"
   ]
  },
  {
   "cell_type": "code",
   "execution_count": 118,
   "id": "2f0424a1",
   "metadata": {},
   "outputs": [],
   "source": [
    "driver=webdriver.Chrome()"
   ]
  },
  {
   "cell_type": "code",
   "execution_count": 119,
   "id": "5c8077a1",
   "metadata": {},
   "outputs": [],
   "source": [
    "driver.get('https://www.theguardian.com/news/datablog/2012/aug/09/best-selling-books-all-time-fifty-shades-grey-compare')"
   ]
  },
  {
   "cell_type": "code",
   "execution_count": 120,
   "id": "f05ad0bd",
   "metadata": {},
   "outputs": [],
   "source": [
    "data=[]\n",
    "rank=[]\n",
    "book_name=[]\n",
    "author_name=[]\n",
    "sold=[]\n",
    "publisher=[]\n",
    "genre=[]\n"
   ]
  },
  {
   "cell_type": "code",
   "execution_count": 122,
   "id": "51161788",
   "metadata": {},
   "outputs": [
    {
     "name": "stdout",
     "output_type": "stream",
     "text": [
      "['1', 'Da Vinci Code,The', 'Brown, Dan', '5,094,805', 'Transworld', 'Crime, Thriller & Adventure', '2', 'Harry Potter and the Deathly Hallows', 'Rowling, J.K.', '4,475,152', 'Bloomsbury', \"Children's Fiction\", '3', \"Harry Potter and the Philosopher's Stone\", 'Rowling, J.K.', '4,200,654', 'Bloomsbury', \"Children's Fiction\", '4', 'Harry Potter and the Order of the Phoenix', 'Rowling, J.K.', '4,179,479', 'Bloomsbury', \"Children's Fiction\", '5', 'Fifty Shades of Grey', 'James, E. L.', '3,758,936', 'Random House', 'Romance & Sagas', '6', 'Harry Potter and the Goblet of Fire', 'Rowling, J.K.', '3,583,215', 'Bloomsbury', \"Children's Fiction\", '7', 'Harry Potter and the Chamber of Secrets', 'Rowling, J.K.', '3,484,047', 'Bloomsbury', \"Children's Fiction\", '8', 'Harry Potter and the Prisoner of Azkaban', 'Rowling, J.K.', '3,377,906', 'Bloomsbury', \"Children's Fiction\", '9', 'Angels and Demons', 'Brown, Dan', '3,193,946', 'Transworld', 'Crime, Thriller & Adventure', '10', \"Harry Potter and the Half-blood Prince:Children's Edition\", 'Rowling, J.K.', '2,950,264', 'Bloomsbury', \"Children's Fiction\", '11', 'Fifty Shades Darker', 'James, E. L.', '2,479,784', 'Random House', 'Romance & Sagas', '12', 'Twilight', 'Meyer, Stephenie', '2,315,405', 'Little, Brown Book', 'Young Adult Fiction', '13', 'Girl with the Dragon Tattoo,The:Millennium Trilogy', 'Larsson, Stieg', '2,233,570', 'Quercus', 'Crime, Thriller & Adventure', '14', 'Fifty Shades Freed', 'James, E. L.', '2,193,928', 'Random House', 'Romance & Sagas', '15', 'Lost Symbol,The', 'Brown, Dan', '2,183,031', 'Transworld', 'Crime, Thriller & Adventure', '16', 'New Moon', 'Meyer, Stephenie', '2,152,737', 'Little, Brown Book', 'Young Adult Fiction', '17', 'Deception Point', 'Brown, Dan', '2,062,145', 'Transworld', 'Crime, Thriller & Adventure', '18', 'Eclipse', 'Meyer, Stephenie', '2,052,876', 'Little, Brown Book', 'Young Adult Fiction', '19', 'Lovely Bones,The', 'Sebold, Alice', '2,005,598', 'Pan Macmillan', 'General & Literary Fiction', '20', 'Curious Incident of the Dog in the Night-time,The', 'Haddon, Mark', '1,979,552', 'Random House', 'General & Literary Fiction', '21', 'Digital Fortress', 'Brown, Dan', '1,928,900', 'Transworld', 'Crime, Thriller & Adventure', '22', 'Short History of Nearly Everything,A', 'Bryson, Bill', '1,852,919', 'Transworld', 'Popular Science', '23', 'Girl Who Played with Fire,The:Millennium Trilogy', 'Larsson, Stieg', '1,814,784', 'Quercus', 'Crime, Thriller & Adventure', '24', 'Breaking Dawn', 'Meyer, Stephenie', '1,787,118', 'Little, Brown Book', 'Young Adult Fiction', '25', 'Very Hungry Caterpillar,The:The Very Hungry Caterpillar', 'Carle, Eric', '1,783,535', 'Penguin', 'Picture Books', '26', 'Gruffalo,The', 'Donaldson, Julia', '1,781,269', 'Pan Macmillan', 'Picture Books', '27', \"Jamie's 30-Minute Meals\", 'Oliver, Jamie', '1,743,266', 'Penguin', 'Food & Drink: General', '28', 'Kite Runner,The', 'Hosseini, Khaled', '1,629,119', 'Bloomsbury', 'General & Literary Fiction', '29', 'One Day', 'Nicholls, David', '1,616,068', 'Hodder & Stoughton', 'General & Literary Fiction', '30', 'Thousand Splendid Suns,A', 'Hosseini, Khaled', '1,583,992', 'Bloomsbury', 'General & Literary Fiction', '31', \"Girl Who Kicked the Hornets' Nest,The:Millennium Trilogy\", 'Larsson, Stieg', '1,555,135', 'Quercus', 'Crime, Thriller & Adventure', '32', \"Time Traveler's Wife,The\", 'Niffenegger, Audrey', '1,546,886', 'Random House', 'General & Literary Fiction', '33', 'Atonement', 'McEwan, Ian', '1,539,428', 'Random House', 'General & Literary Fiction', '34', \"Bridget Jones's Diary:A Novel\", 'Fielding, Helen', '1,508,205', 'Pan Macmillan', 'General & Literary Fiction', '35', 'World According to Clarkson,The', 'Clarkson, Jeremy', '1,489,403', 'Penguin', 'Humour: Collections & General', '36', \"Captain Corelli's Mandolin\", 'Bernieres, Louis de', '1,352,318', 'Random House', 'General & Literary Fiction', '37', 'Sound of Laughter,The', 'Kay, Peter', '1,310,207', 'Random House', 'Autobiography: General', '38', 'Life of Pi', 'Martel, Yann', '1,310,176', 'Canongate', 'General & Literary Fiction', '39', 'Billy Connolly', 'Stephenson, Pamela', '1,231,957', 'HarperCollins', 'Biography: The Arts', '40', 'Child Called It,A', 'Pelzer, Dave', '1,217,712', 'Orion', 'Autobiography: General', '41', \"Gruffalo's Child,The\", 'Donaldson, Julia', '1,208,711', 'Pan Macmillan', 'Picture Books', '42', \"Angela's Ashes:A Memoir of a Childhood\", 'McCourt, Frank', '1,204,058', 'HarperCollins', 'Autobiography: General', '43', 'Birdsong', 'Faulks, Sebastian', '1,184,967', 'Random House', 'General & Literary Fiction', '44', 'Northern Lights:His Dark Materials S.', 'Pullman, Philip', '1,181,503', 'Scholastic Ltd.', 'Young Adult Fiction', '45', 'Labyrinth', 'Mosse, Kate', '1,181,093', 'Orion', 'General & Literary Fiction', '46', 'Harry Potter and the Half-blood Prince', 'Rowling, J.K.', '1,153,181', 'Bloomsbury', 'Science Fiction & Fantasy', '47', 'Help,The', 'Stockett, Kathryn', '1,132,336', 'Penguin', 'General & Literary Fiction', '48', 'Man and Boy', 'Parsons, Tony', '1,130,802', 'HarperCollins', 'General & Literary Fiction', '49', 'Memoirs of a Geisha', 'Golden, Arthur', '1,126,337', 'Random House', 'General & Literary Fiction', '50', \"No.1 Ladies' Detective Agency,The:No.1 Ladies' Detective Agency S.\", 'McCall Smith, Alexander', '1,115,549', 'Little, Brown Book', 'Crime, Thriller & Adventure', '51', 'Island,The', 'Hislop, Victoria', '1,108,328', 'Headline', 'General & Literary Fiction', '52', 'PS, I Love You', 'Ahern, Cecelia', '1,107,379', 'HarperCollins', 'General & Literary Fiction', '53', 'You are What You Eat:The Plan That Will Change Your Life', 'McKeith, Gillian', '1,104,403', 'Penguin', 'Fitness & Diet', '54', 'Shadow of the Wind,The', 'Zafon, Carlos Ruiz', '1,092,349', 'Orion', 'General & Literary Fiction', '55', 'Tales of Beedle the Bard,The', 'Rowling, J.K.', '1,090,847', 'Bloomsbury', \"Children's Fiction\", '56', 'Broker,The', 'Grisham, John', '1,087,262', 'Random House', 'Crime, Thriller & Adventure', '57', \"Dr. Atkins' New Diet Revolution:The No-hunger, Luxurious Weight Loss P\", 'Atkins, Robert C.', '1,054,196', 'Random House', 'Fitness & Diet', '58', 'Subtle Knife,The:His Dark Materials S.', 'Pullman, Philip', '1,037,160', 'Scholastic Ltd.', 'Young Adult Fiction', '59', 'Eats, Shoots and Leaves:The Zero Tolerance Approach to Punctuation', 'Truss, Lynne', '1,023,688', 'Profile Books Group', 'Usage & Writing Guides', '60', \"Delia's How to Cook:(Bk.1)\", 'Smith, Delia', '1,015,956', 'Random House', 'Food & Drink: General', '61', 'Chocolat', 'Harris, Joanne', '1,009,873', 'Transworld', 'General & Literary Fiction', '62', 'Boy in the Striped Pyjamas,The', 'Boyne, John', '1,004,414', 'Random House Childrens Books G', 'Young Adult Fiction', '63', \"My Sister's Keeper\", 'Picoult, Jodi', '1,003,780', 'Hodder & Stoughton', 'General & Literary Fiction', '64', 'Amber Spyglass,The:His Dark Materials S.', 'Pullman, Philip', '1,002,314', 'Scholastic Ltd.', 'Young Adult Fiction', '65', 'To Kill a Mockingbird', 'Lee, Harper', '998,213', 'Random House', 'General & Literary Fiction', '66', 'Men are from Mars, Women are from Venus:A Practical Guide for Improvin', 'Gray, John', '992,846', 'HarperCollins', 'Popular Culture & Media: General Interest', '67', 'Dear Fatty', 'French, Dawn', '986,753', 'Random House', 'Autobiography: The Arts', '68', 'Short History of Tractors in Ukrainian,A', 'Lewycka, Marina', '986,115', 'Penguin', 'General & Literary Fiction', '69', 'Hannibal', 'Harris, Thomas', '970,509', 'Random House', 'Crime, Thriller & Adventure', '70', 'Lord of the Rings,The', 'Tolkien, J. R. R.', '967,466', 'HarperCollins', 'Science Fiction & Fantasy', '71', 'Stupid White Men:...and Other Sorry Excuses for the State of the Natio', 'Moore, Michael', '963,353', 'Penguin', 'Current Affairs & Issues', '72', 'Interpretation of Murder,The', 'Rubenfeld, Jed', '962,515', 'Headline', 'Crime, Thriller & Adventure', '73', 'Sharon Osbourne Extreme:My Autobiography', 'Osbourne, Sharon', '959,496', 'Little, Brown Book', 'Autobiography: The Arts', '74', 'Alchemist,The:A Fable About Following Your Dream', 'Coelho, Paulo', '956,114', 'HarperCollins', 'General & Literary Fiction', '75', \"At My Mother's Knee ...:and Other Low Joints\", \"O'Grady, Paul\", '945,640', 'Transworld', 'Autobiography: The Arts', '76', 'Notes from a Small Island', 'Bryson, Bill', '931,312', 'Transworld', 'Travel Writing', '77', 'Return of the Naked Chef,The', 'Oliver, Jamie', '925,425', 'Penguin', 'Food & Drink: General', '78', 'Bridget Jones: The Edge of Reason', 'Fielding, Helen', '924,695', 'Pan Macmillan', 'General & Literary Fiction', '79', \"Jamie's Italy\", 'Oliver, Jamie', '906,968', 'Penguin', 'National & Regional Cuisine', '80', 'I Can Make You Thin', 'McKenna, Paul', '905,086', 'Transworld', 'Fitness & Diet', '81', 'Down Under', 'Bryson, Bill', '890,847', 'Transworld', 'Travel Writing', '82', 'Summons,The', 'Grisham, John', '869,671', 'Random House', 'Crime, Thriller & Adventure', '83', 'Small Island', 'Levy, Andrea', '869,659', 'Headline', 'General & Literary Fiction', '84', 'Nigella Express', 'Lawson, Nigella', '862,602', 'Random House', 'Food & Drink: General', '85', 'Brick Lane', 'Ali, Monica', '856,540', 'Transworld', 'General & Literary Fiction', '86', \"Memory Keeper's Daughter,The\", 'Edwards, Kim', '845,858', 'Penguin', 'General & Literary Fiction', '87', 'Room on the Broom', 'Donaldson, Julia', '842,535', 'Pan Macmillan', 'Picture Books', '88', 'About a Boy', 'Hornby, Nick', '828,215', 'Penguin', 'General & Literary Fiction', '89', 'My Booky Wook', 'Brand, Russell', '820,563', 'Hodder & Stoughton', 'Autobiography: The Arts', '90', 'God Delusion,The', 'Dawkins, Richard', '816,907', 'Transworld', 'Popular Science', '91', '\"Beano\" Annual,The', '0', '816,585', 'D.C. Thomson', \"Children's Annuals\", '92', 'White Teeth', 'Smith, Zadie', '815,586', 'Penguin', 'General & Literary Fiction', '93', 'House at Riverton,The', 'Morton, Kate', '814,370', 'Pan Macmillan', 'General & Literary Fiction', '94', 'Book Thief,The', 'Zusak, Markus', '809,641', 'Transworld', 'General & Literary Fiction', '95', 'Nights of Rain and Stars', 'Binchy, Maeve', '808,900', 'Orion', 'General & Literary Fiction', '96', 'Ghost,The', 'Harris, Robert', '807,311', 'Random House', 'General & Literary Fiction', '97', 'Happy Days with the Naked Chef', 'Oliver, Jamie', '794,201', 'Penguin', 'Food & Drink: General', '98', 'Hunger Games,The:Hunger Games Trilogy', 'Collins, Suzanne', '792,187', 'Scholastic Ltd.', 'Young Adult Fiction', '99', \"Lost Boy,The:A Foster Child's Search for the Love of a Family\", 'Pelzer, Dave', '791,507', 'Orion', 'Biography: General', '100', \"Jamie's Ministry of Food:Anyone Can Learn to Cook in 24 Hours\", 'Oliver, Jamie', '791,095', 'Penguin', 'Food & Drink: General']\n"
     ]
    },
    {
     "data": {
      "text/plain": [
       "600"
      ]
     },
     "execution_count": 122,
     "metadata": {},
     "output_type": "execute_result"
    }
   ],
   "source": [
    "tag=driver.find_elements(By.TAG_NAME,'td')\n",
    "for i in tag:\n",
    "    names=i.text\n",
    "    data.append(names)\n",
    "data=data[1:601]\n",
    "print(data)\n",
    "len(data)"
   ]
  },
  {
   "cell_type": "code",
   "execution_count": 123,
   "id": "566851e2",
   "metadata": {},
   "outputs": [
    {
     "data": {
      "text/plain": [
       "['1',\n",
       " '2',\n",
       " '3',\n",
       " '4',\n",
       " '5',\n",
       " '6',\n",
       " '7',\n",
       " '8',\n",
       " '9',\n",
       " '10',\n",
       " '11',\n",
       " '12',\n",
       " '13',\n",
       " '14',\n",
       " '15',\n",
       " '16',\n",
       " '17',\n",
       " '18',\n",
       " '19',\n",
       " '20',\n",
       " '21',\n",
       " '22',\n",
       " '23',\n",
       " '24',\n",
       " '25',\n",
       " '26',\n",
       " '27',\n",
       " '28',\n",
       " '29',\n",
       " '30',\n",
       " '31',\n",
       " '32',\n",
       " '33',\n",
       " '34',\n",
       " '35',\n",
       " '36',\n",
       " '37',\n",
       " '38',\n",
       " '39',\n",
       " '40',\n",
       " '41',\n",
       " '42',\n",
       " '43',\n",
       " '44',\n",
       " '45',\n",
       " '46',\n",
       " '47',\n",
       " '48',\n",
       " '49',\n",
       " '50',\n",
       " '51',\n",
       " '52',\n",
       " '53',\n",
       " '54',\n",
       " '55',\n",
       " '56',\n",
       " '57',\n",
       " '58',\n",
       " '59',\n",
       " '60',\n",
       " '61',\n",
       " '62',\n",
       " '63',\n",
       " '64',\n",
       " '65',\n",
       " '66',\n",
       " '67',\n",
       " '68',\n",
       " '69',\n",
       " '70',\n",
       " '71',\n",
       " '72',\n",
       " '73',\n",
       " '74',\n",
       " '75',\n",
       " '76',\n",
       " '77',\n",
       " '78',\n",
       " '79',\n",
       " '80',\n",
       " '81',\n",
       " '82',\n",
       " '83',\n",
       " '84',\n",
       " '85',\n",
       " '86',\n",
       " '87',\n",
       " '88',\n",
       " '89',\n",
       " '90',\n",
       " '91',\n",
       " '92',\n",
       " '93',\n",
       " '94',\n",
       " '95',\n",
       " '96',\n",
       " '97',\n",
       " '98',\n",
       " '99',\n",
       " '100']"
      ]
     },
     "execution_count": 123,
     "metadata": {},
     "output_type": "execute_result"
    }
   ],
   "source": [
    "rank=data[0:600:6]\n",
    "rank"
   ]
  },
  {
   "cell_type": "code",
   "execution_count": 124,
   "id": "ede7740b",
   "metadata": {},
   "outputs": [
    {
     "data": {
      "text/plain": [
       "100"
      ]
     },
     "execution_count": 124,
     "metadata": {},
     "output_type": "execute_result"
    }
   ],
   "source": [
    "len(rank)"
   ]
  },
  {
   "cell_type": "code",
   "execution_count": 125,
   "id": "95d46d89",
   "metadata": {},
   "outputs": [
    {
     "data": {
      "text/plain": [
       "['Da Vinci Code,The',\n",
       " 'Harry Potter and the Deathly Hallows',\n",
       " \"Harry Potter and the Philosopher's Stone\",\n",
       " 'Harry Potter and the Order of the Phoenix',\n",
       " 'Fifty Shades of Grey',\n",
       " 'Harry Potter and the Goblet of Fire',\n",
       " 'Harry Potter and the Chamber of Secrets',\n",
       " 'Harry Potter and the Prisoner of Azkaban',\n",
       " 'Angels and Demons',\n",
       " \"Harry Potter and the Half-blood Prince:Children's Edition\",\n",
       " 'Fifty Shades Darker',\n",
       " 'Twilight',\n",
       " 'Girl with the Dragon Tattoo,The:Millennium Trilogy',\n",
       " 'Fifty Shades Freed',\n",
       " 'Lost Symbol,The',\n",
       " 'New Moon',\n",
       " 'Deception Point',\n",
       " 'Eclipse',\n",
       " 'Lovely Bones,The',\n",
       " 'Curious Incident of the Dog in the Night-time,The',\n",
       " 'Digital Fortress',\n",
       " 'Short History of Nearly Everything,A',\n",
       " 'Girl Who Played with Fire,The:Millennium Trilogy',\n",
       " 'Breaking Dawn',\n",
       " 'Very Hungry Caterpillar,The:The Very Hungry Caterpillar',\n",
       " 'Gruffalo,The',\n",
       " \"Jamie's 30-Minute Meals\",\n",
       " 'Kite Runner,The',\n",
       " 'One Day',\n",
       " 'Thousand Splendid Suns,A',\n",
       " \"Girl Who Kicked the Hornets' Nest,The:Millennium Trilogy\",\n",
       " \"Time Traveler's Wife,The\",\n",
       " 'Atonement',\n",
       " \"Bridget Jones's Diary:A Novel\",\n",
       " 'World According to Clarkson,The',\n",
       " \"Captain Corelli's Mandolin\",\n",
       " 'Sound of Laughter,The',\n",
       " 'Life of Pi',\n",
       " 'Billy Connolly',\n",
       " 'Child Called It,A',\n",
       " \"Gruffalo's Child,The\",\n",
       " \"Angela's Ashes:A Memoir of a Childhood\",\n",
       " 'Birdsong',\n",
       " 'Northern Lights:His Dark Materials S.',\n",
       " 'Labyrinth',\n",
       " 'Harry Potter and the Half-blood Prince',\n",
       " 'Help,The',\n",
       " 'Man and Boy',\n",
       " 'Memoirs of a Geisha',\n",
       " \"No.1 Ladies' Detective Agency,The:No.1 Ladies' Detective Agency S.\",\n",
       " 'Island,The',\n",
       " 'PS, I Love You',\n",
       " 'You are What You Eat:The Plan That Will Change Your Life',\n",
       " 'Shadow of the Wind,The',\n",
       " 'Tales of Beedle the Bard,The',\n",
       " 'Broker,The',\n",
       " \"Dr. Atkins' New Diet Revolution:The No-hunger, Luxurious Weight Loss P\",\n",
       " 'Subtle Knife,The:His Dark Materials S.',\n",
       " 'Eats, Shoots and Leaves:The Zero Tolerance Approach to Punctuation',\n",
       " \"Delia's How to Cook:(Bk.1)\",\n",
       " 'Chocolat',\n",
       " 'Boy in the Striped Pyjamas,The',\n",
       " \"My Sister's Keeper\",\n",
       " 'Amber Spyglass,The:His Dark Materials S.',\n",
       " 'To Kill a Mockingbird',\n",
       " 'Men are from Mars, Women are from Venus:A Practical Guide for Improvin',\n",
       " 'Dear Fatty',\n",
       " 'Short History of Tractors in Ukrainian,A',\n",
       " 'Hannibal',\n",
       " 'Lord of the Rings,The',\n",
       " 'Stupid White Men:...and Other Sorry Excuses for the State of the Natio',\n",
       " 'Interpretation of Murder,The',\n",
       " 'Sharon Osbourne Extreme:My Autobiography',\n",
       " 'Alchemist,The:A Fable About Following Your Dream',\n",
       " \"At My Mother's Knee ...:and Other Low Joints\",\n",
       " 'Notes from a Small Island',\n",
       " 'Return of the Naked Chef,The',\n",
       " 'Bridget Jones: The Edge of Reason',\n",
       " \"Jamie's Italy\",\n",
       " 'I Can Make You Thin',\n",
       " 'Down Under',\n",
       " 'Summons,The',\n",
       " 'Small Island',\n",
       " 'Nigella Express',\n",
       " 'Brick Lane',\n",
       " \"Memory Keeper's Daughter,The\",\n",
       " 'Room on the Broom',\n",
       " 'About a Boy',\n",
       " 'My Booky Wook',\n",
       " 'God Delusion,The',\n",
       " '\"Beano\" Annual,The',\n",
       " 'White Teeth',\n",
       " 'House at Riverton,The',\n",
       " 'Book Thief,The',\n",
       " 'Nights of Rain and Stars',\n",
       " 'Ghost,The',\n",
       " 'Happy Days with the Naked Chef',\n",
       " 'Hunger Games,The:Hunger Games Trilogy',\n",
       " \"Lost Boy,The:A Foster Child's Search for the Love of a Family\",\n",
       " \"Jamie's Ministry of Food:Anyone Can Learn to Cook in 24 Hours\"]"
      ]
     },
     "execution_count": 125,
     "metadata": {},
     "output_type": "execute_result"
    }
   ],
   "source": [
    "book_name=data[1:600:6]\n",
    "book_name"
   ]
  },
  {
   "cell_type": "code",
   "execution_count": 126,
   "id": "2d871dda",
   "metadata": {},
   "outputs": [
    {
     "data": {
      "text/plain": [
       "100"
      ]
     },
     "execution_count": 126,
     "metadata": {},
     "output_type": "execute_result"
    }
   ],
   "source": [
    "len(book_name)"
   ]
  },
  {
   "cell_type": "code",
   "execution_count": 127,
   "id": "41b992cb",
   "metadata": {},
   "outputs": [
    {
     "data": {
      "text/plain": [
       "['Brown, Dan',\n",
       " 'Rowling, J.K.',\n",
       " 'Rowling, J.K.',\n",
       " 'Rowling, J.K.',\n",
       " 'James, E. L.',\n",
       " 'Rowling, J.K.',\n",
       " 'Rowling, J.K.',\n",
       " 'Rowling, J.K.',\n",
       " 'Brown, Dan',\n",
       " 'Rowling, J.K.',\n",
       " 'James, E. L.',\n",
       " 'Meyer, Stephenie',\n",
       " 'Larsson, Stieg',\n",
       " 'James, E. L.',\n",
       " 'Brown, Dan',\n",
       " 'Meyer, Stephenie',\n",
       " 'Brown, Dan',\n",
       " 'Meyer, Stephenie',\n",
       " 'Sebold, Alice',\n",
       " 'Haddon, Mark',\n",
       " 'Brown, Dan',\n",
       " 'Bryson, Bill',\n",
       " 'Larsson, Stieg',\n",
       " 'Meyer, Stephenie',\n",
       " 'Carle, Eric',\n",
       " 'Donaldson, Julia',\n",
       " 'Oliver, Jamie',\n",
       " 'Hosseini, Khaled',\n",
       " 'Nicholls, David',\n",
       " 'Hosseini, Khaled',\n",
       " 'Larsson, Stieg',\n",
       " 'Niffenegger, Audrey',\n",
       " 'McEwan, Ian',\n",
       " 'Fielding, Helen',\n",
       " 'Clarkson, Jeremy',\n",
       " 'Bernieres, Louis de',\n",
       " 'Kay, Peter',\n",
       " 'Martel, Yann',\n",
       " 'Stephenson, Pamela',\n",
       " 'Pelzer, Dave',\n",
       " 'Donaldson, Julia',\n",
       " 'McCourt, Frank',\n",
       " 'Faulks, Sebastian',\n",
       " 'Pullman, Philip',\n",
       " 'Mosse, Kate',\n",
       " 'Rowling, J.K.',\n",
       " 'Stockett, Kathryn',\n",
       " 'Parsons, Tony',\n",
       " 'Golden, Arthur',\n",
       " 'McCall Smith, Alexander',\n",
       " 'Hislop, Victoria',\n",
       " 'Ahern, Cecelia',\n",
       " 'McKeith, Gillian',\n",
       " 'Zafon, Carlos Ruiz',\n",
       " 'Rowling, J.K.',\n",
       " 'Grisham, John',\n",
       " 'Atkins, Robert C.',\n",
       " 'Pullman, Philip',\n",
       " 'Truss, Lynne',\n",
       " 'Smith, Delia',\n",
       " 'Harris, Joanne',\n",
       " 'Boyne, John',\n",
       " 'Picoult, Jodi',\n",
       " 'Pullman, Philip',\n",
       " 'Lee, Harper',\n",
       " 'Gray, John',\n",
       " 'French, Dawn',\n",
       " 'Lewycka, Marina',\n",
       " 'Harris, Thomas',\n",
       " 'Tolkien, J. R. R.',\n",
       " 'Moore, Michael',\n",
       " 'Rubenfeld, Jed',\n",
       " 'Osbourne, Sharon',\n",
       " 'Coelho, Paulo',\n",
       " \"O'Grady, Paul\",\n",
       " 'Bryson, Bill',\n",
       " 'Oliver, Jamie',\n",
       " 'Fielding, Helen',\n",
       " 'Oliver, Jamie',\n",
       " 'McKenna, Paul',\n",
       " 'Bryson, Bill',\n",
       " 'Grisham, John',\n",
       " 'Levy, Andrea',\n",
       " 'Lawson, Nigella',\n",
       " 'Ali, Monica',\n",
       " 'Edwards, Kim',\n",
       " 'Donaldson, Julia',\n",
       " 'Hornby, Nick',\n",
       " 'Brand, Russell',\n",
       " 'Dawkins, Richard',\n",
       " '0',\n",
       " 'Smith, Zadie',\n",
       " 'Morton, Kate',\n",
       " 'Zusak, Markus',\n",
       " 'Binchy, Maeve',\n",
       " 'Harris, Robert',\n",
       " 'Oliver, Jamie',\n",
       " 'Collins, Suzanne',\n",
       " 'Pelzer, Dave',\n",
       " 'Oliver, Jamie']"
      ]
     },
     "execution_count": 127,
     "metadata": {},
     "output_type": "execute_result"
    }
   ],
   "source": [
    "author_name=data[2:600:6]\n",
    "author_name"
   ]
  },
  {
   "cell_type": "code",
   "execution_count": 128,
   "id": "ad05d56c",
   "metadata": {},
   "outputs": [
    {
     "data": {
      "text/plain": [
       "100"
      ]
     },
     "execution_count": 128,
     "metadata": {},
     "output_type": "execute_result"
    }
   ],
   "source": [
    "len(author_name)"
   ]
  },
  {
   "cell_type": "code",
   "execution_count": 129,
   "id": "2d11a564",
   "metadata": {},
   "outputs": [
    {
     "data": {
      "text/plain": [
       "['5,094,805',\n",
       " '4,475,152',\n",
       " '4,200,654',\n",
       " '4,179,479',\n",
       " '3,758,936',\n",
       " '3,583,215',\n",
       " '3,484,047',\n",
       " '3,377,906',\n",
       " '3,193,946',\n",
       " '2,950,264',\n",
       " '2,479,784',\n",
       " '2,315,405',\n",
       " '2,233,570',\n",
       " '2,193,928',\n",
       " '2,183,031',\n",
       " '2,152,737',\n",
       " '2,062,145',\n",
       " '2,052,876',\n",
       " '2,005,598',\n",
       " '1,979,552',\n",
       " '1,928,900',\n",
       " '1,852,919',\n",
       " '1,814,784',\n",
       " '1,787,118',\n",
       " '1,783,535',\n",
       " '1,781,269',\n",
       " '1,743,266',\n",
       " '1,629,119',\n",
       " '1,616,068',\n",
       " '1,583,992',\n",
       " '1,555,135',\n",
       " '1,546,886',\n",
       " '1,539,428',\n",
       " '1,508,205',\n",
       " '1,489,403',\n",
       " '1,352,318',\n",
       " '1,310,207',\n",
       " '1,310,176',\n",
       " '1,231,957',\n",
       " '1,217,712',\n",
       " '1,208,711',\n",
       " '1,204,058',\n",
       " '1,184,967',\n",
       " '1,181,503',\n",
       " '1,181,093',\n",
       " '1,153,181',\n",
       " '1,132,336',\n",
       " '1,130,802',\n",
       " '1,126,337',\n",
       " '1,115,549',\n",
       " '1,108,328',\n",
       " '1,107,379',\n",
       " '1,104,403',\n",
       " '1,092,349',\n",
       " '1,090,847',\n",
       " '1,087,262',\n",
       " '1,054,196',\n",
       " '1,037,160',\n",
       " '1,023,688',\n",
       " '1,015,956',\n",
       " '1,009,873',\n",
       " '1,004,414',\n",
       " '1,003,780',\n",
       " '1,002,314',\n",
       " '998,213',\n",
       " '992,846',\n",
       " '986,753',\n",
       " '986,115',\n",
       " '970,509',\n",
       " '967,466',\n",
       " '963,353',\n",
       " '962,515',\n",
       " '959,496',\n",
       " '956,114',\n",
       " '945,640',\n",
       " '931,312',\n",
       " '925,425',\n",
       " '924,695',\n",
       " '906,968',\n",
       " '905,086',\n",
       " '890,847',\n",
       " '869,671',\n",
       " '869,659',\n",
       " '862,602',\n",
       " '856,540',\n",
       " '845,858',\n",
       " '842,535',\n",
       " '828,215',\n",
       " '820,563',\n",
       " '816,907',\n",
       " '816,585',\n",
       " '815,586',\n",
       " '814,370',\n",
       " '809,641',\n",
       " '808,900',\n",
       " '807,311',\n",
       " '794,201',\n",
       " '792,187',\n",
       " '791,507',\n",
       " '791,095']"
      ]
     },
     "execution_count": 129,
     "metadata": {},
     "output_type": "execute_result"
    }
   ],
   "source": [
    "volume_sold=data[3:600:6]\n",
    "volume_sold"
   ]
  },
  {
   "cell_type": "code",
   "execution_count": 130,
   "id": "89ebd739",
   "metadata": {},
   "outputs": [
    {
     "data": {
      "text/plain": [
       "100"
      ]
     },
     "execution_count": 130,
     "metadata": {},
     "output_type": "execute_result"
    }
   ],
   "source": [
    "len(volume_sold)"
   ]
  },
  {
   "cell_type": "code",
   "execution_count": 131,
   "id": "66780e1e",
   "metadata": {},
   "outputs": [
    {
     "data": {
      "text/plain": [
       "['Transworld',\n",
       " 'Bloomsbury',\n",
       " 'Bloomsbury',\n",
       " 'Bloomsbury',\n",
       " 'Random House',\n",
       " 'Bloomsbury',\n",
       " 'Bloomsbury',\n",
       " 'Bloomsbury',\n",
       " 'Transworld',\n",
       " 'Bloomsbury',\n",
       " 'Random House',\n",
       " 'Little, Brown Book',\n",
       " 'Quercus',\n",
       " 'Random House',\n",
       " 'Transworld',\n",
       " 'Little, Brown Book',\n",
       " 'Transworld',\n",
       " 'Little, Brown Book',\n",
       " 'Pan Macmillan',\n",
       " 'Random House',\n",
       " 'Transworld',\n",
       " 'Transworld',\n",
       " 'Quercus',\n",
       " 'Little, Brown Book',\n",
       " 'Penguin',\n",
       " 'Pan Macmillan',\n",
       " 'Penguin',\n",
       " 'Bloomsbury',\n",
       " 'Hodder & Stoughton',\n",
       " 'Bloomsbury',\n",
       " 'Quercus',\n",
       " 'Random House',\n",
       " 'Random House',\n",
       " 'Pan Macmillan',\n",
       " 'Penguin',\n",
       " 'Random House',\n",
       " 'Random House',\n",
       " 'Canongate',\n",
       " 'HarperCollins',\n",
       " 'Orion',\n",
       " 'Pan Macmillan',\n",
       " 'HarperCollins',\n",
       " 'Random House',\n",
       " 'Scholastic Ltd.',\n",
       " 'Orion',\n",
       " 'Bloomsbury',\n",
       " 'Penguin',\n",
       " 'HarperCollins',\n",
       " 'Random House',\n",
       " 'Little, Brown Book',\n",
       " 'Headline',\n",
       " 'HarperCollins',\n",
       " 'Penguin',\n",
       " 'Orion',\n",
       " 'Bloomsbury',\n",
       " 'Random House',\n",
       " 'Random House',\n",
       " 'Scholastic Ltd.',\n",
       " 'Profile Books Group',\n",
       " 'Random House',\n",
       " 'Transworld',\n",
       " 'Random House Childrens Books G',\n",
       " 'Hodder & Stoughton',\n",
       " 'Scholastic Ltd.',\n",
       " 'Random House',\n",
       " 'HarperCollins',\n",
       " 'Random House',\n",
       " 'Penguin',\n",
       " 'Random House',\n",
       " 'HarperCollins',\n",
       " 'Penguin',\n",
       " 'Headline',\n",
       " 'Little, Brown Book',\n",
       " 'HarperCollins',\n",
       " 'Transworld',\n",
       " 'Transworld',\n",
       " 'Penguin',\n",
       " 'Pan Macmillan',\n",
       " 'Penguin',\n",
       " 'Transworld',\n",
       " 'Transworld',\n",
       " 'Random House',\n",
       " 'Headline',\n",
       " 'Random House',\n",
       " 'Transworld',\n",
       " 'Penguin',\n",
       " 'Pan Macmillan',\n",
       " 'Penguin',\n",
       " 'Hodder & Stoughton',\n",
       " 'Transworld',\n",
       " 'D.C. Thomson',\n",
       " 'Penguin',\n",
       " 'Pan Macmillan',\n",
       " 'Transworld',\n",
       " 'Orion',\n",
       " 'Random House',\n",
       " 'Penguin',\n",
       " 'Scholastic Ltd.',\n",
       " 'Orion',\n",
       " 'Penguin']"
      ]
     },
     "execution_count": 131,
     "metadata": {},
     "output_type": "execute_result"
    }
   ],
   "source": [
    "publisher=data[4:600:6]\n",
    "publisher"
   ]
  },
  {
   "cell_type": "code",
   "execution_count": 132,
   "id": "0ed48f5f",
   "metadata": {},
   "outputs": [
    {
     "data": {
      "text/plain": [
       "100"
      ]
     },
     "execution_count": 132,
     "metadata": {},
     "output_type": "execute_result"
    }
   ],
   "source": [
    "len(publisher)"
   ]
  },
  {
   "cell_type": "code",
   "execution_count": 133,
   "id": "dbdb3d01",
   "metadata": {},
   "outputs": [
    {
     "data": {
      "text/plain": [
       "['Crime, Thriller & Adventure',\n",
       " \"Children's Fiction\",\n",
       " \"Children's Fiction\",\n",
       " \"Children's Fiction\",\n",
       " 'Romance & Sagas',\n",
       " \"Children's Fiction\",\n",
       " \"Children's Fiction\",\n",
       " \"Children's Fiction\",\n",
       " 'Crime, Thriller & Adventure',\n",
       " \"Children's Fiction\",\n",
       " 'Romance & Sagas',\n",
       " 'Young Adult Fiction',\n",
       " 'Crime, Thriller & Adventure',\n",
       " 'Romance & Sagas',\n",
       " 'Crime, Thriller & Adventure',\n",
       " 'Young Adult Fiction',\n",
       " 'Crime, Thriller & Adventure',\n",
       " 'Young Adult Fiction',\n",
       " 'General & Literary Fiction',\n",
       " 'General & Literary Fiction',\n",
       " 'Crime, Thriller & Adventure',\n",
       " 'Popular Science',\n",
       " 'Crime, Thriller & Adventure',\n",
       " 'Young Adult Fiction',\n",
       " 'Picture Books',\n",
       " 'Picture Books',\n",
       " 'Food & Drink: General',\n",
       " 'General & Literary Fiction',\n",
       " 'General & Literary Fiction',\n",
       " 'General & Literary Fiction',\n",
       " 'Crime, Thriller & Adventure',\n",
       " 'General & Literary Fiction',\n",
       " 'General & Literary Fiction',\n",
       " 'General & Literary Fiction',\n",
       " 'Humour: Collections & General',\n",
       " 'General & Literary Fiction',\n",
       " 'Autobiography: General',\n",
       " 'General & Literary Fiction',\n",
       " 'Biography: The Arts',\n",
       " 'Autobiography: General',\n",
       " 'Picture Books',\n",
       " 'Autobiography: General',\n",
       " 'General & Literary Fiction',\n",
       " 'Young Adult Fiction',\n",
       " 'General & Literary Fiction',\n",
       " 'Science Fiction & Fantasy',\n",
       " 'General & Literary Fiction',\n",
       " 'General & Literary Fiction',\n",
       " 'General & Literary Fiction',\n",
       " 'Crime, Thriller & Adventure',\n",
       " 'General & Literary Fiction',\n",
       " 'General & Literary Fiction',\n",
       " 'Fitness & Diet',\n",
       " 'General & Literary Fiction',\n",
       " \"Children's Fiction\",\n",
       " 'Crime, Thriller & Adventure',\n",
       " 'Fitness & Diet',\n",
       " 'Young Adult Fiction',\n",
       " 'Usage & Writing Guides',\n",
       " 'Food & Drink: General',\n",
       " 'General & Literary Fiction',\n",
       " 'Young Adult Fiction',\n",
       " 'General & Literary Fiction',\n",
       " 'Young Adult Fiction',\n",
       " 'General & Literary Fiction',\n",
       " 'Popular Culture & Media: General Interest',\n",
       " 'Autobiography: The Arts',\n",
       " 'General & Literary Fiction',\n",
       " 'Crime, Thriller & Adventure',\n",
       " 'Science Fiction & Fantasy',\n",
       " 'Current Affairs & Issues',\n",
       " 'Crime, Thriller & Adventure',\n",
       " 'Autobiography: The Arts',\n",
       " 'General & Literary Fiction',\n",
       " 'Autobiography: The Arts',\n",
       " 'Travel Writing',\n",
       " 'Food & Drink: General',\n",
       " 'General & Literary Fiction',\n",
       " 'National & Regional Cuisine',\n",
       " 'Fitness & Diet',\n",
       " 'Travel Writing',\n",
       " 'Crime, Thriller & Adventure',\n",
       " 'General & Literary Fiction',\n",
       " 'Food & Drink: General',\n",
       " 'General & Literary Fiction',\n",
       " 'General & Literary Fiction',\n",
       " 'Picture Books',\n",
       " 'General & Literary Fiction',\n",
       " 'Autobiography: The Arts',\n",
       " 'Popular Science',\n",
       " \"Children's Annuals\",\n",
       " 'General & Literary Fiction',\n",
       " 'General & Literary Fiction',\n",
       " 'General & Literary Fiction',\n",
       " 'General & Literary Fiction',\n",
       " 'General & Literary Fiction',\n",
       " 'Food & Drink: General',\n",
       " 'Young Adult Fiction',\n",
       " 'Biography: General',\n",
       " 'Food & Drink: General']"
      ]
     },
     "execution_count": 133,
     "metadata": {},
     "output_type": "execute_result"
    }
   ],
   "source": [
    "genre=data[5:600:6]\n",
    "genre"
   ]
  },
  {
   "cell_type": "code",
   "execution_count": 134,
   "id": "dc5dc918",
   "metadata": {},
   "outputs": [
    {
     "data": {
      "text/plain": [
       "100"
      ]
     },
     "execution_count": 134,
     "metadata": {},
     "output_type": "execute_result"
    }
   ],
   "source": [
    "len(genre)"
   ]
  },
  {
   "cell_type": "code",
   "execution_count": 135,
   "id": "969e0ac9",
   "metadata": {},
   "outputs": [
    {
     "data": {
      "text/html": [
       "<div>\n",
       "<style scoped>\n",
       "    .dataframe tbody tr th:only-of-type {\n",
       "        vertical-align: middle;\n",
       "    }\n",
       "\n",
       "    .dataframe tbody tr th {\n",
       "        vertical-align: top;\n",
       "    }\n",
       "\n",
       "    .dataframe thead th {\n",
       "        text-align: right;\n",
       "    }\n",
       "</style>\n",
       "<table border=\"1\" class=\"dataframe\">\n",
       "  <thead>\n",
       "    <tr style=\"text-align: right;\">\n",
       "      <th></th>\n",
       "      <th>Rank</th>\n",
       "      <th>Book Name</th>\n",
       "      <th>Author Name</th>\n",
       "      <th>Volume Sold</th>\n",
       "      <th>Publisher</th>\n",
       "      <th>Genre</th>\n",
       "    </tr>\n",
       "  </thead>\n",
       "  <tbody>\n",
       "    <tr>\n",
       "      <th>0</th>\n",
       "      <td>1</td>\n",
       "      <td>Da Vinci Code,The</td>\n",
       "      <td>Brown, Dan</td>\n",
       "      <td>5,094,805</td>\n",
       "      <td>Transworld</td>\n",
       "      <td>Crime, Thriller &amp; Adventure</td>\n",
       "    </tr>\n",
       "    <tr>\n",
       "      <th>1</th>\n",
       "      <td>2</td>\n",
       "      <td>Harry Potter and the Deathly Hallows</td>\n",
       "      <td>Rowling, J.K.</td>\n",
       "      <td>4,475,152</td>\n",
       "      <td>Bloomsbury</td>\n",
       "      <td>Children's Fiction</td>\n",
       "    </tr>\n",
       "    <tr>\n",
       "      <th>2</th>\n",
       "      <td>3</td>\n",
       "      <td>Harry Potter and the Philosopher's Stone</td>\n",
       "      <td>Rowling, J.K.</td>\n",
       "      <td>4,200,654</td>\n",
       "      <td>Bloomsbury</td>\n",
       "      <td>Children's Fiction</td>\n",
       "    </tr>\n",
       "    <tr>\n",
       "      <th>3</th>\n",
       "      <td>4</td>\n",
       "      <td>Harry Potter and the Order of the Phoenix</td>\n",
       "      <td>Rowling, J.K.</td>\n",
       "      <td>4,179,479</td>\n",
       "      <td>Bloomsbury</td>\n",
       "      <td>Children's Fiction</td>\n",
       "    </tr>\n",
       "    <tr>\n",
       "      <th>4</th>\n",
       "      <td>5</td>\n",
       "      <td>Fifty Shades of Grey</td>\n",
       "      <td>James, E. L.</td>\n",
       "      <td>3,758,936</td>\n",
       "      <td>Random House</td>\n",
       "      <td>Romance &amp; Sagas</td>\n",
       "    </tr>\n",
       "    <tr>\n",
       "      <th>...</th>\n",
       "      <td>...</td>\n",
       "      <td>...</td>\n",
       "      <td>...</td>\n",
       "      <td>...</td>\n",
       "      <td>...</td>\n",
       "      <td>...</td>\n",
       "    </tr>\n",
       "    <tr>\n",
       "      <th>95</th>\n",
       "      <td>96</td>\n",
       "      <td>Ghost,The</td>\n",
       "      <td>Harris, Robert</td>\n",
       "      <td>807,311</td>\n",
       "      <td>Random House</td>\n",
       "      <td>General &amp; Literary Fiction</td>\n",
       "    </tr>\n",
       "    <tr>\n",
       "      <th>96</th>\n",
       "      <td>97</td>\n",
       "      <td>Happy Days with the Naked Chef</td>\n",
       "      <td>Oliver, Jamie</td>\n",
       "      <td>794,201</td>\n",
       "      <td>Penguin</td>\n",
       "      <td>Food &amp; Drink: General</td>\n",
       "    </tr>\n",
       "    <tr>\n",
       "      <th>97</th>\n",
       "      <td>98</td>\n",
       "      <td>Hunger Games,The:Hunger Games Trilogy</td>\n",
       "      <td>Collins, Suzanne</td>\n",
       "      <td>792,187</td>\n",
       "      <td>Scholastic Ltd.</td>\n",
       "      <td>Young Adult Fiction</td>\n",
       "    </tr>\n",
       "    <tr>\n",
       "      <th>98</th>\n",
       "      <td>99</td>\n",
       "      <td>Lost Boy,The:A Foster Child's Search for the L...</td>\n",
       "      <td>Pelzer, Dave</td>\n",
       "      <td>791,507</td>\n",
       "      <td>Orion</td>\n",
       "      <td>Biography: General</td>\n",
       "    </tr>\n",
       "    <tr>\n",
       "      <th>99</th>\n",
       "      <td>100</td>\n",
       "      <td>Jamie's Ministry of Food:Anyone Can Learn to C...</td>\n",
       "      <td>Oliver, Jamie</td>\n",
       "      <td>791,095</td>\n",
       "      <td>Penguin</td>\n",
       "      <td>Food &amp; Drink: General</td>\n",
       "    </tr>\n",
       "  </tbody>\n",
       "</table>\n",
       "<p>100 rows × 6 columns</p>\n",
       "</div>"
      ],
      "text/plain": [
       "   Rank                                          Book Name       Author Name  \\\n",
       "0     1                                  Da Vinci Code,The        Brown, Dan   \n",
       "1     2               Harry Potter and the Deathly Hallows     Rowling, J.K.   \n",
       "2     3           Harry Potter and the Philosopher's Stone     Rowling, J.K.   \n",
       "3     4          Harry Potter and the Order of the Phoenix     Rowling, J.K.   \n",
       "4     5                               Fifty Shades of Grey      James, E. L.   \n",
       "..  ...                                                ...               ...   \n",
       "95   96                                          Ghost,The    Harris, Robert   \n",
       "96   97                     Happy Days with the Naked Chef     Oliver, Jamie   \n",
       "97   98              Hunger Games,The:Hunger Games Trilogy  Collins, Suzanne   \n",
       "98   99  Lost Boy,The:A Foster Child's Search for the L...      Pelzer, Dave   \n",
       "99  100  Jamie's Ministry of Food:Anyone Can Learn to C...     Oliver, Jamie   \n",
       "\n",
       "   Volume Sold        Publisher                        Genre  \n",
       "0    5,094,805       Transworld  Crime, Thriller & Adventure  \n",
       "1    4,475,152       Bloomsbury           Children's Fiction  \n",
       "2    4,200,654       Bloomsbury           Children's Fiction  \n",
       "3    4,179,479       Bloomsbury           Children's Fiction  \n",
       "4    3,758,936     Random House              Romance & Sagas  \n",
       "..         ...              ...                          ...  \n",
       "95     807,311     Random House   General & Literary Fiction  \n",
       "96     794,201          Penguin        Food & Drink: General  \n",
       "97     792,187  Scholastic Ltd.          Young Adult Fiction  \n",
       "98     791,507            Orion           Biography: General  \n",
       "99     791,095          Penguin        Food & Drink: General  \n",
       "\n",
       "[100 rows x 6 columns]"
      ]
     },
     "execution_count": 135,
     "metadata": {},
     "output_type": "execute_result"
    }
   ],
   "source": [
    "df=pd.DataFrame({\"Rank\":rank,\"Book Name\":book_name,\"Author Name\":author_name,\"Volume Sold\":volume_sold,\"Publisher\":publisher,\"Genre\":genre})\n",
    "df"
   ]
  },
  {
   "cell_type": "markdown",
   "id": "36b36cd6",
   "metadata": {},
   "source": [
    "# QUESTION NO 8"
   ]
  },
  {
   "cell_type": "code",
   "execution_count": 198,
   "id": "683fed2d",
   "metadata": {},
   "outputs": [],
   "source": [
    "driver=webdriver.Chrome()"
   ]
  },
  {
   "cell_type": "code",
   "execution_count": 199,
   "id": "25c50ad3",
   "metadata": {},
   "outputs": [],
   "source": [
    "driver.get('https://archive.ics.uci.edu/')"
   ]
  },
  {
   "cell_type": "code",
   "execution_count": 200,
   "id": "e529e33f",
   "metadata": {},
   "outputs": [],
   "source": [
    "search=driver.find_element(By.XPATH,'/html/body/div/div[1]/div[1]/main/div/div[1]/div/div/div/a[1]')\n",
    "search.click()"
   ]
  },
  {
   "cell_type": "code",
   "execution_count": 201,
   "id": "596f78ae",
   "metadata": {},
   "outputs": [],
   "source": [
    "dataset_name=[]\n",
    "attribute=[]\n",
    "data_type=[]\n",
    "task=[]\n",
    "types=[]\n",
    "instance=[]\n",
    "features=[]\n",
    "year=[]\n",
    "product_url=[]\n",
    "\n"
   ]
  },
  {
   "cell_type": "code",
   "execution_count": 228,
   "id": "275dd43f",
   "metadata": {},
   "outputs": [],
   "source": [
    "url=[]\n",
    "start=0\n",
    "end=60\n",
    "for page in range(start,end):\n",
    "    \n",
    "    titles=driver.find_elements(By.XPATH,'//h2[@class=\"truncate text-primary\"]')\n",
    "    for i in titles:\n",
    "        url.append(i.get_attribute('href'))\n",
    "        \n",
    "    next_button=driver.find_element(By.XPATH,'//button[@class=\"btn-primary btn-sm btn\"][2]')\n",
    "    next_button.click()\n",
    "    time.sleep(3)\n",
    "    "
   ]
  },
  {
   "cell_type": "code",
   "execution_count": 227,
   "id": "d5a36da1",
   "metadata": {},
   "outputs": [],
   "source": [
    "for i in url:\n",
    "    driver.get(i)\n",
    "    \n",
    "    try:\n",
    "        type=driver.find_element(By.XPATH,'//h1[@class=\"text-3xl font-semilar\"]')\n",
    "        dataset_name.append(type.text)\n",
    "    except NoSuchElementException:\n",
    "        dataset_name.append('-')\n",
    "        \n",
    "    try:\n",
    "        type=driver.find_element(By.XPATH,'//h1[@class=\"text-3xl font-semilar\"]')\n",
    "        data_type.append(type.text)\n",
    "    except NoSuchElementException:\n",
    "        data_type.append('-')\n",
    "        \n",
    "        \n",
    "    try:\n",
    "        tk=driver.find_element(By.XPATH,'///html/body/div[1]/div/div[3]/div[1]/div[2]/div[3]/div/div[1]/h1/span')\n",
    "        task.append(tk.text)\n",
    "    except NoSuchElementException:\n",
    "        task.append('-')\n",
    "        \n",
    "    try:\n",
    "        typ=driver.find_element(By.XPATH,'//html/body/div[1]/div/div[3]/div[1]/div[2]/div[3]/div/div[3]/div[1]/div/div[1]')\n",
    "        types.append(typ.text)\n",
    "    except NoSuchElementException:\n",
    "        types.append('-')\n",
    "        \n",
    "    try:\n",
    "        inst=driver.find_element(By.XPATH,'//h1[@class=\"text-3xl font-semilar\"]')\n",
    "        instance.append(inst.text)\n",
    "    except NoSuchElementException:\n",
    "        instance.append('-')"
   ]
  },
  {
   "cell_type": "code",
   "execution_count": 238,
   "id": "3433eba4",
   "metadata": {},
   "outputs": [],
   "source": [
    "print(dataset_name)\n",
    "len(data_name)"
   ]
  },
  {
   "cell_type": "code",
   "execution_count": 239,
   "id": "abd8feb8",
   "metadata": {},
   "outputs": [],
   "source": [
    "print(data_type)\n",
    "len(data_type)"
   ]
  },
  {
   "cell_type": "code",
   "execution_count": 240,
   "id": "972e8a22",
   "metadata": {},
   "outputs": [],
   "source": [
    "print(task)\n",
    "len(task)"
   ]
  },
  {
   "cell_type": "code",
   "execution_count": 241,
   "id": "073dd026",
   "metadata": {},
   "outputs": [],
   "source": [
    "print(instance)\n",
    "len(instance)"
   ]
  },
  {
   "cell_type": "code",
   "execution_count": 231,
   "id": "b87fda4c",
   "metadata": {},
   "outputs": [],
   "source": [
    "df=pd.DataFrame({\"Dataset_Name\": dataset_name,\"Data_Type\":data_type,\"Task\":task,\"Instance\":instance})\n",
    "df"
   ]
  },
  {
   "cell_type": "markdown",
   "id": "91ec84de",
   "metadata": {},
   "source": [
    "# THANK YOU"
   ]
  }
 ],
 "metadata": {
  "kernelspec": {
   "display_name": "Python 3 (ipykernel)",
   "language": "python",
   "name": "python3"
  },
  "language_info": {
   "codemirror_mode": {
    "name": "ipython",
    "version": 3
   },
   "file_extension": ".py",
   "mimetype": "text/x-python",
   "name": "python",
   "nbconvert_exporter": "python",
   "pygments_lexer": "ipython3",
   "version": "3.9.13"
  }
 },
 "nbformat": 4,
 "nbformat_minor": 5
}
